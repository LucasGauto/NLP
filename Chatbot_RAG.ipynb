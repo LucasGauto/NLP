{
  "nbformat": 4,
  "nbformat_minor": 0,
  "metadata": {
    "colab": {
      "provenance": [],
      "collapsed_sections": [
        "_tT-Mxab0xG-",
        "YLxYIobz4qzK",
        "Po-eNjixyqh2",
        "Qzpm7fd61kdH",
        "IZALKwgxs0n2",
        "N_knIFFe5Bam",
        "Q_urvElq2kXR",
        "pI2hiD-7JW94",
        "_GXbx-dPJdU3",
        "ULaKwEDuiYPm",
        "-qSTVDRHL-JH",
        "4R_-oljEPY_1",
        "gQJ94rGr2WSM",
        "5Xq-_cfusbR4"
      ],
      "gpuType": "T4",
      "toc_visible": true
    },
    "kernelspec": {
      "name": "python3",
      "display_name": "Python 3"
    },
    "language_info": {
      "name": "python"
    },
    "accelerator": "GPU"
  },
  "cells": [
    {
      "cell_type": "markdown",
      "source": [
        "# Obtención de los datos"
      ],
      "metadata": {
        "id": "_tT-Mxab0xG-"
      }
    },
    {
      "cell_type": "markdown",
      "source": [],
      "metadata": {
        "id": "yQzdEpD_07QZ"
      }
    },
    {
      "cell_type": "markdown",
      "metadata": {
        "id": "YLxYIobz4qzK"
      },
      "source": [
        "### Capítulos"
      ]
    },
    {
      "cell_type": "markdown",
      "metadata": {
        "id": "Oy39eGha3dZ0"
      },
      "source": [
        "Para comenzar, nos traemos un resumen de los capitulos de la serie y lo guardamos como texto."
      ]
    },
    {
      "cell_type": "code",
      "execution_count": 162,
      "metadata": {
        "colab": {
          "base_uri": "https://localhost:8080/"
        },
        "id": "RSiXk1YeylM3",
        "outputId": "99df1aa2-a965-4c72-ea48-738e34fbc730"
      },
      "outputs": [
        {
          "output_type": "stream",
          "name": "stdout",
          "text": [
            "Requirement already satisfied: bs4 in /usr/local/lib/python3.10/dist-packages (0.0.2)\n",
            "Requirement already satisfied: beautifulsoup4 in /usr/local/lib/python3.10/dist-packages (from bs4) (4.12.3)\n",
            "Requirement already satisfied: soupsieve>1.2 in /usr/local/lib/python3.10/dist-packages (from beautifulsoup4->bs4) (2.5)\n"
          ]
        }
      ],
      "source": [
        "!pip install bs4"
      ]
    },
    {
      "cell_type": "code",
      "execution_count": 163,
      "metadata": {
        "colab": {
          "base_uri": "https://localhost:8080/",
          "height": 0
        },
        "collapsed": true,
        "id": "rRiXIiiJ2iez",
        "outputId": "8a978f33-6695-49b9-a441-39eb57f7f436"
      },
      "outputs": [
        {
          "output_type": "stream",
          "name": "stdout",
          "text": [
            "HTML obtenido con éxito para el capítulo 01\n",
            "Resumen del capítulo 01 guardado en capitulos/EP01.txt\n",
            "HTML obtenido con éxito para el capítulo 02\n",
            "Resumen del capítulo 02 guardado en capitulos/EP02.txt\n",
            "HTML obtenido con éxito para el capítulo 03\n",
            "Resumen del capítulo 03 guardado en capitulos/EP03.txt\n",
            "HTML obtenido con éxito para el capítulo 04\n",
            "Resumen del capítulo 04 guardado en capitulos/EP04.txt\n",
            "HTML obtenido con éxito para el capítulo 05\n",
            "Resumen del capítulo 05 guardado en capitulos/EP05.txt\n",
            "HTML obtenido con éxito para el capítulo 06\n",
            "Resumen del capítulo 06 guardado en capitulos/EP06.txt\n",
            "HTML obtenido con éxito para el capítulo 07\n",
            "Resumen del capítulo 07 guardado en capitulos/EP07.txt\n",
            "HTML obtenido con éxito para el capítulo 08\n",
            "Resumen del capítulo 08 guardado en capitulos/EP08.txt\n",
            "HTML obtenido con éxito para el capítulo 09\n",
            "Resumen del capítulo 09 guardado en capitulos/EP09.txt\n",
            "HTML obtenido con éxito para el capítulo 10\n",
            "Resumen del capítulo 10 guardado en capitulos/EP10.txt\n",
            "HTML obtenido con éxito para el capítulo 11\n",
            "Resumen del capítulo 11 guardado en capitulos/EP11.txt\n",
            "HTML obtenido con éxito para el capítulo 12\n",
            "Resumen del capítulo 12 guardado en capitulos/EP12.txt\n",
            "HTML obtenido con éxito para el capítulo 13\n",
            "Resumen del capítulo 13 guardado en capitulos/EP13.txt\n",
            "HTML obtenido con éxito para el capítulo 14\n",
            "Resumen del capítulo 14 guardado en capitulos/EP14.txt\n",
            "HTML obtenido con éxito para el capítulo 15\n",
            "Resumen del capítulo 15 guardado en capitulos/EP15.txt\n",
            "HTML obtenido con éxito para el capítulo 16\n",
            "Resumen del capítulo 16 guardado en capitulos/EP16.txt\n",
            "HTML obtenido con éxito para el capítulo 17\n",
            "Resumen del capítulo 17 guardado en capitulos/EP17.txt\n",
            "HTML obtenido con éxito para el capítulo 18\n",
            "Resumen del capítulo 18 guardado en capitulos/EP18.txt\n",
            "HTML obtenido con éxito para el capítulo 19\n",
            "Resumen del capítulo 19 guardado en capitulos/EP19.txt\n",
            "HTML obtenido con éxito para el capítulo 20\n",
            "Resumen del capítulo 20 guardado en capitulos/EP20.txt\n",
            "HTML obtenido con éxito para el capítulo 21\n",
            "Resumen del capítulo 21 guardado en capitulos/EP21.txt\n",
            "HTML obtenido con éxito para el capítulo 22\n",
            "Resumen del capítulo 22 guardado en capitulos/EP22.txt\n",
            "HTML obtenido con éxito para el capítulo 23\n",
            "Resumen del capítulo 23 guardado en capitulos/EP23.txt\n",
            "HTML obtenido con éxito para el capítulo 24\n",
            "Resumen del capítulo 24 guardado en capitulos/EP24.txt\n",
            "HTML obtenido con éxito para el capítulo 25\n",
            "Resumen del capítulo 25 guardado en capitulos/EP25.txt\n",
            "HTML obtenido con éxito para el capítulo 26\n",
            "Resumen del capítulo 26 guardado en capitulos/EP26.txt\n"
          ]
        },
        {
          "output_type": "execute_result",
          "data": {
            "text/plain": [
              "'\\nprint(\"\\nResúmenes guardados:\")\\nfor capitulo, resumen in resumenes.items():\\n    print(f\"Capítulo {capitulo}:\\n{resumen[:200]}...\\n\")\\n'"
            ],
            "application/vnd.google.colaboratory.intrinsic+json": {
              "type": "string"
            }
          },
          "metadata": {},
          "execution_count": 163
        }
      ],
      "source": [
        "import os\n",
        "import requests\n",
        "from bs4 import BeautifulSoup\n",
        "\n",
        "# Lista de capítulos del 01 al 26\n",
        "capitulos = [f'{i:02}' for i in range(1, 27)]\n",
        "\n",
        "# Crear la carpeta 'capitulos' si no existe\n",
        "os.makedirs('capitulos', exist_ok=True)\n",
        "\n",
        "# Diccionario para almacenar los resúmenes\n",
        "resumenes = {}\n",
        "\n",
        "# Base URL del sitio web\n",
        "base_url = 'https://evangelion.fandom.com/es/wiki/EP{}'\n",
        "\n",
        "# Obtener y guardar los resúmenes\n",
        "for capitulo in capitulos:\n",
        "    url = base_url.format(capitulo)  # URL para cada capítulo\n",
        "    response = requests.get(url)\n",
        "\n",
        "    if response.status_code == 200:\n",
        "        html = response.text\n",
        "        print(f\"HTML obtenido con éxito para el capítulo {capitulo}\")\n",
        "\n",
        "        soup = BeautifulSoup(html, 'html.parser')\n",
        "\n",
        "        # Encontrar todos los elementos <p> dentro de la sección de contenido\n",
        "        content_div = soup.find('div', {'class': 'mw-parser-output'})\n",
        "        p_tags = content_div.find_all('p') if content_div else []\n",
        "\n",
        "        # Construir el resumen del capítulo\n",
        "        resumen = ''\n",
        "        for tag in p_tags:\n",
        "            resumen += tag.text.strip() + \"\\n\"\n",
        "\n",
        "        resumenes[capitulo] = resumen\n",
        "\n",
        "        # Guardar el resumen en un archivo de texto\n",
        "        file_path = os.path.join('capitulos', f'EP{capitulo}.txt')\n",
        "        with open(file_path, 'w', encoding='utf-8') as file:\n",
        "            file.write(f'Episodio {capitulo} \\n')\n",
        "            file.write(resumen)\n",
        "\n",
        "        print(f\"Resumen del capítulo {capitulo} guardado en {file_path}\")\n",
        "\n",
        "    else:\n",
        "        print(f\"Error al obtener el HTML del capítulo {capitulo}\")\n",
        "\n",
        "\"\"\"\n",
        "print(\"\\nResúmenes guardados:\")\n",
        "for capitulo, resumen in resumenes.items():\n",
        "    print(f\"Capítulo {capitulo}:\\n{resumen[:200]}...\\n\")\n",
        "\"\"\""
      ]
    },
    {
      "cell_type": "code",
      "execution_count": 164,
      "metadata": {
        "colab": {
          "base_uri": "https://localhost:8080/"
        },
        "id": "TrSO7TN38rED",
        "outputId": "3ecdabc2-eb02-4e5f-cf35-31bb24fc3e03"
      },
      "outputs": [
        {
          "output_type": "stream",
          "name": "stdout",
          "text": [
            "Los saltos de línea vacíos han sido reemplazados en todos los archivos .txt.\n"
          ]
        }
      ],
      "source": [
        "\n",
        "directorio = 'capitulos'\n",
        "\n",
        "# Iterar sobre los archivos en el directorio\n",
        "for nombre_archivo in os.listdir(directorio):\n",
        "    if nombre_archivo.endswith('.txt'):\n",
        "        # Obtener la ruta completa del archivo\n",
        "        ruta_archivo = os.path.join(directorio, nombre_archivo)\n",
        "\n",
        "        # Leer el contenido del archivo\n",
        "        with open(ruta_archivo, 'r', encoding='utf-8') as f:\n",
        "            contenido = f.read()\n",
        "\n",
        "        # Reemplazar saltos de línea vacíos por un solo salto de línea\n",
        "        contenido_modificado = contenido.replace('\\n\\n', '\\n')\n",
        "\n",
        "        # Escribir el contenido modificado de nuevo en el archivo\n",
        "        with open(ruta_archivo, 'w', encoding='utf-8') as f:\n",
        "            f.write(contenido_modificado)\n",
        "\n",
        "print('Los saltos de línea vacíos han sido reemplazados en todos los archivos .txt.')\n"
      ]
    },
    {
      "cell_type": "markdown",
      "metadata": {
        "id": "K9RLovF57qf-"
      },
      "source": [
        "#### Juntar todos los textos en uno"
      ]
    },
    {
      "cell_type": "code",
      "execution_count": 165,
      "metadata": {
        "colab": {
          "base_uri": "https://localhost:8080/"
        },
        "id": "WUtQM4gV7tMf",
        "outputId": "8cb82d84-5e1f-4af6-95f8-2471a4fbedf6"
      },
      "outputs": [
        {
          "output_type": "stream",
          "name": "stdout",
          "text": [
            "Los archivos han sido combinados en TodosLosCapitulos.txt.\n"
          ]
        }
      ],
      "source": [
        "import os\n",
        "\n",
        "# Ruta del directorio que contiene los archivos .txt\n",
        "directorio = 'capitulos'\n",
        "# Ruta del archivo de salida\n",
        "archivo_salida = 'TodosLosCapitulos.txt'\n",
        "\n",
        "# Abrir el archivo de salida en modo escritura\n",
        "with open(archivo_salida, 'w', encoding='utf-8') as f_out:\n",
        "    # Iterar sobre los archivos en el directorio\n",
        "    for nombre_archivo in os.listdir(directorio):\n",
        "        if nombre_archivo.endswith('.txt'):\n",
        "            # Obtener la ruta completa del archivo\n",
        "            ruta_archivo = os.path.join(directorio, nombre_archivo)\n",
        "            # Abrir el archivo actual en modo lectura\n",
        "            with open(ruta_archivo, 'r', encoding='utf-8') as f_in:\n",
        "                # Escribir el nombre del archivo en el archivo de salida\n",
        "                f_out.write(f'--- Contenido del episodio {nombre_archivo[2:4]} ---\\n')\n",
        "                # Escribir el contenido del archivo actual\n",
        "                f_out.write(f_in.read())\n",
        "                f_out.write('\\n\\n')  # Añadir un par de líneas en blanco\n",
        "\n",
        "print(f'Los archivos han sido combinados en {archivo_salida}.')\n"
      ]
    },
    {
      "cell_type": "markdown",
      "metadata": {
        "id": "Po-eNjixyqh2"
      },
      "source": [
        "### Personajes"
      ]
    },
    {
      "cell_type": "markdown",
      "metadata": {
        "id": "VfVictUvKa5u"
      },
      "source": [
        "Hacemos lo mismo con los personajes.\n",
        "\n",
        "Al intentar hacer un web scrapping sobre diversas fuentes de información, encontré que dichas fuentes siempre contenínan un desorden importante en sus datos y la automatización del proceso de extracción de información particular de los personajes (como su ocupación, personajes con los que se relacionan, etc.) se convirtió en una tarea imposible.\n",
        "\n",
        "Por tal motivo decidí construir esta planilla en formato de diccionario a mano, buscando información de varios sitios, entre los cuales se encontraron principalmente:\n",
        "- https://evangelion.fandom.com/es/wiki/Neo_Genesis_Evangelion_Wiki\n",
        "- https://es.wikipedia.org/wiki/Neon_Genesis_Evangelion\n",
        "- https://doblaje.fandom.com/es/wiki/Categor%C3%ADa:Personajes_de_Neon_Genesis_Evangelion\n",
        "\n"
      ]
    },
    {
      "cell_type": "code",
      "execution_count": 166,
      "metadata": {
        "colab": {
          "base_uri": "https://localhost:8080/"
        },
        "id": "hLIA6v22xrPQ",
        "outputId": "3c270735-5175-4108-d8b0-4987b08a34b4"
      },
      "outputs": [
        {
          "output_type": "stream",
          "name": "stdout",
          "text": [
            "HTML obtenido con éxito para el personaje Ryoji_Kaji\n",
            "Resumen del personaje Ryoji_Kaji guardado en personajes/Ryoji_Kaji.txt\n",
            "HTML obtenido con éxito para el personaje Keel_Lorenz\n",
            "Resumen del personaje Keel_Lorenz guardado en personajes/Keel_Lorenz.txt\n",
            "HTML obtenido con éxito para el personaje Misato_Katsuragi\n",
            "Resumen del personaje Misato_Katsuragi guardado en personajes/Misato_Katsuragi.txt\n",
            "HTML obtenido con éxito para el personaje Gendo_Ikari\n",
            "Resumen del personaje Gendo_Ikari guardado en personajes/Gendo_Ikari.txt\n",
            "HTML obtenido con éxito para el personaje Yui_Ikari\n",
            "Resumen del personaje Yui_Ikari guardado en personajes/Yui_Ikari.txt\n",
            "HTML obtenido con éxito para el personaje Ritsuko_Akagi\n",
            "Resumen del personaje Ritsuko_Akagi guardado en personajes/Ritsuko_Akagi.txt\n",
            "HTML obtenido con éxito para el personaje Naoko_Akagi\n",
            "Resumen del personaje Naoko_Akagi guardado en personajes/Naoko_Akagi.txt\n",
            "HTML obtenido con éxito para el personaje Kozo_Fuyutsuki\n",
            "Resumen del personaje Kozo_Fuyutsuki guardado en personajes/Kozo_Fuyutsuki.txt\n",
            "HTML obtenido con éxito para el personaje Maya_Ibuki\n",
            "Resumen del personaje Maya_Ibuki guardado en personajes/Maya_Ibuki.txt\n",
            "HTML obtenido con éxito para el personaje Asuka_Langley_Soryu\n",
            "Resumen del personaje Asuka_Langley_Soryu guardado en personajes/Asuka_Langley_Soryu.txt\n",
            "HTML obtenido con éxito para el personaje Rei_Ayanami\n",
            "Resumen del personaje Rei_Ayanami guardado en personajes/Rei_Ayanami.txt\n",
            "HTML obtenido con éxito para el personaje Kaworu_Nagisa\n",
            "Resumen del personaje Kaworu_Nagisa guardado en personajes/Kaworu_Nagisa.txt\n",
            "HTML obtenido con éxito para el personaje Shinji_Ikari\n",
            "Resumen del personaje Shinji_Ikari guardado en personajes/Shinji_Ikari.txt\n",
            "HTML obtenido con éxito para el personaje Toji_Suzuhara\n",
            "Resumen del personaje Toji_Suzuhara guardado en personajes/Toji_Suzuhara.txt\n",
            "HTML obtenido con éxito para el personaje Asuka_Langley_Shikinami\n",
            "Resumen del personaje Asuka_Langley_Shikinami guardado en personajes/Asuka_Langley_Shikinami.txt\n",
            "HTML obtenido con éxito para el personaje Hikari_Horaki\n",
            "Resumen del personaje Hikari_Horaki guardado en personajes/Hikari_Horaki.txt\n",
            "HTML obtenido con éxito para el personaje Sakura_Suzuhara\n",
            "Resumen del personaje Sakura_Suzuhara guardado en personajes/Sakura_Suzuhara.txt\n",
            "HTML obtenido con éxito para el personaje Midori_Kitakami\n",
            "Resumen del personaje Midori_Kitakami guardado en personajes/Midori_Kitakami.txt\n",
            "HTML obtenido con éxito para el personaje Makoto_Hyuga\n",
            "Resumen del personaje Makoto_Hyuga guardado en personajes/Makoto_Hyuga.txt\n",
            "HTML obtenido con éxito para el personaje Mari_Illustrious_Makinami\n",
            "Resumen del personaje Mari_Illustrious_Makinami guardado en personajes/Mari_Illustrious_Makinami.txt\n",
            "HTML obtenido con éxito para el personaje Rei_Quatre\n",
            "Resumen del personaje Rei_Quatre guardado en personajes/Rei_Quatre.txt\n",
            "HTML obtenido con éxito para el personaje Shigeru_Aoba\n",
            "Resumen del personaje Shigeru_Aoba guardado en personajes/Shigeru_Aoba.txt\n",
            "HTML obtenido con éxito para el personaje Kyoko_Zeppelin_Soryu\n",
            "Resumen del personaje Kyoko_Zeppelin_Soryu guardado en personajes/Kyoko_Zeppelin_Soryu.txt\n"
          ]
        }
      ],
      "source": [
        "# Lista de personajes\n",
        "personajes = ['Ryoji_Kaji','Keel_Lorenz','Misato_Katsuragi','Gendo_Ikari','Yui_Ikari',\n",
        "              'Ritsuko_Akagi','Naoko_Akagi','Kozo_Fuyutsuki','Maya_Ibuki',\n",
        "              'Asuka_Langley_Soryu','Rei_Ayanami','Kaworu_Nagisa','Shinji_Ikari',\n",
        "              'Toji_Suzuhara','Asuka_Langley_Shikinami','Hikari_Horaki','Sakura_Suzuhara',\n",
        "              'Midori_Kitakami','Makoto_Hyuga','Mari_Illustrious_Makinami','Rei_Quatre',\n",
        "              'Shigeru_Aoba','Kyoko_Zeppelin_Soryu']\n",
        "\n",
        "# Crear la carpeta 'personajes' si no existe\n",
        "os.makedirs('personajes', exist_ok=True)\n",
        "\n",
        "base_url = 'https://evangelion.fandom.com/es/wiki/{}'\n",
        "\n",
        "for personaje in personajes:\n",
        "    url = base_url.format(personaje)\n",
        "    response = requests.get(url)\n",
        "\n",
        "    if response.status_code == 200:\n",
        "        html = response.text\n",
        "        print(f\"HTML obtenido con éxito para el personaje {personaje}\")\n",
        "        soup = BeautifulSoup(html, 'html.parser')\n",
        "        content_div = soup.find('div', {'class': 'mw-parser-output'})\n",
        "        p_tags = content_div.find_all('p') if content_div else []\n",
        "\n",
        "        resumen = ''\n",
        "        for tag in p_tags:\n",
        "            resumen += tag.text.strip() + \"\\n\"\n",
        "\n",
        "        #dicPersonajes[personaje]['Resumen'] = resumen.replace(\"\\n\\n\",\"\").replace(\"\\t\",\"\").split(\"\\n\")\n",
        "        file_path = os.path.join('personajes', f'{personaje}.txt')\n",
        "        with open(file_path, 'w', encoding='utf-8') as file:\n",
        "            file.write(resumen)\n",
        "\n",
        "        print(f\"Resumen del personaje {personaje} guardado en {file_path}\")\n",
        "        nombre = soup.find('h2', {'class': '\"pi-item pi-item-spacing pi-title pi-secondary-background\"'})\n",
        "\n",
        "    else:\n",
        "        print(f\"Error al obtener el HTML del capítulo {personaje}\")\n",
        "\n"
      ]
    },
    {
      "cell_type": "code",
      "execution_count": 167,
      "metadata": {
        "id": "XjrGYRr11wA9"
      },
      "outputs": [],
      "source": [
        "def reemplazar_nuevas_lineas(texto):\n",
        "    import re\n",
        "    # Reemplaza múltiples saltos de línea por uno solo\n",
        "    # y agrega un salto adicional si hay líneas separadas\n",
        "    return re.sub(r'(?<!\\n)\\n{2,}(?!\\n)', '\\n\\n', texto)"
      ]
    },
    {
      "cell_type": "code",
      "source": [
        "def informacionPersonaje(path):\n",
        "  \"\"\"\n",
        "  La función informacionPersonajes toma un archivo de texto como entrada y devuelve un diccionario con la información del personaje.\n",
        "  Como sabemos, los archivos de la información scrappeada para los personajes se encuentra en un estado demasiado desordenado\n",
        "  para que sea de utilidad para la construcción de nodos en una base de datos de grafos. Por ello, esta función\n",
        "  logra capturar la información más relevante en formato de diccionario (información, afiliación, etc.) y un extra de\n",
        "  un resumen sobre el personaje.\n",
        "  \"\"\"\n",
        "  informacion = {}\n",
        "  resumen = ''\n",
        "  with open(path) as texto:\n",
        "    cuerpo = texto.read()\n",
        "    cuerpo = reemplazar_nuevas_lineas(cuerpo.replace('\\t',''))\n",
        "    lista = cuerpo.split('\\n\\n')\n",
        "\n",
        "    for elemento in lista:\n",
        "      if len(elemento) < 1000:\n",
        "\n",
        "        if len(elemento.split('\\n')) == 2:\n",
        "          titulo, contenido = elemento.split('\\n')\n",
        "          informacion[titulo] = contenido\n",
        "\n",
        "      else:\n",
        "        resumen += elemento + '\\n'\n",
        "\n",
        "  informacion['Resumen'] = resumen\n",
        "  return informacion\n"
      ],
      "metadata": {
        "id": "B2eIm2mH3HcV"
      },
      "execution_count": 168,
      "outputs": []
    },
    {
      "cell_type": "markdown",
      "source": [
        "Con las siguientes líneas de código almacenamos la información de todos los personajes en una lista que luego será de utilidad para la creación de las bases de datos de grafos."
      ],
      "metadata": {
        "id": "cbhJw7ay7KVg"
      }
    },
    {
      "cell_type": "code",
      "source": [
        "informacionDeLosPersonajes = {}\n",
        "\n",
        "for personaje in personajes:\n",
        "  informacionDeLosPersonajes[personaje.replace('_',' ')] = informacionPersonaje(f'personajes/{personaje}.txt')"
      ],
      "metadata": {
        "id": "zLTUsrQV6-S0"
      },
      "execution_count": 169,
      "outputs": []
    },
    {
      "cell_type": "markdown",
      "metadata": {
        "id": "Qzpm7fd61kdH"
      },
      "source": [
        "### Angeles"
      ]
    },
    {
      "cell_type": "code",
      "execution_count": 170,
      "metadata": {
        "colab": {
          "base_uri": "https://localhost:8080/"
        },
        "id": "vbbaN1T51mOC",
        "outputId": "5f81c882-12c2-457d-e5a9-0bceca99b62f"
      },
      "outputs": [
        {
          "output_type": "stream",
          "name": "stdout",
          "text": [
            "HTML obtenido con éxito para el angel Adán\n",
            "Resumen del angel Adán guardado en angeles/Adán.txt\n",
            "HTML obtenido con éxito para el angel Lilith\n",
            "Resumen del angel Lilith guardado en angeles/Lilith.txt\n",
            "HTML obtenido con éxito para el angel Sachiel\n",
            "Resumen del angel Sachiel guardado en angeles/Sachiel.txt\n",
            "HTML obtenido con éxito para el angel Shamshel\n",
            "Resumen del angel Shamshel guardado en angeles/Shamshel.txt\n",
            "HTML obtenido con éxito para el angel Ramiel\n",
            "Resumen del angel Ramiel guardado en angeles/Ramiel.txt\n",
            "HTML obtenido con éxito para el angel Gaghiel\n",
            "Resumen del angel Gaghiel guardado en angeles/Gaghiel.txt\n",
            "HTML obtenido con éxito para el angel Israfel\n",
            "Resumen del angel Israfel guardado en angeles/Israfel.txt\n",
            "HTML obtenido con éxito para el angel Sandalphon\n",
            "Resumen del angel Sandalphon guardado en angeles/Sandalphon.txt\n",
            "HTML obtenido con éxito para el angel Matarael\n",
            "Resumen del angel Matarael guardado en angeles/Matarael.txt\n",
            "HTML obtenido con éxito para el angel Sahaquiel\n",
            "Resumen del angel Sahaquiel guardado en angeles/Sahaquiel.txt\n",
            "HTML obtenido con éxito para el angel Ireul\n",
            "Resumen del angel Ireul guardado en angeles/Ireul.txt\n",
            "HTML obtenido con éxito para el angel Leliel\n",
            "Resumen del angel Leliel guardado en angeles/Leliel.txt\n",
            "HTML obtenido con éxito para el angel Bardiel\n",
            "Resumen del angel Bardiel guardado en angeles/Bardiel.txt\n",
            "HTML obtenido con éxito para el angel Zeruel\n",
            "Resumen del angel Zeruel guardado en angeles/Zeruel.txt\n",
            "HTML obtenido con éxito para el angel Arael\n",
            "Resumen del angel Arael guardado en angeles/Arael.txt\n",
            "HTML obtenido con éxito para el angel Armisael\n",
            "Resumen del angel Armisael guardado en angeles/Armisael.txt\n",
            "HTML obtenido con éxito para el angel Tabris\n",
            "Resumen del angel Tabris guardado en angeles/Tabris.txt\n",
            "HTML obtenido con éxito para el angel Lilin\n",
            "Resumen del angel Lilin guardado en angeles/Lilin.txt\n"
          ]
        }
      ],
      "source": [
        "# Lista de capítulos del 01 al 26\n",
        "angeles = ['Adán', 'Lilith','Sachiel','Shamshel',\n",
        "              'Ramiel','Gaghiel','Israfel','Sandalphon',\n",
        "              'Matarael','Sahaquiel','Ireul','Leliel',\n",
        "              'Bardiel','Zeruel','Arael','Armisael','Tabris',\n",
        "              'Lilin']\n",
        "\n",
        "# Crear la carpeta 'angeles' si no existe\n",
        "os.makedirs('angeles', exist_ok=True)\n",
        "\n",
        "# Diccionario para almacenar los resúmenes\n",
        "informacionDelAngel = {}\n",
        "\n",
        "# Base URL del sitio web\n",
        "base_url = 'https://evangelion.fandom.com/es/wiki/{}'\n",
        "\n",
        "# Obtener y guardar los resúmenes\n",
        "for angel in angeles:\n",
        "    url = base_url.format(angel)  # URL para cada capítulo\n",
        "    response = requests.get(url)\n",
        "\n",
        "    if response.status_code == 200:\n",
        "        html = response.text\n",
        "        print(f\"HTML obtenido con éxito para el angel {angel}\")\n",
        "\n",
        "        soup = BeautifulSoup(html, 'html.parser')\n",
        "\n",
        "        # Encontrar todos los elementos <p> dentro de la sección de contenido\n",
        "        content_div = soup.find('div', {'class': 'mw-parser-output'})\n",
        "        p_tags = content_div.find_all('p') if content_div else []\n",
        "\n",
        "        # Construir el resumen del capítulo\n",
        "        resumen = ''\n",
        "        for tag in p_tags:\n",
        "            resumen += tag.text.strip() + \"\\n\"\n",
        "\n",
        "        informacionDelAngel[angel] = resumen\n",
        "\n",
        "        # Guardar el resumen en un archivo de texto\n",
        "        file_path = os.path.join('angeles', f'{angel}.txt')\n",
        "        with open(file_path, 'w', encoding='utf-8') as file:\n",
        "            file.write(f\"Nombre del angel: {angel} \\n\")\n",
        "            file.write(resumen)\n",
        "\n",
        "        print(f\"Resumen del angel {angel} guardado en {file_path}\")\n",
        "\n",
        "    else:\n",
        "        print(f\"Error al obtener el HTML del capítulo {angel}\")"
      ]
    },
    {
      "cell_type": "code",
      "execution_count": 171,
      "metadata": {
        "colab": {
          "base_uri": "https://localhost:8080/"
        },
        "id": "EohxzXgx3hIA",
        "outputId": "d31cbf6b-8f3b-44c1-b834-b327ceaa1fae"
      },
      "outputs": [
        {
          "output_type": "stream",
          "name": "stdout",
          "text": [
            "HTML obtenido con éxito para la información general de los ángeles\n",
            "Información general de los ángeles guardado en angeles/Informacion_General.txt\n"
          ]
        }
      ],
      "source": [
        "# Base URL del sitio web\n",
        "url = 'https://evangelion.fandom.com/es/wiki/%C3%81ngeles'\n",
        "\n",
        "# Obtener y guardar los resúmenes\n",
        "response = requests.get(url)\n",
        "\n",
        "if response.status_code == 200:\n",
        "    html = response.text\n",
        "    print(f\"HTML obtenido con éxito para la información general de los ángeles\")\n",
        "\n",
        "    soup = BeautifulSoup(html, 'html.parser')\n",
        "\n",
        "    # Encontrar todos los elementos <p> dentro de la sección de contenido\n",
        "    content_div = soup.find('div', {'class': 'mw-parser-output'})\n",
        "    p_tags = content_div.find_all('p') if content_div else []\n",
        "\n",
        "    # Construir el resumen del capítulo\n",
        "    resumen = ''\n",
        "    for tag in p_tags:\n",
        "        resumen += tag.text.strip() + \"\\n\"\n",
        "\n",
        "    # Guardar el resumen en un archivo de texto\n",
        "    file_path = os.path.join('angeles', f'Informacion_General.txt')\n",
        "    with open(file_path, 'w', encoding='utf-8') as file:\n",
        "        file.write(resumen)\n",
        "\n",
        "    print(f\"Información general de los ángeles guardado en {file_path}\")\n",
        "\n",
        "else:\n",
        "    print(f\"Error al obtener el HTML\")"
      ]
    },
    {
      "cell_type": "markdown",
      "metadata": {
        "id": "IZALKwgxs0n2"
      },
      "source": [
        "### Películas"
      ]
    },
    {
      "cell_type": "markdown",
      "metadata": {
        "id": "1IEjyH6a5LGk"
      },
      "source": [
        "Creo un df con información respectiva a las películas"
      ]
    },
    {
      "cell_type": "code",
      "execution_count": 172,
      "metadata": {
        "id": "9B58M5U4s3UX"
      },
      "outputs": [],
      "source": [
        "peliculas = {\n",
        "    'The End of Evangelion': 'https://es.wikipedia.org/wiki/The_End_of_Evangelion',\n",
        "    'Rebuild 1': 'https://es.wikipedia.org/wiki/Evangelion:_1.0_You_Are_(Not)_Alone',\n",
        "    'Rebuild 2': 'https://es.wikipedia.org/wiki/Evangelion:_2.0_You_Can_(Not)_Advance',\n",
        "    'Rebuild 3': 'https://es.wikipedia.org/wiki/Evangelion:_3.0_You_Can_(Not)_Redo',\n",
        "    'Rebuild 4': 'https://es.wikipedia.org/wiki/Evangelion:_3.0%2B1.0_Thrice_Upon_a_Time'\n",
        "}"
      ]
    },
    {
      "cell_type": "code",
      "execution_count": 173,
      "metadata": {
        "id": "qUgCD1tW2Hvm"
      },
      "outputs": [],
      "source": [
        "def obtener_diccionario_pelicula(url):\n",
        "\n",
        "  response = requests.get(url)\n",
        "\n",
        "  diccionario = {}\n",
        "\n",
        "  if response.status_code == 200:\n",
        "      html = response.text\n",
        "      print(f\"HTML obtenido con éxito para la información general de los periódicos\")\n",
        "\n",
        "      soup = BeautifulSoup(html, 'html.parser')\n",
        "\n",
        "      content_div = soup.find('table', {'class': 'infobox plainlist plainlinks'})\n",
        "      p_tags = content_div.find_all('tr') if content_div else []\n",
        "\n",
        "      for tag in p_tags:\n",
        "        lista = []\n",
        "        for elemento in tag:\n",
        "          lista.append(elemento.text)\n",
        "        if len(lista) > 1:\n",
        "          diccionario[lista[0]] = lista[1]\n",
        "\n",
        "      return diccionario\n",
        "\n",
        "  else:\n",
        "      print(f\"Error al obtener el HTML\")\n"
      ]
    },
    {
      "cell_type": "code",
      "execution_count": 174,
      "metadata": {
        "colab": {
          "base_uri": "https://localhost:8080/"
        },
        "id": "WgvRrCDj2Z7M",
        "outputId": "f0c54057-fdbf-4a63-b22a-04d913b5c938"
      },
      "outputs": [
        {
          "output_type": "stream",
          "name": "stdout",
          "text": [
            "HTML obtenido con éxito para la información general de los periódicos\n",
            "HTML obtenido con éxito para la información general de los periódicos\n",
            "HTML obtenido con éxito para la información general de los periódicos\n",
            "HTML obtenido con éxito para la información general de los periódicos\n",
            "HTML obtenido con éxito para la información general de los periódicos\n"
          ]
        }
      ],
      "source": [
        "diccionarios = []\n",
        "for pelicula, url in peliculas.items():\n",
        "  diccionarios.append(obtener_diccionario_pelicula(url))"
      ]
    },
    {
      "cell_type": "code",
      "execution_count": 175,
      "metadata": {
        "id": "hhCROcoz3CWR"
      },
      "outputs": [],
      "source": [
        "import pandas as pd\n",
        "peliculas = pd.DataFrame(diccionarios)"
      ]
    },
    {
      "cell_type": "markdown",
      "metadata": {
        "id": "WEf4GPvIlYUa"
      },
      "source": [
        "Limpieza de Recaudación"
      ]
    },
    {
      "cell_type": "code",
      "execution_count": 176,
      "metadata": {
        "id": "h88eCMVGe561"
      },
      "outputs": [],
      "source": [
        "peliculas['Recaudación'] = peliculas.Recaudación.str.replace(',','.').str.replace('\\n','').str.replace('[1]','').str.replace('[2]','')"
      ]
    },
    {
      "cell_type": "code",
      "execution_count": 177,
      "metadata": {
        "id": "ThDvphyOhE47"
      },
      "outputs": [],
      "source": [
        "def divisa(x):\n",
        "  if '$' in x:\n",
        "    return 'USD'\n",
        "  else:\n",
        "    return 'YEN'"
      ]
    },
    {
      "cell_type": "code",
      "execution_count": 178,
      "metadata": {
        "id": "_7jHmRktg68Y"
      },
      "outputs": [],
      "source": [
        "peliculas['Divisa'] = peliculas.Recaudación.apply(lambda x: divisa(x))"
      ]
    },
    {
      "cell_type": "code",
      "execution_count": 179,
      "metadata": {
        "id": "0yZj1XJDhYlU"
      },
      "outputs": [],
      "source": [
        "\n",
        "peliculas['Recaudación']=peliculas['Recaudación'].str.replace('$','').str.replace('¥','')"
      ]
    },
    {
      "cell_type": "code",
      "execution_count": 180,
      "metadata": {
        "colab": {
          "base_uri": "https://localhost:8080/"
        },
        "id": "dEwesRumiacL",
        "outputId": "72b44cab-d865-437c-f1f7-335bae41f7fc"
      },
      "outputs": [
        {
          "output_type": "execute_result",
          "data": {
            "text/plain": [
              "0     1.450.000.000.00​\n",
              "1       16.34 millones​\n",
              "2       41.16 millones​\n",
              "3        60.5 millones​\n",
              "4       92.25 millones​\n",
              "Name: Recaudación, dtype: object"
            ]
          },
          "metadata": {},
          "execution_count": 180
        }
      ],
      "source": [
        "peliculas.Recaudación"
      ]
    },
    {
      "cell_type": "code",
      "execution_count": 181,
      "metadata": {
        "id": "6bK2PScbh4WN"
      },
      "outputs": [],
      "source": [
        "def convertirAFloat(x):\n",
        "  if 'millones' in x:\n",
        "    return float(x.replace('millones','').replace('\\u200b','')) * 1000000\n",
        "  else:\n",
        "    texto = x.replace('\\u200b','')\n",
        "    if texto.endswith('.00'):\n",
        "      return float(texto[:-3].replace('.',''))\n",
        "    else:\n",
        "      return float(texto.replace('.',''))"
      ]
    },
    {
      "cell_type": "code",
      "execution_count": 182,
      "metadata": {
        "id": "YRC1r0PwiIpz"
      },
      "outputs": [],
      "source": [
        "peliculas['Recaudación']=peliculas.Recaudación.apply(lambda x: convertirAFloat(x))"
      ]
    },
    {
      "cell_type": "markdown",
      "metadata": {
        "id": "d7880GEFlTPq"
      },
      "source": [
        "Limpieza de Dirección"
      ]
    },
    {
      "cell_type": "markdown",
      "metadata": {
        "id": "wtwCLdPzli7l"
      },
      "source": [
        "Se necesita una función que separe los nombres cuando se toque una minúscula con una mayúscula."
      ]
    },
    {
      "cell_type": "code",
      "execution_count": 183,
      "metadata": {
        "colab": {
          "base_uri": "https://localhost:8080/"
        },
        "id": "a6pkneArkdre",
        "outputId": "b9bd883f-a144-4865-feb0-afeeb99e9f26"
      },
      "outputs": [
        {
          "output_type": "execute_result",
          "data": {
            "text/plain": [
              "0                       \\nKazuya TsurumakiHideaki Anno\n",
              "1               \\nHideaki AnnoKazuya TsurumakiMasayuki\n",
              "2               \\nHideaki AnnoKazuya TsurumakiMasayuki\n",
              "3    \\nHideaki AnnoMahiro MaedaKazuya TsurumakiMasa...\n",
              "4    \\nHideaki AnnoMahiro MaedaKatsuichi NakayamaKa...\n",
              "Name: Dirección, dtype: object"
            ]
          },
          "metadata": {},
          "execution_count": 183
        }
      ],
      "source": [
        "peliculas.Dirección"
      ]
    },
    {
      "cell_type": "code",
      "execution_count": 184,
      "metadata": {
        "id": "rK5AK_PtnpUB"
      },
      "outputs": [],
      "source": [
        "def reemplazar_caracter(texto, indice, nuevo_caracter):\n",
        "    if 0 <= indice < len(texto):\n",
        "        texto_lista = list(texto)\n",
        "        texto_lista[indice] = nuevo_caracter\n",
        "        return ''.join(texto_lista)\n",
        "\n",
        "    else:\n",
        "        return \"Índice fuera de rango\""
      ]
    },
    {
      "cell_type": "code",
      "execution_count": 185,
      "metadata": {
        "id": "VETygUDilqZf"
      },
      "outputs": [],
      "source": [
        "def separarNombres(x):\n",
        "  import string\n",
        "  mayusculas = letras_mayusculas = list(string.ascii_uppercase) + ['Ñ']\n",
        "  minusculas = list(string.ascii_lowercase) + ['ñ']\n",
        "\n",
        "  texto = x\n",
        "  for i in range(len(texto)):\n",
        "    if texto[i] in minusculas and texto[i+1] in mayusculas:\n",
        "      #texto[i] =\n",
        "      texto = reemplazar_caracter(texto, i, texto[i] + '-')\n",
        "  return texto.split('-')"
      ]
    },
    {
      "cell_type": "code",
      "execution_count": 186,
      "metadata": {
        "id": "3fxXw36cm7L6"
      },
      "outputs": [],
      "source": [
        "peliculas['Dirección']=peliculas.Dirección.str.replace('\\n','').apply(lambda x: separarNombres(x))"
      ]
    },
    {
      "cell_type": "markdown",
      "metadata": {
        "id": "icTA-HvYpXXd"
      },
      "source": [
        "Limpieza del resto de los campos"
      ]
    },
    {
      "cell_type": "code",
      "execution_count": 187,
      "metadata": {
        "id": "wvOUdzxlpLUb"
      },
      "outputs": [],
      "source": [
        "columnas = peliculas.columns"
      ]
    },
    {
      "cell_type": "code",
      "execution_count": 188,
      "metadata": {
        "colab": {
          "base_uri": "https://localhost:8080/"
        },
        "id": "rrrSNipApfD6",
        "outputId": "7096ae02-2b75-48f0-9201-a9f8cef9a9df"
      },
      "outputs": [
        {
          "output_type": "execute_result",
          "data": {
            "text/plain": [
              "dtype('float64')"
            ]
          },
          "metadata": {},
          "execution_count": 188
        }
      ],
      "source": [
        "peliculas['Recaudación'].dtype"
      ]
    },
    {
      "cell_type": "code",
      "execution_count": 189,
      "metadata": {
        "id": "_s6D0ZSWpb1l"
      },
      "outputs": [],
      "source": [
        "for columna in columnas:\n",
        "  if peliculas[columna].dtype == 'object':\n",
        "    peliculas[columna] = peliculas[columna].str.replace('\\n','')"
      ]
    },
    {
      "cell_type": "code",
      "execution_count": 190,
      "metadata": {
        "id": "0KzH5NEbqeEb"
      },
      "outputs": [],
      "source": [
        "for columna in columnas:\n",
        "  if ('Evangelion' in columna or columna == '') and columna in peliculas.columns:\n",
        "    peliculas.drop(columna, axis=1, inplace=True)"
      ]
    },
    {
      "cell_type": "markdown",
      "metadata": {
        "id": "LN4AC2_647UA"
      },
      "source": [
        "# Adecuación de los datos"
      ]
    },
    {
      "cell_type": "markdown",
      "metadata": {
        "id": "N_knIFFe5Bam"
      },
      "source": [
        "## Datos tabulares"
      ]
    },
    {
      "cell_type": "markdown",
      "metadata": {
        "id": "4t6XXntM5FWM"
      },
      "source": [
        "Para los datos tabulares se decidió utilizar dataframes de pandas."
      ]
    },
    {
      "cell_type": "code",
      "execution_count": 191,
      "metadata": {
        "id": "zhL2pRpw5Eh7",
        "colab": {
          "base_uri": "https://localhost:8080/",
          "height": 0
        },
        "outputId": "6a5673c5-58c6-4a4a-e0f3-f3b09800f525"
      },
      "outputs": [
        {
          "output_type": "execute_result",
          "data": {
            "text/plain": [
              "                                              Título  Dirección  \\\n",
              "0                             El Final de Evangelion        NaN   \n",
              "1  ヱヴァンゲリヲン新劇場版:序(Evangelion Shin Gekijōban: Jo)E...        NaN   \n",
              "2  ヱヴァンゲリヲン新劇場版: 破(Evangerion Shin Gekijōban: Ha)...        NaN   \n",
              "3  ヱヴァンゲリヲン新劇場版:Q(Evangerion Shin Gekijōban: Kyū)...        NaN   \n",
              "4  シン・エヴァンゲリオン劇場版:||(Shin Evangelion Gekijōban:||...        NaN   \n",
              "\n",
              "  Dirección artística                      Producción         Guion  \\\n",
              "0        Hiroshi Kato              Mitsuhisa Ishikawa  Hideaki Anno   \n",
              "1                 NaN               Toshimichi Otsuki  Hideaki Anno   \n",
              "2                 NaN   Toshimichi OtsukiHideaki Anno  Hideaki Anno   \n",
              "3                 NaN  Hideaki AnnoToshimichi Ohtsuki  Hideaki Anno   \n",
              "4                 NaN               Takatoshi Okajima  Hideaki Anno   \n",
              "\n",
              "                                           Basada en        Música  \\\n",
              "0   Neon Genesis Evangelion de Hideaki Anno y Gainax  Shirō Sagisu   \n",
              "1  Neon Genesis Evangelion de Hideaki Anno y Yosh...  Shiro Sagisu   \n",
              "2  Neon Genesis Evangelion de Hideaki Anno y Yosh...  Shiro Sagisu   \n",
              "3  Neon Genesis Evangelion, de Hideaki Anno y Yos...  Shiro Sagisu   \n",
              "4            Neon Genesis Evangelion de Hideaki Anno  Shirō Sagisu   \n",
              "\n",
              "            Sonido    Fotografía        Montaje  ...  \\\n",
              "0  Hideyuki Tanaka  Hisao Shirai   Sachiko Miki  ...   \n",
              "1              NaN           NaN  Hiroshi Okuda  ...   \n",
              "2              NaN           NaN            NaN  ...   \n",
              "3              NaN  Toru Fukushi   Yeong Mi-Lee  ...   \n",
              "4              NaN  Toru Fukushi            NaN  ...   \n",
              "\n",
              "                                              Género     Duración  \\\n",
              "0  Ciencia ficción, filosófico, misterio, mecha, ...   87 minutos   \n",
              "1  Mecha, Acción, Drama, Ciencia ficción, Psicoló...   98 minutos   \n",
              "2  Mecha, Acción, Drama, Ciencia ficción, Psicoló...  108 minutos   \n",
              "3                AnimaciónMechaAcciónCiencia ficción   96 minutos   \n",
              "4  Mecha, Acción, Drama, Ciencia ficción, Psicoló...  155 minutos   \n",
              "\n",
              "                Clasificación Idioma(s)                    Productora  \\\n",
              "0   R +16 +13 +18 C +14 +16 M   Japonés  Production I.GGainaxTV Tokyo   \n",
              "1                         NaN   Japonés                  Studio Khara   \n",
              "2                         NaN   Japonés                  Studio Khara   \n",
              "3                         NaN   Japonés                  Studio Khara   \n",
              "4                         NaN   Japonés                  Studio Khara   \n",
              "\n",
              "                                        Distribución   Recaudación  \\\n",
              "0                                Toei CompanyNetflix  1.450000e+09   \n",
              "1  Zima Entertainment20th Century Fox  MéxicoSele...  1.634000e+07   \n",
              "2  Zima Entertainment20th Century Fox  MéxicoSele...  4.116000e+07   \n",
              "3  Toei Company y Khara Zima Entertainment20th Ce...  6.050000e+07   \n",
              "4  TohoToei Company (Japón)Metro-Goldwyn-Mayer (I...  9.225000e+07   \n",
              "\n",
              "        Estudio                                     Actores de voz Divisa  \n",
              "0           NaN                                                NaN    YEN  \n",
              "1  Studio Khara                                                NaN    USD  \n",
              "2  Studio Khara                                                NaN    USD  \n",
              "3  Studio Khara                                                NaN    USD  \n",
              "4  Studio Khara  23 personasMegumi OgataMegumi HayashibaraYūko ...    USD  \n",
              "\n",
              "[5 rows x 24 columns]"
            ],
            "text/html": [
              "\n",
              "  <div id=\"df-6e25677a-04dd-4e83-8684-60b1fe0add37\" class=\"colab-df-container\">\n",
              "    <div>\n",
              "<style scoped>\n",
              "    .dataframe tbody tr th:only-of-type {\n",
              "        vertical-align: middle;\n",
              "    }\n",
              "\n",
              "    .dataframe tbody tr th {\n",
              "        vertical-align: top;\n",
              "    }\n",
              "\n",
              "    .dataframe thead th {\n",
              "        text-align: right;\n",
              "    }\n",
              "</style>\n",
              "<table border=\"1\" class=\"dataframe\">\n",
              "  <thead>\n",
              "    <tr style=\"text-align: right;\">\n",
              "      <th></th>\n",
              "      <th>Título</th>\n",
              "      <th>Dirección</th>\n",
              "      <th>Dirección artística</th>\n",
              "      <th>Producción</th>\n",
              "      <th>Guion</th>\n",
              "      <th>Basada en</th>\n",
              "      <th>Música</th>\n",
              "      <th>Sonido</th>\n",
              "      <th>Fotografía</th>\n",
              "      <th>Montaje</th>\n",
              "      <th>...</th>\n",
              "      <th>Género</th>\n",
              "      <th>Duración</th>\n",
              "      <th>Clasificación</th>\n",
              "      <th>Idioma(s)</th>\n",
              "      <th>Productora</th>\n",
              "      <th>Distribución</th>\n",
              "      <th>Recaudación</th>\n",
              "      <th>Estudio</th>\n",
              "      <th>Actores de voz</th>\n",
              "      <th>Divisa</th>\n",
              "    </tr>\n",
              "  </thead>\n",
              "  <tbody>\n",
              "    <tr>\n",
              "      <th>0</th>\n",
              "      <td>El Final de Evangelion</td>\n",
              "      <td>NaN</td>\n",
              "      <td>Hiroshi Kato</td>\n",
              "      <td>Mitsuhisa Ishikawa</td>\n",
              "      <td>Hideaki Anno</td>\n",
              "      <td>Neon Genesis Evangelion de Hideaki Anno y Gainax</td>\n",
              "      <td>Shirō Sagisu</td>\n",
              "      <td>Hideyuki Tanaka</td>\n",
              "      <td>Hisao Shirai</td>\n",
              "      <td>Sachiko Miki</td>\n",
              "      <td>...</td>\n",
              "      <td>Ciencia ficción, filosófico, misterio, mecha, ...</td>\n",
              "      <td>87 minutos</td>\n",
              "      <td>R +16 +13 +18 C +14 +16 M</td>\n",
              "      <td>Japonés</td>\n",
              "      <td>Production I.GGainaxTV Tokyo</td>\n",
              "      <td>Toei CompanyNetflix</td>\n",
              "      <td>1.450000e+09</td>\n",
              "      <td>NaN</td>\n",
              "      <td>NaN</td>\n",
              "      <td>YEN</td>\n",
              "    </tr>\n",
              "    <tr>\n",
              "      <th>1</th>\n",
              "      <td>ヱヴァンゲリヲン新劇場版:序(Evangelion Shin Gekijōban: Jo)E...</td>\n",
              "      <td>NaN</td>\n",
              "      <td>NaN</td>\n",
              "      <td>Toshimichi Otsuki</td>\n",
              "      <td>Hideaki Anno</td>\n",
              "      <td>Neon Genesis Evangelion de Hideaki Anno y Yosh...</td>\n",
              "      <td>Shiro Sagisu</td>\n",
              "      <td>NaN</td>\n",
              "      <td>NaN</td>\n",
              "      <td>Hiroshi Okuda</td>\n",
              "      <td>...</td>\n",
              "      <td>Mecha, Acción, Drama, Ciencia ficción, Psicoló...</td>\n",
              "      <td>98 minutos</td>\n",
              "      <td>NaN</td>\n",
              "      <td>Japonés</td>\n",
              "      <td>Studio Khara</td>\n",
              "      <td>Zima Entertainment20th Century Fox  MéxicoSele...</td>\n",
              "      <td>1.634000e+07</td>\n",
              "      <td>Studio Khara</td>\n",
              "      <td>NaN</td>\n",
              "      <td>USD</td>\n",
              "    </tr>\n",
              "    <tr>\n",
              "      <th>2</th>\n",
              "      <td>ヱヴァンゲリヲン新劇場版: 破(Evangerion Shin Gekijōban: Ha)...</td>\n",
              "      <td>NaN</td>\n",
              "      <td>NaN</td>\n",
              "      <td>Toshimichi OtsukiHideaki Anno</td>\n",
              "      <td>Hideaki Anno</td>\n",
              "      <td>Neon Genesis Evangelion de Hideaki Anno y Yosh...</td>\n",
              "      <td>Shiro Sagisu</td>\n",
              "      <td>NaN</td>\n",
              "      <td>NaN</td>\n",
              "      <td>NaN</td>\n",
              "      <td>...</td>\n",
              "      <td>Mecha, Acción, Drama, Ciencia ficción, Psicoló...</td>\n",
              "      <td>108 minutos</td>\n",
              "      <td>NaN</td>\n",
              "      <td>Japonés</td>\n",
              "      <td>Studio Khara</td>\n",
              "      <td>Zima Entertainment20th Century Fox  MéxicoSele...</td>\n",
              "      <td>4.116000e+07</td>\n",
              "      <td>Studio Khara</td>\n",
              "      <td>NaN</td>\n",
              "      <td>USD</td>\n",
              "    </tr>\n",
              "    <tr>\n",
              "      <th>3</th>\n",
              "      <td>ヱヴァンゲリヲン新劇場版:Q(Evangerion Shin Gekijōban: Kyū)...</td>\n",
              "      <td>NaN</td>\n",
              "      <td>NaN</td>\n",
              "      <td>Hideaki AnnoToshimichi Ohtsuki</td>\n",
              "      <td>Hideaki Anno</td>\n",
              "      <td>Neon Genesis Evangelion, de Hideaki Anno y Yos...</td>\n",
              "      <td>Shiro Sagisu</td>\n",
              "      <td>NaN</td>\n",
              "      <td>Toru Fukushi</td>\n",
              "      <td>Yeong Mi-Lee</td>\n",
              "      <td>...</td>\n",
              "      <td>AnimaciónMechaAcciónCiencia ficción</td>\n",
              "      <td>96 minutos</td>\n",
              "      <td>NaN</td>\n",
              "      <td>Japonés</td>\n",
              "      <td>Studio Khara</td>\n",
              "      <td>Toei Company y Khara Zima Entertainment20th Ce...</td>\n",
              "      <td>6.050000e+07</td>\n",
              "      <td>Studio Khara</td>\n",
              "      <td>NaN</td>\n",
              "      <td>USD</td>\n",
              "    </tr>\n",
              "    <tr>\n",
              "      <th>4</th>\n",
              "      <td>シン・エヴァンゲリオン劇場版:||(Shin Evangelion Gekijōban:||...</td>\n",
              "      <td>NaN</td>\n",
              "      <td>NaN</td>\n",
              "      <td>Takatoshi Okajima</td>\n",
              "      <td>Hideaki Anno</td>\n",
              "      <td>Neon Genesis Evangelion de Hideaki Anno</td>\n",
              "      <td>Shirō Sagisu</td>\n",
              "      <td>NaN</td>\n",
              "      <td>Toru Fukushi</td>\n",
              "      <td>NaN</td>\n",
              "      <td>...</td>\n",
              "      <td>Mecha, Acción, Drama, Ciencia ficción, Psicoló...</td>\n",
              "      <td>155 minutos</td>\n",
              "      <td>NaN</td>\n",
              "      <td>Japonés</td>\n",
              "      <td>Studio Khara</td>\n",
              "      <td>TohoToei Company (Japón)Metro-Goldwyn-Mayer (I...</td>\n",
              "      <td>9.225000e+07</td>\n",
              "      <td>Studio Khara</td>\n",
              "      <td>23 personasMegumi OgataMegumi HayashibaraYūko ...</td>\n",
              "      <td>USD</td>\n",
              "    </tr>\n",
              "  </tbody>\n",
              "</table>\n",
              "<p>5 rows × 24 columns</p>\n",
              "</div>\n",
              "    <div class=\"colab-df-buttons\">\n",
              "\n",
              "  <div class=\"colab-df-container\">\n",
              "    <button class=\"colab-df-convert\" onclick=\"convertToInteractive('df-6e25677a-04dd-4e83-8684-60b1fe0add37')\"\n",
              "            title=\"Convert this dataframe to an interactive table.\"\n",
              "            style=\"display:none;\">\n",
              "\n",
              "  <svg xmlns=\"http://www.w3.org/2000/svg\" height=\"24px\" viewBox=\"0 -960 960 960\">\n",
              "    <path d=\"M120-120v-720h720v720H120Zm60-500h600v-160H180v160Zm220 220h160v-160H400v160Zm0 220h160v-160H400v160ZM180-400h160v-160H180v160Zm440 0h160v-160H620v160ZM180-180h160v-160H180v160Zm440 0h160v-160H620v160Z\"/>\n",
              "  </svg>\n",
              "    </button>\n",
              "\n",
              "  <style>\n",
              "    .colab-df-container {\n",
              "      display:flex;\n",
              "      gap: 12px;\n",
              "    }\n",
              "\n",
              "    .colab-df-convert {\n",
              "      background-color: #E8F0FE;\n",
              "      border: none;\n",
              "      border-radius: 50%;\n",
              "      cursor: pointer;\n",
              "      display: none;\n",
              "      fill: #1967D2;\n",
              "      height: 32px;\n",
              "      padding: 0 0 0 0;\n",
              "      width: 32px;\n",
              "    }\n",
              "\n",
              "    .colab-df-convert:hover {\n",
              "      background-color: #E2EBFA;\n",
              "      box-shadow: 0px 1px 2px rgba(60, 64, 67, 0.3), 0px 1px 3px 1px rgba(60, 64, 67, 0.15);\n",
              "      fill: #174EA6;\n",
              "    }\n",
              "\n",
              "    .colab-df-buttons div {\n",
              "      margin-bottom: 4px;\n",
              "    }\n",
              "\n",
              "    [theme=dark] .colab-df-convert {\n",
              "      background-color: #3B4455;\n",
              "      fill: #D2E3FC;\n",
              "    }\n",
              "\n",
              "    [theme=dark] .colab-df-convert:hover {\n",
              "      background-color: #434B5C;\n",
              "      box-shadow: 0px 1px 3px 1px rgba(0, 0, 0, 0.15);\n",
              "      filter: drop-shadow(0px 1px 2px rgba(0, 0, 0, 0.3));\n",
              "      fill: #FFFFFF;\n",
              "    }\n",
              "  </style>\n",
              "\n",
              "    <script>\n",
              "      const buttonEl =\n",
              "        document.querySelector('#df-6e25677a-04dd-4e83-8684-60b1fe0add37 button.colab-df-convert');\n",
              "      buttonEl.style.display =\n",
              "        google.colab.kernel.accessAllowed ? 'block' : 'none';\n",
              "\n",
              "      async function convertToInteractive(key) {\n",
              "        const element = document.querySelector('#df-6e25677a-04dd-4e83-8684-60b1fe0add37');\n",
              "        const dataTable =\n",
              "          await google.colab.kernel.invokeFunction('convertToInteractive',\n",
              "                                                    [key], {});\n",
              "        if (!dataTable) return;\n",
              "\n",
              "        const docLinkHtml = 'Like what you see? Visit the ' +\n",
              "          '<a target=\"_blank\" href=https://colab.research.google.com/notebooks/data_table.ipynb>data table notebook</a>'\n",
              "          + ' to learn more about interactive tables.';\n",
              "        element.innerHTML = '';\n",
              "        dataTable['output_type'] = 'display_data';\n",
              "        await google.colab.output.renderOutput(dataTable, element);\n",
              "        const docLink = document.createElement('div');\n",
              "        docLink.innerHTML = docLinkHtml;\n",
              "        element.appendChild(docLink);\n",
              "      }\n",
              "    </script>\n",
              "  </div>\n",
              "\n",
              "\n",
              "<div id=\"df-e84e8710-9fa2-4a6c-b7bf-57553b826e79\">\n",
              "  <button class=\"colab-df-quickchart\" onclick=\"quickchart('df-e84e8710-9fa2-4a6c-b7bf-57553b826e79')\"\n",
              "            title=\"Suggest charts\"\n",
              "            style=\"display:none;\">\n",
              "\n",
              "<svg xmlns=\"http://www.w3.org/2000/svg\" height=\"24px\"viewBox=\"0 0 24 24\"\n",
              "     width=\"24px\">\n",
              "    <g>\n",
              "        <path d=\"M19 3H5c-1.1 0-2 .9-2 2v14c0 1.1.9 2 2 2h14c1.1 0 2-.9 2-2V5c0-1.1-.9-2-2-2zM9 17H7v-7h2v7zm4 0h-2V7h2v10zm4 0h-2v-4h2v4z\"/>\n",
              "    </g>\n",
              "</svg>\n",
              "  </button>\n",
              "\n",
              "<style>\n",
              "  .colab-df-quickchart {\n",
              "      --bg-color: #E8F0FE;\n",
              "      --fill-color: #1967D2;\n",
              "      --hover-bg-color: #E2EBFA;\n",
              "      --hover-fill-color: #174EA6;\n",
              "      --disabled-fill-color: #AAA;\n",
              "      --disabled-bg-color: #DDD;\n",
              "  }\n",
              "\n",
              "  [theme=dark] .colab-df-quickchart {\n",
              "      --bg-color: #3B4455;\n",
              "      --fill-color: #D2E3FC;\n",
              "      --hover-bg-color: #434B5C;\n",
              "      --hover-fill-color: #FFFFFF;\n",
              "      --disabled-bg-color: #3B4455;\n",
              "      --disabled-fill-color: #666;\n",
              "  }\n",
              "\n",
              "  .colab-df-quickchart {\n",
              "    background-color: var(--bg-color);\n",
              "    border: none;\n",
              "    border-radius: 50%;\n",
              "    cursor: pointer;\n",
              "    display: none;\n",
              "    fill: var(--fill-color);\n",
              "    height: 32px;\n",
              "    padding: 0;\n",
              "    width: 32px;\n",
              "  }\n",
              "\n",
              "  .colab-df-quickchart:hover {\n",
              "    background-color: var(--hover-bg-color);\n",
              "    box-shadow: 0 1px 2px rgba(60, 64, 67, 0.3), 0 1px 3px 1px rgba(60, 64, 67, 0.15);\n",
              "    fill: var(--button-hover-fill-color);\n",
              "  }\n",
              "\n",
              "  .colab-df-quickchart-complete:disabled,\n",
              "  .colab-df-quickchart-complete:disabled:hover {\n",
              "    background-color: var(--disabled-bg-color);\n",
              "    fill: var(--disabled-fill-color);\n",
              "    box-shadow: none;\n",
              "  }\n",
              "\n",
              "  .colab-df-spinner {\n",
              "    border: 2px solid var(--fill-color);\n",
              "    border-color: transparent;\n",
              "    border-bottom-color: var(--fill-color);\n",
              "    animation:\n",
              "      spin 1s steps(1) infinite;\n",
              "  }\n",
              "\n",
              "  @keyframes spin {\n",
              "    0% {\n",
              "      border-color: transparent;\n",
              "      border-bottom-color: var(--fill-color);\n",
              "      border-left-color: var(--fill-color);\n",
              "    }\n",
              "    20% {\n",
              "      border-color: transparent;\n",
              "      border-left-color: var(--fill-color);\n",
              "      border-top-color: var(--fill-color);\n",
              "    }\n",
              "    30% {\n",
              "      border-color: transparent;\n",
              "      border-left-color: var(--fill-color);\n",
              "      border-top-color: var(--fill-color);\n",
              "      border-right-color: var(--fill-color);\n",
              "    }\n",
              "    40% {\n",
              "      border-color: transparent;\n",
              "      border-right-color: var(--fill-color);\n",
              "      border-top-color: var(--fill-color);\n",
              "    }\n",
              "    60% {\n",
              "      border-color: transparent;\n",
              "      border-right-color: var(--fill-color);\n",
              "    }\n",
              "    80% {\n",
              "      border-color: transparent;\n",
              "      border-right-color: var(--fill-color);\n",
              "      border-bottom-color: var(--fill-color);\n",
              "    }\n",
              "    90% {\n",
              "      border-color: transparent;\n",
              "      border-bottom-color: var(--fill-color);\n",
              "    }\n",
              "  }\n",
              "</style>\n",
              "\n",
              "  <script>\n",
              "    async function quickchart(key) {\n",
              "      const quickchartButtonEl =\n",
              "        document.querySelector('#' + key + ' button');\n",
              "      quickchartButtonEl.disabled = true;  // To prevent multiple clicks.\n",
              "      quickchartButtonEl.classList.add('colab-df-spinner');\n",
              "      try {\n",
              "        const charts = await google.colab.kernel.invokeFunction(\n",
              "            'suggestCharts', [key], {});\n",
              "      } catch (error) {\n",
              "        console.error('Error during call to suggestCharts:', error);\n",
              "      }\n",
              "      quickchartButtonEl.classList.remove('colab-df-spinner');\n",
              "      quickchartButtonEl.classList.add('colab-df-quickchart-complete');\n",
              "    }\n",
              "    (() => {\n",
              "      let quickchartButtonEl =\n",
              "        document.querySelector('#df-e84e8710-9fa2-4a6c-b7bf-57553b826e79 button');\n",
              "      quickchartButtonEl.style.display =\n",
              "        google.colab.kernel.accessAllowed ? 'block' : 'none';\n",
              "    })();\n",
              "  </script>\n",
              "</div>\n",
              "\n",
              "  <div id=\"id_0f3d32e6-bf99-4deb-92f5-b4f8a2e77544\">\n",
              "    <style>\n",
              "      .colab-df-generate {\n",
              "        background-color: #E8F0FE;\n",
              "        border: none;\n",
              "        border-radius: 50%;\n",
              "        cursor: pointer;\n",
              "        display: none;\n",
              "        fill: #1967D2;\n",
              "        height: 32px;\n",
              "        padding: 0 0 0 0;\n",
              "        width: 32px;\n",
              "      }\n",
              "\n",
              "      .colab-df-generate:hover {\n",
              "        background-color: #E2EBFA;\n",
              "        box-shadow: 0px 1px 2px rgba(60, 64, 67, 0.3), 0px 1px 3px 1px rgba(60, 64, 67, 0.15);\n",
              "        fill: #174EA6;\n",
              "      }\n",
              "\n",
              "      [theme=dark] .colab-df-generate {\n",
              "        background-color: #3B4455;\n",
              "        fill: #D2E3FC;\n",
              "      }\n",
              "\n",
              "      [theme=dark] .colab-df-generate:hover {\n",
              "        background-color: #434B5C;\n",
              "        box-shadow: 0px 1px 3px 1px rgba(0, 0, 0, 0.15);\n",
              "        filter: drop-shadow(0px 1px 2px rgba(0, 0, 0, 0.3));\n",
              "        fill: #FFFFFF;\n",
              "      }\n",
              "    </style>\n",
              "    <button class=\"colab-df-generate\" onclick=\"generateWithVariable('peliculas')\"\n",
              "            title=\"Generate code using this dataframe.\"\n",
              "            style=\"display:none;\">\n",
              "\n",
              "  <svg xmlns=\"http://www.w3.org/2000/svg\" height=\"24px\"viewBox=\"0 0 24 24\"\n",
              "       width=\"24px\">\n",
              "    <path d=\"M7,19H8.4L18.45,9,17,7.55,7,17.6ZM5,21V16.75L18.45,3.32a2,2,0,0,1,2.83,0l1.4,1.43a1.91,1.91,0,0,1,.58,1.4,1.91,1.91,0,0,1-.58,1.4L9.25,21ZM18.45,9,17,7.55Zm-12,3A5.31,5.31,0,0,0,4.9,8.1,5.31,5.31,0,0,0,1,6.5,5.31,5.31,0,0,0,4.9,4.9,5.31,5.31,0,0,0,6.5,1,5.31,5.31,0,0,0,8.1,4.9,5.31,5.31,0,0,0,12,6.5,5.46,5.46,0,0,0,6.5,12Z\"/>\n",
              "  </svg>\n",
              "    </button>\n",
              "    <script>\n",
              "      (() => {\n",
              "      const buttonEl =\n",
              "        document.querySelector('#id_0f3d32e6-bf99-4deb-92f5-b4f8a2e77544 button.colab-df-generate');\n",
              "      buttonEl.style.display =\n",
              "        google.colab.kernel.accessAllowed ? 'block' : 'none';\n",
              "\n",
              "      buttonEl.onclick = () => {\n",
              "        google.colab.notebook.generateWithVariable('peliculas');\n",
              "      }\n",
              "      })();\n",
              "    </script>\n",
              "  </div>\n",
              "\n",
              "    </div>\n",
              "  </div>\n"
            ],
            "application/vnd.google.colaboratory.intrinsic+json": {
              "type": "dataframe",
              "variable_name": "peliculas"
            }
          },
          "metadata": {},
          "execution_count": 191
        }
      ],
      "source": [
        "peliculas"
      ]
    },
    {
      "cell_type": "markdown",
      "source": [
        "## BBDD de grafos"
      ],
      "metadata": {
        "id": "v7Co8BQ5H0cl"
      }
    },
    {
      "cell_type": "code",
      "source": [
        "!pip install networkx"
      ],
      "metadata": {
        "id": "I-O_4pdnK9og",
        "colab": {
          "base_uri": "https://localhost:8080/"
        },
        "outputId": "ae3a8072-e09b-4580-f561-67bd63b59041"
      },
      "execution_count": 192,
      "outputs": [
        {
          "output_type": "stream",
          "name": "stdout",
          "text": [
            "Requirement already satisfied: networkx in /usr/local/lib/python3.10/dist-packages (3.3)\n"
          ]
        }
      ]
    },
    {
      "cell_type": "code",
      "source": [
        "import networkx as nx\n",
        "import matplotlib.pyplot as plt"
      ],
      "metadata": {
        "id": "vbtd4lKuH2j2"
      },
      "execution_count": 193,
      "outputs": []
    },
    {
      "cell_type": "code",
      "source": [
        "#G = nx.Graph() #Creo un grafo vacío\n",
        "G = nx.DiGraph()"
      ],
      "metadata": {
        "id": "CmWpT1Vq8sBh"
      },
      "execution_count": 194,
      "outputs": []
    },
    {
      "cell_type": "code",
      "source": [
        "# Agregar nodos al grafo desde el diccionario de personajes\n",
        "G.add_nodes_from(informacionDeLosPersonajes.items())"
      ],
      "metadata": {
        "id": "3WUxQvkK9YAJ"
      },
      "execution_count": 195,
      "outputs": []
    },
    {
      "cell_type": "code",
      "source": [
        "# Ver los nodos\n",
        "print(\"Atributos de los nodos:\")\n",
        "for nodo, atributos in G.nodes(data=True):\n",
        "    print(f\"Nodo: {nodo}, Atributos: {atributos}\")"
      ],
      "metadata": {
        "colab": {
          "base_uri": "https://localhost:8080/"
        },
        "id": "l6eS5a9n-PYj",
        "outputId": "b112881f-980a-4f7b-ae16-da4c511c4ab8"
      },
      "execution_count": 196,
      "outputs": [
        {
          "output_type": "stream",
          "name": "stdout",
          "text": [
            "Atributos de los nodos:\n",
            "Nodo: Ryoji Kaji, Atributos: {'Ryoji Kaji': '加持 リョウジ', 'Edad': '30 años', 'Sexo': 'Masculino', 'Primera aparición': 'Asuka llega a Japón [NGE]  Invitado indeseado [Manga]  Evangelion: 2.0 [RB]', 'Seiyū': 'Kōichi Yamadera', 'Doblador Latino': 'Enrique Cervantes  Gerardo García  Luis Tenorio', 'Doblador en España': 'José Luis Mediavilla', 'Resumen': 'Ryouji Kaji (加持 リョウジ, ,  Kaji Ryōji ?) es un personaje relevante en la franquicia Evangelion.\\nKaji parece ser un triple agente, que trabaja como inspector especial para NERV, pero secretamente realiza una investigación detallada sobre la organización, cumpliendo la peligrosa tarea de espía encubierto.\\nLa mayor parte del tiempo Kaji es muy tranquilo y jovial, permaneciendo siempre fresco. Él es muy sereno y mantiene su particular sentido del humor, incluso en momentos de crisis. También coquetea descaradamente con sus compañeras de trabajo, actitud que despierta la ira de Misato Katsuragi.\\nA pesar de su imagen pública irresponsable, Kaji demuestra un gran nivel de responsabilidad personal y una gran sabiduría en lo referente al mundo y las interacciones personales de los demás.\\nÉl actúa como una figura paterna para Asuka y Shinji, especialmente para este último. Asuka dice estar enamorada de él; sin embargo, Kaji la evita fríamente y en repetidas ocasiones rechaza sus sentimientos, diciéndole que debería buscar a otros chicos de su edad.\\nTambién, ofrece consejos a Shinji y trata de ayudarlo a comprender la naturaleza de la dinámica social. Pero detrás de todo esto, Kaji parece ser un individuo muy melancólico y solitario, lleno de dudas sobre su propia sinceridad y sentimientos.\\nTiene un lado filosófico que se inclina hacia el pesimismo sobre la interacción humana, pero también de apoyo a la capacidad del individuo para actuar. Desde el punto de vista de Kaji, las personas realmente no pueden comprenderse a sí mismas, tal vez ni siquiera entre sí, y comprender completamente a las personas es imposible.\\nKaji tiene un pequeño huerto de sandías situado cerca de la pirámide del GeoFront. En una ocasión, lleva a Shinji y le muestra su huerto, el cual parece ser un secreto. Luego, le comenta a Shinji que él disfruta cuidar sus sandías y le explica lo mucho que se puede aprender al cuidar y nutrir algo. Finalmente, Kaji le dice que conocer el dolor permite ser amable con los demás, y esa amabilidad no es lo mismo que debilidad.\\nDurante la serie, las únicas veces - incluyendo su muerte - en que Kaji parece verdaderamente sincero son sus discusiones filosóficas con Shinji y su conversación con Misato en el episodio 15.\\nSegún se comenta, Kaji trabaja para el Ministerio del Interior, y a veces, actúa a favor y en contra de Gendo Ikari y SEELE. Pues trajo de contrabando el embrión de Adán recuperado de la Antártida, para luego ingresar en el cuartel de NERV y entregarlo a Gendo. Este hecho es ignorado por SEELE.\\nTambién investiga NERV, lo cual puede llegar a perjudicar a Gendo. Además, parece mantener motivaciones personales más allá de la simple lealtad a cualquier organización, hablando con frecuencia de su deseo de \"encontrar la verdad\". Todo esto convierte a Kaji en un personaje muy misterioso.\\nVivió una relación amorosa con Misato Katsuragi que empezó cuando aun estaban en la universidad. Ahí conocieron a Ritsuko, los tres son buenos amigos.\\nEn un determinado momento, SEELE ordena a Kaji raptar al Vice Comandante Kozo Fuyutsuki para interrogarlo, debido las crecientes dudas que abrigan respecto de las verdaderas intenciones de Gendo Ikari. Sin embargo, es el mismo Kaji quien lo libera de las garras de SEELE, para finalmente morir tras recibir un disparo de bala. La identidad de su asesino es todavía un misterio.\\nMisato y Kaji eran amantes en la universidad. Sin embargo, ella rompió la relación después de darse cuenta que Kaji se parecía a su padre. Ambos no se vuelven a ver hasta que Kaji regresa a Japón junto con Asuka y el Evangelion Unidad 02.\\nDurante el transcurso de la serie, la relación de Kaji con Misato sufrió numerosos altibajos, ya que al principio ella lo rechazaba. Tiempo después, en el episodio 15 ella le confiesa los motivos que la habían llevado a cortar en el pasado. Finalmente, ambos comienzan a llevarse mejor y poco a poco retoman su relación.\\nTiempo después, cuando Kaji se dio cuenta que rescatar a Fuyutsuki de SEELE sería su última misión, dejó un mensaje para Misato en el contestador automático diciendo: \"Si vuelvo a verte, te diré las palabras que no pude decirte hace ocho años\".\\nEn el manga, es Kaji quien rompe la relación con Misato, pues los eventos de su pasado generaron un sentimiento de culpa en él. Sintiéndose no merecedor del afecto de Misato, llevando a romper la relación con ella.\\nEn sus primeras apariciones en la serie se denota que Asuka está enamorada de su tutor Kaji, aunque la enorme diferencia de edad hace imposible cualquier relación entre ellos. Kaji suele recordárselo en ocasiones, como cuando dijo \"En Japón vas a tener muchos pretendientes... Me han dicho que el Tercer Niño es un chico\", aunque ella lo rechaza de pleno aún sin conocerlo. Después de la muerte de Kaji, como Misato no se lo dice a Asuka, ésta suele acusarla de ser ella la elegida por Kaji, hiriendo sus sentimientos sin saberlo.\\nDespués de que Misato conociera a Kaji, se convirtió en parte del pequeño grupo de amigos que incluía a Ritsuko. Aunque ella desaprueba su naturaleza despreocupada y \"frívola\", cuando Kaji regresa a sus vidas años después, Ritsuko es cálida y receptiva a él. A pesar de esto, Kaji parece representar la competencia por el afecto de Misato.\\nEsto se acentúa en el\\xa0episodio 20, cuando Misato rechaza la oportunidad de tomar una copa con Ritsuko para reunirse con Kaji, dejando a Ritsuko sola. Para entonces, las grietas en su amistad con Misato son muy evidentes. Mientras que Kaji nunca mostró ninguna hostilidad abierta hacia ella, él era consciente de la participación de Ritsuko en el\\xa0Proyecto de Complementación Humana\\xa0y el Proyecto E.\\nRyoji Kaji junto a Misato.\\nEn el manga, la personalidad e historia de Kaji se mantienen, con algunas ligeras alteraciones. La charla de Misato con Kaji en la que ella le confiesa que le recordaba a su padre, no sucede en una boda, en cambio, sucede en una fiesta hecha para celebrar el ascenso de Misato y la mudanza de Asuka.\\nAdemás, el manga explica detalles específicos sobre su pasado que jamás son mencionados en el anime. Kaji tenía 14 años cuando ocurrió el Segundo Impacto. La situación era terrible, las ciudades estaban destruidas, las personas no tenían un lugar dónde vivir, y había escasez de alimentos. Sus padres habían muerto, y el joven Kaji debía proteger a su hermano menor.\\nEn ese entonces, muchos chicos habían perdido a sus padres. Por esa razón, el gobierno decidió reunirlos en orfanatos. Había miles de huérfanos, las instalaciones estaban llenas y los alimentos eran insuficientes. Ante ésta situación, Kaji y su hermano, junto a otros cinco jóvenes, escaparon del orfanato y formaron una pequeña pandilla. Por casualidad, encontraron una bodega con provisiones del ejército y empezaron a robarles los alimentos.\\nLamentablemente, sus delitos los llevaron a un desenlace trágico. Kaji fue capturado por un grupo de soldados, los cuales lo golpearon salvajemente y lo amenazaron a punta de pistola, exigiéndole que revelara la ubicación de sus amigos. Kaji tenía miedo de morir, y su cobardía lo llevó a traicionarlos.\\nEntonces, varios soldados partieron a buscarlos inmediatamente. Luego, Kaji escapó y fue corriendo para ayudarlos, pero cuando llegó encontró a su hermano y sus amigos muertos. Estos hechos le generaron una gran angustia.\\nEn el capítulo 33 del manga, Kaji aparece con su automóvil convertible Lotus Elan 1600. En una ocasión, Kaji lleva a Shinji a un acuario, y estando allí le cuenta parte de su investigación, generando una fuerte conmoción en el joven Ikari. Kaji le dice a Shinji que Gendo está siendo respaldado por una antigua organización llamada SEELE, y que tanto Gendo como SEELE tienen agendas más allá de derrotar a los Ángeles. Tiempo después, durante el ataque de Zeruel, Kaji revela a Shinji su pasado y motivaciones personales, con la intención de alentarle a seguir adelante.\\nFinalmente, Kaji muere luego de haber rescatado al Vice Comandante Fuyutsuki de las garras de SEELE. En la versión manga de la escena de la muerte de Kaji, se lo retrata como si ya estuviera herido, y en lugar de decir: \"¡Hola, llegas tarde!\", dice \"Intenta apuntar mejor esta vez\".\\nEn el manga es asesinado por un hombre de guantes, lo que implica que Gendo podría ser el culpable. Luego de recibir el disparo final, la escena continúa. Kaji ve a su antigua pandilla viniendo por él. Esta escena sugiere su participación en la Instrumentalidad.\\nEn Rebuild of Evangelion, Ryoji Kaji es un personaje secundario y su rol es casi idéntico al que vemos en la serie de televisión. Desafortunadamente, los sentimientos internos de Kaji no han sido explorados en profundidad.\\nKaji aparece por primera vez en Evangelion: 2.0 You Can (Not) Advance, aparentemente como un contacto de Mari Illustrious Makinami en la Base Betania. Una vez llega a la base de NERV, Kaji le entrega a Gendo Ikari el maletín que contiene la llave de Nabucodonosor.\\nSu rol es prácticamente el mismo que en la serie, aunque parece ser aún más coqueto, incluso hacia Shinji. Quien de manera seductora le invita una bebida a el, fingiendo el quererle robar un beso, terminando con Shinji gritando por la situación en el que se encontraba.\\nKaji sospecha de NERV e investiga sus acciones. La desaparición del Evangelion Unidad 04 es para él muy sospechosa y comparte cierta información con Misato. En la etapa final de la película, Kaji da consejos a Shinji, quien decide salvar a Rei Ayanami. Durante el Casi Tercer Impacto, Ryoji parece entender las implicaciones del evento, mencionando que la organización SEELE no va a estar contenta con este resultado.\\nEn los avances que mostraban el contenido que saldría en Evangelion: 3.0 You Can (Not) Redo, Kaji parecía estar muy agitado, apuntándole a alguien con un arma. Sin embargo nada de esto ocurre en el filme, ya que se realizó un timeskip 14 de años. En este apocalíptico mundo futuro, Kaji sólo es mencionado por un miembro de WILLE llamado Koji Takao.\\nEn Evangelion: 3.0+1.0 Thrice Upon A Time, se revela que Kaji falleció. Sin embargo, tuvo un hijo con Misato, que lleva su nombre. Kensuke explica que \"alguien tuvo que ser sacrificado para detener el Tercer Impacto\", y Kaji se ofreció como voluntario, con el consentimiento de Misato. Kensuke introduce a Shinji en la vida diaria de los supervivientes que viven en la Villa 3, y también le presenta al hijo de Misato y Kaji.\\nEn el contexto de la Instrumentalidad, se revela que Kaji dedicó tiempo a entablar conexiones con Kaworu Nagisa. Kaji le menciona a Kaworu que su determinación de hacer a Shinji feliz era solamente la búsqueda su propia felicidad a través de la felicidad de Shinji. Cuando Shinji lo libera, Kaji le propone a Kaworu que vaya a la granja con su hijo.\\nEn ANIMA, Ryoji tiene un papel importante en detener el Proyecto de Complementación Humana. En esta continuidad, Kaji no es asesinado y divulga el plan de ataque de los EVAs de Producción en Masa a NERV. Esto permitió que la organización se preparase y consiguiera derrotarlos. Luego persigue a SEELE, pero cae en una trampa que lo lleva a un lavado de cerebro. Pilotó el Evangelion Unit-0.0 después de que Rei Quatre desertó.\\nEn Neon Genesis Evangelion: Gakuen Datenroku, Ryoji es el tutor de Shinji. Es un periodista y fotógrafo que está subordinado al padre de Shinji. Parece conocer a Kaworu Nagisa antes de conocerse por primera vez, y también tiene vínculos con Misato Katsuragi. Desaprueba los paseos nocturnos de Shinji, especialmente dadas las recientes desapariciones.\\nEn Neon Genesis Evangelion: Angelic Days, Ryoji Kaji trabaja para NERV. También asiste a la universidad de Tokio-3 para la gran felicidad de Asuka quien lo aprecia mucho. A pedido de Misato Katsuragi, investiga el pasado de Kaworu Nagisa, que parece ser una página en blanco.\\n\\n'}\n",
            "Nodo: Keel Lorenz, Atributos: {'Keel Lorenz': 'キール・ローレンツ', 'Afiliación': 'SEELE', 'Edad': 'Desconocida', 'Sexo': 'Masculino', 'Primera aparición': 'Un techo desconocido [NGE]  Llanto [Manga]  Evangelion: 1.0 [RB]', 'Seiyū': 'Mugihito', 'Doblador Latino': \"Esteban Siller  Pedro D'Aguillón Jr.  Carlos Becerril  Carlos Águila  Román Abreo\", 'Resumen': 'Keel Lorenz (キール・ローレンツ, ,  Keel Lorenz ?) es el enigmático líder de la misteriosa organización\\xa0SEELE.\\nPoco se sabe de la organización SEELE, y aun menos de su líder, el enigmático presidente Keel, quien también se desempeña como jefe del comité del Proyecto de Complementación Humana.\\nDicho Comité es un sub grupo formado por 5 hombres de SEELE que supervisa directamente el progreso del Proyecto Evangelion de NERV, así como el correcto desarrollo del Proyecto de Complementación Humana.\\nSe sabe con certeza que Keel es un miembro activo de SEELE y jugó un papel importante en manipular la información sobre el Segundo Impacto. Colaboró junto a Gendo Ikari en las Naciones Unidas, en el encubrimiento de la verdadera naturaleza del desastre, el origen de Adán y los datos de la Expedición Katsuragi. A través de SEELE, Keel apoyaba secretamente a GEHIRN\\xa0y más tarde a la organización sucesora, NERV.\\nEn algún punto entre el Segundo Impacto y el año 2015, la mayor parte del cuerpo de Keel fue sustituido por implantes cibernéticos. Aunque Keel utiliza un visor para ver, aún conserva sus ojos humanos (como es indicado por los dibujos de producción). Cuando los componentes orgánicos de su cuerpo se convirtieron en LCL, los complementos restantes quedaron atrás, y al parecer incluían parte de su columna vertebral.\\nEn el manga, su rol es prácticamente el mismo que en la serie.\\nEn la tetralogía de Rebuild of Evangelion, Keel Lorenz nunca aparece físicamente. Sin embargo, su voz es claramente reconocible en el monolito 01 que habla con Gendo Ikari, representando la voluntad de SEELE.\\nA pesar de que no cuenta con una gran participación dentro de esta serie de novelas se muestra que su visor permite al usuario obtener las memorias de los miembros anteriores de Seele, gracias a esto Kaji se convirtió en el miembro mas nuevo de esta organización.\\n\\n'}\n",
            "Nodo: Misato Katsuragi, Atributos: {'Misato Katsuragi': '葛城 ミサト', 'Edad': '29 años  32 años (Evangelion ANIMA)  43 años (3.0)', 'Sexo': 'Femenino', 'Familia': 'Dr. Katsuragi (padre fallecido)  Pen Pen (mascota)  Tutora de Shinji Ikari y Asuka Langley Soryu', 'Primera aparición': 'El ataque del Ángel [NGE]  El ataque del Ángel [Manga]  Evangelion: 1.0 [RB]', 'Seiyū': 'Kotono Mitsuishi', 'Doblador Latino': 'Toni Rodríguez (†)  Marisol Romero  Yanelly Sandoval  Vivian Magos', 'Doblador en España': 'María Moscardó  Olga Velasco  Carmen Calvell', 'Resumen': 'Misato Katsuragi (葛城 ミサト, ,  Katsuragi Misato ?) es uno de los personajes principales de Neon Genesis Evangelion.\\nElla está al mando de las operaciones tácticas en la organización NERV, siendo responsable de coordinar las Unidades Evangelion en combate contra los Ángeles, ocupando el cargo de capitán. Más tarde es ascendida al rango de mayor.\\nEs la hija del Dr. Katsuragi, y fue la única sobreviviente del Segundo Impacto. En el año 2015 fue la instructora de Shinji Ikari, Rei Ayanami y Asuka Langley Soryu, los respectivos pilotos de las unidades Evangelion.\\nMisato es de carácter ocurrente, extrovertida y relajada. Refleja una actitud despreocupada la mayor parte del tiempo, comportándose de manera infantil e inmadura en ocasiones. Es pésima cocinando por lo que recurre a comida instantánea. Además, es propensa a emborracharse y a dejar su apartamento desordenado.\\nGeneralmente Misato se comporta muy alegre y optimista, siendo seductora en algunas ocasiones. También es una mujer inteligente, siendo muy profesional en el trabajo. Ella lidera las operaciones tácticas de la organización con gran destreza. Cuando la situación lo demanda, Misato exhibe notables habilidades tanto en la planificación como en la improvisación de tácticas militares (tal como vemos en la Operación Yashima).\\nMisato está capacitada para asumir el mando durante la ausencia del comandante Gendo Ikari, y ha demostrado su capacidad para tomar decisiones correctas bajo situaciones extremas. Su espontaneidad y genio estratégico es evidente durante los ataques de los Ángeles. Gracias a estas capacidades, NERV ha logrado superar amenazas de gran magnitud como lo fueron Ramiel y Sahaquiel.\\nA veces utiliza métodos poco ortodoxos para alcanzar los objetivos deseados, siendo un buen ejemplo la operación para matar a Gaghiel, que consistía en hacer que el ángel engullera dos acorazados, gracias a que la Unidad-02 abriría sus fauces, para luego disparar todos los cañones contra su núcleo, situado en el centro de la boca.\\nMisato es una persona muy noble, de gran corazón y bondad, pero que se siente sola y triste debido a los acontecimientos que le sucedieron en su pasado (la muerte de su padre en el Segundo Impacto). Durante la serie se ve que trata de ocultar su soledad tras una máscara de alegría y sonrisas.\\nOtra característica de Misato es que siempre busca la compañía de los hombres. Conoce su atractivo físico y se comporta muy seductora con los hombres; hay quienes afirman que Misato es muy abierta en el sexo, siendo demasiado extrovertida en ocasiones, ya que se vale mucho de las insinuaciones para atraer a los hombres. En uno de los episodios finales ella menciona que le gusta hacer esto, ser provocativa con los hombres, en sus propias palabras, le gusta \"sentirse sucia\".\\nEn realidad, ella lo hace para así huir de la soledad (su mayor miedo y al cual tiene pavor) y encontrar la compañía ideal (el \"padre\" que nunca tuvo, Misato es conocida por padecer lo que se conoce como el Complejo de Electra: una especie de fijación obsesiva hacia la figura paterna por parte de la hija). Este problema nació debido a la personalidad de su padre, quien estaba obsesionado con su investigación y descuidaba a su familia.\\nMisato siendo salvada por su padre.\\nA pesar de eso, la joven Misato lo acompañó durante la expedición científica a la Antártida. Momentos antes del Segundo Impacto, el Dr. Katsuragi utilizó sus últimas fuerzas para llevar a su hija a una cápsula de salvamento.\\nElla fue la única sobreviviente, lo cual intensificó su trauma. En un principio ella encontró compañía en Kaji, del cual se separó irónicamente por ser \"demasiado parecido a su padre\", y después la vería en Shinji, con el cual vio cierta identificación.\\nEl \"beso de adultos\" que Misato da a Shinji durante The End of Evangelion es interpretado de diversas formas por los fans. Para algunos, el beso fue un incentivo para darle valor al joven, mientras que para otros fue como la declaración de su amor hacia Shinji. Según otras hipótesis no aclaradas por Hideaki Anno, son ambas cosas a la vez. Esa faceta de la personalidad de Misato, una especie de dualidad, es un rasgo de su carácter que la distingue.\\nMisato es una adulta japonesa de 29 años de edad. Tiene tez clara, estatura mediana de 1.63 cm y complexión delgada. Posee cabello ondulado azul añil (a veces representado como morado oscuro) y ojos color café oscuro. En la serie, se le considera como una adulta con gran atractivo físico, la cual llama la atención gracias a su personalidad seductora y coqueta.\\nSiempre usa una chaqueta roja holgada con un vestido corto sin mangas de cuello alto y botas marrones. Aparece la mayor parte del tiempo usando un collar que tiene una cruz, el cual conserva desde niña. A lo largo de la serie, Misato usa diversas vestimentas, las cuales varían según la situación. Entre ellas destaca el uniforme de NERV destinado a reuniones formales, y su ropa casual para estar en casa.\\nEn Evangelion: 3.0 You Can (Not) Redo, Misato aparece con el cabello recogido en una cola de caballo y una gorra roja. Usa un abrigo rojo granate de botones, además de poseer rasgos más agudos en sus facciones.\\nNacida el 08 de Diciembre de 1986, Misato es hija del prestigioso Dr. Katsuragi, quien estuvo al mando de la expedición científica que viajó a la Antártida en el año del Segundo Impacto.\\nMisato es la única sobreviviente de los que estuvieron allí durante tal hecho. Fue salvada por su padre, que la introdujo en una cápsula de salvamento. Debido a esto, quedó traumatizada y durante dos años padeció afasia (pérdida del habla). Tras superar la afasia alimentó un fuerte deseo de vengar a su padre y destruir a los Ángeles.\\nSiempre lleva una cruz blanca colgada en el cuello que le dejó su padre antes de morir. Aunque Misato lo odiaba porque siempre estuvo demasiado ocupado con su trabajo para dedicarles tiempo a ella y a su madre, su sacrificio cambió su forma de verlo. De hecho, la cruz que siempre lleva le recuerda esto y cuál es su misión en la vida.\\nMisato estudió en la Universidad de Kioto. Allí conoció a Ritsuko Akagi, quien se volvería su mejor amiga, y a Ryoji Kaji, quien después sería su amante. Su relación con este último fue tan apasionada que llegaron a faltar a las clases durante una semana para mantener relaciones sexuales. Sin embargo, Misato rompió su relación con él después de darse cuenta del excesivo parecido entre Kaji y su padre.\\nLuego de graduarse, Misato se unió a NERV y estuvo un tiempo trabajando en la rama de Alemania, donde conoció a Asuka Langley Soryu. Finalmente, fue transferida a Japón y asignada como jefa de operaciones del cuartel general de NERV. Su trabajo consistiría en elaborar estrategias para acabar con los Ángeles.\\nDurante el episodio 01, Misato es la encargada de recoger a Shinji Ikari cuando llega a Tokio-3, al cual salva de morir cuando aparece Sachiel. En la base de NERV, Shinji se entera de los verdaderos motivos de su padre: designarlo como piloto del Evangelion Unidad 01.\\nAnte la negativa de Shinji, Misato intenta convencerlo de que enfrente a su padre. A bordo del Evangelion, Shinji es dejado inconsciente al poco tiempo de comenzar la batalla, pero súbitamente el EVA entra en modo berserk, actúa por sí mismo y destruye al ángel.\\nPoco después de la derrota del ángel, Misato se entera que Shinji vivirá solo. Ella no está de acuerdo con esta decisión y se lleva a Shinji a vivir a su apartamento. Su relación es complicada al inicio debido al carácter introvertido del joven y al comportamiento desinhibido de Misato.\\nMisato bebiendo cerveza.\\nSu afición por la cerveza es notable y su apartamento siempre está desordenado. A pesar de eso, con el tiempo se vuelve una gran amiga de Shinji, encargándose de su cuidado después de ver la pésima relación entre el chico y su padre.\\nVarias semanas más tarde, Shinji comienza a asistir a la escuela, donde conoce a Toji, Kensuke y Hikari. Poco después, el ángel Shamshel ataca, y Shinji pilota la Unidad-01 una vez más. Durante la batalla, el cable umbilical es cortado, y la Unidad-01 opera con límite de energía.\\nShinji desobedece la orden de retirada de Misato, y ataca a Shamshel con su cuchillo progresivo, corriendo un riesgo innecesario y derrotándolo de milagro. Debido a esto, ella lo regaña severamente y Shinji decide escapar de casa.\\nLos agentes del Departamento de Inteligencia de NERV lo encuentran y lo llevan a NERV. Luego de hablar con Misato sin llegar a un acuerdo, el joven Ikari decide irse. En la estación se encuentra con Toji y Kensuke, que habían anticipado su partida y fueron a despedirse. Después de esta reunión, Shinji se da cuenta que ahora tiene dos nuevos amigos. Finalmente, Misato logra entender sus sentimientos, logrando que el chico se quede.\\nEn el episodio 06, Misato fue el cerebro detrás de la llamada \"Operación Yashima\", ideada para derrotar al inexpugnable ángel Ramiel. Durante la misma la Unidad-01 dispararía el rifle de positrones, mientras la Unidad-00 le proporcionaría protección con un escudo electromagnético. Dicha operación fue un éxito y el ángel fue destruido.\\nEl Evangelion 01 lleva a Misato en su mano.\\nEn el episodio 07, Misato asiste a la exhibición de una nueva unidad robótica llamada Jet Alone, que podría reemplazar a los EVAs. Cuando comienza la prueba de activación todo parecía marchar bien. Pero repentinamente el robot se sale de control y avanza a gran velocidad con destino a Atsugi.\\nMisato decide actuar, argumentando que su conciencia no le dejaría tranquila si no hiciera algo. Ante esta situación, Shinji debe llevar a Misato al Jet Alone, para que ella pueda desactivar su reactor y conseguir detenerle.\\nEn el episodio 08, Misato lleva a Shinji, Toji, Kensuke al convoy naval de las Naciones Unidas encargado de transportar al Evangelion Unidad 02, pilotada por Asuka Langley Soryu. Allí, Misato se reencontraría de forma inesperada con Ryoji Kaji. En un inesperado combate, el ángel Gaghiel ataca a la flota, pero es destruido por Shinji y Asuka a bordo de la Unidad-02 gracias a un arriesgado plan ideado por Misato.\\nMisato se sorprende al ver la separación del ángel.\\nTiempo después, aparece el siguiente ángel. Tras salir del mar, Israfel se encontró con Asuka y Shinji. Desafiando las órdenes de actuar junto a su compañero, Asuka atacó al ángel y lo partió en dos. Para sorpresa de todos, Israfel se separó en dos ángeles idénticos y venció a ambos EVA con facilidad.\\nPara vencer a Israfel, Misato ideó un plan que requería la participación de ambos EVAs trabajando en perfecta sincronía. Misato prepara a Shinji y Asuka para la batalla haciendo que vivan juntos, con el fin de lograr la armonía perfecta. Ambos jóvenes están molestos por esta idea, pero no pueden evitarlo. Israfel fue finalmente eliminado por la acción sincronizada de Asuka y Shinji, dirigida mediante música y memorización de movimientos.\\nEn el episodio 10, el Instituto de Investigaciones Sismológicas descubre una misteriosa mancha en las profundidades del cráter del Monte Asama. Debido a esto, Misato fue a dirigir la investigación, la cual se llevaba a cabo por medio de la sonda Extreme Point Scanner.\\nMisato dirigiendo la investigación.\\nSumergida a una gran profundidad, la sonda alcanzó su límite. Misato le ordenó a Hyuga que iniciara un análisis, identificando muy vagamente la crisálida de Sandalphon. Al ver los resultados, Misato solicitó una orden A-17 al comandante Gendo Ikari.\\nLa operación consiste en atrapar al ángel con vida. La Unidad-02 fue enviada a capturar a Sandalphon con una jaula electromagnética especial. Durante la operación, el ángel despertó y destruyó fácilmente la jaula. Luego, Misato ordenó la destrucción inmediata del ángel y la Unidad-02 completó con éxito la operación.\\nEn el episodio 12, Misato es ascendida al grado de Mayor debido a sus logros en las operaciones de combate, y Kensuke le organiza una fiesta para celebrarlo. Durante la fiesta, Shinji charla con Misato y le pregunta sobre su motivación para unirse a NERV. Ella inicialmente evade la pregunta, pero más tarde decide contarle la verdad.\\nPoco tiempo después, Sahaquiel ataca cayendo desde el espacio, y Misato realiza un arriesgado plan en el que Shinji, Asuka y Rei deben cooperar. La idea es impedir que el ángel colisione, capturándolo con las manos desnudas y desplegando los campos AT de los tres EVAs al máximo.\\nShinji es el primero en llegar al punto de caída, y con ayuda de Rei consiguen romper el campo AT, exponiendo el núcleo para que luego Asuka lo destruya, matando así al ángel.\\nEn el episodio 15, Misato va a una boda con Kaji y Ritsuko. Por la noche, Kaji decide acompañar a Misato hasta su casa. En el trayecto, ella le revela sus sentimientos y se disculpa por haber hecho que su relación fracasara.\\nAl día siguiente, Kaji intenta entrar a una zona restringida de NERV, pero Misato lo sorprende y le apunta con una pistola. Él le muestra entonces lo que hay detrás de esa puerta, un gigantesco ser humanoide crucificado. Luego de ver esto, Misato empieza a descubrir los secretos de NERV y las manipulaciones de Gendo Ikari y SEELE.\\nEVA-01 siendo absorbido por el Mar de Dirac.\\nTiempo después, cuando el ángel Leliel aparece y absorbe al EVA-01, se puede apreciar la preocupación de Misato por Shinji. Aparentemente, al EVA le es imposible escapar del Mar de Dirac, y se prepara un arriesgado plan para rescatarlo.\\nEsa noche, Misato tiene una fuerte discusión con Ritsuko debido a que el plan de rescate pone en peligro la vida de Shinji. Sin embargo, dicho plan nunca se llevó a cabo, ya que la Unidad-01 entró en modo berserk y destruyó al ángel desde el interior.\\nEn el episodio 17, el Evangelion Unidad 04 se desvanece en un misterioso accidente junto con la Segunda Rama de NERV, y el Evangelion Unidad 03 es enviado a Japón, siendo Toji Suzuhara el encargado de pilotarlo. Misato intenta decirle a Shinji que Toji fue seleccionado para ser el Fourth Children, pero no lo consigue por la repentina interrupción de Kensuke.\\nShinji y Asuka se quedan al cuidado de Kaji mientras Misato va a supervisar la prueba de activación en la Base de Matsushiro. La prueba parecía marchar bien al principio; sin embargo, el EVA es poseído por el ángel Bardiel.\\nAl ver que su oponente es un EVA, Shinji se niega a luchar. Entonces, Gendo activa un método de teledirección llamado Dummy Plug y destroza al ángel. Shinji sufre un gran shock cuando descubre la identidad del piloto y Misato lamenta profundamente no habérselo dicho a tiempo.\\nPoco después, el ángel Zeruel comienza su asalto, destruyendo las defensas de Tokio-3 sin dificultades. Las unidades 00 y 02 son fácilmente derrotadas y el ángel penetra en el Dogma Central. Cuando todo parecía perdido, Misato y los demás son salvados por la Unidad-01 pilotada por Shinji, la cual se enfrenta cuerpo a cuerpo con el poderoso ángel, pero se queda sin energía en el momento menos deseado. Aprovechando la oportunidad, Zeruel procede a tratar de destruirla. Sin embargo, el EVA se reactiva y entra en modo berserk, derrotando fácilmente al ángel.\\nMisato llorando.\\nDespués del combate con Zeruel, Shinji fue absorbido dentro del EVA. En el exterior, Misato y Ritsuko intentan salvar el alma de Shinji, tratando de regresarla a su cuerpo. A pesar de sus esfuerzos, el experimento sale mal. Misato llega a gritar (creyendo muerto al chico) \"Devuélvanme a mi Shinji. Lo quiero\". Al parecer, esta oración, sumada a la escena de Misato llorando, fue la que provocó que Shinji saliera del núcleo del EVA.\\nMás tarde, Kaji le entrega a Misato un chip con información que ha recolectado de NERV oculto dentro de una cápsula. Poco después, ella es arrestada por los agentes del Departamento de Inteligencia, estando bajo sospecha de complicidad en el secuestro del vice comandante Kozo Fuyutsuki. En realidad, Kaji fue quien lo secuestró para llevarlo ante SEELE. Finalmente, al no poder relacionarla con el secuestro Misato es liberada, pero queda destrozada al enterarse de que Kaji fue asesinado.\\nEn el episodio 22, el ángel Arael aparece en órbita, más allá del alcance de las armas normales de los Evangelion. Ignorando las órdenes de servir como refuerzo, Asuka se enfrentó al ángel en la Unidad-02. Cuando apuntó al ángel con su rifle, éste usó sobre ella un ataque psíquico.\\nLa Unidad-00 disparó con un rifle de positrones modificado utilizando la máxima potencia; sin embargo, el rayo no tenía la energía suficiente para penetrar el campo AT del ángel.\\nTras comprobar que el rayo no surtía efecto, Gendo ordenó a Rei extraer la lanza y usarla contra el ángel. Ante esta situación, Misato entiende que es mentira que el contacto entre Adán y un EVA podría causar el Tercer Impacto y a raíz de ese razonamiento, se pregunta que pudo causar el Segundo Impacto.\\nEn el episodio 23, Misato es testigo del sacrificio de Rei Ayanami para eliminar al ángel Armisael. En ese lapso de tiempo, Misato llega a insinuarse sexualmente a Shinji, quien la rechaza por estar demasiado deprimido por la muerte de Rei. Poco a poco, Misato va revelando su \"verdadero yo\", demostrando poseer el mismo potencial depresivo que Shinji.\\nMás tarde, cuando Ritsuko Akagi se da cuenta que Gendo la estaba usando, decide traicionarlo. Misato encuentra a Ritsuko y la amenaza a punta de pistola para obligarla a revelar la verdad. Ritsuko la conduce a ella junto a Shinji a la Planta Dummy Plug, donde les revela la verdad oculta sobre Rei Ayanami. Luego, Ritsuko comienza llorar, y pide a Misato que la mate, pero esta se rehúsa. Después de enterarse de la verdad, Misato comenzó a darse cuenta de algunos secretos oscuros de NERV y SEELE.\\nEl misterioso Kaworu Nagisa.\\nPosteriormente, un joven misterioso llamado Kaworu Nagisa llega para pilotar la Unidad-02 en reemplazo de Asuka. Misato y Hyuga investigan e intentan averiguar cuál es la verdadera naturaleza de Kaworu.\\nElla espía a Kaworu, pero no logra averiguar qué está haciendo. Más tarde, Hyuga le da a Misato la información que encontró sobre la asombrosa habilidad de Kaworu. Según parece, el joven puede establecer su grado de sincronización con el Evangelion a voluntad.\\nAdemas, Hyuga le dice que encontró el lugar donde Ritsuko está detenida. Misato va inmediatamente a preguntarle a Ritsuko sobre la verdadera identidad de Kaworu, y esta le dice que probablemente sea el último enviado. Finalmente, Kaworu resulta ser Tabris, el último ángel, y Shinji se ve obligado a matarlo para impedir que provoque el Tercer Impacto.\\nEn el final original de la serie, Misato es sometida al Proyecto de Complementación Humana junto con Shinji, Asuka y Rei. Durante el episodio 25 se realiza un análisis de sus problemas psicológicos. Mientras que en el episodio 26 ella forma parte del mundo ideal imaginado por Shinji.\\nEn The End of Evangelion los eventos mostrados son muy diferentes. Misato hackea los sistemas de NERV en busca de respuestas, descubriendo la verdad sobre el Segundo Impacto y el Proyecto de Complementación Humana. Mientras ella investigaba, se inicia el hackeo de SEELE, el cual es detenido por Ritsuko mediante el programa de defensa 666.\\nSEELE entiende que el programa de defensa 666 desplegado por NERV es imposible de penetrar, y decide tomar la base por la fuerza. Cuando el GeoFront es atacado por la JSSDF, Misato protege a Shinji de un grupo de soldados que intentaban asesinarlo. Al principio consiguen escapar, pero durante el trayecto ella es herida de un balazo. Afortunadamente, logra llevar al joven Ikari hasta un elevador que lo conduciría al EVA-01.\\nMisato besando a Shinji.\\nAntes de separarse de el, le motiva con una reflexión, le pide que no se rinda, y le dice que debe buscar las respuestas a todas sus preguntas mientras pilotea el EVA. Finalmente, le entrega su cruz y le da \"un beso de adultos\", diciéndole que harían \"el resto\" cuando regrese, lo cual nunca pudo suceder.\\nYa a las puertas de la muerte, su cuerpo es transformado en LCL y su alma fue recogida por Rei III, quien tomó la apariencia de su ser más querido: Kaji.\\nMisato parece tener algún tipo de afinidad por Shinji a pesar de tener más del doble de su edad. Ella considera que la presencia de Shinji es una influencia fundamental y estabilizadora. En el manga, hablando con Shinji en la estación de tren después de su primer intento de huir de NERV, Misato confiesa a Shinji que ella no decidió encargarse de él porque fuera su deber hacerlo, sino porque estaba sola.\\nMisato se da cuenta de que muchos de los problemas de Shinji al tratar con la gente se parecen estrechamente a los suyos, aunque sus mecanismos para enfrentar dichos problemas son opuestos entre sí, ambos parecen estar atrapados en un \"dilema de Erizo\", como lo llama Ritsuko.\\nDespués de que Asuka Langley Soryu se muda al apartamento, Misato se encuentra a menudo actuando como mediadora entre Shinji y Asuka. También hay una tensión sexual entre Shinji y Misato, pero este aspecto de su relación sólo se insinúa (aparte de la escena del \"beso adulto\" en The End of Evangelion, sin embargo, el contexto de la escena le da a esta acción múltiples significados posibles). Ella trata de ser tanto una amiga como una influencia materna para Shinji, equilibrando esto con sus deberes y responsabilidades como su oficial al mando en NERV.\\nCerca del final de la serie, los traumas compartidos y separados de Misato y Shinji ponen distancia entre ellos, y Shinji no puede permitirse consolarla ni ser consolado por ella (a raíz de la muerte de Rei Ayanami). Durante la instrumentalización, ella lamenta que no fue capaz de \"ser madre de Shinji\". Al final, Shinji esta devastado por perderla, y lleva su colgante desde entonces.\\nMisato y Kaji eran amantes en la universidad (está implícito tanto en la serie como en The End of Evangelion que una vez pasaron una semana entera en la cama teniendo sexo), pero hace mucho que habían roto su relación. No se vuelven a ver otra vez hasta que Kaji vuelve a Japón junto con Asuka y el Evangelion Unidad 02 abordo de la flota de la ONU.\\nDespués de regresar a la sede de NERV, Kaji coquetea con Misato, quien constantemente lo insulta (\"Eres estúpido\", \"Te odio\" y \"Conocerte fue el mayor error de mi vida\"). Más tarde, ella le confiesa a Kaji que él le recordó demasiado a su padre, y tenía miedo. Debido a eso había roto su relación con él.\\nDespués de que Kaji revela a Misato las mentiras de Ritsuko sobre los secretos de NERV, ella comienza a usar a Kaji para averiguar cuál es el verdadero propósito de Gendo Ikari. Esto culmina después de que Shinji \"renace\" del núcleo de la Unidad-01 después de la batalla con Zeruel.\\nCápsula que contenía en su interior una pequeña memoria.\\nTiempo después, Kaji le da a Misato una cápsula que contiene en su interior una pequeña memoria con toda la información que había recolectado durante sus tareas de espionaje en NERV.\\nAntes de comenzar su último trabajo, el cual lo llevará a una muerte segura, Kaji deja a Misato un mensaje telefónico haciéndole referencia a la información que le ha dado. Misato está devastada después de escuchar el mensaje. Después de este punto, sin embargo, ella se vuelve más proactiva en su investigación sobre el Proyecto de Complementación Humana.\\nMisato y Ritsuko son amigas cercanas al comienzo de la serie y los flashbacks revelan que Ritsuko fue una de sus primeras amigas en la universidad. Sin embargo, su amistad se disuelve poco a poco a medida que Misato aprende más sobre el Proyecto de Complementación Humana y el papel de Ritsuko en su desarrollo.\\nTambién se enfrentan y discuten con frecuencia (y a veces violentamente), ya que Ritsuko está dispuesta a sacrificar a los pilotos si la situación parece justificarla mientras que Misato busca protegerlos. Más tarde, Ritsuko hace duros comentarios sobre las relaciones fracturadas entre Misato, Shinji y Asuka, provocando que Misato enojada le responda acusando a Ritsuko de sustituir el afecto humano en su vida y llenar el vacío usando a sus gatos.\\nQuizás la comprensión que tiene Misato del sacrificio humano es lo que marca su diferencia con Ritsuko: ambas perdieron a sus padres (el Dr. Katsuragi y Naoko Akagi, respectivamente), aunque por razones diferentes. El padre de Misato murió para salvarla. Este sacrificio y pérdida informa mucho de su estilo de vida y acciones para el resto de su vida.\\nRitsuko, por otro lado, ve el suicidio de su madre como un acto egoísta, un pequeño intento de redención después de lo que le hizo a Rei I y luego de darse cuenta que había sido desechada. El amor de Misato por Kaji, y en última instancia por Shinji, la lleva a querer proteger la vida de los pilotos, mientras que para Ritsuko ellos sólo son un medio para alcanzar la meta.\\nAl final, ambas mujeres terminan emulando a los padres que odiaron, con resultados muy diferentes. El círculo se completa en The End of Evangelion cuando, justo antes de morir, Misato le da a Shinji su colgante -como lo hizo su padre antes de morir durante el Segundo Impacto- y lo empuja para salvarlo. En contraste con el sacrificio de Misato, el acto final de Ritsuko es una pequeña venganza contra Gendo. Sin embargo su venganza fracasa debido a la traición de su madre, haciendo su muerte esencialmente un acto en vano como la de Naoko.\\nEl Teniente Primero Makoto Hyuga es un técnico que trabaja en el Centro de Comando situado en el Dogma Central. Es un aliado cercano de Misato y la ayuda en su investigación, particularmente durante los eventos finales de la serie. Hyuga está secretamente enamorado de Misato y su situación es comparativamente similar a la de Maya Ibuki con Ritsuko Akagi.\\nMisato se lleva bien con Hyuga, pero ambos mantienen una relación estrictamente laboral. Hyuga actúa como un espía de Misato, ayudándola a obtener información clasificada. Misato también le confía trabajos de menor importancia, como ir a buscar su ropa a la lavandería. Aunque Hyuga la llama \"perezosa\" por no hacerlo ella misma.\\nMisato es consciente de la fría actitud de Gendo y de su desdén hacia su hijo Shinji. Aunque generalmente Misato sigue sus órdenes, ella no tiene miedo de protestar y oponerse a sus decisiones cuando siente que la situación merece otro camino.\\nDurante el transcurso de la serie, Misato comienza a descubrir que Gendo trama algo y oculta información junto con Ritsuko. Esto la lleva a investigar con la intención de descubrir cuáles son sus verdaderos objetivos. Finalmente, en The End of Evangelion Misato descubre la verdadera naturaleza del Proyecto de Complementación Humana e intenta alejar a Shinji de las persuasiones de Gendo.\\nEn el manga la personalidad e historia de Misato se mantienen, pero con algunas ligeras alteraciones. El manga explica el advenimiento de Pen Pen, a quien Misato salvo de la eutanasia después de que el experimento del que fue objeto había concluido.\\nSu charla con Kaji en la que ella le confiesa que le recordaba a su padre no sucede en una boda, en cambio, sucede en una fiesta hecha para celebrar el ascenso de Misato y la mudanza de Asuka.\\nAdemás, en lugar de morir por la hemorragia sufrida en The End of Evangelion, Misato detona una granada, al momento en que los soldados de la JSSDF entran, guiñándole un ojo a ellos antes de detonarla, matándolos.\\nLuego de la fallida complementación humana, Misato no aparece en ningún momento; sin embargo, la cruz que le dio a Shinji antes de morir, se encuentra amarrada al maletín de este, cumpliendo así la promesa que le hizo antes de que ella muriera.\\nMisato tiene un papel importante en la tetralogía de Rebuild of Evangelion. Al principio, Shinji desaprueba el estilo de vida de la muchacha. Ella es desordenada, consume mucha cerveza, aperitivos y comidas instantáneas. Después de mudarse a Tokio-3, Shinji vive en un pequeño apartamento con Misato y su pingüino mascota Pen Pen.\\nEn Evangelion: 1.0, el papel de Misato es similar al de la serie, con la excepción de que ella está más involucrada en lo que está sucediendo en NERV y su rango es de teniente-coronel. Debido a eso, ella sabe acerca de Lilith.\\nEn su juventud, Misato experimentó una relación complicada con su propio padre, lo que la llevó a desarrollar una sensibilidad especial hacia situaciones similares. Cuando descubre la relación problemática de Shinji con Gendo, Misato siente empatía por él y decide llevarlo a su apartamento, ya que no quiere dejarlo solo en medio de esa dificultad. Este gesto refleja su compasión y su deseo de brindarle apoyo a Shinji en un momento en el que se siente vulnerable y desamparado.\\nEn Evangelion: 2.0, Misato anima a Shinji a acercarse a su padre y también trae a Asuka con la esperanza de fortalecer los vínculos entre los pilotos. Su papel como figura protectora de Shinji se convierte en una parte fundamental de su historia y contribuye a su desarrollo personal y emocional.\\nMisato hablando con Asuka.\\nAdemás de su papel como hermana mayor para Asuka Langley Shikinami, Misato retoma su relación amorosa con Kaji, estableciendo así una conexión íntima y significativa en su vida. Luego de dañar su Renault Alpine, Misato conduce un Mazda Cosmo 110 blanco.\\nEn un flashback se revela que Misato estaba despierta durante el Segundo Impacto y presenció la muerte de su padre, quien le entregó un colgante antes de fallecer. Este evento cataclísmico y traumático marcó su vida y la impulsó a desentrañar los secretos detrás de la catástrofe.\\nEn Evangelion: 3.0, Misato ha sufrido cambios profundos en su personalidad. Han pasado 14 años desde el Casi-Tercer Impacto, y ella es la líder de una nueva organización llamada WILLE. Su objetivo es la destrucción de NERV y todos sus Evangelion.\\nSu nueva apariencia y actitud distante generaron confusión y desorientación en Shinji, quien estaba acostumbrado a la Misato anterior, más animada y enérgica. Este encuentro inicialmente tenso sirvió como un punto de inflexión en la trama de la película.\\nMisato le dijo a Shinji que estaba dispuesta a matarlo con el DSS Choker si él volvía a pilotar un EVA. Sin embargo, cuando Shinji logró escapar del AAA Wunder, hubo un momento de duda por parte de Misato y no pudo apretar el gatillo, lo que finalmente permitió la fuga de Shinji.\\nEn Evangelion: 3.0+1.0, Shinji Ikari y Rei Q son llevados a la Villa 3 donde se encuentran con Toji Suzuhara, Kensuke Aida y Hikari Horaki, que ahora son adultos. Mientras tanto, Misato permanece en el AAA Wunder preparando la Operación Yamato.\\nMisato observa una foto de su hijo junto a Shinji.\\nKensuke lleva a Shinji a una revisión de infraestructura y le presentan a \"Ryoji Kaji\", que es el hijo de Misato con el Ryoji Kaji original. El joven Kaji trabaja para KREDIT en la reparación de las máquinas construidas por WILLE, lo que evita que la Villa 3 sea contaminada. Shinji conversa un momento con él y se sacan una foto.\\nPoco después, se revela que el cuerpo de Rei Q era inestable. Ella le agradece a Shinji por ayudarla a encontrar la felicidad, antes de convertirse en LCL ante sus ojos. Shinji se sorprende, pero esta experiencia le ayuda a recuperarse de su trauma anterior. El Wunder llega para descargar personal no esencial. Kensuke y Toji le piden a Shinji que se quede en la Villa, pero Shinji decide ir a bordo del Wunder. Se le permite subir, pero es puesto en aislamiento y bajo vigilancia nuevamente.\\nMisato observa un contenedor de semillas.\\nMisato y Ritsuko recorren un espacio a bordo del Wunder dedicado a preservar semillas de vida de todas las especies. Ellas mencionan que ese es el legado del Ryoji Kaji original y el propósito principal de la embarcación. Luego, discuten sus intenciones y comienzan los preparativos para la Operación Yamato.\\nEl AAA Wunder comandado por Misato desciende desde la órbita, con el objetivo de neutralizar al EVA-13. Cerca de la Antártida, la nave rompe una barrera hexagonal que encierra un área de \"alta densidad L\". De repente, el Wunder es atacado por las tres naves de NERV, el NHG Erlösung, el NHG Erbsünde y el NHG Gebet.\\nDurante la batalla, Misato emplea tácticas poco convencionales, ya que es preciso aproximarse al objetivo todo lo posible. Ella usa los destructores de su flota de apoyo como misiles guiados gigantes. Asuka y Mari se abren camino a través del enjambre de Evangelions que les atacan.\\nAl llegar a su destino, Asuka procede con el plan. Ella intenta insertar un Signal Termination Plug especial en el Evangelion Unidad 13 como medio de seguridad adicional para garantizar que el EVA no se activará. Lamentablemente, no consigue su objetivo, ya que el EVA-13 destruye a la Unidad-02 con facilidad. Luego, el Wunder es atacado por el EVA Mark.09, el cual toma control de la nave.\\nRitsuko Akagi le dispara a Gendo en la cabeza, pero no consigue matarlo.\\nDe repente Gendo aparece en la parte más alta del Wunder. Misato y Ritsuko se enfrentan a él. Se revela que Gendo ha utilizado la llave de Nabucodonosor.\\nLa llave posee la capacidad de negar la humanidad de quien la usa. Gracias a ella consiguió poderes que le permiten superar a la humanidad. Ritsuko Akagi le dispara a sangre fría en la cabeza, pero no consigue matarlo, ya que ahora el Comandante de NERV es teóricamente inmortal.\\nGendo destruye la coraza del Wunder mediante un ataque de energía, ingresa al Evangelion 13 y se lleva la Unidad-01 por la fuerza. Shinji aparece y le pide a Misato que le permita ingresar a la Unidad-01 para detener a Gendo. Midori y Sakura están horrorizadas ante la idea de que Shinji ingrese al Evangelion y le disparan, pero Misato bloquea la bala de Sakura con su propio cuerpo.\\nLuego, Misato agradece a Shinji por salvarlos catorce años antes, y explica que la responsabilidad de sus acciones era en última instancia de ella, y dado que Shinji sigue siendo su subordinado, ella asumirá la responsabilidad de sus acciones. La Unidad-08 lo lleva, lo cual permite que Shinji invoque a la Unidad-01 y entre para pilotarlo.\\nEl joven Ikari se decide a enfrentar a su padre.\\nGendo y Shinji luchan en el \"Anti-Universo\", y entran al Objeto Gólgota. Ambos entablan una lucha surrealista, donde chocan con sus lanzas en múltiples ubicaciones.\\nEl EVA-01 y el EVA-13 están sincronizados, y el joven no logra prevalecer. Cuando llegan a un escenario basado en sus recuerdos de la Villa 3, Shinji piensa en sus experiencias. Por esa razón, le pide a su padre que se detenga para hablar.\\nMientras tanto, Misato planea usar ayudar a Shinji usando la columna vertebral del Wunder para crear una nueva lanza. Por su lado, Shinji se propone comprender a Gendo, ya que entendió que eso es necesario para detenerle. El joven logra entender a su padre. De esta forma, ayuda a Gendo a encontrar un cierre adecuado. Finalmente, Misato se sacrifica para crear la nueva la lanza de Gaius y contener el \"Impacto adicional\".\\nShinji recive la nueva lanza y decide utilizarla. Entonces, se prepara para apuñalarse a sí mismo, con la intención de crear un \"Neon Genesis\". Sin embargo, Shinji es expulsado del EVA-01 por su madre Yui. Gendo y Yui, siendo ella el EVA-01 y Gendo el EVA-13, se sacrifican para terminar lo que Shinji comenzó. Sus acciones devuelven todos los Evangelions y fallas del infinito a sus formas humanas y animales, restaurando el mundo a su estado original antes de los impactos y convirtiéndolo en un sitio sin EVAs.\\n\\n'}\n",
            "Nodo: Gendo Ikari, Atributos: {'Gendo Ikari': '碇 ゲンドウ', 'Edad': '48 años  62 años (3.0)', 'Sexo': 'Masculino', 'Familia': 'Yui Ikari (esposa)  Shinji Ikari (hijo)', 'Primera aparición': 'El ataque del Ángel [NGE]  El ataque del Ángel [Manga]  Evangelion: 1.0 [RB]', 'Seiyū': 'Fumihiko Tachiki', 'Doblador Latino': 'Humberto Solórzano  Idzi Dutkiewicz  Alan Miró', 'Doblador en España': 'Juan Carlos Gustems', 'Resumen': 'Gendo Ikari (碇 ゲンドウ, ,  Ikari Gendō ?) es un personaje relevante en la franquicia Evangelion.\\nEs el comandante de la organización militar NERV y el principal impulsor a su creación. También es el jefe del Proyecto E y padre de Shinji Ikari, piloto del Evangelion Unidad 01. Es reconocible por su clásico gesto de juntar las manos (siempre con guantes blancos) por delante de la cara.\\nGendo nació el día 29 de abril de 1967 y tiene 48 años. Adoptó el apellido Ikari tras casarse con Yui Ikari. Su nombre de soltero es Gendo Rokubungi.\\nEs un científico de fama, con un pasado misterioso, trabaja en colaboración con la organización SEELE dentro de un proyecto secreto bautizado con el nombre de Proyecto de Complementación Humana.\\nEs muy estricto y autoritario hasta el punto de la obsesión, y su objetivo consiste en eliminar definitivamente a los ángeles para evitar un Tercer Impacto que marcaría el fin de la existencia humana. Esta meta absorbe toda su vida diaria, lo cual queda demostrado cuando abandonó a Shinji por motivos de trabajo y este, a su vez, nunca lo perdonó.\\nEl padre de Shinji nació como Gendo Rokubungi. Aunque no se sabe prácticamente\\xa0nada de su infancia ni su juventud, hay indicios de que pudo haber vivido en un ambiente traumático.\\nDurante sus estudios, conoció a Yui Ikari, con quien comenzó una relación, y el profesor Kozo Fuyutsuki, con quien entabló amistad. Muchos de los que lo conocían pensaban que su relación con Yui eran debido a sus conexiones con SEELE, sin embargo, en el trascurso de la serie y de las películas se hace ver que su relación con ella era más profunda.\\nGendo y Yui.\\nÉl y Yui se casaron a principios del siglo XXI\\xa0y, tomó el apellido Ikari (tanto en Japón como en Occidente es muy raro que el hombre tome el apellido de la mujer).\\nEn 2001 nació su hijo, Shinji Ikari. Ambos trabajaron en GEHIRN, en la que Gendo se convirtió en el líder. Después de la experimento de contacto del EVA-01 y la aparente muerte de Yui, Gendo se volvió un hombre muy frio y distante, mandando a Shinji a vivir con su sensei.\\nTambién mantuvo una relación con Naoko Akagi y luego con su hija, Ritsuko, pero solo las estaba usando para llevar a cabo su plan. Gracias a la conexión de Yui con SEELE, entró en contacto con la organización y empezó a ayudarles con sus planes para el Tercer Impacto.\\nUn fallo masivo en\\xa0la primera prueba de activación\\xa0del Evangelion Unidad 00 causó que el EVA entrara en modo berserk. Para evitar que Rei Ayanami se lesionara gravemente, la cabina de contacto fue expulsada\\xa0y Gendo abrió la puerta sobresacalentada del Entry Plug con sus propias manos para rescatar a Rei. Sus manos tienen quemaduras debido a esto, por lo que nunca se muestra sin guantes.\\nAunque Gendo pretende seguir las órdenes de SEELE, sin duda tiene su propia agenda y trata de manipular al comité. Su rebelión abierta a SEELE viene de su deseo de iniciar el Tercer Impacto bajo su completo control. Se implanta el embrión de Adán en la mano para lograr fusionarse con Rei.\\nEn The End of Evangelion, Rei desafía a Gendo y se separa de él (después de absorber el embrión de Adán), fusionándose con Lilith y empezando la Instrumetalización por su cuenta. Al ver que sus planes de reunirse con Yui se han acabado, le pide a Rei volver con él, pero ella se niega.\\nUna vez iniciada la Instrumentalización, Gendo se enfrenta a los fantasmas de Rei, Kaworu Nagisa y Yui. Él confiesa que tiene miedo a los lazos invisibles por los que lo rodean y tenía miedo de enfrentarse a su hijo, tras la muerte de Yui.\\nEn una visión del EVA 01, este sostiene a Gendo con una parte de su armadura, por lo que él dice \"Este es mi castigo...\", mientras el EVA muerde su torso cuando pronuncia sus últimas palabras. Luego se pasa una escena donde se ve su torso aún de pie.\\nAlguna vez se rumoreó que Gendo se había acercado a Yui por su talento y su afiliación con la organización SEELE, pero parece que Gendo verdaderamente la amaba. Para Gendo, el fin justifica los medios. Aunque parece fría y lejana, la principal motivación de Gendo es el amor: su meta al trabajar en el Proyecto de Complementación Humana es reunirse con su amada esposa, aunque signifique traicionar a la gente que lo rodea.\\nEn varios episodios, se ve que Gendo está profundamente preocupado por el bienestar de Rei Ayanami, llegando incluso a quemarse las manos al abrir la escotilla del Entry Plug para rescatarla después del incidente con el Evangelion Unidad 00. En el episodio 05, Gendo se niega a enviar a la Unidad 00 contra Ramiel.\\nEsta preocupación podría ser leída como de naturaleza paterna, particularmente dado que Gendo quería nombrar a una hija \"Rei\" (episodio 20), y Rei es casi como una hija en el sentido de que comparte parte del material genético de su esposa.\\nAlternativamente, su preocupación podría leerse como una garantía de que su \"inversión\" sobreviva (ya que Rei es aparentemente la puerta de entrada de Gendo al control de la Complementación Humana), ya que la transición de un clon de Rei a otro no es completamente suave y sería difícil para Gendo volver a construir esa confianza con ella desde cero.\\nPara reunirse con su amada esposa, Gendo manipula o rechaza a la gente que lo rodea, incluyendo a su propio hijo, a quien envió a vivir con su sensei poco después de la desaparición de Yui.\\nEl episodio 26\\' reveló que Gendo genuinamente creía que sólo le causaba dolor a Shinji, y por lo tanto prefería no involucrarse demasiado con él. Esto, junto con la sugerencia de Adán/Kaworu de que Gendo \"huía\", nos indica que las personalidades de Gendo y Shinji parecen tener mucho en común.\\nDespués de la desaparición de Yui, Gendo mantuvo una relación sexual con Naoko Akagi. Al parecer, él la estaba usando para promover sus planes. Naoko, al menos, parecía entender que Gendo no podía olvidar a Yui. Sin embargo, cuando Rei I le contó la verdadera opinión de Gendo (diciéndole que la consideraba una \"vieja bruja\") ella entró en un breve estado de locura y estranguló a Rei. Al darse cuenta de lo que había hecho, la horrorizada Naoko decidió suicidarse.\\nGendo también se involucró con Ritsuko Akagi, y mantenían una relación clandestina. Los paralelismos entre las relaciones de Naoko y Ritsuko con Gendo son irónicos, dado que Ritsuko trataba de diferenciarse de su madre. Parece que Gendo también la estaba usando para promover sus planes.\\nPor su parte, Ritsuko alberga en su interior mucho resentimiento hacia Rei. Ella ve a Rei como un reemplazo de Yui, y por lo tanto es la competencia por los afectos de Gendo. Finalmente, cuando Ritsuko se da cuenta que Gendo se preocupaba más por Rei y sólo la estaba usando, decide destruir el sistema Dummy Plug.\\nComo resultado, Gendo la encierra en una oscura y solitaria celda. Debido a esto, ella poco a poco se convirtió en suicida, y tuvo la intención de matar a Gendo y luego autodestruir los cuarteles utilizando a MAGI.\\nEn el año 1999, Gendo conoce al profesor Fuyutsuki, que dictaba en la Universidad de Kioto la cátedra de bio-metafísica. Fuyutsuki tuvo una pésima impresión de Gendo desde el primer momento, pero a Gendo le agradó mucho el carácter del profesor.\\nLuego del Segundo Impacto, Fuyutsuki investigó sin descanso para descubrir la verdad, y se enfrentó a Gendo cuando obtuvo la información suficiente para respaldar sus acusaciones. Indiferente a las amenazas de Fuyutsuki, Gendo lo llevó al GeoFront. Allí, le mostró el primer prototipo de las Unidades Evangelion, y lo invitó a unirse. Finalmente, Fuyutsuki se unió a GEHIRN, aunque parecía que tenía pocas opciones.\\nEstá claro que la alianza entre ambos es por conveniencia. Claramente, ambos están interesados en ver de nuevo a Yui. Sin embargo, no está claro si Gendo o Yui están al tanto de la atracción de Fuyutsuki por ella.\\nMisato es consciente de la fría actitud de Gendo y de su desdén hacia su hijo Shinji. Aunque generalmente Misato sigue sus órdenes, ella no tiene miedo de protestar y oponerse a sus decisiones cuando siente que la situación merece otro camino. Durante el transcurso de la serie, Misato comienza a descubrir que Gendo trama algo y oculta información junto con Ritsuko.\\nEsto la lleva a investigar con la intención de descubrir cuáles son sus verdaderos objetivos. Finalmente, en The End of Evangelion Misato descubre la verdadera naturaleza del\\xa0Proyecto de Complementación Humana\\xa0e intenta alejar a Shinji de las persuasiones de Gendo.\\nEn el manga, el papel y el carácter general de Gendo es más o menos igual que en la serie, pero con unas pequeñas diferencias. Es más antagónico hacia Shinji, llamándolo \"cobarde\" cuando no quiere pilotar el Evangelion Unidad 01. Luego, mientras Shinji se recupera en el hospital, Gendo visita a Rei y no a Shinji.\\nEn la batalla contra el ángel Bardiel, Gendo activa el Dummy Plug, lo que resulta en la muerte de Toji Suzuhara, el piloto del poseído Evangelion Unidad 03. Después de que Shinji utiliza la Unidad-01 para dañar la jaula, Gendo pide a Ryoji Kaji que lleve a Shinji a su oficina.\\nEstando allí, Shinji le pregunta a su padre si tiene algo que decirle sobre lo ocurrido con la Unidad-03. Sin embargo, Gendo no contesta, por lo que el joven piloto intenta darle un puñetazo, siendo detenido por Kaji. Debido a esto, Shinji grita que no quiere volver a verlo. La respuesta de Gendo es la misma que la del anime, diciendo que borrará todos sus registros.\\nGendo recibe una respuesta de Yui.\\nCuando Zeruel ataca y Rei no consigue activar el EVA-01, Gendo se dirige a la jaula para tratar de hacer que el sistema funcione, lo que resulta inútil. Gendo, en su primer acto de angustia, le pregunta frenéticamente al EVA-01, y consecuentemente a Yui, por qué lo está rechazando, a lo que aparece la imagen de Shinji en la pantalla. Esto y la súbita aparición del joven, resultan una sorpresa para Gendo.\\nAl igual que en el anime, SEELE empieza a dudar de la fiabilidad de Gendo después que la Unidad-01 absorbe el motor S² de Zeruel y envían a Kaworu Nagisa como espía. Durante la estadía de Kaworu en NERV, Gendo se traga el embrión de Adán en lugar de implantárselo.\\nDurante la invasión de la Fuerza de Autodefensa Estratégica de Japón al cuartel general de NERV, Gendo protege a Shinji\\xa0mediante la proyección de un campo AT en su mano derecha, en donde se encuentra Adán. En esta complicada situación, Gendo revela el alcance de su locura, diciéndole a Shinji que nunca ha sido amado y que quiere convertirse en Dios, destruyendo a la humanidad y provocando el Tercer Impacto para encontrarse con Yui. Sin embargo, Misato aparece y lo insta a no escuchar a su padre.\\nDespués de ayudar a Shinji y Misato a escapar, Gendo se dirige al Dogma Terminal\\xa0con Rei para fusionarla con Adán y Lilith. Al igual que The End of Evangelion, Ritsuko intenta detener a Gendo, pero el sistema MAGI rechaza la orden.\\xa0Gendo dispara a la doctora Akagi, hiriéndola fatalmente, e intenta fusionarse con Rei.\\xa0Sin embargo, para su sorpresa y angustia, Rei recuerda a Shinji y le corta la mano, devorando a\\xa0Adán y fusionándose con\\xa0Lilith\\xa0por su cuenta. Luego de que Rei/Lilith asciende del Dogma Terminal, Gendo recibe un disparo en el cuello por parte de Ritsuko, aún viva, en un acto de eliminarlo.\\nMientras muere, es visitado por una visión de\\xa0Yui. Gendo le pregunta si este es su castigo por haberle causado tanto dolor a Shinji. Ella explica que su hijo será el que decida el futuro de todo y le dice a Gendo que la razón por la que se conocieron fue para traer a Shinji al mundo.\\nYui le pide que recordara la primera vez que sintió amor por Shinji. Después de confesar que solo ha causado dolor a Shinji, Gendo recuerda a su hijo como un bebé recién nacido - la primera vez que sintió amor por él - y se da cuenta de lo que quería su esposa era un mundo mejor para ellos, para vivir como una familia. Así, él redime su alma en sus últimos momentos antes de fallecer.\\nEn la tetralogía de Rebuild of Evangelion Gendo es un personaje crucial. Es muy similar a la serie, no muestra emoción alguna y siempre acompañado por el profesor Fuyutsuki, con quien es el único con el que comparte sus planes.\\nEvangelion: 2.0 You Can (Not) Advance, aunque es\\xa0igual de distante, se muestra más abierto a mantener diálogo con Shinji, ya que accede a almorzar con él y Rei en casa de ella. Sin embargo, es igual de desalmado, ya que no mostró el menor interés en los sentimientos de su hijo una vez que ordenó destruir al poseído Evangelion Unidad 03 sin importarle la seguridad de Asuka Langley Shikinami. De ahí en adelante su rol es el mismo. Acepta decepcionado la renuncia de Shinji y muestra mucho interés en el Dummy Plug como su reemplazo.\\nNueva apariencia de Gendo en Evangelion: 3.0.\\nEn Evangelion: 3.0 You Can (Not) Redo, su rol toma un camino muy diferente ya que, sorprendentemente, Gendo se ha vuelto más cruel e insensible de lo que era anteriormente. Ahora bajo la tutela de SEELE, Gendo envía a un clon de Rei en el Evangelion Mark.09 para traer a Shinji del AAA Wunder, solo haciendo aparición ante su hijo para ordenarle que pilote el Evangelion Unidad 13.\\nNuevamente, Gendo solo es acompañado por Fuyutsuki y ahora parece ignorar a Rei tanto como a Shinji, ya que a ella la tiene confinada en una habitación en los salones oscuros de SEELE. Gendo toma un rol importante en el clímax de la película, ya que aparece para presenciar la destrucción de los restos de Lilith y, aparentemente, no se molesta en bañarse en su sangre durante el proceso.\\nLuego de eso, desconecta los monolitos de los miembros líderes de SEELE. Una vez que el Cuarto Impacto inicia, afirma que, de ahora en adelante, será él quien decidirá el rumbo del Proyecto de Complementación Humana.\\nSin embargo, aunque es el rival de Misato Katsuragi y WILLE, Gendo parece estar de acuerdo con el resultado de los eventos que llevan al final del filme, en donde Fuyutsuki asegura sentirse satisfecho de que todo haya terminado y que por poco el Cuarto Impacto ocurre como quisiera SEELE, además de asegurar que las acciones de Misato son acordes con sus expectativas.\\nEn Evangelion: 3.0+1.0 Thrice Upon A Time, Gendo y Fuyutsuki se disponen a realizar su movimiento final. Por esa razón, la Luna Negra empieza a desplazarse lentamente hacia el epicentro del Segundo Impacto, en la antigua Base Calvary situada en la Antártida.\\nEl Wunder llega a la Antártida y es interceptado por el NHG Erlösung, el NHG Erbsünde y un enjambre de Evangelion Mark.07. Durante la batalla, el Wunder es inmovilizado por una de las naves de NERV. Finalmente, la Luna Negra es transformada en una nueva lanza de grandes dimensiones, la cual es necesaria para llevar a cabo el procedimiento que le permitirá a Gendo y Fuyutsuki alcanzar su objetivo.\\nRitsuko Akagi le dispara a Gendo en la cabeza, pero no consigue matarlo.\\nEn el punto más álgido de la Operación Yamato, Gendo aparece en la parte más alta del Wunder. Misato y Ritsuko se enfrentan a él.\\nSe revela que Gendo ha utilizado la llave de Nabucodonosor. Gracias a ella consiguió poderes que le permiten superar a la humanidad. Ahora Gendo tiene un vacío brillante en forma de cruz donde solían estar sus ojos. Ritsuko le dispara a sangre fría en la cabeza, pero no consigue matarlo, ya que ahora el Comandante de NERV es teóricamente inmortal.\\nGendo destruye la coraza del Wunder mediante un ataque de energía, ingresa al Evangelion 13 y se lleva la Unidad-01 por la fuerza. Shinji aparece y le pide a Misato que le permita ingresar a la Unidad-01 para detener a Gendo. La Unidad-08 lo lleva, lo cual permite que Shinji invoque a la Unidad-01 y pueda pilotarlo.\\nGendo y Shinji luchan en múltiples ubicaciones.\\nGendo y Shinji luchan en el \"Anti-Universo\", y entran al misterioso Objeto Gólgota. Ambos entran en una lucha surrealista, donde chocan con sus lanzas en múltiples ubicaciones, tomadas de los recuerdos de Shinji. Ese mundo resulta ser sólo una escenografía, similar a los escenarios donde se filman las películas de tokusatsu.\\nShinji se propone comprender a Gendo, ya que entendió que eso es necesario para detenerle. Lo destacable, es que los roles en el vagón se invierten, siendo Gendo quien está sentado en el lugar de Shinji. Finalmente, Misato se sacrifica para crear la nueva lanza y contener el \"Impacto adicional\". Shinji recive la nueva lanza y decide utilizarla. El joven logra entender a su padre. De esta forma, ayuda a Gendo a encontrar un cierre adecuado.\\nEn ANIMA Gendo no aparece, ya que, luego de la destrucción de los EVAs de Producción en Masa y el fracaso del Proyecto de Complementación Humana, desapareció. Su paradero es desconocido.\\nEn Neon Genesis Evangelion: Shinji Ikari Raising Project, Gendo se muestra bajo un papel muy humorístico, al contrario que sus contrapartes de la serie, películas y manga. Sus travesuras, muchas veces embarazosas para Shinji, terminan en un golpe por parte de Yui. Durante un apagón ocurrido en NERV, encendió la linterna con miedo, lo que le valió una bofetada por parte de Yui.\\nEn otra ocasión, Yui le preguntó si le dijo a Shinji lo que debía hacer. La respuesta de Gendo fue comenzar a sudar y temblar nerviosamente, así que la escena\\xa0termina con el efecto sonoro de la bofetada de Yui.\\nAsimismo, la relación de Shinji y Gendo es una rivalidad de padre e hijo, en vez de odio. Durante el apagón ocurrido en NERV, ambos comenzaron a competir para ver quién podía pedalear más rápido para traer energía al cuartel general. Curiosamente, Fuyutsuki y Rei ayudaron en lugar de simplemente observar.\\n\\n'}\n",
            "Nodo: Yui Ikari, Atributos: {'Yui Ayanami': '碇 ユイ', 'Edad': '27 años', 'Sexo': 'Femenino', 'Familia': 'Gendo Ikari (esposo)  Shinji Ikari (hijo)', 'Primera aparición': 'Al borde de la muerte y después... [NGE]  El interior del corazón [Manga]  Evangelion: 3.0 [RB]', 'Seiyū': 'Megumi Hayashibara', 'Doblador Latino': 'Belinda Martínez  Adriana Casas  Desirée Sandoval  Circe Luna', 'Doblador en España': 'Marta Dualde', 'Resumen': 'Yui Ikari (碇 ユイ, ,  Ikari Yui ?) es un personaje relevante en la franquicia Evangelion. Era la esposa de Gendo Ikari y madre de Shinji Ikari.\\nYui fue una brillante bioingeniera que trabajó para la organización GEHIRN durante el desarrollo del Proyecto E. Además, todo indica que ella es hija de un prominente miembro de SEELE.\\nYui Ikari, la madre de Shinji Ikari y la esposa de Gendo Ikari, era una brillante bioingeniera que trabajó para el Proyecto E en GEHIRN.\\nAdemás, ella es la hija de un prominente miembro de SEELE. Ella es una de las presencias más poderosas de la serie.\\nCuando estaba con vida, Yui siempre mostraba una actitud amable, optimista y maternal. Pero lo más sorprendente de su personalidad, es su inquebrantable fe en la humanidad y la creencia de que vale la pena conservarla.\\nFue una destacada alumna del profesor Kozo Fuyutsuki en la universidad de Kioto, quien halagaba sus brillantes proyectos de investigación.\\nEs por eso que llamó la atención de la organización SEELE, donde pasó a ser colaboradora en la creación de las Unidades Evangelion; pero la investigación que realizaba pronto sería derivada a una nueva institución que, posteriormente, se convertiría en NERV.\\nSe casó con Gendo Rokubungi, al que conocía desde que asistía a la universidad y del cual quedó enamorada. Con él tuvo un hijo, Shinji.\\nYui con Gendo y el profesor Fuyutsuki.\\nDespués de su boda comenzó a trabajar con su esposo Gendo en GEHIRN, organización que fue creada especialmente para desarrollar los EVAs. Así, Yui pasa a ser una parte clave del Proyecto E.\\nMurió bajo circunstancias extrañas en el año 2004, a los 27 años, durante un misterioso accidente en un experimento de contacto - al parecer intencionado por ella misma - en el que alcanzó una sincronización del 400% con el Evangelion Unidad 01; su alma fue asimilada al EVA, quedando aprisionada dentro de él.\\nAsí cumplió su objetivo que era un plan de oposición a SEELE. De este modo, en teoría, alcanza un estado semi-inmortal, al quedar fusionada su alma al cuerpo y mente del EVA-01, llega a alcanzar un estado parecido al de Dios.\\nEn el final narrado en The End of Evangelion, se puede ver cómo este resultado híbrido entra en un estado de letargo y vaga por el universo con la lanza de Longinus, a semejanza de una cápsula del tiempo, como testimonio para la eternidad de que la raza humana existió alguna vez, aún cuando todo haya desaparecido. Es un modo de vida solitario, pero fue así el modo en que Yui decidió utilizar su vida para un propósito trascendental.\\nAntes del Segundo Impacto, Yui era una talentosa estudiante de bioingeniería en la Universidad de Kioto. Fuyutsuki se convirtió en el sensei de ella luego de leer uno de sus trabajos y quedar impresionado por el alto nivel del mismo. La naturaleza exacta de su relación académica es desconocida, aunque se sabe que eran cercanos y pasaron tiempo juntos fuera del campus.\\nGendo y Yui.\\nYui comenzó una relación sentimental con un hombre misterioso, varios años mayor que ella, llamado Gendo Rokubungi, que estaba constantemente rodeado de rumores sombríos - entre ellos, que Gendo se había acercado a Yui por su talento y su relación con SEELE. De todos modos, en palabras de Yui, Gendo era \"una buena persona, sólo que nadie lo sabe\".\\nDespués que Yui se graduó (presumiblemente), se casó con Gendo y este tomó su apellido. Juntos, tuvieron un hijo a quien llamaron Shinji. Más tarde, Gendo se involucró con SEELE valiéndose de las influencias de Yui, para posteriormente unirse a la Expedición Katsuragi y servir como un auditor. Yui también quería participar de la expedición, pero no pudo viajar porque tenia que quedarse cuidando a Shinji.\\nEn Evangelion: 3.0 You Can (Not) Redo se revela que, a diferencia de la versión televisiva, Yui es de apellido Ayanami, lo que cambia un poco los términos en los que se conocía de la vida de pareja de ella y Gendo, ya que se conocía que él había tomado su apellido al de ella, cosa que es usualmente inversa en los matrimonios. En esta ocasión, Gendo es de apellido Ikari.\\nEn el manga, la personalidad e historia de Yui se mantienen, con algunas ligeras alteraciones. Su rol es prácticamente el mismo que en la serie.\\nYui en Rebuild of Evangelion.\\nEn la tetralogía de Rebuild of Evangelion Yui Ikari tiene muy poca participación. Es un personaje totalmente ausente en Evangelion: 1.0 You Are (Not) Alone, aunque en\\xa0Evangelion: 2.0 You Can (Not) Advance\\xa0es mencionada cuando Shinji y Gendo visitan su tumba. El cuerpo de Rei Ayanami es una copia de la forma original de Yui, como en la serie original, confirmado cuando Gendo ve por un minuto a Yui en Rei. Al igual que en la batalla original con Zeruel, Yui rechaza el Dummy Plug, que Gendo interpreta como su rechazo hacia él.\\nYui entrando al núcleo del EVA-01.\\nEn Evangelion: 3.0 You Can (Not) Redo, Fuyutsuki le revela a Shinji que el nombre de soltera de su madre es Yui Ayanami, y que su alma se encuentra en el núcleo del Evangelion Unidad 01. Además, afirma que Rei es un clon de Yui. Ante estas revelaciones, Shinji sufre una crisis mental y cae en una gran depresión.\\nEn Evangelion: 3.0+1.0 Thrice Upon A Time, Gendo y Shinji luchan en el \"Anti-Universo\", y entran al misterioso Objeto Gólgota. Gendo le explica a Shinji que este misterioso artefacto ha sido dejado por alguien desconocido, junto con los Adams y las 6 lanzas. Siendo específicos, el Comandante de NERV se refiere al ser desconocido como \"alguien no humano\". Finalmente, Gendo añade: Mi esposa... tu madre... también estuvo aquí. El comienzo de todo: la tierra prometida. Luego, Gendo dice que necesita acceder al Objeto Gólgota para crear un \"Impacto Adicional\" y alcanzar su objetivo. Busca exterminar a los Dioses y reunirse con Yui.\\nEntonces, Shinji se propone comprender a Gendo, ya que entendió que eso es necesario para detenerle. Al mismo tiempo, Misato Katsuragi se sacrifica para crear la nueva la lanza de Gaius y contener el \"Impacto adicional\". Finalmente, el joven Ikari logra entender a su padre. De esta forma, ayuda a Gendo a encontrar un cierre adecuado.\\nShinji recive la nueva lanza y decide utilizarla. Entonces, se prepara para apuñalarse a sí mismo, con la intención de crear un \"Neon Genesis\". Sin embargo, Shinji es expulsado del EVA-01 por su madre Yui. Gendo y Yui, siendo ella el EVA-01 y Gendo el EVA-13, se sacrifican para terminar lo que Shinji comenzó. Sus acciones devuelven todos los Evangelions y fallas del infinito a sus formas humanas y animales, restaurando el mundo a su estado original antes de los impactos y convirtiéndolo en un sitio sin EVAs.\\n\\n'}\n",
            "Nodo: Ritsuko Akagi, Atributos: {'Ritsuko Akagi': '赤木 リツコ', 'Edad': '30 años  44 años (3.0)', 'Sexo': 'Femenino', 'Familia': 'Naoko Akagi (madre fallecida)', 'Primera aparición': 'El ataque del Ángel [NGE]  El ataque del Ángel [Manga]  Evangelion: 1.0 [RB]', 'Seiyū': 'Yuriko Yamaguchi', 'Doblador Latino': 'Maru Guerrero  América Torres  Gabriela Gómez', 'Doblador en España': 'Montse Moreno(†)  Sandra Jara  Maribel Pomar  Rosa Guillén', 'Resumen': 'Ritsuko Akagi (赤木 リツコ, ,  Akagi Ritsuko ?) es un personaje relevante en la franquicia Evangelion.\\nElla es la principal científica de NERV, siendo la jefa del Departamento de Desarrollo Tecnológico y responsable directa de todo lo relativo con las Unidades Evangelion.\\nElla es la hija de Naoko Akagi, creadora del sistema MAGI que controla NERV. Dicho sistema está compuesto por tres supercomputadoras (Melchor, Gaspar y Baltasar) que ejecutan todas las operaciones de NERV basándose en una estructura democrática.\\nRitsuko es una mujer mordaz, serena e inteligente. Demuestra una inquebrantable dedicación a su trabajo y una actitud estoica.\\nElla dirige con gran eficiencia una amplia gama de procedimientos, entre los cuales destacan el mantenimiento y la activación de las Unidades Evangelion.\\nJunto con Gendo Ikari y Kozo Fuyutsuki, es la única persona en NERV plenamente consciente de la verdadera naturaleza de las Unidades Evangelion y del Proyecto de Complementación Humana.\\nDurante su adolescencia, Ritsuko tenía problemas para relacionarse con los demás, especialmente en lo relativo a las relaciones románticas.\\nElla siempre tuvo dificultades para entender las relaciones entre hombres y mujeres. A menudo comenta que las interacciones de hombres y mujeres son ilógicas.\\nRitsuko supervisando la activación del EVA-01.\\nDe muchas maneras, Ritsuko vive en la sombra de su madre, a quien admira y desprecia. Antes de su muerte, Naoko Akagi era la principal científica que trabajaba en el Proyecto E, y Ritsuko continúa el trabajo que su madre comenzó con los EVAs y el sistema MAGI.\\nNaoko y Ritsuko parecían tener una relación ligeramente tensa. Los flashbacks revelan que Ritsuko es morena natural, al igual que su madre. Posiblemente, ella comenzó a teñir su cabello de rubio en un intento por ser distinta de Naoko.\\nRitsuko es una fumadora empedernida y bebe mucho café. Conoce a Misato Katsuragi desde que eran estudiantes y se pelea a menudo con ella. Posee una gran afinidad por los gatos y tiene uno que está al cuidado de su abuela.\\nAdemás, Ritsuko tiene diversos artículos relacionados con gatos que adornan su escritorio: un par de figuras de gatos (una negra y una blanca) y una taza de café con dibujos de gatos.\\nEn el episodio 15, Kaji le regaló una pequeña baratija diciendo: \"es un souvenir para tu colección de gatos\". Esta afinidad por los gatos podría tener una relación simbólica con la personalidad de Ritsuko, relacionada con los rasgos solitarios de los gatos. Aunque normalmente parece tranquila y equilibrada, la conducta normal de Ritsuko se degeneró en frialdad al final de la serie.\\nRitsuko fue una de las primeras amigas de Misato Katsuragi en la universidad, donde también conoció a Ryoji Kaji. En NERV ella es la principal científica, siendo la jefa del Departamento de Desarrollo Tecnológico.\\nRitsuko es, presumiblemente, responsable de la selección de los Children (ya que el Informe del Instituto Marduk es una farsa). Se muestra tanto en el anime como en el manga que Ritsuko invita personalmente a Toji Suzuhara a unirse a NERV como piloto del Evangelion Unidad 03.\\nA medida que la serie avanza,\\xa0Misato y\\xa0Kaji descubren la verdad sobre el Proyecto y se hace evidente cuánta información les ocultaba Ritsuko, lo que hace que su amistad con Misato se disuelva. Esta ruptura es acelerada además, por los frecuentes enfrentamientos por la vida de los pilotos, a los cuales Ritsuko prefiere sacrificar si considera que las prioridades son otras.\\nRitsuko destruye el sistema Dummy Plug.\\nRitsuko estaba enamorada de Gendo, con quien mantenía una relación clandestina. Sin embargo, se da cuenta que Gendo la estaba usando y que se preocupaba más por Rei Ayanami. En venganza, Ritsuko destruye el sistema Dummy Plug frente a Shinji y Misato. Como resultado, Gendo la encierra en una oscura y solitaria celda.\\nElla vuelve a aparecer en las primeras escenas de The End of Evangelion, siendo obligada por Gendo a proteger el sistema MAGI del hackeo orquestado por SEELE. Aprovechando ese leve momento de libertad, Ritsuko modificó la programación de MAGI. Tiempo después, ella se enfrentaría a Gendo y Rei en el Dogma Central.\\nFinalmente, Ritsuko es asesinada por el comandante Ikari, cuando trataba de destruir los cuarteles de NERV utilizando a MAGI durante el ataque de la JSSDF al GeoFront. Su intento falló porque MAGI no aceptó el comando de auto destrucción que Ritsuko le había programado, lo que da a suponer que el corazón como mujer de\\xa0Naoko Akagi dentro la computadora todavía amaba a Ikari, prefiriéndolo a él antes que a su hija Ritsuko.\\nMisato y Ritsuko son amigas cercanas al comienzo de la serie, y los flashbacks revelan que Misato fue una de sus primeras amigas en la universidad. Sin embargo, su amistad se disuelve a medida que Misato aprende más sobre el Proyecto de Complementación Humana y el papel de Ritsuko en su desarrollo.\\nTambién se enfrentan y discuten con frecuencia (y a veces violentamente), ya que Ritsuko está dispuesta a sacrificar a los pilotos si la situación parece justificarla mientras que Misato busca protegerlos. Más tarde, Ritsuko hace duros comentarios sobre las relaciones fracturadas entre Misato, Shinji, y Asuka, provocando que Misato enojada le responda acusando a Ritsuko de sustituir el afecto humano en su vida y llenar el vacío usando a sus gatos.\\nDespués de que Misato conociera a Kaji, se convirtió en parte del pequeño grupo de amigos que incluía a Ritsuko. Aunque ella desaprueba su naturaleza despreocupada y \"frívola\", cuando Kaji regresa a sus vidas años después, Ritsuko es cálida y receptiva a él. A pesar de esto, Kaji parece representar la competencia por el afecto de Misato.\\nEsto se acentúa en el episodio 20, cuando Misato rechaza la oportunidad de tomar una copa con Ritsuko para reunirse con Kaji, dejando a Ritsuko sola. Para entonces, las grietas en su amistad con Misato son muy evidentes. Mientras que Kaji nunca mostró ninguna hostilidad abierta hacia ella, él era consciente de la participación de Ritsuko en el Proyecto de Complementación Humana y el Proyecto E.\\nRitsuko siendo interrogada por SEELE.\\nAl igual que su madre antes que ella, Ritsuko se involucró románticamente con Gendo. Los paralelismos entre las relaciones de Naoko y Ritsuko con Gendo son irónicos, dado que Ritsuko trataba de diferenciarse de su madre. No está claro hasta qué punto su dedicación a su trabajo se debe a su amor por Gendo.\\nEn el episodio 23, Rei 2 muere al autodestruir su EVA, pero es reemplazada por Rei 3. Fuyutsuki le advierte a Gendo que SEELE seguramente exigirá explicaciones sobre la supervivencia de Rei. Entonces, Gendo envía a Ritsuko ante SEELE en representación de Rei. Después de que ella fue entregada por Gendo a SEELE para proteger a Rei, Ritsuko se sintió traicionada e infravalorada por Gendo y respondió destruyendo el sistema Dummy Plug.\\nRitsuko tiene una relación aparentemente de amor-odio con su madre, viviendo siempre en su sombra. Naoko era sin duda alguien a quien Ritsuko admiraba por su habilidad como científica. Es a través de sus notas que Ritsuko es capaz de derrotar a Ireul y evitar el hackeo de MAGI en The End of Evangelion. Al final, sin embargo, Naoko colocó sus deberes científicos sobre la crianza de su hija; y Ritsuko afirma que la odiaba como madre.\\nLos flashbacks muestran a Ritsuko como una morena natural, como Naoko. Tal vez su movimiento más obvio para diferenciarse y distanciarse de su madre es el teñir su pelo de rubio. Una de sus mayores frustraciones es caer en las mismas trampas de la vida de su madre, es decir, caer por Gendo Ikari y ser una trabajadora obsesiva.\\nDespués de que SEELE la interroga, ella mira fijamente una imagen en su computadora donde están su madre y Gendo junto con ella a un lado. En The End of Evangelion, es la programación de Naoko en la computadora Gaspar la que impidió que Ritsuko destruyera el sistema. Ella atribuyó esto a que su madre eligió a Gendo sobre su hija una última vez.\\nAunque siempre es estrictamente profesional, Ritsuko adoptó un enfoque más maternal, amable, y menos intenso con Shinji, siendo siempre firme, pero alentándolo. Parece que le agrada Shinji en una cierta medida muy limitada. Sin embargo, cuando se trata del Proyecto E, Ritsuko no duda en que es necesario sacrificar las vidas de los pilotos -incluyendo a Shinji- con el fin de lograr alcanzar lo fines propuestos.\\nLa relación de Ritsuko con Rei varía mucho entre la serie de anime, el manga y la tetralogía cinematográfica Rebuild of Evangelion. En esencia, ella ve a Rei como un reemplazo de Yui (que técnicamente lo era) y por lo tanto es la competencia por los afectos de Gendo.\\nEn la serie, Ritsuko compara a Rei con Gendo, describiéndosela a Shinji como \"una buena chica, aunque como tu padre, ella no es buena en... vivir\". Mientras que su conexión con Rei se menciona fugazmente en la serie, la misma está mucho más desarrollado en el manga de Sadamoto, donde Ritsuko fue testigo del asesinato de Rei I a manos de Naoko y el suicidio posterior de su madre.\\nComo tal, Ritsuko alberga en su interior mucho resentimiento hacia Rei, sintiendo que ella es la fuente de gran parte de su infelicidad, exacerbada por el interés de Gendo en Rei y por su conocimiento de la verdadera naturaleza de Rei.\\nEl paisaje emocional de Rei se desarrolla al interactuar con Shinji, y por esa razón ella se da cuenta de los sentimientos de Ritsuko por Gendo. Esto provoca que Ritsuko intente asfixiarla, pero se detiene a mitad de camino.\\nTiempo después, Ritsuko destruye el sistema Dummy Plug y sugiere que, al igual que estos eran piezas de repuesto para Rei, ella misma es solo una herramienta en reemplazo de su madre, y ahora ha sido descartada por Gendo.\\nRitsuko es mantenida en muy alta estima por sus colegas en NERV. Ella mantiene esta reputación gracias a su actitud fría y sus habilidades de liderazgo. Los técnicos, en particular Maya Ibuki, siguen su ejemplo con orgullo.\\nHay poca diferencia en su adaptación al manga. Sin embargo, en el manga, su desprecio hacia Rei es más evidente. En un momento, durante las revisiones médicas, Ritsuko pierde el control y trata de estrangular a Rei. Al darse cuenta de que estaba actuando igual que su madre, se detiene pero le pide a Rei no decir nada.\\nEn el volumen 10, se revela que ella\\xa0presencio el momento en que su madre mató a Rei I y luego se suicida saltando desde la parte superior de la computadora Magi. En su funeral, Gendo se acercó a Ritsuko y le pidió encargarse de los deberes de su madre.\\nEn los últimos capítulos, Ritsuko traiciona a Gendo Ikari como en The End of Evangelion. Pero, al contrario que su contraparte, ella dispara a Gendo; mientras le decía que él siempre amo a Yui, antes de morir.\\nEn Rebuild of Evangelion, Ritsuko es un personaje secundario. Al inicio de la tetralogía cinematográfica, su rol es idéntico al que vemos en la serie de televisión. Se ha mantenido la fidelidad al material original, lo cual es apreciable. Sin embargo, a partir de la tercera película, la historia de la doctora sufre cambios significativos y su participación se reduce notablemente.\\nEn Evangelion: 1.0, Ritsuko destaca en su papel como científica.\\nEn Evangelion: 1.0 You Are (Not) Alone, ella no ha sido profundizada en cuanto a sus sentimientos internos, sin embargo, destaca en su papel como científica y en sus explicaciones sobre las tácticas y estrategias desarrolladas por NERV.\\nRitsuko y Misato muestran una peculiar amistad y se las ve juntas en varias ocasiones. Además, es importante destacar que en ningún momento se sugiere que Ritsuko tenga una relación clandestina con Gendo.\\nEn Evangelion: 2.0 You Can (Not) Advance, Ritsuko adquiere un papel mas cercano a lo visto en la serie, con breves momentos de desarrollo gracias a interacciones con otros personajes como Misato Katsuragi y Ryoji Kaji.\\nElla siente una conexión emocional con los niños, lo cual resulta irónico dado que en la serie no se llevaba bien con Rei. Esta conexión se hace evidente cuando Rei sugiere invitar a Shinji a probar su comida y se lastima accidentalmente con un cuchillo. En ese momento, Ritsuko se preocupa por ella y hasta pide un teléfono para llamar a Asuka.\\nEn Evangelion: 3.0 You Can (Not) Redo, su papel es igual al de Kozo Fuyutsuki, permaneciendo a la sombra de la Capitana Misato. En un momento determinado, Ritsuko la empuja a activar el DSS Choker para matar a Shinji después de la intervención del Evangelion Mark.09, pero Misato duda y no lo activa.\\nEn Evangelion: 3.0+1.0 Thrice Upon A Time, Ritsuko continúa con la dinámica que tenía en la entrega anterior y parece haber desempeñado eficazmente su papel en la organización WILLE, logrando alcanzar el objetivo previsto.\\nCuando Gendo aparece en la parte más alta del Wunder, Misato y Ritsuko se enfrentan a él. Se revela que Gendo ha utilizado la llave de Nabucodonosor. La llave posee la capacidad de negar la humanidad de quien la usa. Gracias a ella consiguió poderes que le permiten superar a la humanidad.\\nRitsuko Akagi le dispara a Gendo en la cabeza, pero no consigue matarlo.\\nDurante su enfrentamiento con Gendo, Ritsuko no duda en atacar primero y le dispara fríamente en la cabeza, pero no consigue matarlo, ya que ahora el Comandante de NERV es teóricamente inmortal. Después, Ritsuko explica el concepto del \"Anti-Universo\" y ayuda a llevar a cabo el plan de Misato.\\nFinalmente, Misato sacrifica su vida para crear la lanza de Gaius y contener el \"Impacto Adicional\". Shinji recibe la nueva arma y decide utilizarla para apuñalarse a sí mismo, con la intención de crear un \"Neon Genesis\". Sin embargo, su madre Yui, quien había estado junto a él todo el tiempo, lo expulsa del EVA-01.\\nGendo y Yui, siendo ella el EVA-01 y Gendo el EVA-13, se sacrifican para terminar lo que Shinji comenzó. Sus acciones devuelven todos los EVAs y fallas del infinito a sus formas humanas y animales, restaurando el mundo a su estado original antes de los impactos y convirtiéndolo en un sitio sin EVAs.\\n\\n'}\n",
            "Nodo: Naoko Akagi, Atributos: {'Naoko Akagi': '赤木 ナオコ', 'Afiliación': 'GEHIRN', 'Edad': 'Desconocida', 'Sexo': 'Femenino', 'Familia': 'Ritsuko Akagi (hija)', 'Primera aparición': 'NERV: El nacimiento [NGE]  El Gigante de Luz [Manga]', 'Seiyū': 'Mika Doi', 'Doblador Latino': 'Rebeca Patiño', 'Doblador en España': 'María Pilar Quesada  Isabel Fernández Avanthay', 'Resumen': 'Naoko Akagi (赤木 ナオコ, ,  Akagi Naoko ?) es un personaje de la franquicia Evangelion.\\nEs la madre de Ritsuko Akagi y fue la científica en jefe de GEHIRN, la organización predecesora de NERV.\\nElla es la creadora de las supercomputadoras MAGI, las cuales contienen sus patrones de pensamiento. Naoko decía que MAGI representa los tres aspectos de su personalidad: ella como científica (Melchor), ella como madre (Baltasar), y ella como mujer (Gaspar). También estuvo muy involucrada en el desarrollo del Proyecto Evangelion.\\nNaoko era una científica brillante y mostraba una inquebrantable dedicación a su trabajo. Mantenía una buena pero distante relación con su hija Ritsuko.\\nAl parecer, Naoko colocó sus deberes científicos sobre la crianza de su hija. En una ocasión admitió que dejó que Ritsuko se criara por su cuenta; aceptando que actuaba como madre sólo cuando le convenía. A pesar de ser consciente de sus fallas, no hay indicios de que Naoko haya intentado compensarlas.\\nLa batalla interna de los tres sub sistemas de MAGI (la científica, la madre, la mujer) reflejan su frágil humanidad en constante disputa consigo misma.\\nNaoko se involucró sexualmente con Gendo Ikari después de la muerte de Yui. Aunque se sugiere que estaba interesada en Gendo desde antes, al describir la desaparición de Yui como algo que ella había deseado. Durante su relación, Naoko parecía aceptar que Gendo no podía olvidarse de su esposa. Sin embargo, cuando Rei le contó la verdadera opinión de Gendo, Naoko la estranguló sin dudarlo.\\nProbablemente, la semejanza de Rei con Yui fue un factor importante que hizo que Naoko perdieran la razón fácilmente. Este evento indica que Naoko estaba fuertemente unida a Gendo, lo suficiente como para matar al pensar que sería rechazada por él. En The End of Evangelion, es la programación de Naoko en la computadora Gaspar la que impidió que Ritsuko destruyera el sistema.\\nLa mayor parte de la historia de Naoko es contada por su hija Ritsuko en los flashbacks del episodio 21. Naoko fue la científica en jefe de la organización GEHIRN y trabajó con Gendo y su esposa Yui en el desarrollo de las Unidades Evangelion.\\nTambién es la diseñadora de las supercomputadoras MAGI y escribió una enorme cantidad de notas sobre ellas. Las MAGI representan los tres aspectos de su personalidad: ella como científica (Melchor), ella como madre (Baltasar), y ella como mujer (Gaspar).\\nDespués de la desaparición de Yui, Naoko comenzó una relación clandestina con Gendo, sin embargo, fue de corta duración. Cuando Rei I le contó la verdadera opinión de Gendo (diciéndole que la consideraba una \"vieja bruja\") ella entró en un breve estado de locura y estranguló a Rei. Al darse cuenta de lo que había hecho, la horrorizada Naoko decidió suicidarse, saltando de la parte superior del centro de comando del Dogma Central.\\nTras el suicidio de Naoko, SEELE decide desmantelar GEHIRN y crear la organización NERV. Todo el personal de GEHIRN fue transferido a la nueva organización NERV para así continuar con las investigaciones.\\nDespués de la desaparición de Yui, Gendo mantuvo una relación sexual con Naoko Akagi. Al parecer, él la estaba usando para promover sus planes. Naoko, al menos, parecía entender que Gendo no podía olvidar a Yui. Sin embargo, cuando Rei I le contó la verdadera opinión de Gendo (diciéndole que la consideraba una \"vieja bruja\") ella entró en un breve estado de locura y estranguló a Rei. Al darse cuenta de lo que había hecho, la horrorizada Naoko decidió suicidarse.\\nRitsuko tiene una relación aparentemente de amor-odio con su madre, viviendo siempre en su sombra. Naoko era sin duda alguien a quien Ritsuko admiraba por su habilidad como científica. Es a través de sus notas que Ritsuko es capaz de derrotar a\\xa0Ireul\\xa0y evitar el hackeo de\\xa0MAGI\\xa0en The End of Evangelion. Al final, sin embargo, Naoko colocó sus deberes científicos sobre la crianza de su hija; y Ritsuko afirma que la odiaba como madre.\\nLos flashbacks muestran a Ritsuko como una morena natural, como Naoko. Tal vez su movimiento más obvio para diferenciarse y distanciarse de su madre es teñir su pelo de rubio. Una de sus mayores frustraciones es caer en las mismas trampas de la vida de su madre, es decir, caer por Gendo Ikari y ser una trabajadora obsesiva.\\nDespués de que SEELE la interroga, ella mira fijamente una imagen en su computadora donde están su madre y Gendo junto con ella a un lado. En The End of Evangelion, es la programación de Naoko en la computadora Gaspar la que impidió que Ritsuko destruyera el sistema. Ella atribuyó esto a que su madre eligió a Gendo sobre su hija una última vez.\\nEn el manga, su rol es prácticamente el mismo. La personalidad e historia se mantienen, con algunas ligeras alteraciones.\\n\\n'}\n",
            "Nodo: Kozo Fuyutsuki, Atributos: {'Kozo Fuyutsuki': '冬月コウゾウ', 'Edad': '58 años  72 años (3.0)', 'Sexo': 'Masculino', 'Primera aparición': 'El ataque del Ángel [NGE]  El ataque del Ángel [Manga]  Evangelion: 1.0 [RB]', 'Seiyū': 'Motomu Kiyokawa', 'Doblador Latino': 'Jesse Conde  Rolando de Castro', 'Doblador en España': 'Jordi Ribes', 'Resumen': 'Kōzō Fuyutsuki (冬月コウゾウ, ,  Fuyutsuki Kōzō ?) es un personaje relevante en la franquicia Evangelion.\\nEs la persona que más cerca se encuentra de Gendo, siendo su único miembro de confianza dentro de la organización. Esto lo convierte en la segunda persona que más conoce acerca del Proyecto de Complementación Humana.\\nFuyutsuki es un hombre inteligente y de personalidad serena. En una ocasión uno de sus colegas de la universidad le dijo: \"Usted es un científico talentoso, pero subestima la importancia de la comunicación con los demás\".\\nEn 2015, Fuyutsuki es el segundo al mando en la organización NERV y mano derecha de Gendo Ikari. Como Vice-Comandante de NERV, Fuyutsuki frecuentemente toma el mando en la base cuando Gendo está de viaje.\\nFuyutsuki es el asistente y confidente de Gendo, llegando a ser una clase de conciencia externa de éste. En varias ocasiones mantiene conversaciones con Gendo, las cuales están cargadas de una filosofía humanista.\\nEn el episodio 11, Fuyutsuki comenta que Gendo siempre le deja tareas como reuniones y papeleo, y resalta la importancia de MAGI para arreglar los dilemas que se le presentan.\\nEsta conversación sirve para señalar que NERV interviene en la política de Tokio-3 y que directamente la controla MAGI, mientras se sitúa un consejo como fachada ante los ojos del público.\\nComo parte de NERV, Fuyutsuki es menos duro que Gendo Ikari. Después del desastroso ataque inicial a Israfel, Ritsuko le dice a Misato que habría sido despedida si Gendo hubiese estado allí.\\nEn cambio, Fuyutsuki estaba a cargo en ese momento y no aplicó ninguna sanción a Misato. Fuyutsuki parece estar al tanto de la personalidad de Gendo: en el episodio 13 ordena eliminar inmediatamente las manchas de corrosión (que en realidad eran Ireul) para evitar las quejas del Comandante Ikari.\\nNacido el 9 de abril de 1957, tiene 58 años. Posee el cargo de Vice-Comandante de la organización secreta NERV.\\nAntes del Segundo Impacto, era profesor de bio-metafísica en la Universidad de Kioto. El nombre de esa disciplina indica que posiblemente estudiaba el alma de los seres vivos. En este lugar conoció a Yui Ikari, una joven y talentosa estudiante de bioingeniería. Fuyutsuki se convirtió en el sensei de ella luego de leer uno de sus trabajos. El se enamoró de Yui desde el principio, pero mantuvo en secreto sus sentimientos.\\nNo mucho tiempo después, un hombre llamado Gendo Rokubungi, que estaba detenido en el Departamento de Policía de Kioto después de pelear en un bar, pidió ser liberado bajo custodia de Fuyutsuki. Él accedió pagar la fianza de Rokubungi, a pesar que le desagradó la personalidad de este.\\nTiempo después, Yui los presentó formalmente, y luego, durante una caminata con Fuyutsuki, le reveló que en realidad ella estaba saliendo con Gendo - noticia que dejó a su sensei desconcertado a pesar de sus esfuerzos por ocultarlo.\\nFuyutsuki sobrevivió al Segundo Impacto, pero su carrera como profesor universitario llegó a su fin. En el año 2002, se \"instaló\" en las ruinas de Toyohashi (en la prefectura de Aichi, al este de Kioto) como médico sin licencia para compensar la escasez de profesionales de la salud.\\nEn ese momento, fue seleccionado para formar parte de la expedición de investigación oficial de las Naciones Unidas al Polo Sur (recomendado de forma anónima por Gendo). Determinado a descubrir la verdad, Fuyutsuki investigó sin descanso para obtener información sobre el Segundo Impacto, la Expedición Katsuragi, y la misteriosa organización \"SEELE\" a la que Gendo y Yui aparentemente pertenecían.\\nGendo lleva a Fuyutsuki al GeoFront.\\nCuando Fuyutsuki obtuvo la información suficiente para respaldar sus acusaciones, se enfrentó a Gendo en el Laboratorio de Evolución Artificial. Gendo, indiferente a las amenazas de Fuyutsuki, lo llevó hacia las profundidades del GeoFront.\\nEn el Dogma Central, le mostró el primer prototipo de las Unidades Evangelion, y lo invitó a \"unirse en la creación de un nuevo génesis de la humanidad\". Finalmente, Fuyutsuki se unió a GEHIRN, aunque parecía que tenía pocas opciones. Con ellos comenzaría una serie de trabajos que culminarían en el Proyecto de Complementación Humana.\\nEn el año 2015, Fuyutsuki es visto casi siempre acompañando a Gendo Ikari en los cuarteles de NERV. En la película The End of Evangelion, Fuyutsuki queda a cargo de NERV cuando la base es atacada por la JSSDF.\\nFuyutsuki se convirtió en el sensei de ella luego de leer uno de sus trabajos y quedar impresionado por el alto nivel del mismo. La naturaleza exacta de su relación académica es desconocida, aunque se sabe que eran cercanos y pasaron tiempo juntos fuera del campus. Fuyutsuki se enamoró de Yui desde el principio, pero nunca se lo dijo a ella.\\nFuyutsuki tuvo una pésima impresión de Gendo desde el primer momento, al enterarse que estaba detenido en el Departamento de Policía después de pelear en un bar. Posteriormente, se acostumbró a trabajar con él. Está claro que la alianza entre ambos es por conveniencia. Claramente, ambos están interesados en ver de nuevo a Yui. Sin embargo, no está claro si Gendo o Yui están al tanto de la atracción de Fuyutsuki por ella.\\nDebido al enorme deseo de volver a ver a Yui, Fuyutsuki apoya los planes de Gendo. Su tarea no se limita a ser sólo su consejero, sino a velar por el cumplimiento de sus planes, lo que lo pondrá en una situación peligrosa. Esto queda demostrado cuando SEELE lo rapta para interrogarlo, debido las crecientes dudas que abrigan respecto de las verdaderas intenciones de Gendo Ikari.\\nEn el manga, Fuyutsuki es un personaje secundario y su rol es prácticamente el mismo que en la serie.\\nEn la tetralogía de Rebuild of Evangelion, Fuyutsuki es un personaje secundario. En las dos primeras películas de Rebuild, tiene una función similar a lo visto en la serie, quedando a la sombra de Gendo y simplemente comenta sobre la interacción de este con SEELE, Misato y Shinji.\\nEn Evangelion: 3.0 You Can (Not) Redo aparece hablando con Gendo sobre el silencio de SEELE, diciéndole que está de acuerdo con sus planes por el bien de Yui. También le comenta a Gendo sobre Kaworu Nagisa y su relación con Shinji; y si permitirá a Shinji saber algo sobre él.\\nFuyutsuki entra en contacto con Shinji y ambos juegan Shogi, siendo esta una excusa para mostrarle una foto de Yui. Fuyutsuki le explica lo que pasó con ella, los orígenes de Rei Ayanami e impartió un poco de verdad a Shinji sobre su padre.\\nEn Evangelion: 3.0+1.0 Thrice Upon A Time, se muestra una operación llevada a cabo por la organización WILLE en la ciudad de París. El objetivo es restaurar las instalaciones de Euro NERV a través de un pilar de sellado.\\nDicho pilar puede usarse para activar el sistema Anti-L, el cual es un método capaz de anular los efectos de la barrera L que cubre la ciudad. Fuyutsuki envía los Evangelion Mark.44 (modelos A y B) así como al Evangelion Mark.4444C para detener a WILLE, pero no lo consiguen.\\nLa Luna Negra empieza a moverse lentamente con dirección a la Antártida.\\nLuego, Gendo y Fuyutsuki se disponen a realizar su movimiento final. Por esa razón, la Luna Negra empieza a desplazarse lentamente hacia el epicentro del Segundo Impacto. El Wunder llega a la Antártida y es interceptado por el NHG Erlösung, el NHG Erbsünde y el NHG Gebet controlado por Fuyutsuki. Durante la batalla, el Wunder es inmovilizado por una de las naves de NERV.\\nFinalmente, la Luna Negra es transformada en una nueva lanza de grandes dimensiones, la cual es necesaria para llevar a cabo el procedimiento que le permitirá a Gendo y Fuyutsuki alcanzar su objetivo.\\nMari se infiltra en el NHG Erlösung y habla con Fuyutsuki. Este la reconoce y se dirige a ella como \"Mari Iscariote\". La muchacha lo llama \"Fuyutsuki-sensei\", y agrega que ha pasado mucho tiempo desde que alguien la llamó por ese nombre.\\nAmbos hablan brevemente sobre los planes de Gendo, y luego Mari se va. Al poco tiempo, Fuyutsuki se convierte en LCL. Mari regresa a su EVA y se encuentra rodeada por los EVAs Opfer Type, el Mark.10, el Mark.11, y el Mark.12. Ella los derrota fácilmente y su EVA los devora, llevando a la Unidad-08 a un estado de \"superposición\".\\nDurante el final, Shinji se propone comprender a Gendo, ya que entendió que eso es necesario para detenerle. Finalmente, el joven logra entender a su padre. De esta forma, ayuda a Gendo a encontrar un cierre adecuado.\\n\\n'}\n",
            "Nodo: Maya Ibuki, Atributos: {'Maya Ibuki': '伊吹マヤ', 'Edad': '24 años  38 años (3.0)', 'Sexo': 'Femenino', 'Primera aparición': 'El ataque del Ángel [NGE]  El ataque del Ángel [Manga]  Evangelion: 1.0 [RB]', 'Seiyū': 'Miki Nagasawa', 'Doblador Latino': 'Alma Wilheleme  Mariana Ortiz  Anette Ugalde  Mariana Gómez', 'Doblador en España': 'Nuria Trifol', 'Resumen': 'Maya Ibuki (伊吹マヤ, ,  Ibuki Maya ?) es un personaje secundario de la franquicia Evangelion.\\nMaya es una de los tres principales técnicos informáticos de los cuarteles generales de NERV, junto con Makoto Hyuga\\xa0y Shigeru Aoba. Sirve directamente a la doctora Ritsuko Akagi. Maya actúa con frecuencia como asistente de Ritsuko, sobre todo en el trabajo con MAGI, y también es la encargada del monitoreo de las Unidades Evangelion.\\nDurante el combate contra los Ángeles, ella opera junto con Aoba y Hyuga las estaciones de control primarias en el nivel superior del centro de comando del Dogma Central.\\nLa Teniente Primero Maya Ibuki es una técnica de la organización NERV que trabaja bajo la supervisión de Ritsuko Akagi. Su papel principal durante las luchas con los Ángeles consiste en monitorizar constantemente la sincronización de los pilotos y enviar comandos de emergencia a los mismos según lo ordenado por Misato Katsuragi o el comandante Gendo Ikari.\\nMaya es una joven sensible, optimista y alegre. Su naturaleza sensible es evidente por su tendencia a ocultar sus ojos o vomitar durante las batallas más violentas de las Unidades Evangelion. Cuando los soldados de la JSSDF irrumpieron en el GeoFront en The End of Evangelion, ella se niega a dispararles, diciendo que no tiene el coraje de matar a otro ser humano.\\nMaya a demostrado ser muy fiel y de naturaleza confiada. Ella está asombrada por los avances tecnológicos que la sociedad actual ha alcanzado. En la época del Segundo Impacto, Maya era una niña pequeña, y probablemente vivió el caos global en el que la civilización dolorosamente se reconstruyó, en una sociedad que luchaba para alimentar a su población. Es posible que Maya idealiza la ciencia y la tecnología, ya que es lo que finalmente salvó el mundo sumido al borde del colapso.\\nElla cree en la utopía tecnológica que Tokio-3 representa, comentando con entusiasmo que \"es una ciudad hecha para todos, en una era donde la ciencia no tiene rival\", aunque Aoba rechaza sus creencias. Cabe destacar que ella admira a Gendo Ikari y Kozo Fuyutsuki\\xa0por su \"frescura\" durante un apagón en el episodio 11, sin darse cuenta que Ikari tenía los pies sumergidos en un cubo de agua.\\nMaya Ibuki leyendo durante su tiempo libre.\\nA Maya le gusta leer. En una ocasión, se la ve leyendo una novela romántica durante su tiempo libre en la base de NERV. También tiene algunas aficiones de niña, incluyendo una etiqueta de conejo pegada en la pantalla de su computadora portátil, y una almohada de gato rosa en su puesto de trabajo. Esto podría estar relacionado con la afinidad de Ritsuko Akagi por los gatos, ya que Maya tiene un fuerte vínculo con la Dra. Akagi.\\nMaya es amigable con sus compañeros de trabajo, y expresa sus dudas a Ritsuko sobre el uso de nuevas tecnologías que ella considera peligrosas, como el Dummy Plug. No está claro hasta qué punto sabe acerca de la agenda oculta de NERV, pero siendo ayudante de Ritsuko probablemente sabe más que Misato o Hyuga, en una ocasión en el episodio 17, Ryoji Kaji intento besarla en los labios, a pesar de que lo amenazo con reportarlo con Akagi, por lo tanto kaji estando consciente de que es un hombre muy atractivo, inmediatamente pretende besarla con el argumento de evitar ser reportado, diciéndole que deberá tapar su boca con sus labios, desafortunadamente para ella Misato los interrumpe justo cuando estaban apunto de besarse, para deleite de Kaji.\\nEs evidente que Maya siente algo por Ritsuko, aunque al principio sólo parece sentir admiración profesional. Es vista trabajando al lado de Akagi, y siempre se refiere a ella como \"Ritsuko-Senpai\" o simplemente \"Senpai\", un título honorífico dirigido hacia una persona de mayor rango.\\xa0Sin embargo, la forma que toma Rei Ayanami durante el Proyecto de Complementación Humana es la de Ritsuko, quien dice \"te necesito\" (literalmente: \"I NEED YOU\") escribiéndolo en la computadora portátil de Maya.\\xa0Antes de convertirse en LCL, Maya gritó \"Senpai! Senpai! Senpai!\"\\xa0con una mirada de éxtasis y lágrimas en sus ojos.\\xa0Esto sugiere que Maya estaba secretamente enamorada de Ritsuko.\\nEn el manga, Maya es un personaje secundario y su rol es prácticamente el mismo que en la serie.\\nEn la tetralogía de Rebuild of Evangelion, Maya es un personaje secundario. En las dos primeras películas, su rol es prácticamente el mismo que en la serie. Sin embargo, en Evangelion: 3.0 You Can (Not) Redo, Maya forma parte de la organización WILLE creada luego del Casi-Tercer Impacto y cuyo objetivo es destruir NERV.\\nEn ANIMA, Maya es la Directora de la división de desarrollo tecnológico de NERV Japón. Tiene 27 años de edad. Las gafas que usa pertenecieron a su antigua superior Ritsuko Akagi, la cual después de la batalla en los cuarteles de NERV Japón fue dada como MAC (muerta en combate).\\n\\n'}\n",
            "Nodo: Asuka Langley Soryu, Atributos: {'Asuka Langley Soryu': '惣流・アスカ・ラングレー', 'Afiliación': 'NERV', 'Rango': 'Second Children', 'Edad': '14 años', 'Sexo': 'Femenino', 'Familia': 'Kyoko Zeppelin Soryu (madre fallecida)  Madrastra en Alemania', 'Primera aparición': 'Asuka llega a Japón [NGE]  Asuka llega a Japón [Manga]', 'Seiyū': 'Yuko Miyamura', 'Doblador Latino': \"Georgina Sánchez  Norma Echevarría (Primer doblaje de NGE)  Nallely Solís (Episodios Director's Cut de NGE, doblaje de Animax)\", 'Doblador en España': 'Ana Pallejá  Vera Bosch', 'Resumen': 'Asuka Langley Soryu (惣流・アスカ・ラングレー, ,  Sōryū Asuka Rangurē ?) es la Second Children elegida por el\\xa0Instituto Marduk, designada como piloto del Evangelion Unidad 02.\\nSegunda adolescente femenino\\nDestacan de su aspecto su pelo rojo llameante, que recoge con sus Clips A10, y sus ojos azules, posiblemente provenientes de su herencia genética alemana. Su mejor amiga es su compañera y representante de clase, Hikari Horaki.\\nEn la tetralogía cinematográfica Rebuild of Evangelion está su homóloga, llamada Asuka Langley Shikinami.\\nAsuka es una joven talentosa que valora su autonomía y anhela ser reconocida como adulta. No obstante, resulta evidente que tiene dificultades para expresar sus verdaderos sentimientos a los demás, siendo agresiva, presumida y obstinada en muchas ocasiones.\\nSu personalidad agresiva es una fachada que protege a una niña muy vulnerable e insegura, siendo esa una faceta que el espectador sólo ve en los sueños de la joven.\\nEs importante resaltar que Asuka busca olvidar su pasado. Los fatídicos eventos de su niñez la marcaron, y por eso intenta olvidarlos. Sin embargo, sueña frecuentemente con dichos eventos.\\nDurante el entrenamiento para combatir a Israfel, Asuka argumentaba que todo salía mal por culpa de Shinji. Luego, Misato Katsuragi propone poner a Rei en su lugar, y para sorpresa de todos, rápidamente Ayanami obtiene mejores resultados, lo cual hace visible que el problema radicaba en Asuka.\\nLa revelación la deja consternada, y no acepta la idea de que Rei ocupe su lugar. Por todo lo dicho anteriormente, ella tiene una fuerte necesidad de ser autosuficiente, pero exhibe una gran dificultad para lidiar con su fracaso autopercibido.\\nAsuka es también muy habladora, extrovertida y carismática, lo que le permitió ser muy popular en el instituto. No tiene vergüenza y hace lo primero que se le pasa por la cabeza, como pedirle un beso a Shinji simplemente porque se aburre.\\nAsuka presumiendo su Evangelion.\\nSu personalidad podría estar marcada como una clase de \"refuerzo de la identidad\": se jacta constantemente de que su EVA es mejor, que ella es la esperanza de NERV y de que nadie la olvidará o la confundirá por algo que no es, lo cual se interpretaría como su forma de asegurarse de no volver a pasar lo que vivió en su niñez y de justificar su propia existencia. La seiyuu de Asuka, Yuko Miyamura, escribió sus experiencias interpretando a Asuka:\\n\"Quiero hacer saber que Asuka no fue el personaje más abierto de corazón que he conocido... Cada vez que intentaba sincronizarme conmigo misma, Asuka nunca permitiría sincronizarse conmigo. Incluso en el final, Asuka nunca se acercaría a mí. Se hizo la última escena en The End of Evangelion, pero no me pareció que la personalidad de Asuka hubiese avanzado. Un día me plantee que había un muro en su corazón.\\nDesde su primera aparición, se ve claramente que Asuka está enamorada de Ryoji Kaji. Ella no conoce los detalles de su pasado, pero parece estar enamorada de él debido a su madurez y atractivo físico. Además, esta atracción está estrechamente relacionada con su deseo de dejar atrás la niñez y convertirse en adulta.\\nAsuka quiere escapar de su condición de niña y busca encontrar en Kaji las cualidades que representan la madurez que tanto anhela. Por estas razones, Kaji le resulta atractivo, mientras que Shinji le genera cierta aversión. Sin querer hacerlo, Shinji le recuerda las características infantiles e inseguras que ella desea evitar. A pesar de esto, en numerosas ocasiones se ve que Asuka tiene sentimientos ocultos por el joven Ikari.\\nElla reprime sus sentimientos hacia Shinji y le anula frente a otras personas. En el episodio 09, Asuka mueve su futón a otra habitación. Luego, se sitúa en la puerta y le dice a Shinji: éste es el impenetrable Muro de Jericó. Si te atreves a invadirlo, te mato. Durante esa escena, Asuka coquetea con Shinji, pero él no se da cuenta.\\nNo está claro si Asuka sólo quiere algo de atención, o si quiere algo más que eso. Lo que sí queda claro, es que ella le lanzó una indirecta, dando a entender que quería que Shinji pase \"el Muro\". Pero el joven no entendió la indirecta, y se tomó de forma literal las palabras de Asuka: \"Si te atreves a invadirlo, te mato\". Lo curioso, es que luego Asuka va por sí misma a dormir con Shinji, y no queda claro si caminaba dormida (y se confundió de cama) o tenía otras intenciones.\\nPor otro lado, su amor por Kaji hace que nazcan en su corazón unos profundos celos hacia Misato Katsuragi, lo cual resulta ser algo negativo, ya que impide que ambas puedan construir lazos de confianza.\\nAsuka es una joven muy inteligente, y se graduó de la universidad a temprana edad. Además, es una piloto excepcional. Debido a esto, siempre presume y se muestra orgullosa de haber sido seleccionada. Ella posee un alto nivel de sincronización, superando el de Shinji hasta el episodio 16.\\nEn el episodio 17, Toji Suzuhara es seleccionado para ser el Cuarto Niño elegido para pilotar una Unidad Evangelion. Cuando Asuka lo descubre se enfurece mucho al pensar que Toji no es digno.\\nAsuka sufre una fuerte crisis mental después de ser forzada por el ángel Arael a revivir recuerdos dolorosos de su pasado. Debido a esto ella pierde el deseo de vivir y se vuelve incapaz de pilotar el EVA-02 otra vez hasta The End of Evangelion, en donde lucha contra los EVAs de Producción en Masa.\\nEn esa lucha, Asuka tenía la batalla casi ganada. Sin embargo, una unidad enemiga le lanzó una réplica de la lanza de Longinus que atravesó su campo AT. Segundos después, el EVA-02 se quedó sin energía y fue aniquilado junto con Asuka (aunque nunca se muestra expresamente la destrucción del Entry Plug); no obstante ella vuelve a aparecer cuando Shinji rechaza el Proyecto de Complementación Humana.\\nAsuka es mitad japonesa y mitad alemana, al parecer, por parte de su madre. Mientras que por parte de su padre es mitad estadounidense. Su madre, Kyoko Zeppelin Soryu, fue parte de la rama alemana de GEHIRN y participó en el Proyecto E.\\nCuando Asuka tenía cuatro años, su madre realizó un experimento de contacto con el Evangelion Unidad 02. A pesar de que físicamente sobrevivió a la prueba, Kyoko quedó mentalmente inestable, creyendo que una muñeca era su hija y refiriéndose a su hija real como \"esa chica\". Durante este periodo, el padre de Asuka inicio una relación con la doctora que atendía a Kyoko.\\nCon el paso del tiempo, la condición de Kyoko empeoró y eventualmente se volvió suicida. Pensando que la muñeca era su hija, Kyoko la degolló diciendo \"muere conmigo\". Después de ser seleccionada como piloto, Asuka estaba muy emocionada y fue corriendo a contarle a su madre, sólo para descubrir que esta se había suicidado.\\nLa horrible muerte de su madre dejó profundas cicatrices emocionales en el corazón de Asuka. Después de experimentar estos trágicos eventos, Asuka se negó a llorar durante el funeral de Kyoko, y declaró que de ahora en adelante tendría que cuidarse ella sola.\\nTiempo después, su padre se volvió a casar y la actitud defensiva de Asuka rápidamente repelió a su nueva madrastra. Con el tiempo, las dos aprendieron a tolerarse entre sí, manteniendo una fachada alegre de una familia normal.\\nAsuka vivió un tiempo en Alemania. Ahí conoció a Misato Katsuragi y tiempo después a Ryoji Kaji. La joven demostró ser una niña prodigio, ganando un título universitario cuando todavía era una adolescente y adquiriendo fluidez hablando japonés (aunque siempre tuvo cierta dificultad para leer y escribir kanji).\\nAsuka en su primera aparición.\\nAsuka es introducida por primera vez en el episodio 08 junto con su Evangelion. Misato lleva a Shinji, Toji, Kensuke al convoy naval de las Naciones Unidas encargado de transportar la Unidad-02.\\nLa joven se decepciona al conocer a Shinji y dice que es aburrido. A pesar de esto, muestra interés por él (después de enterarse de su capacidad innata para sincronizarse con la Unidad-01). Cuando Gaghiel ataca la flota, ella ve una oportunidad de impresionar a Shinji, y demostrar su superioridad ante todos. Por esa razón, decide usar el Evangelion Unidad-02 sin solicitar la autorización de Misato.\\nUna vez activado, el EVA-02 saltó de barco en barco hasta alcanzar el portaaviones. A pesar de la difícil situación, Asuka demostraba confianza y desplegó el cuchillo progresivo con la intención de luchar cuerpo a cuerpo con Gaghiel. Dando un gran salto, el ángel los envistió y haciendo uso de su enorme fuerza los arrojó al mar fácilmente, lo cual representa un problema para el EVA que usaba el equipamiento B-type y no estaba preparada para luchar bajo el agua.\\nShinji se ha vuelto pragmático y se mantiene calmado, mientras que Asuka se distrae fácilmente al sentirse incómoda por tenerlo demasiado cerca de su cuerpo. Le dice a Shinji que no haga nada raro, ambos están muy juntos. Shinji no sabe de lo que habla Asuka, ya que su atención está enfocada en matar al ángel.\\nAfortunadamente, Misato ideó un plan que consistía en utilizar el EVA como si fuera el cebo y pescar al ángel enrollando el cable umbilical. Al mismo tiempo, intentarían hundir dos acorazados en línea con el cable para hacer que el ángel los engullera gracias a que la Unidad-02 abriría sus fauces, para luego disparar todos los cañones contra su núcleo, situado en el centro de la boca. Esto, junto con la autodestrucción de los barcos, destruiría al enemigo.\\nFinalmente, Shinji y Asuka a bordo de la Unidad-02 logran sincronizar justo a tiempo y consiguen abrir la boca del ángel. La gigantesca explosión mató a Gaguiel y envió volando a la Unidad-02, la cual aterrizó sobre la cubierta del portaaviones.\\nEn el episodio 09, Asuka intenta interactuar con Rei Ayanami sin demasiado éxito. Asuka le ofreció su amistad, pero Rei le respondió que la aceptará cuando le sea ordenado. Luego, aparece el siguiente ángel. Tras salir del mar, Israfel se encontró con Asuka y Shinji.\\nDesafiando las órdenes de actuar junto a su compañero, Asuka atacó al ángel y lo partió en dos usando el Sonic Glaive. Para sorpresa de todos, Israfel se separó en dos Ángeles idénticos y venció a ambos EVA con facilidad.\\nDebido al fracaso de ambos pilotos, NERV tuvo que ceder el mando a las fuerzas de las Naciones Unidas, que atacan a los Ángeles con una bomba N² y destruyen un 28% de su sustancia estructural, paralizándolos por seis días.\\nPara mejorar su trabajo en equipo, Misato obligó a Shinji y Asuka a vivir justos en su apartamento y entrenar para vencer al ángel. Israfel fue finalmente eliminado por la acción sincronizada de Asuka y Shinji, dirigida mediante música y memorización de movimientos, forzando a su enemigo primero a separarse y luego a unirse, aprovechando que en ese momento ambos núcleos son visibles, y entonces destruirlos.\\nPoco después, el ángel Sandalphon fue descubierto en el cráter del Monte Asama. Luego de comprobar la veracidad del hallazgo, NERV declaró una orden A-17, la cual es un ataque preventivo. La operación consiste en atrapar al ángel con vida y la Unidad-02 fue enviada a capturarlo con una jaula electromagnética especial. Para realizar esta peligrosa misión, el EVA usa el equipamiento D-type, capaz de soportar las condiciones del magma.\\nEVA-02 usando el Equipamiento D-type.\\nDurante la operación, el ángel despertó y la Unidad-02 perdió su cuchillo progresivo. Aunque la Unidad-01 envió su cuchillo, éste no sirvió para derrotarlo.\\nFinalmente Asuka y Shinji tuvieron una idea: usar el refrigerante del traje para rociarlo en la boca del ángel y hacer que estallase mediante la dilatación térmica. Sandalphon fue destruido y se desintegró, no sin antes rasgar los cables que sostenían a la Unidad-02. Cuando ésta se precipitó a las profundidades, Shinji se adentró en el magma e impidió que Asuka cayese.\\nTiempo después ocurre un misterioso corte de energía en Tokio-3 y el ángel Matarael emergió del océano. Cuando llegó a Tokio-3, el ángel comenzó a abrirse un túnel hacia el GeoFront segregando un potente ácido. Los Evangelion treparon por los túneles, llegando a un pozo de acceso situado bajo la posición del ángel. Siendo salpicados por el ácido corrosivo, los EVAs cayeron por el pozo y perdieron sus armas.\\nAnte ésta difícil situación, Asuka tomó el mando e ideó un plan, en el cual la Unidad-02 neutralizaría el campo AT del ángel y les protegería del ácido, mientras que Rei saltaría al fondo del pozo, recuperaría el arma y se la pasaría a la Unidad-01.\\nFinalmente, la Unidad-02 se apartaría del camino permitiendo a la Unidad-01 disparar al ángel. El plan fue ejecutado perfectamente, y Matarael murió cuándo la Unidad-01 disparó sobre él con el pallet rifle.\\nEn el episodio 12, fue realizado un experimento con los Test Plug, el cual demostró que la sincronización de Shinji estaba mejorando rápidamente. Esto hizo enfadar a Asuka ya que pensó que Shinji podría superarla. Luego, Asuka participó en otra operación conjunta de los tres EVAS para derrotar al ángel Sahaquiel, el cual caía como si fuera una enorme bomba proveniente del espacio exterior. Primero detuvieron su caída y neutralizaron su campo AT. Finalmente, apuñalaron su núcleo con el cuchillo progresivo.\\nEn el episodio 14, Ritsuko desarrolla un experimento de intercambio de pilotos para evaluar la compatibilidad con otras unidades. Asuka no participa en este experimento, pero NERV realiza la prueba número 87 de sincronización con ella. La prueba concluye con éxito.\\nEn el episodio 15, Hikari Horaki le pide a Asuka que tenga una cita con un amigo de su hermana. La joven inicialmente acepta y va la cita, pero se aburre rápidamente y deja al chico plantado. Estando ya en casa, Asuka reta a Shinji a besarla, pero luego se pone celosa de Misato al descubrir que ella había estado con Kaji.\\nTiempo después aparece el ángel Leliel. NERV despliega todas sus unidades para interceptarlo. Shinji le hace frente, lo que resulta en un desastroso error y la Unidad-01 es capturada por el Mar de Dirac. Asuka logra esquivarlo justo a tiempo, evitando ser absorbida. Posteriormente, la Unidad-02 iba a participar en la operación para destruir a Leliel; sin embargo, la Unidad-01 entró en modo berserk y destruyó al ángel por sí sola.\\nMás tarde, la Unidad-04 se desvanece en un misterioso accidente junto con la Segunda Rama de NERV y la Unidad-03 es enviada a Japón. Durante la prueba de activación el Evangelion es poseído por el ángel Bardiel y NERV despliega sus unidades. La Unidad-02 permanece oculta mientras espera órdenes, pero nunca llega a combatir con el ángel. Asuka es atacada por Bardiel de forma rápida e inesperada, siendo derrotada en cuestión de segundos.\\nPoco después, el ángel Zeruel comienza su asalto, destruyendo las defensas de Tokio-3 sin dificultades. Asuka le espera en el GeoFront\\xa0con una gran cantidad de armas; sin embargo, todas resultan ineficaces contra el poderoso campo AT del ángel.\\nDe forma inesperada, Zeruel cortó los brazos y la cabeza de la Unidad-02 con sus afiladas cuchillas. Zeruel fue finalmente derrotado por la Unidad-01 en modo berserk. Debido a este combate, la Unidad-02 superó el Límite Henflick y quedó fuera de servicio por un tiempo.\\nDe manera equivocada, Asuka llegó a la conclusión de que las recientes victorias de la Unidad-01 se debían exclusivamente a las habilidades de Shinji, lo que generó en ella un sentimiento de odio hacia él. Después de su derrota en la batalla contra Zeruel, su confianza en sí misma comenzó a debilitarse, lo que afectó su sincronización y eficacia como piloto.\\nEste dilema culmina en el episodio 22, cuando Arael aparece y Asuka, agobiada por los resultados cada vez más pobres en las pruebas de sincronización, se enfureció al ser colocada como respaldo de Rei Ayanami.\\nAnte esta situación, Asuka desafía las órdenes y trata de atacar el ángel sola, pero es abrumada por un ataque psicológico lanzado por Arael, que la obligó a revivir sus recuerdos dolorosos y le generó en una crisis mental. Debido a eso, la joven pierde la voluntad de vivir.\\nPoco después, la joven discute con Shinji y se entera de la muerte de Kaji. Por esa razón escapa y se va a vivir a casa de Hikari Horaki. Durante el ataque del siguiente ángel, Armisael, Asuka es incapaz de sincronizar con la Unidad-02 y es retirada inmediatamente del campo de batalla.\\nTras estos eventos, Asuka se dirige hacia un edificio abandonado con la intención de quitarse la vida. Sin embargo, es rescatada por los agentes del departamento de inteligencia. Tras observar el grave estado de Asuka, se toma la decisión de internarla en el hospital. Como consecuencia, la joven pasa los últimos episodios de la serie postrada en una cama de hospital, en un estado catatónico.\\nEn The End of Evangelion, cuando la Fuerza de Autodefensa Estratégica de Japón invade el cuartel general de NERV, Asuka es colocada dentro de la Unidad-02 y sumergida en un lago dentro del GeoFront para su protección.\\nCuando es bombardeada por las cargas de profundidad de la JSSDF, Asuka declara que no quiere morir y, en un momento de claridad, se da cuenta de que el alma de su madre se encuentra dentro del EVA. Con su propia identidad recobrada, sale con su EVA y derrota a las fuerzas de la JSSDF con relativa facilidad.\\nAl ver que la JSSDF no podía destruir a la Unidad-02, SEELE decide enviar a los nueve EVAs de Producción en Masa para neutralizarla. Después de una intensa batalla, Asuka logró derrotar a todos los EVAs. No obstante, una réplica de la lanza de Longinus aparece y perfora el ojo del EVA-02 momentos antes de su desactivación.\\nSegundos después, las nueve unidades enemigas se reactivaron sin dificultad gracias a su motor S², el cual les permite seguir funcionando a pesar de estar gravemente dañados. Con sus alas desplegadas, las rapaces criaturas se abalanzaron sobre el indefenso EVA-02, que había agotado toda su energía, y lo despedazaron brutalmente.\\nLa sincronización de Asuka en el momento de la destrucción de la Unidad-02 era impresionante, tanto así que ella sentía cada golpe y herida que recibía el EVA.\\nUna vez neutralizado su objetivo, los nueve EVAs avanzaron a la siguiente fase del plan de Instrumentalización. Después de que Shinji rechaza la Instrumentalización, Asuka aparece a su lado en la escena final de la película.\\nA lo largo de la serie es evidente que Asuka tiene una relación de amor/odio con Shinji. Su relación con el joven piloto es uno de los aspectos centrales de la serie y afecta a ambos personajes en múltiples niveles. Se sienten atraídos el uno por el otro, pero no son capaces de expresar sus sentimientos. Mayormente Shinji es tranquilo y amigable, pero también sumiso cuando se trata de Asuka, especialmente cuando ella se impone contra él de forma abusiva.\\nEn los primeros capítulos después de la aparición de Asuka, Shinji se enfrentaba frecuentemente a ella cuando su actitud se torna insoportable, pero luego de un tiempo, el joven se acostumbró a la personalidad de la chica y sus peleas disminuyeron un poco.\\nLas burlas de Asuka hacia él son un medio de defensa que la joven utiliza, pero por varias razones (principalmente por su complejo de inferioridad) Shinji no reconoce la auténtica intención de Asuka y sólo piensa peor de sí mismo cuando escucha las críticas, cosa que molesta a Asuka y confunde aún más al joven Ikari.\\nDurante el episodio 15, ambos tienen un leve acercamiento. Asuka asume una actitud directa y desafía a Shinji a besarla. El joven acepta y se besan. Sin embargo, su relación no pudo prosperar debido a los celos de Asuka, producidos al ver que Misato llegaba acompañada de Kaji.\\nDurante el episodio 16, la sincronización de Shinji mejora y consigue superar la de Asuka. Debido a esto ella se siente molesta, ya que no tolera la idea de ser superada por Shinji. Luego, las sucesivas derrotas que experimenta la joven representan un duro golpe para su orgullo.\\nPoco a poco crece su odio hacia Shinji, debido a que el EVA-01 eliminó a los Ángeles Bardiel y Zeruel. Probablemente Asuka interpreta erróneamente que dichas victorias son obra de Shinji, sin darse cuenta que el Dummy Plug y el modo berserk jugaron un papel relevante.\\nLa relación entre los dos llega a ser un factor clave en los acontecimientos de The End of Evangelion. Al comienzo, Shinji trata de despertar a Asuka de su estado de inconsciencia en el hospital, pidiéndole ayuda. Tira accidentalmente de la sábana y descubre el pecho de Asuka, a la vista de cuál se masturba, aunque luego queda disgustado y horrorizado consigo mismo por ello.\\nSu culpabilidad incrementada por sus antiguos traumas le hace volverse tan insensible a su propia existencia que no se resiste cuando los soldados de la JSSDF intentan matarlo. Esto obliga a Misato a salvarlo y llevarlo literalmente a rastras hasta la Unidad-01, al tiempo que intenta sacarlo de su estado. Después de ver los restos de la Unidad-02 en manos de los EVAs de Producción en Masa Shinji comprende que llegó tarde para salvar a Asuka y entra en pánico.\\nMomentos después, tiene una visión en la que Asuka y él están en el apartamento de Misato. Una vez más, Shinji intenta ayudar a Asuka y, al mismo tiempo, revelar sus verdaderos sentimientos por ella (\"Quiero ayudarte... estar contigo... pues eres la única persona que puede ayudarme\"). Asuka niega sus alegaciones y critica la naturaleza egoísta de su percepción. Abrumado con su propia desesperanza, Shinji pierde el control y la estrangula.\\nSin embargo, en la última escena Shinji aparece en una playa con nada menos que Asuka. Él trata de estrangularla mientras ella no se resiste físicamente, y entonces ella levanta la mano para acariciar su rostro de modo parecido al que Yui hizo momentos antes. Shinji se derrumba llorando sobre Asuka y ella masculla. El significado exacto de la simbología en esta escena, así como el significado de la frase de Asuka, no son claros y están muy debatidos.\\nComo curiosidad, en el último capítulo de la serie, en las escenas de un mundo sin los EVAs, cuando Asuka va a buscar a Shinji a su casa, la conversación que mantienen ambos es idéntica a la de Gendo y Yui en ese mismo momento, subrayando de forma humorística una posible relación de pareja.\\nEn sus primeras apariciones en la serie se denota que Asuka está enamorada de su tutor Kaji, aunque la enorme diferencia de edad hace imposible cualquier relación entre ellos. Kaji suele recordárselo en ocasiones, e incluso le dijo \"En Japón vas a tener muchos pretendientes... Me han dicho que el Tercer Niño es un chico\", aunque ella lo rechaza de pleno aún sin conocerlo. Después de la muerte de Kaji, como Misato no se lo dice a Asuka, ésta suele acusarla de ser elegida por Kaji, hiriendo sus sentimientos sin saberlo.\\nDesde el momento en que Rei rechazó la petición de amistad de Asuka, las dos se distanciaron de forma irreversible. Asuka percibe a Rei erróneamente como una chica que se cree mejor que los demás. Frecuentemente llama a Rei \"Niña Modelo\" de manera sarcástica. El silencio de Rei sólo empeora la impresión que Asuka tiene de ella.\\nAsuka repetidamente dice chistes sobre Rei y su relación con Shinji. Pero también muestra celos al verlos pasar tiempo juntos. Asuka se enfurece cuando Rei y Shinji realizan con éxito la rutina de baile para combatir a\\xa0Israfel; ya que ella estaba teniendo dificultad con dicha rutina.\\nEn el\\xa0episodio 11, Asuka insiste en afirmar que Rei recibe un mejor trato que los demás, pero Rei le dice que eso no es verdad. En el\\xa0episodio 16, Asuka se siente muy frustrada ya que Shinji obtuvo una sincronización más alta que ella, y Rei inicialmente la ignora. Luego, cuando Shinji es absorbido por\\xa0Leliel\\xa0y Asuka lo critica, Rei le hace frente, en un aparente intento por defender a Shinji de las críticas.\\nEn el\\xa0episodio 22, Rei trata de ofrecerle un consejo a Asuka, luego de ver su incapacidad para pilotar el EVA-02, pero Asuka le responde con insultos y una bofetada.\\nDesde su llegada a Japón, se ha vuelto su mejor amiga. En la mayoría de las ocasiones, aparecen juntas. De alguna manera, sabe que Hikari está enamorada de Toji. Cada vez que algo le pasaba a su amiga, Hikari se preocupaba e intenta reparar el daño. Cuando Asuka se vuelve emocionalmente inestable tras la batalla contra Arael, le deja quedarse en su casa, en donde ella se preocupa por evitar ser una molestia.\\nEn el manga, Asuka aparece por primera vez en el cuarto volumen de la adaptación al manga de Yoshiyuki Sadamoto. En lugar de la batallar junto con Shinji contra Gaghiel, en el manga sólo se muestra un breve vídeo sobre cómo Asuka derrota al ángel.\\nAsuka y Shinji se conocen en un arcade, donde ella está pateando furiosamente una máquina y le exige 100 yens a Shinji, Toji y Kensuke por verle las bragas. Entonces un atracador y su banda aparecen, y Asuka (con un poco de ayuda de Toji) les derrota a todos. Shinji no descubre que ella es la Second Children hasta que llegan al cuartel general de NERV.\\nEn el manga, Asuka aparece como nacida por inseminación artificial. Su madre, después de que su marido se divorciase de ella por su incapacidad para tener hijos, se presentó a un experimento de eugenesia de un banco de esperma. Por tanto, Asuka fue el resultado de Kyoko Zeppelin Soryu y de un científico \"de renombre\".\\nAunque ella afirma ser única debido a su origen, en realidad tiene un complejo de inferioridad debido a su creencia de que fue creada a partir de \"piezas de repuesto\" y materiales artificiales. Esto hace que Asuka intente compensarlo con su personalidad cotidiana.\\nAdemás, el manga reintroduce la infame escena del hospital de The End of Evangelion. Sin embargo, en esta ocasión Shinji la zarandea gritando que la que yace ante él no es la chica a la que quiere proteger y Asuka despierta para intentar estrangularlo. El personal del hospital los separa y Shinji es llevado afuera de la habitación mientras Asuka grita que los odia a todos. Luego, Shinji rompe a llorar tras ver a Gendo y Rei pasar junto a él sin hacerle caso.\\nDurante el ataque de la JSSDF a la sede de NERV, Asuka (todavía en estado catatónico) es introducida en el Evangelion Unidad 02, el cual es sumergido en el lago para ocultarlo. Dentro del Entry Plug, la madre de Asuka se aparece frente a ella. Con su confianza renovada la joven comienza a pelear diciendo \"siento llegar tarde\".\\nEn el manga cambia el final de la batalla entre Asuka y los EVAs de Producción en Masa. Aunque ella es derrotada por los EVAS de forma similar, en el manga ni ella ni el EVA-02 sufren la misma suerte que en la película. Justo cuando los EVAs de Producción en Masa están a punto de acabar con ella, Shinji llega con el Evangelion Unidad 01 y los derrota.\\nAunque inicialmente le pregunta\\xa0a Shinji si llego tarde a propósito, Asuka está agradecida de que Shinji la salvara. Sin embargo, cuando ambos pensaban que todo había terminado, los Evangelions de Producción en Masa activan sus motores S². Posteriormente, la unidades empalan al EVA-01 cuando regresa la lanza de Longinus al planeta.\\nA continuación\\xa0Asuka mira, con lágrimas en sus ojos, como los EVAs de Producción en Masa arrastran al EVA-01 con Shinji dentro, dando inicio al Tercer Impacto y al Proyecto de Complementación Humana. Sin embargo, Shinji rechaza el proyecto, porque se da cuenta de que el aumento del potencial humano sólo es posible si las personas interactúan unas con otras para resolver sus problemas y avanzar.\\nShinji y Asuka se encuentran.\\nEn el capítulo final del manga, Shinji aborda un tren y mientras viaja recuerda haber pensado que una vez no tenía esperanzas o sueños para el futuro, pero ahora cambió su forma de pensar.\\nCuando el joven desembarca en la estación, se encuentra con Asuka. Ella pide ayuda al no poder bajar debido a la cantidad de personas. En ese momento, Shinji la ayuda agarrándola de la mano y tira de ella a través de la multitud.\\nA medida que se presentan, tienen un fuerte sentimiento de déjà vu, como si ya se hubieran conocido antes. Después de un momento incomodo, Asuka se despide de Shinji dándole un gracias en alemán antes de irse.\\nEn ANIMA, Asuka asiste al primer instituto municipal de Tokio-3. Piloto de NERV Japón a cargo del Evangelion Unidad-02 Type II. Después de que el Proyecto de Complementación Humana es evitado, ella perdona a Shinji.\\nEn Gakuen Datenroku, Asuka es una cazadora de ángeles junto con Shinji, Rei y Kaworu. Ella no tolera el fracaso y a los novatos, por lo que rutinariamente insulta a Shinji.\\nEs representada como si hubiera sido el resultado de un experimento sobre la reproducción natural de los dos Eva posiblemente produciendo una persona superior. La posesión de sus padres por los ángeles de Asuka la obliga a matarlos, cosa que se convierte en una pesada carga para ella. A diferencia de otras versiones, se lleva bien con Rei.\\nEl apellido japonés de Asuka viene de un portaaviones japonés de la Segunda Guerra Mundial llamado Soryu, mientras que su apellido europeo viene de otro portaaviones americano de esa misma época, el Langley. Su nombre viene de Asuka Saki (砂姫 明日香 Saki Asuka), personaje principal de un manga llamado SuperGirl Asuka (超少女明日香 Cho-Shojo Asuka), escrito por Shinji Wada (和田 慎二 Wada Shinji).\\nEl apellido de Kyoko Zeppelin Soryu se refiere a Ferdinand von Zeppelin, así como al portaaviones alemán Graff Zeppelin. su nombre, Kyoko, hace referencia al personaje de comic Kyoko Aoi (葵 今日子 Aoi Kyoko). \"明日\" (Asu) significa \"mañana\" y \"今日\" (Kyo) significa \"hoy\" en japonés.\\n\\n'}\n",
            "Nodo: Rei Ayanami, Atributos: {'Rei Ayanami': '綾波 レイ', 'Afiliación': 'NERV', 'Rango': 'First Children', 'Edad': '14 años', 'Sexo': 'Femenino', 'Familia': 'Ninguna', 'Primera aparición': 'El ataque del Ángel [NGE]  El ataque del Ángel [Manga]  Evangelion: 1.0 [RB]', 'Seiyū': 'Megumi Hayashibara', 'Doblador Latino': 'Circe Luna  Gaby Ugarte (segundo doblaje de NGE)  Ana Lobo (primer doblaje de Evangelion: 3.0)', 'Resumen': 'Doblador en España\\nJoël Mulachs  Laura Pastor\\nRei Ayanami (綾波 レイ, ,  Ayanami Rei ?) es la First Children elegida por el\\xa0Instituto Marduk, designada como piloto del Evangelion Unidad 00.\\nAl inicio de la serie, Rei Ayanami es presentada como una joven enigmática de carácter introvertido, silenciosa y nada comunicativa, que a pesar de confiar en las personas adultas, sólo manifiesta emociones y lealtad sincera hacia Gendo Ikari, con quien también mantiene una relación distante.\\nRei vive en una calle desolada de Tokio-3, en el solitario apartamento número 402. Este apartamento demuestra que Rei lleva una vida monótona y aislada.\\nAdemás, resulta ser una representación de la habitación subterránea en la que nació y se crió, según dice Ritsuko Akagi en el episodio 23.\\nLa posesión material más preciada de Rei son las gafas rotas de Gendo Ikari, que recogió del suelo cuando a éste se le cayeron al liberarla del Entry Plug eyectado del EVA-00.\\nEn el episodio 05, Shinji va al apartamento de Rei para entregarle una identificación. Cuando ella sale de la ducha, parece no importarle que Shinji puede verla desnuda. En cambio, ella se molesta al ver que el joven sujeta las gafas de Gendo.\\nCuando Shinji se cae encima de ella, Rei lo trata como una molestia menor y le pide que por favor se mueva. Ella luego se viste en su presencia, sin demostrar vergüenza o malestar alguno.\\nMás tarde, cuando Shinji intenta pedir disculpas a Rei por lo ocurrido, a ella no parece importarle. Esto demuestra que Rei posee tan poca experiencia relacionándose con otras personas, que no tiene ni idea del efecto que podría tener su desnudez sobre un adolescente.\\nRei sonríe por primera vez.\\nDurante ese episodio, Rei sólo demuestra enojo cuando Shinji habla despectivamente sobre Gendo y por eso ella le da una bofetada. Sin embargo, Rei entabla una relación de cariño con Shinji desde que éste la rescata tras su combate con Ramiel, abriendo la escotilla del Entry Plug tal y como había hecho su padre en el pasado. En ese momento, Rei manifiesta no saber qué expresar y Shinji le pide una sonrisa. Ella le corresponde.\\nTiende a atraer el rechazo de Asuka Langley Soryu, debido a su personalidad extremadamente sumisa, pasiva y obediente. Cuando Asuka le ofreció su amistad, Rei le respondió que la aceptará cuando le sea ordenado por los adultos. De hecho, Rei es diametralmente opuesta a Asuka, que es extrovertida y pasional, mientras que Rei es introvertida y fría.\\nLas gafas de Gendo Ikari.\\nA medida que avanza la serie, Rei comenzó a distanciarse de Gendo. Ella empieza a desarrollar relaciones con otros y a mostrar momentos de genuina emoción. Poco a poco, un fuerte lazo comenzó a desarrollarse entre ella y Shinji. Rei ha hablado con Shinji en varias ocasiones, lo cual es algo destacable, ya que ella casi nunca habla con nadie.\\nEn el episodio 12 se revela que Rei es vegetariana. No está claro si es por elección, o debido a su fisiología. Cabe señalar que Hideaki Anno, el creador de la serie, también es vegetariano, al igual que Nadia, otro personaje creado por Anno.\\nEl único momento de pánico que experimenta Rei es cuando le piden que se retire luego de ver que Shinji fue absorbido por Leliel. Más tarde, se da cuenta que Shinji es importante para ella gracias a unas palabras que le dijo Toji Suzuhara.\\nQueda implícito en el episodio 19 que Rei Ayanami no sueña. Cuando Shinji está inconsciente en el hospital Asuka dice que debe estar soñando. Rei está desconcertada al oir las palabras de Asuka, ya que no sabe qué es eso.\\nEn otro momento de la serie, Rei parece sentir compasión por la repentina depresión de Asuka y su incapacidad para pilotar el EVA-02. Por esa razón, trata de ofrecerle un consejo, pero se ve correspondida por insultos y una bofetada.\\nEl clímax de la evolución emocional de la joven llega durante el combate contra Armisael. En ésta pelea, una súbita desesperación mezclada con un choque de recuerdos la lleva a sorprenderse a sí misma llorando. Y motivada por un fuerte deseo de salvar la vida a Shinji, ella autodestruye el EVA-00 pereciendo aparentemente con él.\\nSin embargo, Rei no tarda en reaparecer, sin recuerdos, pero manifestando deseos de conocerse a sí misma. Ésta curiosidad la lleva a recordar sus emociones recientes y a volver a llorar. Finalmente ella elige a Shinji sobre el Comandante Ikari, e incluso destruye las gafas de Gendo, el símbolo de su vínculo con él.\\nLa joven hace una breve aparición en los primeros minutos del episodio 01. Desde la distancia, Rei III se manifiesta frente a Shinji Ikari y luego desaparece.\\nLa primera vez que vemos a Rei II (la Rei que aparece en la mayoría de los episodios de la serie) está gravemente herida y envuelta en vendajes, con tanto dolor que incluso tiene problemas para sentarse en la camilla. A pesar de esto, Gendo Ikari la trata fríamente. Probablemente usar a Rei de esta manera fue una artimaña de Gendo para conseguir que Shinji pilotara el Evangelion Unidad 01, después de ver que Misato Katsuragi y Ritsuko Akagi no pudieron convencerlo.\\nDurante el episodio 02, Rei pasa frente a Shinji en una camilla del hospital. En los episodios 03 y 04, se puede ver que ella sigue envuelta en vendajes y Ritsuko realiza varios exámenes médicos sobre su cuerpo.\\nEn el episodio 05, se revela que Rei vive sola en el apartamento número 402, el cual es parte de un gran bloque de edificios situado en el extremo oeste de Tokio-3. A partir de este episodio, queda claro que ella valora muy poco su propio espacio personal y su comodidad.\\nSus lesiones fueron causadas durante el experimento de activación del EVA-00 realizado antes de la llegada del ángel Sachiel en la estación experimental 2. Cuando el proceso de sincronización alcanzó la tercera fase, acercándose a la frontera absoluta, la Unidad-00 de repente entró en modo berserk y el Entry Plug fue expulsado automáticamente, impactando violentamente contra el techo. Inmediatamente después, Ritsuko ordenó utilizar baquelita para inmovilizar al EVA.\\nLa joven fue gravemente herida como resultado de la accidentada expulsión del Plug. Gendo se quemó las manos al abrir la escotilla del Entry Plug para rescatarla. Es durante este incidente cuando Rei obtiene las gafas de Gendo, las cuales se convirtieron en su posesión material más preciada.\\nShinji no tarda en interesarse por ella a pesar de lo difícil que resulta conocerla. Después de recibir su nueva identificación de parte de Shinji, Rei se dirige a la base para realizar el experimento de reactivación de la Unidad-00. Durante el experimento, ella lleva las gafas de Gendo al interior del Entry Plug.\\nSegún parece, esto la ayudó a calmarse y así el experimento de reactivación fue exitoso. Cuando la activación se completa, Rei inclina su cabeza hacia atrás y una serie de burbujas de aire escapan de su boca. Esto indica que ella había contenido su respiración durante todo el experimento, debido a lo nerviosa que estaba.\\nLuego, el ángel Ramiel se aproxima a Tokio-3 y Gendo ordena enviar a la Unidad-01. Ramiel detecta al EVA y enciende un rayo de partículas mortal que disparó directamente a través de un edificio dañando a la Unidad-01.\\nAl darse cuenta que un EVA no podía acercarse lo suficiente a Ramiel para neutralizar su campo AT, a Misato se le ocurrió canalizar toda la potencia eléctrica de Japón en un nuevo rifle experimental de positrones. Mientras la Unidad-01 dispara como francotirador, Rei abordo de la Unidad-00 le protege con un escudo electromagnético diseñado para soportar altas temperaturas.\\nRamiel reaccionó a los EVAs disparando su rayo al mismo tiempo que la Unidad-01 disparó con su rifle. Ambos haces de energía interactuaron entre sí al pasar uno al lado del otro, desviándose de su trayectoria. Ramiel disparó por segunda vez y Rei lo bloqueó con su escudo.\\nEsto permitió que Shinji pudiera lanzar un segundo ataque, que atravesó el núcleo del ángel, destruyéndolo. Luego, Shinji rescató a Rei del interior del Entry Plug. En ese momento, Rei manifiesta no saber qué expresar y Shinji le pide una sonrisa. Ella le corresponde.\\nLa Unidad-00 fue gravemente dañada por el rayo de partículas del ángel y quedó fuera de servicio durante un tiempo. En el episodio 09, cuando Asuka Langley Soryu se une al equipo, intenta interactuar con Rei sin demasiado éxito. Asuka le ofreció su amistad, pero Rei le respondió que la aceptará cuando le sea ordenado.\\nPoco después, Rei estuvo presente durante el entrenamiento de sincronización de Shinji y Asuka en el apartamento de Misato. Según parece, Misato decidió llevarla como compañera de respaldo. Luego de fallar en numerosas ocasiones, Asuka comenzó a quejarse haciendo énfasis en que toda la culpa la tenía Shinji.\\nAl oír esto, Misato le pidió a Rei que tomase el lugar de Asuka. Y para sorpresa de todos, Rei sincronizaba a la perfección con Shinji. Al ver esto, Asuka tuvo que afrontar la realidad y superarse a sí misma, dando como resultado la sincronización perfecta durante el combate con Israfel.\\nDespués de pasar un largo periodo en reparación, la Unidad-00 es completamente restaurada. Sin embargo, ocurre un misterioso corte de energía en Tokio-3 y el ángel Matarael emergió del océano. Cuando llegó a Tokio-3, el ángel comenzó a abrirse un túnel hacia el GeoFront segregando un potente ácido. Los Evangelion treparon por los túneles, llegando a un pozo de acceso situado bajo la posición del ángel. Siendo salpicados por el ácido corrosivo, los EVAS cayeron por el pozo y perdieron sus armas.\\nAnte ésta difícil situación, Asuka tomó el mando e ideó un plan, en el cual la Unidad-02 neutralizaría el campo AT del ángel y les protegería del ácido, mientras que Rei saltaría al fondo del pozo, recuperaría el arma y se la pasaría a la Unidad-01.\\nFinalmente, la Unidad-02 se apartaría del camino permitiendo a la Unidad-01 disparar al ángel. El plan fue ejecutado perfectamente, y Matarael murió cuándo la Unidad-01 disparó sobre él con el pallet rifle.\\nEl EVA de Rei, la Unidad-00.\\nEn el episodio 12, Rei no fue a la fiesta de Misato, a pesar de que fue invitada por Asuka. Tiempo después, Rei participó en otra operación conjunta de los tres EVAS para derrotar al ángel Sahaquiel, el cual caía como si fuera una enorme bomba proveniente del espacio exterior. Primero detuvieron su caída y neutralizaron su campo AT. Finalmente, apuñalaron su núcleo con el cuchillo progresivo.\\nEn el episodio 14, Rei participa en un experimento de intercambio de pilotos. El objetivo es evaluar la compatibilidad de los pilotos con otras unidades, para poder intercambiarlos de ser necesario. Los resultados muestran que Rei parece ser compatible con la Unidad-01.\\nPor su parte, Shinji sube a la Unidad-00 y comienza la prueba, la cual parecía marchar bien al principio. Sin embargo se presenta una inesperada contaminación mental, la cual afectó a Shinji. La Unidad-00 se descontroló, liberándose violentamente. El cable umbilical fue cortado y la unidad finalmente se detuvo.\\nDespués del incidente, se realizó una nueva prueba de activación, esta vez con Rei, la cual resulto ser un éxito. Rei, abordo de la Unidad-00, recibe la tarea de llevar la recientemente recuperada lanza de Longinus a las profundidades del Dogma Terminal y clavarla en el cuerpo de Lilith.\\nEn el episodio 16, Leliel aparece repentinamente sobre Tokio-3. NERV despliega todas sus unidades para interceptarlo. Shinji le hace frente, lo que resulta en un desastroso error y la Unidad-01 es capturada por la sombra del ángel, atrapándola en un Mar de Dirac. Rei disparó contra el ángel, pero los disparos resultaban ineficaces.\\nRei defiende a Shinji ante Asuka.\\nEn el momento en que la comunicación con el EVA-01 se desvaneció, NERV cesó de inmediato sus operaciones y se sumió en una profunda reflexión acerca de su misterioso objetivo. En ese breve lapso, Asuka no pudo evitar arremeter con duras palabras contra Shinji. Sin embargo, Ayanami se opuso a la pelirroja para defenderlo.\\nPosteriormente, Rei iba a participar en la operación para destruir a Leliel; sin embargo, la Unidad-01 entró en modo berserk y destruyó al ángel por sí sola.\\nMás tarde, la Unidad-03 es enviada a Japón. Durante la prueba de activación el Evangelion es poseído por el ángel Bardiel y NERV despliega sus unidades para interceptarlo. La Unidad-00 pilotada por Rei permanece oculta esperando el momento para atacar; sin embargo, ella duda ya que teme herir al piloto de la Unidad-03. Esta distracción es aprovechada por Bardiel, que salta sobre la Unidad-00 y empieza a infectar su brazo. Gendo ordena cortar el brazo para evitar que la infección se propague, lo cual deja al EVA inutilizado y a su piloto herida.\\nPoco después, el ángel Zeruel comienza su asalto, destruyendo las defensas de Tokio-3 sin dificultades. La Unidad-02 le espera en el GeoFront con una gran cantidad de armas; sin embargo, todas resultan ineficaces. De forma inesperada, Zeruel cortó los brazos y la cabeza de la Unidad-02.\\nEn ese momento, Rei pilotando la Unidad-00 intenta un ataque suicida contra el ángel llevando en su mano una bomba N²; sin embargo, su estrategia no tuvo éxito y la explosión no afectó en nada al ángel. Zeruel fue finalmente derrotado por la Unidad-01 en modo berserk. Debido a los últimos combates, la Unidad-00 superó el Límite Henflick y quedó fuera de servicio por un tiempo.\\nLuego de costosas reparaciones, la Unidad-00 está lista para entrar en combate nuevamente. En ese momento, Arael aparece en una órbita baja, más allá del alcance de las armas normales. La Unidad-00 disparó con un rifle de positrones modificado utilizando la máxima potencia; sin embargo, el rayo no tenía la suficiente energía para penetrar el campo AT del ángel.\\nTras comprobar que el rayo de partículas no surtía efecto, Gendo ordenó a Rei extraer la lanza de Longinus del cuerpo de Lilith y usarla contra el ángel. La Unidad-00 descendió hasta las profundidades del Dogma Terminal, recupero la lanza, y luego subió a la superficie. Sosteniéndola con sus manos, la Unidad-00 arrojo la lanza con todas sus fuerzas y atravesó el campo AT de Arael, destruyendo su núcleo en el proceso.\\nDurante el ataque del siguiente ángel, Armisael, NERV envía tanto al EVA-02 como al EVA-00 a interceptarlo. Una vez se acercó la Unidad-00, Armisael adoptó su forma de combate, atravesando el campo AT de la Unidad y su núcleo. Mientras tanto, contactó mentalmente con Rei, expresándole su deseo de fusionarse y forzándole a sentir su dolor.\\nCuando se le ordenó ayudar a Rei, Asuka no pudo moverse, debido a que su nivel de sincronización era inferior al 10%. Al mismo tiempo, la fusión del ángel con la Unidad-00 continuaba segundo a segundo. Inesperadamente, Gendo ordenó extraer la Unidad-01 de la cuarentena y enviarla a rescatar a la Unidad-00.\\nCuando la Unidad-01 desplegó su campo AT atrajo la atención del ángel, el cual comenzó a invadirlo. Para evitar que el ángel se fusionara con el EVA-01, Rei invirtió el campo AT de su unidad, atrapando al ángel dentro del núcleo de la Unidad-00. Luego, activó el sistema de autodestrucción, matando al ángel y arrasando gran parte de Tokio-3.\\nEl vínculo de Rei con Gendo es uno de los más complejos de la serie. Siendo ella un clon de Yui Ikari, Gendo la ha mantenido muy cerca suyo. Antes de la llegada de Shinji a Tokio-3, Gendo era el único en mostrarle bondad a Rei. Su recuerdo de Gendo salvándola se mantuvo inalterado en su mente durante mucho tiempo, tanto es así que ella guarda las gafas de Gendo como recuerdo, y desarrolló lealtad hacia él.\\nA medida que pasa el tiempo, Rei se va distanciando de Gendo, y poco a poco va centrando su atención en Shinji. Su desobediencia hacia Gendo comienza cuando ella duda en atacar al Evangelion Unidad 03 después de ser infectado por Bardiel. Luego, ella desobedece las órdenes de Gendo en varias ocasiones, llegando a su máxima expresión cuando se sacrifica para proteger a Shinji de Armisael.\\nA pesar de que su alma fue transferida a un nuevo cuerpo, ella todavía conservaba un vago recuerdo de su vida pasada. Por lo tanto, el día que ocurre el Tercer Impacto, su lealtad hacia Gendo ha desaparecido completamente.\\nLa relación de Rei con Shinji juega un papel muy importante en la serie, sin embargo, en los primeros episodios ella es indiferente hacia él. Los dos experimentan varias situaciones incómodas debido a la falta de habilidades sociales de ambos.\\nEn una escena en particular, cuando Shinji va a su apartamento para darle su nueva tarjeta de identificación, la encuentra desnuda; habiendo acabado de salir de la ducha. Shinji se pone muy nervioso y no sabe qué hacer, pero ella no muestra vergüenza o malestar alguno.\\nMás tarde, Shinji habla despectivamente sobre Gendo y por eso ella le da una bofetada. Sin embargo, Shinji la salva después de la batalla contra Ramiel y así ambos comienzan a acercarse. Cuando Shinji llora, ella responde con confusión diciéndole que no sabe qué hacer en una situación así, y Shinji le pide una sonrisa. Desde entonces, Rei sigue construyendo su relación con Shinji.\\nElla ve a Shinji como el primero en brindarle su amabilidad, siendo la única persona a quien ella ha dicho \"gracias\". Poco a poco, su lealtad a Gendo se corroe debido a sus interacciones con Shinji. En The End of Evangelion, cuando Gendo intentó activar la Complementación Humana, ella lo rechaza y da los poderes a Shinji.\\nDesde el momento en que Rei rechazó la petición de amistad de Asuka, las dos se distanciaron de forma irreversible. Asuka percibe a Rei erróneamente como una chica que se cree mejor que los demás. Frecuentemente llama a Rei \"Niña Modelo\" de manera sarcástica. El silencio de Rei sólo empeora la impresión que Asuka tiene de ella.\\nAsuka repetidamente dice chistes sobre Rei y su relación con Shinji. Pero también muestra celos al verlos pasar tiempo juntos. Asuka se enfurece cuando Rei y Shinji realizan con éxito la rutina de baile para combatir a Israfel; ya que ella estaba teniendo dificultad con dicha rutina.\\nEn el episodio 11, Asuka insiste en afirmar que Rei recibe un mejor trato que los demás, pero Rei le dice que eso no es verdad. En el episodio 16, Asuka se siente muy frustrada ya que Shinji obtuvo una sincronización más alta que ella, y Rei inicialmente la ignora. Luego, cuando Shinji es absorbido por Leliel y Asuka lo critica, Rei le hace frente, en un aparente intento por defender a Shinji de las críticas.\\nEn el episodio 22, Rei trata de ofrecerle un consejo a Asuka, luego de ver su incapacidad para pilotar el EVA-02, pero Asuka le responde con insultos y una bofetada.\\nLa relación de Ritsuko con Rei varía mucho entre la serie de anime, el manga y la tetralogía cinematográfica Rebuild of Evangelion. En esencia, ella ve a Rei como un reemplazo de Yui (que técnicamente lo era) y por lo tanto es la competencia por los afectos de Gendo.\\nEn la serie, Ritsuko compara a Rei con Gendo, describiéndosela a Shinji como \"una buena chica, aunque como tu padre, ella no es buena en ... vivir\". Mientras que su conexión con Rei se menciona fugazmente en la serie, la misma está mucho más desarrollado en el manga de Sadamoto, donde Ritsuko fue testigo del asesinato de Rei I a manos de Naoko y el suicidio posterior de su madre. Como tal, Ritsuko alberga en su interior mucho resentimiento hacia Rei, sintiendo que ella es la fuente de gran parte de su infelicidad, exacerbada por el interés de Gendo en Rei y por su conocimiento de la verdadera naturaleza de Rei.\\nA medida que el paisaje emocional de Rei comienza a desarrollarse a través del contacto constante con Shinji, ella se da cuenta de la naturaleza de los sentimientos de Ritsuko por Gendo, haciendo que Ritsuko trate de estrangularla, aunque se detiene a mitad de camino.\\nComo Ritsuko destruye el\\xa0Dummy Plug, se supone que al igual que estos eran \"piezas de repuesto\" para Rei (que a su vez reemplazó a Yui), ella misma es sólo una herramienta, un sustituto de su madre, que fue descartado en última instancia por Gendo.\\nLos orígenes de Rei Ayanami se deducen gracias a diversas pistas brindadas por los hilos argumentales de la serie. Posteriormente, nuevos datos son revelados durante The End of Evangelion. Adicionalmente, el Red Cross Book aporta valiosa información sobre ella.\\nEn su faceta espiritual, Rei Ayanami es la portadora del alma de Lilith, el segundo ángel. Es decir, Rei es el espíritu del segundo ángel, alojado en un cuerpo humano. Por otro lado, en su faceta biológica, Rei Ayanami es un clon de Yui Ikari. En algún nivel, puede que también posea ADN de Lilith, ya que ella es el recipiente para su alma. Estas características la convierten en una forma de vida muy similar a Kaworu Nagisa.\\nEn el episodio 21 se sugiere que Rei Ayanami fue creada en algún momento entre los años 2004 y 2008. Se puede deducir que su cuerpo fue creado a partir de los restos de Yui Ikari, que quedaron disueltos en el LCL dentro del Entry Plug del EVA-01. En el año 2010, Rei era una niña pequeña, teniendo alrededor de cuatro años de edad. En el 2015, ella aparentemente ya tiene 14 años (debería tener la misma edad que Shinji ya que ambos están en la misma clase).\\nEsto parece sugerir que el Comandante Ikari tiene la capacidad de manipular su crecimiento de alguna manera. En el Dogma Terminal, más específicamente en la Planta Dummy Plug, existe un gran tanque lleno de clones de repuesto para Rei. Sin embargo, Rei es la única que tiene alma. Ritsuko Akagi se refiere a estos clones sin alma como \"piezas de repuesto\".\\nEn el transcurso de la historia, cuando una Rei muere, puede ser reemplazada por otra sin conocimiento alguno de su antigua vida, pero con cierta noción de lo que pasó. La Rei que aparece en The End of Evangelion es la tercera. La primera fue asesinada por Naoko Akagi en el año 2010, y la segunda murió en su combate contra el ángel Armisael, sacrificando al EVA-00 para derrotarlo.\\nAunque las personalidades de estas tres versiones de Rei difieren debido a sus crianzas y las circunstancias que las rodean, su alma es única. Sin embargo, el motivo detrás de la utilización del ADN de Yui Ikari nunca ha sido debidamente explicado.\\nSe deduce que Gendo Ikari crió a Rei en un cuarto oculto situado debajo del Dogma Central, pues en la serie se la contempla desde muy pequeña junto a Gendo. Entre los recuerdos más antiguos que Shinji tiene reprimidos en su memoria, se escucha una conversación entre sus padres, donde Gendo asegura que si su hijo es un niño, lo llamará Shinji, y que si es una niña, la llamará Rei.\\nEl motivo de la existencia de Rei es revelado en el largometraje The End of Evangelion. Ella existe para crear un vínculo controlable entre Gendo y Lilith. En otras palabras, Rei, siendo el contenedor del alma del segundo ángel, existe para fundirse con el cuerpo de Lilith y provocar el Tercer Impacto de forma controlada por Gendo Ikari. Ello daría a Gendo un absoluto control sobre el Proyecto de Complementación Humana y le permitiría encontrase nuevamente con su esposa Yui.\\nRei pasa grandes cantidades de tiempo dentro de un tubo lleno de LCL conectado a una estructura que se asemeja a un cerebro gigante en la Planta Dummy Plug. Cerca del final de la serie, se revela que en dicha habitación existe un tanque lleno de LCL que contiene docenas de clones sin alma de Rei.\\nSegún Ritsuko Akagi, los clones son el centro del sistema Dummy Plug; refiriéndose también a estos clones sin alma como \"piezas de repuesto\". La propia Rei envuelta en vendas después de la batalla contra Armisael, pero sin lesiones visibles ni recuerdos de la batalla, dice:\\nEl folleto de la película The End of Evangelion declara que ella puede reemplazar su cuerpo completamente, transfiriendo su alma a un nuevo clon cada vez que muere. Otra evidencia en apoyo de esto es que en el anime se incluye la siguiente línea de Rei Ayanami:\\nPor lo tanto podemos deducir que se muestran tres \"Rei\":\\nEstas diferentes encarnaciones normalmente son llamadas \"Rei I,\" \"Rei II\" y \"Rei III,\" y poseen temas musicales con los mismos nombres. En el episodio 23, Ritsuko destruye los clones de \"Rei IV\" en adelante.\\nEn el manga, Rei es más \"humana\", en el sentido que ella responde más prontamente al contacto humano. Las interacciones de Shinji con ella son implícitas como la razón principal de su cambio. Además, durante la batalla con Armisael, se indica fuertemente que Rei está enamorada del joven Ikari. Shinji corresponde este afecto hasta cierto punto, pero es inseguro de lo que él siente hacia Rei, y no tiene del todo claro a dónde va su relación con ella.\\nEn el volumen 5, Rei invita a Shinji a su casa (sorprendiéndolo) y prepara té para los dos. Además, ambos conversan sobre Gendo en numerosas ocasiones.\\nEn el volumen 8, Shinji es absorbido como consecuencia de la lucha con Zeruel. Rei le dice a Shinji \"regresa\", y pudo comunicarse mentalmente con la faceta angelical que reside en la Unidad-01, la cual se ha enmascarado como Yui y ha estado intentando mantener a Shinji dentro. Ella le dice al EVA, \"yo soy tú y tú eres yo\". La Unidad-01 está de acuerdo, pero exige saber por qué Rei está interfiriendo con sus planes.\\nDespués de que Shinji \"renace\", él y Rei visitan un jardín de NERV. Allí, ella recuenta las veces cuando Shinji tocó su mano y cómo sus sentimientos cambiaron con cada contacto. Ella le pregunta entonces a Shinji si puede sostener su mano y él acepta.\\nEn el volumen 9, Shinji reconoce que el hueco entre ellos se ha reducido desde que se encontraron por primera vez y espera que este hueco pueda reducirse más.\\nSu deseo a ser reconocida como una persona, en lugar de como una \"muñeca\", la pone en situaciones peligrosas. En un momento dado, Ritsuko intenta estrangularla cuando ella habla sobre su relación con Gendo.\\nEn su primer encuentro con Kaworu Nagisa, cuando este dice que ellos son iguales, ella le contesta; \"No. Nosotros no somos iguales. Nosotros podremos ser muy similares… pero nosotros no somos lo mismo”.\\nEn la batalla contra Armisael, cuando el ángel se comunica con Rei, la obliga a que comprenda que ella quiere a Shinji y que está celosa de Asuka por tener la atención de Shinji. Igual que en el anime, ella se autodestruye para destruir al ángel. Sin embargo, se indica que la \"nueva\" Rei (Rei III) todavía tiene algunos recuerdos residuales, diferente de su contraparte del anime. Ella recoge los lentes de Gendo y los aprieta al punto de romperlos; esta escena también estaba en el anime, pero los pensamientos de Rei no se revelan allí. Después que ella visita el jardín, se ve que se fue con Shinji en el Stage 54, e imita las acciones anteriores (como meter su mano en el agua).\\nEn el manga existen referencias que apuntan a que las medicinas vistas en su cuarto (tanto en el anime y como en el manga) son necesarias para su supervivencia.\\nDurante el Proyecto de Complementación Humana, Rei decide salvar a Shinji al producirse el Tercer Impacto y al completarse el proyecto (al igual que en el anime) Rei mantiene una conversación con Shinji donde expone los sentimientos de ambos sobre el mundo. Shinji al rechazar la unificación de los seres humanos, Rei decide cumplir con los deseos de Shinji y mientras se despiden, le dice que \"¿Ahora debería sonreír?\" dando a entender que ha recuperado su memoria.\\nRei es un personaje muy importante en la tetralogía de Rebuild of Evangelion. En la primera película, titulada Evangelion: 1.0 You Are (Not) Alone, Rei es prácticamente la misma que en la serie, pero con algunos ligeros cambios superficiales.\\nEvangelion: 2.0 You Can (Not) Advance, su rol es similar durante los combates iniciales. Sin embargo, poco a poco van creciendo sus sentimientos hacia Shinji, llegando incluso a rivalizar abiertamente con Asuka Langley Shikinami. Rei busca una manera de que el joven Ikari se encuentre cara a cara con Gendo, con la intención de que puedan reconciliarse.\\nPara lograr su objetivo, planifica una cena para ambos. Lamentablemente, esta cena no pudo realizarse debido al trágico incidente con el EVA-03. Este evento hizo que la relación de Shinji con su padre empeorace. Al ver esto, Rei entendió que el joven sufre mucho cuando pilotea el EVA, y se propuso evitarlo. Ella pensó en encargarse de los combates a partir de ahora, para que Shinji no tenga la obligación de pilotar nunca más.\\nPoco después, el Décimo Ángel comienza su asalto, destruyendo las defensas del GeoFront sin dificultades. La Unidad-02 pilotada por Mari intenta combatirle sin demasiado éxito. En ese momento, la Unidad-00 pilotada por Rei intenta un ataque suicida contra el ángel llevando en sus brazos un enorme misil.\\nElla estaba decidida a cumplir la promesa. Sin embargo, su estrategia no tuvo éxito. Luego de sobrevivir a la poderosa explosión del misil, el ángel devoró a la Unidad-00 con Rei en su interior. Justo cuando todo parecía perdido, Misato\\xa0y los demás son salvados por el EVA-01, el cual se enfrenta cuerpo a cuerpo con el poderoso enemigo.\\nDebido a los desesperados deseos de Shinji de salvar a Rei, la Unidad-01 se reactiva y sufre una transformación conocida como \"despertar\"; en donde cambia los colores verdes de su armadura por rojo fosforescente y obtiene un nuevo brazo de energía. En este estado, dispara poderosos rayos de energía por sus ojos, aniquilando fácilmente al Décimo Ángel.\\nFinalmente, Shinji intenta rescatar a Rei. Para lograrlo, entra en íntimo contacto con el núcleo de su enemigo, fusionándose accidentalmente con él. Como consecuencia de esto, el EVA-01 da inicio al Tercer Impacto por accidente. Al final de la película, durante el apocalíptico evento, un objeto cae desde el cielo y atraviesa el núcleo del EVA-01. Este objeto es la lanza de Cassius, la cual fue arrojada por el Evangelion Mark.06. Gracias a su rápido accionar, el cataclismo fue detenido.\\nEn Evangelion: 3.0 You Can (Not) Redo, han pasado 14 años desde el Casi-Tercer Impacto. La Rei original está atrapada dentro del EVA-01 y un nuevo clon de Rei forma parte de NERV. Shinji es llevado al AAA Wunder y tratado con frialdad por la tripulación. Le dicen que Rei a muerto, pero el joven se niega a creerlo.\\nEn ese momento, el Evangelion Mark.09 ataca la nave e intenta llevarse a Shinji de regreso a NERV. Ikari, tras escuchar la voz de Rei Ayanami desde el interior del nuevo EVA, accede a ir con ella. Misato trata de detenerle; pero Shinji, harto del desprecio con el que había sido recibido, la ignora y se sube al Mark.09.\\nDespués de llegar a la sede de NERV, en una devastada Tokio-3, Gendo recibe a Shinji y le asigna su nueva tarea: pilotar el nuevo Evangelion Unidad 13. Shinji recupera la vitalidad al saber de la presencia de Rei, y conoce a Kaworu Nagisa.\\nLuego, Fuyutsuki le dice a Shinji que Rei es un clon de su madre -y no es la misma que él intentaba salvar-. Ante ello, el joven se altera mucho, pero Kaworu lo consuela. Acto seguido, le propone una solución: usar la Unidad-13 junto con la lanza de Longinus y la lanza de Cassius para rehacer el mundo.\\nLa Unidad-13, con Shinji y Kaworu a bordo y escoltada por Rei en el Evangelion Mark.09, llegan al Dogma Terminal, donde encuentran a Lilith decapitada. A su lado el abandonado Evangelion Mark.06, con dos lanzas clavadas. Shinji retira las lanzas, el cuerpo de Lilith estalla y del interior del Mark.06 surge el Duodécimo Ángel, que es liberado por Rei cuando decapita al Mark.06.\\nEl Duodécimo Ángel toma la forma de un embrión gigante y se lanza a sí mismo hacia la boca de la Unidad-13 para ser absorbido, dando inicio al Cuarto Impacto. Asuka se enfrenta al EVA Mark.09. Mientras el Wunder pierde altitud, la Unidad-02\\'γ salta sobre una de sus alas y dispara proyectiles Anti Campo AT contra el Mark.09, destruyendo el blindaje de su pecho, y revelando una placa que protege su núcleo. Al ver esto, Asuka activa el modo bestia y consigue vencerlo. Rei expulsa su Entry Plug y logra sobrevivir.\\nFinalmente, Kaworu se sacrifica para detener el Cuarto Impacto, mientras Shinji contempla impotente cómo el DSS Choker se activa ante el poder de Nagisa y acaba con él. Luego, Mari libera el Entry Plug de Shinji, diciéndole que \"vaya a conocer un poco el mundo\".\\nEl Evangelion 13 cae a tierra, y tanto las fuerzas de Misato como las de Gendo se retiran. Un tiempo indeterminado más tarde, Asuka encuentra a Shinji, quien se niega a interactuar con el mundo, pero Shikinami le saca del Entry Plug y se lo lleva a rastras por un desierto rojo, con Rei siguiéndoles, hacia \"donde están los Lilin\".\\nAyanami es aceptada en la Villa 3.\\nEn Evangelion: 3.0+1.0 Thrice Upon A Time, Rei y Shinji son llevados a la Villa 3 donde se encuentran con Toji Suzuhara, Kensuke Aida y Hikari Horaki, que ahora son adultos. Toji y Hikari están casados \\u200b\\u200by tienen una hija llamada Tsubame Suzuhara.\\nRei comienza a aprender más sobre el mundo, expresando confusión sobre la existencia de una gata embarazada, la bebé Tsubame, y saludos cotidianos como \"buenos días\" y \"buenas noches\". Poco después, Rei se preocupa por Shinji, al ver que este escapó de la Villa. Ella lo busca y le lleva comida todos los días.\\nCon el tiempo, el joven se recupera de su trauma. Entonces, ella le pide a Shinji que le ayude a darse un nombre, y Shinji decide llamarla \"Ayanami\". Con el tiempo, se instala en la Villa 3 y va a leer libros. Además, aprende a cultivar junto a las mujeres mayores.\\nLamentablemente, Ayanami no pudo mantener su condición física estable. Ella le agradece a Shinji por ayudarla a encontrar la felicidad, antes de convertirse en LCL ante sus ojos. Shinji se sorprende mucho, pero esta trágica experiencia no lo debilita. Ayanami le ayudó a recuperarse.\\nEl joven ha madurado y ahora puede definir, por sí mismo, qué quiere hacer a partir de ahora. En ese instante, el Wunder llega para descargar personal no esencial. Kensuke y Toji le piden a Shinji que se quede en la Villa, pero Shinji decide ir a bordo del Wunder.\\nDurante la batalla final, Gendo destruye la coraza del Wunder mediante un ataque de energía, ingresa al Evangelion 13 y se lleva la Unidad-01 por la fuerza. Shinji aparece y le pide a Misato que le permita ingresar a la Unidad-01 para detener a Gendo.\\nLa Unidad-08 Gamma lleva a Shinji, lo cual le permite invocar a la Unidad-01 y entrar al Entry Plug para pilotarlo. La Rei Ayanami original se le aparece en el interior del EVA-01, con el pelo largo. Ella está sentada en la cabina. Al ver a Shinji, Rei se disculpa, ya que no pudo cumplir su promesa de evitar que tuviera que pilotar de nuevo. El joven Ikari le agradece su esfuerzo, y dice que ahora él se encargará del resto.\\nActo seguido, Gendo y Shinji luchan en el \"Anti-Universo\", y entran al misterioso Objeto Gólgota. Ambos entablan una lucha surrealista, donde chocan con sus lanzas en múltiples ubicaciones, tomadas de los recuerdos de Shinji. El EVA-01 y el EVA-13 están sincronizados, y el joven no logra prevalecer. Cuando llegan a un escenario que se basa en sus recuerdos de la Villa 3, Shinji recuerda a Kensuke, Toji, y a la otra Ayanami. Por esa razón, le pide a su padre que se detenga para hablar.\\nShinji se propone comprender a Gendo, ya que entendió que eso es necesario para detenerle. Finalmente, Misato se sacrifica para crear la nueva lanza y contener el \"Impacto adicional\". El joven logra entender a su padre. De esta forma, ayuda a Gendo a encontrar un cierre adecuado.\\nLuego de despedirse de Asuka y hablar con Kaworu, Shinji se encuentra con Rei, quien tiene el cabello largo. Ella estuvo atrapada dentro del EVA-01 por años, y finalmente puede hablar con Ikari. Shinji le explica que eligió vivir una vida sin los EVAs, y tiene la intención de crear un \"Neon Genesis\", un mundo donde no existan los EVAs.\\nEntonces, Shinji se prepara para apuñalarse a sí mismo con la lanza de Gaius, con la idea de sacrificarse para alcanzar ese objetivo. Sin embargo, el joven es expulsado del EVA-01 por su madre Yui. Gendo y Yui, siendo ella el EVA-01 y Gendo el EVA-13, se sacrifican para terminar lo que Shinji comenzó. Sus acciones devuelven todos los EVAs y fallas del infinito a sus formas originales, restaurando el mundo a su estado original antes de los impactos y convirtiéndolo en un sitio sin EVAs.\\nEn la secuencia final, Asuka, Rei y Kaworu están en el andén de una estación de tren, y Mari se acerca a un Shinji mayor por detrás. El Shinji adulto y Mari salen tomados de la mano hacia el mundo, y la secuencia pasa a ser una secuencia live action de la ciudad natal de Hideaki Anno, lo que implica que todos los personajes han encontrado un cierre en nuestra realidad.\\nEn ANIMA, Rei asiste al primer instituto municipal de Tokio-3. Ella no pilota directamente un EVA. Posee tres clones diferentes que son independientes. Dichos clones son mantenidos en animación suspendida en el interior de un conjunto de nuevas versiones de la Unidad-00, denominadas Evangelion Unidad-0.0. Dichas unidades son activadas cuando es necesario y la Rei original es la encargada de dirigirlas. Estos clones son:\\nEn Gakuen Datenroku, Rei es una cazadora de ángeles junto con Shinji, Asuka y Kaworu. De carácter frío y serio, no es habladora ni parece tener muchas amistades. Hasta que la \"Organización\" lo creyó necesario no asistió a la escuela. A diferencia de otras versiones, se lleva bien con Asuka.\\n\\n'}\n",
            "Nodo: Kaworu Nagisa, Atributos: {'Kaworu Nagisa': '渚 カヲル', 'Afiliación': 'NERV  SEELE  Ángeles', 'Rango': 'Fifth Children', 'Edad': '15 años', 'Sexo': 'Masculino', 'Primera aparición': 'El último mensajero [NGE]  Desaparecido [Manga]  Evangelion: 1.0 [RB]', 'Seiyū': 'Akira Ishida', 'Doblador Latino': 'Alberto Bernal (EoE, Death and Rebirth y tercer doblaje de NGE)  Federico Llambí (Evangelion: 3.0+1.0, segundo doblaje de Evangelion: 1.0, 2.0 y 3.0)  Ernesto Lezama (primer doblaje de NGE, primer doblaje de Evangelion: 1.0, 2.0 y 3.0)  Edson Matus (segundo doblaje de NGE)', 'Resumen': 'Doblador en España\\nJordi Pons\\nKaworu Nagisa (渚 カヲル, ,  Nagisa Kaworu ?) es el Fifth Children enviado a NERV por SEELE como piloto de reemplazo del Evangelion Unidad 02.\\nSu aparición corresponde al episodio 24 del anime, titulado El último mensajero (最後のシ者, ,  Saigo no Shisha ?) emitido en\\xa0Japón\\xa0el 13 de marzo\\xa0de\\xa01996.\\nEs un chico de 15 años aproximadamente, de cabello albino y ojos rojos. Además de ser el Fifth Children, Kaworu resulta ser Tabris, el decimoséptimo ángel.\\nPosteriormente, aparece en la película The End of Evangelion y en el\\xa0manga de Evangelion hecho por Yoshiyuki Sadamoto.\\nEn Rebuild of Evangelion Kaworu es el piloto del Evangelion Mark.06. Tras detener el Tercer Impacto, el joven se une a NERV y permanece allí 14 años.\\nLuego, entabla una amistad con Shinji y juntos intentan remediar las consecuencias del impacto pilotando el Evangelion Unidad 13.\\nKaworu afirma que pueden alcanzar su objetivo utilizando las lanzas de Cassius y Loginus; sin embargo, todo resulta ser una trampa de Gendo Ikari. Debido a esto acaban provocando el Cuarto Impacto.\\nEn esta versión de la historia, Kaworu es re catalogado como el\\xa0décimotercer ángel. Al descubrir la verdad, decide sacrificarse para detener el apocalíptico evento.\\nKaworu es un joven juicioso con una personalidad abierta y sincera. Desarrolla un profundo vínculo con Shinji Ikari, tal como se muestra en el episodio 24 de la serie original, donde afirma haber nacido \"sólo para conocerlo\".\\nAunque Shinji suele mantener cierta distancia emocional en sus relaciones con los demás, Kaworu logra entrar en su corazón y hacer que se abra y hable sobre sus sentimientos. Por un lado, Kaworu muestra una simpatía desinteresada y espontánea hacia Shinji, llegando incluso a mostrar un afecto sincero e incondicional. Por otro lado, Shinji reconoce la sinceridad de las acciones de Kaworu y también se acerca a él en consecuencia.\\nA pesar de la brevedad del tiempo que pasan juntos, los dos jóvenes se sienten atraídos el uno al otro y construyen una relación profunda y sincera.\\u200b Kaworu es la primera persona en decirle a Shinji que le quería, así como también la primera y última a quien este abrió su corazón.\\nPoco antes de morir, Kaworu mantiene invariable su amor por Shinji y siente gratitud por haber tenido la oportunidad de conocerlo. Trágicamente, tras la partida de Kaworu, el joven Ikari cae en una profunda depresión y se recluye emocionalmente.\\nEn la serie original de Evangelion, Kaworu Nagisa es enviado directamente por\\xa0SEELE\\xa0hacia\\xa0NERV\\xa0como piloto del Evangelion Unidad 02, en reemplazo de\\xa0Asuka Langley Soryu. Esta decisión se tomó después de comprobar que la sincronización de Asuka con la unidad  cayó por debajo del umbral mínimo debido al ataque psíquico de Arael.\\nShinji conoce a Kaworu.\\nSu primera aparición se da mientras entona un fragmento perteneciente al 4.º movimiento de la\\xa0novena sinfonía\\xa0de\\xa0Ludwig van Beethoven\\xa0(\"Oda a la alegría\") mientras se encuentra sentado sobre los restos de una peculiar estatua alada en la orilla del cráter de Tokio-3. La estatua, sin lugar a dudas, es la de un ángel que parece haber sido decapitado.\\nEl enigmático joven atrae la atención de Shinji, quien se encuentra acongojado por su situación y por la pérdida de sus compañeros. Sorprendentemente, Shinji establece una conexión casi instantánea con Kaworu, y ambos comienzan a socializar de manera fluida y natural.\\nDespués de superar las pruebas de sincronización, donde demostró que podía sincronizar con la Unidad-02 sin necesidad de un nuevo núcleo, recibió la indicación del comité de SEELE para iniciar su ataque y llevar a cabo el Proyecto de Complementación Humana.\\nComo Tabris, Kaworu se dirige ante el Evangelion Unidad 02 y sincroniza con él sin entrar al Entry Plug. Luego, comienza a levitar usando su campo AT y empieza su ataque. En tanto, los miembros de NERV entran en alerta por la confirmación de la aparición de un nuevo ángel dentro de las instalaciones.\\nEl Evangelion Unidad 01 fue enviado para detenerle, pero antes debe luchar con la Unidad-02. Shinji se enfrenta a su nuevo amigo mientras intenta comprender la revelación de que Kaworu es un ángel. Durante el enfrentamiento, el cuchillo del EVA-01 se desvía, pero el campo AT de Kaworu lo detiene, evitando un impacto directo sobre su cuerpo. A pesar del esfuerzo del joven piloto, Tabris alcanza su objetivo y se encuentra con el ángel crucificado en lo más profundo del cuartel general de NERV.\\nMisato comprende que finalmente un ángel ha logrado llegar al Dogma Terminal y da la orden de iniciar la autodestrucción si los signos vitales del EVA-01 cesan. En ese momento, Kaworu reconoce que el ángel crucificado no es\\xa0Adán sino\\xa0Lilith, y espera la llegada de Shinji.\\nKaworu atrapado por la Unidad-01.\\nAl final, Shinji consigue derrotar a la Unidad-02 y captura a Nagisa. Entonces, Kaworu le comunica que el contacto con el ángel crucificado dará inicio al proceso de Instrumentalización Humana y le pide que acabe con su existencia pues para él, que está destinado a vivir para siempre, la muerte es \\'la única libertad absoluta\\'.\\nLuego de una tensa espera donde Shinji debe decidir la muerte de su amigo, el EVA-01 finalmente acaba con la vida del último mensajero.\\nDurante los acontecimientos de la película The End of Evangelion, Shinji se encuentra traumatizado al presenciar la aparente muerte de Asuka, lo que provoca que pierda el control de sus emociones. Luego de neutralizar al Evangelion Unidad 02, los nueve EVAs de Producción en Masa avanzaron a la siguiente fase del plan de Instrumentalización. Utilizando sus lanzas, capturaron a la Unidad-01 y se dispusieron a formar un Sefirot alrededor de ella, con sus propios cuerpos.\\nShinji, horrorizado, no podía apartar la mirada de aquel aterrador espectáculo. Los mutilados rostros de los EVAs mutaban ante sus ojos, adoptando grotescas formas que imitaban el rostro de Rei Ayanami. Ante tal horror, la desesperación comenzó a apoderarse de la mente del joven, haciendo peligrar el ritual.\\nLilith percibió la aflicción de Shinji y, en un intento por calmarlo, asumió la apariencia de Kaworu Nagisa, quien posiblemente estaba dentro de su cuerpo gracias a la previa fusión del embrión de Adán con Rei. Con su porte sereno y su mirada cálida, Kaworu se materializó y tuvo un efecto inmediato. La desesperación que envolvía a Shinji comenzó a disiparse gradualmente y el proceso se normalizó.\\nEsta oportuna intervención permitió que comience el Tercer Impacto, aunque Shinji sólo entra en la Instrumentalidad después de que Lilith vuelve a la forma de Rei. Durante los momentos finales del impacto, Kaworu y Rei se presentan ante Shinji y lo escuchan durante sus reflexiones sobre el futuro de la humanidad y la elección de aceptar o rechazar la Instrumentalidad.\\nPoco se sabe de las motivaciones de Kaworu, debido a su breve aparición. Su interés por Shinji pudo haber provenido de su curiosidad por comprender la naturaleza humana en general. Por otro lado, está claro que Kaworu representa una especie de figura idealizada para Shinji.\\nEs importante aclarar, que el joven Ikari se había quedado sin amigos debido a los recientes eventos de la historia. Ante dicho panorama, el misterioso joven aparece en el momento oportuno, cuando Shinji está completamente desesperado y necesita tener algún tipo de conexión con alguien.\\nShinji tenía miedo de hablar con Asuka, Misato y Rei, y había reforzado su errónea creencia de que nadie se preocupa por él. A pesar de esto, Kaworu se convierte rápidamente en una persona digna de confianza, posiblemente debido a su actitud desenfadada y su capacidad de mantener una conversación fluida.\\nLuego, Kaworu tomó por sorpresa a Shinji al confesar sus sentimientos, diciéndole que le gustaba. Kaworu usó el ambiguo término \"suki\", que abarca tanto la intimidad como la amistad, y simplemente puede significar \"me gustas\".\\nEsta línea tiene la ambigüedad necesaria para representar la falta de comprensión de Kaworu con respecto a los niveles de intimidad y las normas sociales de los seres humanos, siendo esto lo que conmociona a Shinji y le permite a Kaworu superar las barreras que los separan.\\nPor estas razones, descubrir la verdadera identidad de Kaworu resulta sumamente doloroso para Shinji. Sentir que Kaworu simplemente lo ha usado refuerza aún más su confusión, ya que el joven cree que todos le están mintiendo. Esto se agrava aún más, ya que Shinji no está dispuesto a reconocer la ambigüedad e inseguridad en otras personas, algo que Kaworu le permitió ignorar temporalmente.\\nEn su enfrentamiento final, Shinji afirma que Kaworu lo ha traicionado, al igual que lo hizo su padre, lo que indica que podría haber estado buscando una forma similar de apoyo de él. Este significado metafórico de su presencia se enfatiza aún más con la reaparición de Kaworu en The End of Evangelion.\\nDurante los acontecimientos de la película, Shinji experimenta un profundo trauma, lo que resulta en la pérdida del control sobre sus emociones. Lilith percibe el sufrimiento del joven y, en un intento por brindarle consuelo, adopta la apariencia de Kaworu Nagisa. Con su aire tranquilo, Kaworu toma forma y la desesperación que rodea a Shinji comienza a disiparse de manera gradual.\\nKaworu fue enviado a NERV por SEELE con el fin de avanzar en su objetivo de lograr la Instrumentalización Humana través de un Tercer Impacto que ocurriría bajo su dirección.\\xa0Antes de iniciar su ataque, Kaworu habla con los monolitos de SEELE, que aparentemente sólo él puede ver, ya que Misato afirma que el joven estaba hablando solo. Se puede suponer que ha estado en comunicación previa con SEELE, quienes le informan sobre su misión para entrar en NERV.\\nLa verdadera intención de SEELE en relación a Kaworu permanece envuelta en el misterio. Es decir, no está claro cuáles eran los planes precisos que tenían para él.\\xa0¿Acaso planeaban usarlo para acceder al Dogma Terminal?. Una vez que comenzó el ataque, los miembros de SEELE querían que fuese empleada la Unidad-01 para detener a Kaworu. ¿Este era su plan desde el principio? ¿O la incursión en las entrañas del Cuartel General de NERV fue una traición llevada a cabo por Kaworu?.\\nEl manga muestra la visión de Yoshiyuki Sadamoto, quién expone su propia interpretación de la historia y los personajes, dando mayor énfasis al desarrollo de algunos de ellos, aunque en general sigue la línea argumental de la serie original.\\nEn el caso de Kaworu, se presenta con una personalidad distinta a la que se ve en el anime, siendo posiblemente una faceta complementaria a la limitada aparición que tuvo en la versión animada.\\nEn esta versión de la historia, Kaworu es enviado por SEELE con el propósito específico de vigilar las acciones de Gendo Ikari. Además, se le asigna la tarea de reemplazar a Asuka Langley Soryu, ya que ella pierde la capacidad de sincronizarse con la Unidad-02.\\nKaworu tocando el piano.\\nShinji conoció a Kaworu en una situación diferente a la mostrada en el anime. El joven Ikari no quería ir a la escuela debido a la reciente muerte de su amigo Toji Suzuhara. Así que decidió desviarse de su camino y adentrarse en una zona deshabitada.\\nFue allí donde escuchó una melodía que provenía de una iglesia en ruinas. Al acercarse, descubrió que Kaworu Nagisa estaba en el interior del edificio tocando un hermoso piano.\\nEs importante destacar que el comportamiento de Kaworu en situaciones cotidianas y en sus relaciones interpersonales se puede describir como inusual o atípico, incluso llegando a tener un aire de excentricidad.\\nDespués de tener una breve conversación afuera de la iglesia, Kaworu se da cuenta de que un pequeño gatito ha seguido al joven Ikari. Shinji menciona que no puede llevarlo a casa. Entonces, Kaworu toma al gato en sus manos y, de manera tranquila pero firme, decide poner fin a su vida y lo estrangula.\\nImpactado por lo que acaba de presenciar, Shinji reacciona negativamente y critica la acción de Kaworu. Al escuchar las críticas, Kaworu justifica su acción argumentando que el gato habría muerto de hambre, considerando su acción como la mejor solución para el problema.\\nEstas frías palabras dejan a Shinji perplejo. Kaworu mantiene una actitud calmada e incluso indiferente frente a situaciones extremas, lo que desconcierta al joven Ikari y eventualmente genera un rechazo gradual y luego total por parte de este último.\\nCuando Armisael aparece, es Kaworu quien pilota la Unidad-02. Para sorpresa de todos, el joven muestra sorprendentes habilidades de pilotaje, realizando impresionantes maniobras evasivas para evitar los ataques de este difícil adversario.\\nUnidad-02 usando la Sierra Dual.\\nKaworu entendió que el pallet rifle era ineficaz contra Armisael y solicitó un arma diferente. Misato Katsuragi le envió una sierra mecánica de doble filo; sin embargo, también resulto ser ineficaz.\\nArmisael le arrebató la sierra y con ella le cortó una pierna, dejándolo inmóvil. Luego se fusionó con la Unidad-02 mientras estaba haciéndolo con la Unidad-00, y por lo tanto Nagisa experimentó las emociones de Rei Ayanami. Su mente fue contaminada con la psiquis de la joven, desarrollando así un sentimiento de amor hacia Shinji.\\nEn un determinado momento, Kaworu consideró usar sus poderes contra Armisael, pero optó por no hacerlo para mantener oculta su verdadera naturaleza. Finalmente, Shinji fue enviado a luchar. Cuando la Unidad-01 desplegó su campo AT atrajo la atención del ángel, el cual comenzó a invadirlo.\\nPara evitar que el ángel se fusionara con el EVA-01, Rei invirtió el campo AT de su unidad, atrapando al ángel dentro del núcleo de la Unidad-00. Luego, activó el sistema de autodestrucción, matando al ángel y arrasando gran parte de Tokio-3.\\nDespués de estos eventos, Kaworu muestra un creciente interés en Shinji. Incluso algunas viñetas sugieren una relación más íntima con el joven Ikari, aunque Nagisa parece tener dificultades para comprender plenamente las emociones humanas. Hacia el final de la historia, Kaworu cumple su destino, tomando como base directamente los sentimientos de Shinji hacia él.\\nEn el audio drama titulado \"After the End\" (Shuukyoku no Tsudzuki), lanzado en la banda sonora oficial de Neon Genesis Evangelion Addition, todos los actores de voz originales en japonés regresan para interpretar a sus personajes y romper la cuarta pared, hablando sobre la necesidad de producir un episodio 27 y aumentar el atractivo de la serie, así como interpretando versiones exageradas de sí mismos como actores que interpretan a los personajes de la serie, y en otras ocasiones, interpretando a los propios personajes.\\nCuando Kaworu aparece, Asuka exclama (en una traducción aproximada): \"genial, es ese chico homosexual\", a lo que Kaworu responde: \"realmente desearía que no hicieras afirmaciones como esa cuando no tienes ninguna evidencia para respaldarlas\", reflejando el debate sobre el personaje.\\nKaworu aparece en el videojuego Neon Genesis Evangelion 2 como un personaje secundario recurrente, un posible interés romántico y se convierte en un personaje jugable una vez que se desbloquea su ruta.\\nExisten ciertas ubicaciones bloqueadas para él, como la sede principal de NERV. Aun así, Kaworu puede interactuar normalmente con todos los personajes disponibles en otras ubicaciones.\\nKaworu tras despertar en la Luna.\\nEn Evangelion: 1.0 You Are (Not) Alone, tras permanecer dormido, un desnudo Kaworu\\xa0Nagisa despierta en la Base Tabgha situada en la Luna. En ese sitio, SEELE ensambla el Evangelion Mark.06.\\nEl joven comienza a hablar con Keel Lorenz, que aparece a través de su monolito. El líder de SEELE le aclara que el niño\\xa0esta progresando según lo previsto en\\xa0los\\xa0Manuscritos del Mar Muerto. A continuación Kaworu, con la mirada fija en la Tierra, anticipa el encuentro que le espera con Shinji.\\nEn Evangelion: 2.0 You Can (Not) Advance, Shinji está más acostumbrado a vivir en Tokio-3 y derrota al Sexto Ángel en la Operación Yashima.\\nTras cierto tiempo, Gendo Ikari y Kozo Fuyutsuki sobrevuelan la base lunar y logran ver a Kaworu sobre uno de los falanges del Mark.06. Mientras los observa, Fuyutsuki le pregunta a Gendo si Kaworu\\xa0es humano o no y a continuación, Kaworu saluda a Gendo diciéndole padre.\\xa0Antes de que\\xa0el Décimo Ángel ataque, Kaworu es visto poniéndose el Plug Suit, mirando a la Tierra fijamente.\\nCuando el EVA-01 estaba iniciando el Tercer Impacto, es atravesado por la lanza de Cassius arrojada por el Mark.06 pilotado por Kaworu,\\xa0dirigiéndose a Shinji y diciéndole que el momento prometido había llegado y que\\xa0juraba hacerlo feliz.\\nEn Evangelion: 3.0 You Can (Not) Redo, Kaworu se unió a NERV y el Evangelion Mark.06 quedó abandonado en el Dogma Terminal.\\nLa operación de rescate se lleva a cabo con éxito y el EVA-01 es traído de vuelta a la Tierra por WILLE. A lo lejos, Kaworu observa su llegada y confiesa con serenidad que ha estado esperando el regreso de Shinji.\\nKaworu tocando el piano.\\nTras ser llevado por el Evangelion Mark.09 a NERV, Shinji observa a Kaworu mientras toca el piano, quedando impresionado por su habilidad. Posteriormente, ambos son presentados oficialmente, y en ese momento, Gendo le informa que tendrá que pilotar el nuevo Evangelion Unidad 13 cuando llegue el momento adecuado.\\nDado que Kaworu era la única persona con la que Shinji podía entablar conversaciones significativas, comenzaron a desarrollar una relación amistosa. A medida que los días pasaban, su amistad se fortalecía aún más a través de la música, ejecutando piezas musicales juntos en el piano. El acto de tocar el piano se convirtió en un medio de expresión para Shinji y Kaworu.\\nPosteriormente, Kaworu le muestra el resultado del Casi-Tercer Impacto al incrédulo Shinji. Ya han pasado 14 años desde aquel apocalíptico acontecimiento y el deterioro de la región es evidente. El paisaje posee tintes surrealistas, y se ven gigantescas cruces rojas diseminadas a lo largo de varios kilómetros.\\nKaworu quitándole a Shinji el collar DSS.\\nLuego de que Shinji se entera de la verdad sobre Rei y su madre, la desesperación lo lleva a no querer pilotar nunca más un EVA. Tras decirle al joven Ikari que pilotando el EVA-13 podría regresar todo a la normalidad, Kaworu procedió a quitarle el DSS Choker y colocárselo él mismo, diciendo que cargaría con sus culpas.\\nDecidido a ayudar a Shinji en su deseo, le menciona que existe una forma de revertir lo ocurrido utilizando las lanzas de Cassius y Loginus. Para lograrlo, deben pilotar juntos el Evangelion Unidad 13 en perfecta sincronía. Sin perder tiempo, ambos parten con esta premisa, descendiendo al epicentro del impacto, siendo acompañados por el Evangelion Mark.09 pilotado por Rei Ayanami.\\nTras llegar al Dogma Terminal, Kaworu y Shinji encuentran los restos de Lilith, que se ha fusionado con el Evangelion Mark.06. Dos lanzas atraviesan el cuerpo de la entidad fusionada, la cual yace inmóvil y sumida en un estado de descomposición.\\nNo obstante, su sorpresa aumenta cuando Asuka y Mari aparecen para detenerlos, dando lugar a una breve confrontación. Mientras luchan, Kaworu se da cuenta de que ambas lanzas son lanzas de Longinus, lo que revela el engaño perpetrado por Gendo.\\nA pesar de sus intentos de persuadir a Shinji, este último apaga sus controles y Kaworu no puede controlar el EVA. Por esta razón, Nagisa es testigo del inicio del Cuarto Impacto, desencadenado por Shinji cuando este retira ambas lanzas del cuerpo de Lilith utilizando los cuatro brazos del EVA-13.\\nKaworu sonriendo antes de morir.\\nTras darse cuenta de lo que había provocado, y al ser re catalogado como el décimotercer ángel,\\xa0Kaworu clava\\xa0las dos lanzas en el EVA-13, con lo cual éste recobra su estado anterior y el proceso apocalíptico se revierte.\\nKaworu se disculpa con Shinji al comprender que la realidad que compartieron no fue la felicidad que Shinji anhelaba. Con sus últimas palabras, y mientras el DSS Choker está a punto de detonar, le anuncia que se volverán a encontrar antes de que el artefacto en su cuello lo decapite por completo.\\nEn Evangelion: 3.0+1.0 Thrice Upon A Time, Gendo y Shinji luchan en el \"Anti-Universo\", y entran al misterioso Objeto Gólgota. Ambos entablan una lucha surrealista, donde chocan con sus lanzas en múltiples ubicaciones, tomadas de los recuerdos de Shinji. El EVA-01 y el EVA-13 están sincronizados, y el joven no logra prevalecer sobre Gendo.\\nCuando ambos EVAs llegan a un escenario basado en la Villa 3, Shinji reflexiona sobre las vivencias compartidas con sus amigos. Impulsado por estos pensamientos, decide solicitar a su padre un momento para entablar una conversación. Sorprendentemente, el Comandante de NERV accede y procede a exponer sus motivaciones. En ese preciso instante, el joven Ikari intenta entablar un razonamiento con Gendo, logrando finalmente detenerlo.\\nEl joven Ikari habla con Kaworu.\\nDurante el Impacto Adicional, Shinji tiene una conversación con Kaworu en la que se recrea la icónica escena de la puesta de sol en la orilla del cráter de Tokio-3. En este momento, Kaworu revela que ha escrito el nombre de Shinji en el Libro de la Vida, lo que le permite conocerlo en todos los ciclos.\\nFinalmente, Gendo y Yui, siendo ella el EVA-01 y Gendo el EVA-13, se sacrifican para terminar lo que Shinji comenzó. Sus acciones devuelven todos los EVAs y fallas del infinito a sus formas humanas y animales, restaurando el mundo a su estado original antes de los impactos y convirtiéndolo en un sitio sin EVAs.\\nEn la secuencia final, Asuka, Rei y Kaworu están en el andén de una estación de tren, y Mari se acercó a un Shinji ya adulto. En un gesto conmovedor, Shinji y Mari salieron tomados de la mano hacia un mundo desconocido. La escena de repente cambia y se convierte en una secuencia live action, lo que sugiere que los personajes finalmente han encontrado un cierre en nuestra realidad.\\nEn Neon Genesis Evangelion: Shinji Ikari Raising Project, Kaworu es un agente enviado por SEELE para infiltrarse en la escuela de Shinji. Él molesta frecuentemente al joven Ikari, lo que provoca la ira de Asuka (y eventualmente, de Rei).\\nTambién se insinúa que él es la causa de un apagón en NERV (haciendo homenaje al corte original en el anime) y es un posible interés romántico para Shinji junto con Rei y Asuka, aunque Shinji parece no darse cuenta de las intenciones de Kaworu.\\nKaworu es utilizado principalmente como alivio cómico y desaparece por completo de la historia después de los primeros capítulos, cuando la trama vuelve a centrarse en Rei y Asuka. Sin embargo, incluso en este ambiente más ligero, Kaworu sigue aliado con SEELE por razones misteriosas.\\nEn Neon Genesis Evangelion: Girlfriend of Steel 2nd, Kaworu Nagisa asume el control de un EVA de Producción en Masa durante la batalla, uniéndose a las demás Unidades Evangelion de NERV.\\nKaworu destaca como un piloto altamente eficiente, logrando un excelente rendimiento con el EVA de Producción en Masa. Su habilidad y destreza en el manejo de la unidad son impresionantes, lo que lo convierte en un recurso valioso.\\nEs importante destacar que el joven posee un profundo conocimiento de la verdadera naturaleza del EVA. Esto le permite aprovechar al máximo las capacidades de la unidad, optimizando su rendimiento durante el combate y adaptándose rápidamente a situaciones cambiantes.\\nKaworu protegiendo a Shinji.\\nEn Neon Genesis Evangelion: Gakuen Datenroku, Kaworu es un enigmático estudiante transferido que muestra interés por Shinji. Junto a Rei, Kaworu lucha en secreto contra los Ángeles y posee la habilidad de generar un campo AT para defenderse de los ataques, mientras que su EVA se manifiesta en forma de una espada.\\nEs importante destacar que el joven utiliza el nombre \"Tabris\" para jugar vídeojuegos en línea. Además, en el capítulo ocho de Gakuen Datenroku se revela que Kaworu es un \"niño creado artificialmente\" y ha vivido siempre en instalaciones especiales. Por esa razón desconoce muchas costumbres sociales, pero se considera amigo cercano de Shinji.\\nMás tarde, Kaworu confiesa a Shinji que en realidad es el decimoséptimo ángel, Tabris. En el volumen final, Kaworu se sacrifica para salvar a Shinji, ocupando el lugar de Yui Ikari en el Árbol Yggdrasil. Antes de desaparecer, le confía a Shinji que fue gracias a él que rechazó la naturaleza destructiva de los Ángeles y eligió abrazar a la humanidad.\\nEn Neon Genesis Evangelion: Angelic Days, Shinji conoce a Kaworu durante su infancia, lo que hace que se acostumbre a acudir a él cuando tiene conflictos con Asuka, su primera amiga de la infancia. Sin embargo, Shinji siempre logra hacer las paces con la joven. Asuka muestra cierta hostilidad hacia Kaworu, ya que la atención de Shinji se divide entre Asuka, Rei y Kaworu, aunque con el tiempo se va suavizando. Finalmente, Kaworu comienza a entender los sentimientos de Shinji hacia Asuka.\\nDentro de la Instrumentalización Humana, Kaworu le ofrece a Shinji un mundo que no cambia, donde siempre serán niños. Sin embargo, el joven rechaza la oferta, dándose cuenta de que necesita crecer, y Kaworu decide desaparecer voluntariamente. Esto lleva a Asuka y Shinji a darse cuenta de sus sentimientos mutuos.\\nCerca del final, Kaworu parece estar muy contento por ellos y se refiere a Asuka como \"tu novia\" ante Shinji. También aparece en un recuerdo con Gendo y Yui en sus días de instituto, antes de desaparecer nuevamente, motivando a Gendo a conectar con Yui de manera similar.\\nEn Petit Eva: Evangelion@School, Kaworu es un chico normal que asiste a la misma clase que Shinji Ikari, Asuka Langley y las hermanas Ayanami. Es el delegado de los estudiantes y posee un don natural para tocar el violín, cautivando a los gatos con su melodía.\\nSu belleza lo convierte en alguien muy popular entre las chicas. Sin embargo, Kaworu muestra abiertamente su afecto por Shinji, por ejemplo, sugiriendo pasar \"momentos tiernos juntos\" en el Día de San Valentín.\\n\\n'}\n",
            "Nodo: Shinji Ikari, Atributos: {'Shinji Ikari': '碇シンジ', 'Afiliación': 'NERV', 'Rango': 'Third Children', 'Edad': '14 años', 'Sexo': 'Masculino', 'Familia': 'Gendo Ikari (Padre)  Yui Ikari (Madre)', 'Primera aparición': 'El ataque del Ángel [NGE]  El ataque del Ángel [Manga]  Evangelion: 1.0 [RB]', 'Seiyū': 'Megumi Ogata  Ryunosuke Kamiki (Adulto)', 'Doblador Latino': 'Víctor Ugarte  Alondra Hidalgo (Niño, primer doblaje de NGE)  Xóchitl Ugarte (Niño, segundo doblaje de NGE)  Sammir Hernández (Niño, tercer doblaje de NGE)  Juan Pablo Pinet (Niño, primer doblaje de Evangelion: 2.0)', 'Resumen': 'Doblador en España\\nAlbert Trifol Segarra\\nShinji Ikari (碇シンジ, ,  Ikari Shinji ?) es el Third Children, el protagonista principal de la serie y piloto designado del Evangelion Unidad 01.\\nShinji es hijo de la bioingeniera Yui Ikari y del jefe de la organización NERV, Gendo Ikari.\\nTras el fallecimiento de su madre, su padre lo abandonó, y vivió durante 11 años con su sensei. Sin embargo, su vida dio un giro inesperado cuando fue convocado a Tokio-3 para pilotar la Unidad-01 y enfrentar a los Ángeles.\\nAl principio, vivió a solas con Misato Katsuragi. Sin embargo, más adelante se unió a ellos Asuka Langley Soryu.\\nAl inicio de la serie, Shinji exhibe una personalidad pasiva y relajada, probablemente heredada de su vida tranquila con su sensei. Sin embargo, detrás de esta actitud, es evidente que se siente profundamente conmovido por lo que le rodea.\\nEn el episodio 01, después de mantener la calma durante un largo período, finalmente estalla en ira frente a su padre. La falta de confianza en sí mismo es uno de los motivos de su pasividad, y las experiencias vividas en NERV no mejoran su situación.\\nA pesar de ello, Shinji es consciente de sus propias debilidades y siempre se muestra gentil y compasivo. Normalmente, Shinji es bastante introvertido. En situaciones sociales se muestra incómodo, y a menudo exhibe dificultad para controlar sus emociones.\\nTiene un gran miedo a ser odiado, probablemente porque fue abandonado en su juventud. Gendo abandonó a su hijo a los 4 años, lo que traumatizó al joven por el resto de su vida. Por esa razón, Shinji se ha encerrado en sí mismo y rechaza cualquier apego a los demás, por temor a ser traicionado nuevamente.\\nDebido a su frágil estado emocional, el joven decide aislarse del mundo usando los auriculares, escuchando música con su reproductor SDAT. Suele reproducir siempre las pistas 25 (\"You Are the Only One\") y 26 (\"Blue Legend\").\\nGendo sólo se digna a contactar a su hijo si este puede servir a sus proyectos. Y por lo general, Shinji es feliz de cumplir las órdenes, ya que sólo desea que la gente esté orgullosa de él. Aunque inicialmente lo niega, anhela recibir alabanza, y finalmente empieza a pilotar el Evangelion Unidad 01 para obtener la aprobación de los demás, así como el amor de su padre.\\nSi bien se reconoce, durante el avance de la serie, que Shinji es un gran piloto, el joven no parece mostrar otras habilidades, además de cierto talento para cocinar. Sin embargo, en el episodio 15 se reveló que tocaba el violonchelo.\\nSu talento musical parece ser la única forma que tiene de expresarse abiertamente. Aunque el joven afirma no tener talento, a pesar de interpretar una pieza de Bach considerada muy exigente.\\nShinji tiene el cabello de color marrón y sus ojos son de un tono azul grisáceo, características que heredó de su madre, Yui. Es una persona delgada y se nota que le gusta mantener las cosas en orden ya que suele tener su camisa dentro del pantalón.\\nCuando está en NERV o fuera de la ciudad, usa una camisa blanca y pantalones oscuros, aunque en su apartamento prefiere usar ropa más informal. El Plug Suit de Shinji es de color azul claro y blanco, complementado por algunas partes negras.\\nCuando Shinji tenía aproximadamente tres años, su madre falleció y eso le causó un gran sufrimiento que lo afectó por mucho tiempo. Después de ser abandonado por su padre Gendo Ikari, Shinji vivió durante once años junto a su sensei.\\nAparece por primera vez en los primeros minutos del episodio 01. El joven ha sido citado a Tokio-3 por su padre. Mientras espera a que vayan a buscarlo, Shinji es testigo del ataque del ángel Sachiel. Misato Katsuragi lo rescata justo a tiempo, y escapan a toda velocidad en su Renault Alpine A310.\\nEn la base de NERV, Shinji se entera de los verdaderos motivos de su padre: designarlo como piloto del Evangelion Unidad 01. Shinji se niega al ver que su padre sólo quiere utilizarlo. Ante esta situación, Gendo decide utilizar a Rei Ayanami, que está gravemente herida y envuelta en vendajes.\\nEste acto de crueldad hace cambiar de parecer a Shinji, que finalmente decide cooperar. A bordo del Evangelion, el joven es dejado inconsciente al poco tiempo de comenzar la batalla, pero súbitamente el EVA entra en modo berserk, actúa por sí mismo y destruye al ángel.\\nPoco después de la derrota del ángel, Misato se lleva a Shinji a vivir con ella, en lugar de dejarlo vivir por su cuenta. Varias semanas más tarde, el joven Ikari comienza a asistir a la escuela, donde conoce a Toji, Kensuke y Hikari. Cuando se descubre que Shinji es el piloto del Evangelion Unidad 01, Toji lo golpea, en represalia por haber resultado herida su hermana durante la batalla.\\nPasado un breve lapso de tiempo, el ángel Shamshel ataca, y Shinji se ve obligado a pilotar una vez más la Unidad-01. Durante la intensa batalla que se desarrolla, el cable umbilical que suministra energía al EVA es cortado, dejándolo operando con un nivel limitado de energía.\\nPara empeorar la situación, Toji y Kensuke se escapan del refugio y van a ver el combate, complicándole las cosas a Shinji, que debe rescatarlos.\\nShinji desobedece la orden de retirada de Misato, y ataca a Shamshel con su cuchillo progresivo, corriendo un riesgo innecesario y derrotándolo de milagro. Debido a esto, ella lo regaña severamente y Shinji decide escapar de casa, pasando varios días vagando por la ciudad.\\nEn las afueras de Tokio-3 se encuentra con Kensuke, que estaba acampando, y pasa la noche con él. Kensuke le cuenta que Toji se sentía mal por haberlo golpeado, y estaba preocupado por él.\\nAl día siguiente, los agentes del Departamento de Inteligencia de NERV los encuentran y se llevan a Shinji a una habitación de confinamiento. Luego de hablar con Misato sin llegar a un acuerdo, el joven Ikari decide tomar un tren para irse definitivamente.\\nEn la estación, se encontró con Toji y Kensuke, quienes habían anticipado su partida y fueron a despedirse. Pensando que nunca se volverían a ver, Toji se disculpó y le pidió que lo golpeara para que pudieran estar en paz. Después de esta reunión, Shinji se dio cuenta de que ahora tenía dos nuevos amigos. Finalmente, Misato logra entender sus sentimientos, haciendo las paces y logrando que el chico se quede en NERV.\\nPoco después, Shinji descubre que su padre tiene quemaduras en las manos. Al preguntarle a Ritsuko al respecto, ella le relata que Gendo puso sus manos en metal caliente para salvar a Rei. Sin embargo, Shinji mostró cierto escepticismo frente a la explicación. A partir de entonces, el joven empezó a sentir curiosidad por Rei, especialmente al notar que ella siempre estaba sola.\\nPoco después, Misato invita a Ritsuko a comer a su apartamento. Durante la reunión, la doctora dice que olvidó entregarle la nueva identificación de seguridad a Rei y le pide al joven Ikari que se la entregue. Al día siguiente, Shinji acude al apartamento de Rei. Primero toca el timbre, pero descubre que no funciona, así que decide entrar.\\nEn la desordenada habitación, el joven ve las gafas de su padre y las sujeta. En ese momento, Rei sale desnuda de la ducha y parece molesta al ver que sujeta las gafas. Cuando intenta quitárselas, Shinji torpemente se cae encima de ella, tocando su cuerpo. Ante tal situación, se pone muy nervioso y no sabe qué hacer, pero ella no muestra vergüenza o malestar alguno.\\nUn poco conmocionado, Shinji sigue a Rei y le da su tarjeta de identificación. Luego, ella se dirige a la base para realizar el experimento de reactivación del Evangelion Unidad 00. En el camino, Shinji habla despectivamente sobre Gendo y por eso Rei le da una bofetada.\\nDespués del experimento, Ramiel ataca la ciudad y Gendo ordena el lanzamiento de la Unidad-01. Sin embargo, Shinji es golpeado inmediatamente por el poderoso rayo de energía del ángel y es retirado por orden de Misato. Cuando el joven despierta, se encuentra en el hospital y Rei le explica los detalles de la Operación Yashima.\\nRamiel se sitúa sobre la ciudad.\\nMediante una serie de señuelos, se comprueba que el ángel ataca automáticamente a cualquier blanco que se aproxime a su radio de percepción, y su campo AT es sumamente poderoso. Estas características lo convierten en un enemigo casi invencible.\\nLa única salida es atacar a Ramiel a distancia y por sorpresa, atravesando su campo AT con un rayo de alta energía enfocado en un solo punto. Al principio, Shinji se niega a pilotar por miedo, pero finalmente lo supera y accede a participar en la operación.\\nMisato y Ritsuko le explicaron que sería el encargado de disparar el rifle de positrones (el cual necesitaba de 180 GigaWatts que serían absorbidos de toda la energía de Japón), mientras Rei lo defendería usando un escudo electromagnético capaz de contener el ataque del ángel por 17 segundos.\\nDurante la batalla, el primer disparo de Shinji no destruye al ángel. Cuando Ramiel contraataca, Rei defiende al EVA-01 usando el escudo. Shinji consigue destruir a Ramiel con su segundo disparo y sale rápidamente de la Unidad-01 para ayudar a Rei.\\nEl joven abre la escotilla caliente del Entry Plug de la Unidad-00 para salvarla. En ese instante, Shinji llora de alegría al ver que ella está a salvo. Rei manifiesta no saber qué expresar y Shinji le pide una sonrisa. Luego, ambos regresan caminando bajo la luz de la luna.\\nDurante su rutina diaria, Shinji se siente descontento con el modo de vida poco saludable de Misato. Posteriormente, ella asiste a la prueba de activación de una nueva unidad robótica denominada Jet Alone, la cual podría reemplazar a los EVAs.\\nLa prueba comenzó y al principio todo parecía ir bien. Sin embargo, de repente, el robot se salió de control y avanzó a gran velocidad hacia Atsugi. Shinji tuvo que pilotar la Unidad-01 y llevar a Misato al Jet Alone, para que ella pudiera desactivar su reactor y detenerlo.\\nUna vez que la situación se resolvió, Shinji se sintió aliviado, pero al día siguiente se quejó de la actitud de Misato. Al oirlo, Toji y Kensuke le señalaron que Misato solo mostraba su verdadera personalidad a Shinji porque ella lo consideraba parte de su familia, y Shinji felizmente lo aceptó.\\nUn tiempo después, Misato lleva a Shinji, Toji, Kensuke al convoy naval de las Naciones Unidas encargado de transportar al Evangelion Unidad 02, pilotado por Asuka Langley Soryu.\\nLa muchacha se decepciona al conocer a Shinji y dice que es aburrido. A pesar de esto, Asuka muestra cierto interés por él (después de enterarse de su capacidad innata para sincronizarse con la Unidad-01). Cuando Gaghiel ataca la flota, ella ve una oportunidad de impresionar a Shinji, y decide usar el EVA-02.\\nUna vez activado, el EVA saltó de barco en barco hasta alcanzar el portaaviones. Dando un gran salto, el ángel los envistió y haciendo uso de su enorme fuerza los arrojó al mar fácilmente, lo cual representa un problema para el EVA que tenía el equipamiento B-type y no estaba preparada para luchar bajo el agua.\\nShinji se había vuelto pragmático y se mantenía calmado, mientras que Asuka se distraía fácilmente al sentirse incómoda por tenerlo demasiado cerca. La muchacha le había dicho a Shinji que no hiciera nada raro, ya que ambos estaban muy juntos. Sin embargo, Shinji no sabía de lo que hablaba Asuka, ya que su atención estaba enfocada en matar al ángel.\\nAfortunadamente, Misato ideó un plan que consistía en utilizar el EVA como si fuera el cebo y pescar al ángel enrollando el cable umbilical. Al mismo tiempo, intentarían hundir dos acorazados en línea con el cable para hacer que el ángel los engullera gracias a que la Unidad-02 abriría sus fauces, para luego disparar todos los cañones contra su núcleo, situado en el centro de la boca. Esto, junto con la autodestrucción de los barcos, resultaría en la destrucción del ángel.\\nFinalmente, Shinji y Asuka lograron sincronizar justo a tiempo y consiguieron abrir la boca del ángel. La gigantesca explosión resultante mató a Gaguiel y hizo que la Unidad-02 saliera despedida, aterrizando en la cubierta del portaaviones.\\nCon la llegada del siguiente ángel, Israfel, NERV despliega a Shinji y Asuka para destruirlo. Desafiando las órdenes de actuar junto a su compañero, Asuka atacó al ángel y lo partió en dos usando el Sonic Glaive. Para sorpresa de todos, Israfel se separó en dos seres idénticos y venció a ambos EVAs con facilidad.\\nDebido al fracaso de ambos pilotos, NERV tuvo que ceder el mando a las fuerzas de las Naciones Unidas, que atacan a las criaturas con una bomba N² y destruyen un 28% de su sustancia estructural, paralizándolos por seis días.\\nLuego, los EVAs son recuperados y todo el personal se reúne para escuchar un informe de la situación. En ese momento, Shinji y Asuka empiezan a discutir sobre quién tiene la culpa, pero Kozo Fuyutsuki interviene y les dice que los pilotos tienen un único propósito, el cual es vencer ángeles. Por lo tanto les ordena que deben cooperar.\\nKaji y Misato idean un ingenioso plan para acabar con el ángel; sin embargo, la idea requiere la cooperación y coordinación de ambas Unidades Evangelion.\\nDurante los próximos días Shinji y Asuka viven juntos en casa de Misato, sometidos a numerosas pruebas y ejercicios de entrenamiento. Cuando llega el día de la batalla, los dos trabajan juntos y derrotan a Israfel sin problemas a través de una rutina de baile sincronizado.\\nTiempo después, Shinji está teniendo problemas con un trabajo escolar. Asuka resuelve sus problemas con relativa facilidad, y le explica el tema de la dilatación térmica dando un ejemplo con sus pechos, para gran vergüenza de Shinji.\\nMientras tanto, NERV descubre la crisálida de Sandalphon sumergida dentro del Monte Asama. Se emite una orden de captura, y Asuka toma la iniciativa ofreciéndose como voluntaria. Ella se sumerge en el magma, donde tras unos pequeños problemas y con la ayuda de Shinji, Asuka derrota a Sandalphon.\\nUnos días más tarde, Shinji intenta tímidamente hablar con su padre por teléfono, cuando ocurre un misterioso apagón de energía eléctrica en Tokio-3, dejando la base indefensa. En esa difícil situación, son atacados por el siguiente ángel, Matarael. Shinji, Asuka y Rei deben combatir juntos para derrotarlo. A pesar de que entran en conflicto muchas veces, ellos consiguen trabajar en equipo y derrotar a Matarael.\\nRadio de caída del ángel (área color naranja) estimado por MAGI.\\nEn el episodio 12, se descubre que Shinji está aumentando rápidamente su porcentaje de sincronización, para gran consternación de Asuka. Cuando Sahaquiel ataca en la forma de un meteoro, Misato piensa un arriesgado plan en el que Shinji, Asuka y Rei deben cooperar.\\nLa idea es impedir que Sahaquiel colisione, capturándolo con las manos desnudas y desplegando los campos AT de los tres EVAs al máximo. Shinji es el primero en llegar al punto de caída, y con ayuda de Rei consiguen romper el poderoso campo AT, exponiendo el núcleo para que luego Asuka lo destruya, matando así al ángel. Luego de esta complicada misión, Gendo felicita por primera vez al joven piloto, lo cual eleva su autoestima.\\nMás tarde, Shinji participó en un experimento de intercambio de pilotos. El objetivo es evaluar la compatibilidad de los pilotos con otras unidades, para poder intercambiarlos de ser necesario. Los resultados muestran que Rei parece ser compatible con la Unidad-01.\\nPor su parte, Shinji sube a la Unidad-00. Todo marchaba bien hasta que fue realizada la tercera conexión. La mente de Shinji fue invadida por una misteriosa entidad y el EVA entra en modo berserk. El incidente acabó luego de cortar la energía del EVA, y Shinji sale prácticamente ileso sin recordar nada de lo ocurrido.\\nMás adelante, Shinji visita la tumba de su madre acompañado por Gendo. Allí, su padre le revela que no hay ningún cuerpo enterrado y que no tiene ninguna foto de Yui. Antes de irse, afirma que todo lo importante está en su corazón.\\nAunque fue breve, Shinji tuvo la oportunidad de entablar una conversación con su padre durante su encuentro. Al regresar a casa, el joven comienza a tocar el violonchelo y llama la atención de Asuka, quien nota su gran talento. Shinji le cuenta que empezó a tocar cuando tenía cinco años y que continúa haciéndolo porque nadie le dijo que lo dejara.\\nEsa noche, Asuka le confiesa a Shinji que está aburrida y que quiere besarle. A pesar de estar algo nervioso, el joven acepta el desafío. Sin embargo, Asuka se enfurece al enterarse que Kaji y Misato habían salido juntos. Debido a esto, descarga su ira en Shinji, quien no comprende la actitud de la chica.\\nDurante el episodio 16, la prueba de sincronización de Shinji da los resultados más altos entre los pilotos, siendo un evento que inspira confianza en él. Debido a esto, se incrementa el odio de Asuka. Al día siguiente llega el ángel Leliel. Shinji le hace frente en solitario, lo que resulta en un desastroso error y la Unidad-01 es capturada por el Mar de Dirac.\\nCon el transcurir del tiempo, Shinji va perdiendo gradualmente la esperanza y entra en pánico. Durante el momento más crítico, el atemorizado joven experimenta una intensa introspección. Finalmente, cuando se interrumpe por completo el soporte vital, la Unidad-01 entra en modo berserk y se libera del ángel desatando una lluvia de sangre.\\nMás adelante, la Evangelion Unidad 04 se desvanece en un misterioso accidente junto con la Segunda Rama de NERV, y la Unidad-03 es enviada a Japón, siendo Toji Suzuhara el encargado de pilotarla. Shinji y Asuka se quedan al cuidado de Kaji mientras Misato va a supervisar la prueba de activación.\\nPor la noche, Shinji le preguntó a Kaji acerca de Gendo, pensando que finalmente estaba empezando a comprender a su padre. Sin embargo, Kaji no estuvo de acuerdo y le respondió que sólo creía entenderlo. Además, añadió que las personas raramente se entienden a sí mismas, y mucho menos a los demás.\\nAl día siguiente, comienza la prueba de activación, la cual parecía marchar bien al principio. Sin embargo, el Evangelion es poseído por el ángel Bardiel. NERV emite un estado de alerta y despliega sus tres Unidades Evangelion para interceptarlo. En la batalla subsiguiente, Bardiel derrota a Asuka y Rei en cuestión de segundos.\\nAl ver la situación, Shinji renuncia a luchar, alegando que prefería morir antes que matar al piloto de la Unidad-03. Ante la negativa de Shinji de luchar, Gendo activa un método experimental de teledirección llamado dummy plug y el EVA destroza a su oponente, casi matando a Toji en el proceso.\\nCuando descubre que el piloto era Toji, Shinji amenaza con destruir los Cuarteles Generales de NERV en venganza contra su padre. Entonces, Gendo ordena elevar la presión del LCL para obligarlo a salir. Como resultado, Shinji es arrestado y llevado ante Gendo. Tras una breve discusión con su padre, el joven decide abandonar NERV y renunciar a sus deberes como piloto de EVA.\\nEn ese momento, el décimo cuarto ángel, Zeruel, comienza su asalto, destruyendo las defensas del GeoFront y derrotando a la Unidad-02 y la Unidad-00 sin dificultades. Mientras eso ocurre, Shinji se oculta junto a otras personas en un refugio cercano.\\nRepentinamente, cae sobre el refugio la cabeza cercenada de la Unidad-02. Al salir afuera, Shinji es testigo de la devastación causada por Zeruel. En ese momento, se encuentra con Kaji y este le hace recapacitar, convenciéndolo de pilotar la Evangelion Unidad-01 una vez más.\\nMostrando gran valentía, Shinji se enfrenta cuerpo a cuerpo con el poderoso ángel y logra expulsarlo del Dogma Central, pero el EVA-01 se queda sin energía en el momento menos deseado.\\nEl Evangelion Unidad 01 se reactiva y entra en modo berserk.\\nAprovechando la oportunidad, Zeruel procede a tratar de destruir al EVA-01. Sin embargo, este se reactiva y entra en modo berserk, derrotando fácilmente al ángel, y procediendo a devorar su motor S².\\nTras el incidente, Shinji fue absorbido dentro del núcleo del EVA. El joven permaneció allí dentro aproximadamente un mes, experimentando una serie de viajes mentales en los cuales dedujo que al pilotar el EVA la gente es amable con él.\\nEn el exterior, Misato y Ritsuko hacen todo lo posible por salvar el alma de Shinji y restaurar su cuerpo. A pesar de sus esfuerzos, la compleja operación de salvamento falla. Aun así, Shinji decide volver y emerge a través del núcleo del EVA-01.\\nArael, el décimo quinto ángel llega y Asuka es víctima de un ataque psicológico. Rei se hace cargo del rescate, ya que Shinji y el EVA-01 no están disponibles por temor a que la unidad pueda entrar de nuevo en modo berserk. Para derrotar al objetivo, Gendo ordenó a Rei utilizar la lanza de Longinus y como consecuencia, esta se perdió para siempre en el espacio exterior.\\nEn el episodio 23, el siguiente ángel, Armisael, ataca Tokio-3 y el EVA-00 sale a su encuentro. Su patrón de onda cambiaba de azul a naranja, lo que parecía indicar que su forma podría cambiar. Una vez se acercó la unidad, Armisael adoptó su forma de combate, atravesando fácilmente el campo AT y su núcleo.\\nA pesar de los esfuerzos de Rei, el EVA-00 es atrapado e infectado por el ángel. Asuka es demasiado inestable para pilotar su EVA, así que Shinji fue enviado a salvar a Rei.\\nMientras lucha, el ángel se fusiona con las manos de la Evangelion Unidad-01. A través de esto, Rei entiende la verdadera naturaleza de sus sentimientos. Ella descubre que su deseo es estar con Shinji, y para salvarlo decide autodestruir su EVA junto con el enemigo.\\nTras el trágico suceso, Shinji se encontraba sumido en una profunda devastación. Sin embargo, poco tiempo después descubrió con gran alivio que Rei seguía con vida, aunque notó un cambio en ella.\\nPoco después, Ritsuko traiciona a Gendo y les muestra a Misato y Shinji el cementerio de EVAs, así como los clones de Rei. Estas impactantes revelaciones afectan profundamente a la frágil mente del joven.\\nShinji conoce a Kaworu Nagisa.\\nShinji se siente confundido, y es demasiado cobarde para ir a casa. Se encuentra en el borde de un enorme cráter, donde antes se encontraba la ciudad. Allí conoce a un joven misterioso llamado Kaworu Nagisa, que llega para pilotar el Evangelion Unidad 02 en reemplazo de Asuka.\\nA través de las habilidades de conversación elegantes de Kaworu y el entendimiento de los sentimientos de Shinji, los dos conectan de inmediato como amigos.\\nPosteriormente, el enigmático joven lo acompaña a una sala de baño en las instalaciones de NERV. En un momento dado, pone su mano sobre la de Shinji, y a continuación Kaworu le dice que \"lo ama\". Esa noche, Shinji visita el apartamento de Kaworu y hablan sobre los sentimientos de Shinji hacia su padre.\\nAl día siguiente, Kaworu es identificado como Tabris, el último ángel en ser esperado. Toma posesión de la Unidad-02 y atraviesa los obturadores por la fuerza con destino hacia el Dogma Terminal intentando alcanzar a Adán. Shinji se ve obligado a perseguirlo abordo de la Unidad-01 y Tabris manipula a la Unidad-02 para frenarlo.\\nFinalmente, Kaworu alcanzó a Lilith, mas no a Adán. Entonces, al entender el significado oculto, se niega a provocar el Tercer Impacto, y pide a Shinji que lo mate, alegando que la única libertad que tiene es elegir el momento de su muerte. A Shinji no le queda otra alternativa que hacerlo, pero lamenta el horror de tener que quitar la vida a la única persona que le dijo que lo amaba.\\nEn los episodios 25 y 26 el joven se siente perdido y pide ayuda a otros. Gran parte del final televisivo está dedicado a Shinji y se realiza un análisis exhaustivo de sus miedos e inseguridades. También se exploran los miedos de Rei, Asuka y Misato, así como su relación con Shinji.\\nDurante este peculiar desenlace cargado de tintes oníricos, se hace especial énfasis en la capacidad de los individuos para crear su propio destino mediante la remodelación de sus puntos de vista.\\nEn The End of Evangelion, Shinji es acompañado por las almas de Rei y Kaworu, quienes lo escuchan mientras analiza sus problemas. El joven Ikari decide rechazar la Instrumentalización optando por la existencia individual, a pesar de que sabe que dicho camino va a ser doloroso.\\nShinji no está feliz con la Instrumentalización y desea recuperar el mundo que conocía. Entiende que podría ser traicionado y herido de nuevo. Sin embargo, sabe que huir de la realidad no le llevará a la felicidad. Quiere volver a experimentar la vida, porque entendió que en el mundo individual, sus sentimientos eran genuinos. Esto sugiere que Shinji posee la capacidad de redimirse y cambiar.\\nGendo abandonó a Shinji poco después de que su esposa Yui Ikari desapareció como resultado del experimento de contacto realizado con el Evangelion Unidad 01. Por esta razón, Shinji acabó viviendo con su sensei y poco a poco creció en su corazón un profundo resentimiento hacia su padre. Cabe aclarar que el joven parece haber huido de Gendo cuando ambos visitaron la tumba de Yui, tres años antes de los acontecimientos de la serie. Este hecho contribuyó a la consolidación del distanciamiento de ambos.\\nEn el episodio 01, Shinji muestra a Misato Katsuragi la carta de convocación que su padre le envió, llamándolo a Tokio-3. La carta está totalmente en blanco, a excepción de un par de palabras escritas a mano diciendo: \"Ven-. Gendo Ikari\". En esa escena se ve claramente que la carta fue despedazada y luego pegada con cinta negra.\\nMisato no hace ningún comentario y nunca se menciona qué llevó a Shinji a romper la carta y luego repararla. Posiblemente, al recibir el llamado tan descortés de su padre, el joven entró en cólera y la rompió, para posteriormente recapacitar sobre el asunto, repararla y emprender el viaje con el objetivo de averiguar que quería su padre. En el fondo, Shinji anhela palabras de elogio de Gendo.\\nDespués de mudarse a Tokio-3, Shinji vive en un pequeño apartamento con Misato y su pingüino mascota Pen Pen. Al principio, Shinji desaprueba el estilo de vida de la muchacha. Ella es desordenada, consume mucha cerveza, aperitivos y comidas instantáneas.\\nAdemás, es demasiado extrovertida, lo cual hace que el joven se sienta un poco incómodo al inicio, ya que no está acostumbrado a relacionarse con una persona de dichas características. Sin embargo, poco a poco comienza a abrir su corazón y empieza lentamente a acostumbrarse a ese entorno.\\nSu actitud hacia Shinji es a veces sugerente, pero también intenta actuar como una tutora responsable y una amiga confiable. En ocasiones, su relación se asemeja a la de una familia convencional, donde Shinji ve a Misato como una hermana mayor y amiga cercana. Misato, por otro lado, tiene una visión más compleja de Shinji, ya que a veces coquetea con él. En general, su relación puede describirse como ambivalente, ya que ambos sienten una atracción física mutua.\\nDurante su juventud, Misato tuvo una relación complicada con su padre. Al conocer la relación de Shinji con Gendo, la muchacha se da cuenta que el joven experimenta una situación similar a la vivida por ella. Por esa razón decide llevar a Shinji a su apartamento, ya que no quiere dejarlo solo.\\nDe esta manera, Misato comienza a ver a Shinji de forma casi maternal, preocupándose por él en todos los sentidos. Sin embargo, en ocasiones también se comporta de forma insinuante. Esto se debe a que ella tiene la costumbre de acercarse a los hombres a través de su cuerpo, lo cual se revela más adelante en la trama.\\nMisato demuestra un profundo respeto y consideración por Shinji. Resulta evidente que ella se preocupa mucho por él. Incluso llega a mantener fuertes discusiones con Ritsuko Akagi, cuando percibe que la doctora no tiene en cuenta la salud física y mental del joven Ikari. Esto queda claro cuando Shinji es rescatado en el episodio 16. Misato primero discute con Ritsuko y luego ella llora de alegría al ver que Shinji está sano y salvo.\\nEl beso de Misato y Shinji en The End of Evangelion, es la escena más controvertida de la relación entre ambos, pues aunque ella intenta animarlo para seguir adelante, entre una parte de los fans se cree que ahí demuestra otro tipo de amor (el de mujer-hombre) hacia el joven.\\nLa relación de Shinji con Rei es clave en la serie y empezó desde el primer episodio. Cuando Rei resultó gravemente herida en el accidente con la Unidad-00, Gendo convocó a Shinji para que se convirtiera en el piloto de la Unidad-01. Aunque se negó en un principio, cambió de opinión al ver la gravedad de las heridas de Rei y la necesidad de ocupar su lugar.\\nEn un principio, la relación de ambos parecía limitarse al ámbito laboral. Luego, Shinji se entera que su padre tiene quemaduras en las manos. Al consultar a Ritsuko, ella le cuenta que Gendo se quemó las manos para salvar a Rei. Desde ese momento, Shinji empezó a interesarse por ella, sobre todo porque notó que siempre estaba sola.\\nEn el episodio 05, el joven Ikari fue a su apartamento para entregarle una tarjeta de identificación y la encontró desnuda, saliendo de la ducha. Él se puso muy nervioso, pero ella no mostró incomodidad alguna. Posteriormente, cuando Shinji habló mal de Gendo, ella le dio una bofetada. No obstante, después de la batalla contra Ramiel, comenzaron a acercarse. En un momento en que Shinji lloró, Rei no supo cómo reaccionar, pero él le pidió una sonrisa, y eso marcó un cambio positivo en su relación.\\nDesde entonces, Rei construyó una relación con Shinji, a quien considera el primero en ser amable con ella y la única persona a quien le ha dado las gracias.\\nDurante el ataque de Armisael en el episodio 23, el ángel trata de unirse con el EVA-00 y ataca psicológicamente a Rei, haciéndole entender que la causa de su perenne apatía es simple soledad. Mientras las lágrimas caen de los ojos de Rei, el ángel comienza a fusionarse con el EVA-01. Entonces, la joven entiende que el deseo de su corazón es ser uno con Shinji y para salvarlo decide autodestruir su EVA junto con el ángel.\\nTras el trágico suceso, Shinji se encontraba sumido en una profunda devastación. Sin embargo, poco tiempo después, descubrió con gran alivio que Rei seguía con vida, aunque notó un cambio en ella.\\nMás adelante, Ritsuko rompe la confianza de Gendo y les muestra a Misato y Shinji la existencia de los clones de Rei. Estas revelaciones impactan fuertemente la mente ya vulnerable del joven. Esto generó un distanciamiento por parte de Shinji, ya que no sabía cómo interactuar con ella luego de descubrir que es un clon. Pese a esto, la interacción previa con Shinji erosionó poco a poco la lealtad que la joven tenía hacia Gendo.\\nDurante The End of Evangelion, Gendo llega con Rei hasta Lilith para producir su propia versión del Tercer Impacto, pero Rei rechazó sus órdenes y le dio el control a Shinji. Después de encontrarse con él, Rei le da a Shinji la opción de elegir el resultado del Proyecto de Complementación Humana.\\nA lo largo de la serie es evidente que Asuka tiene una relación de amor/odio con Shinji. Se sienten atraídos el uno por el otro, pero no son capaces de expresar sus sentimientos. Mayormente Shinji es tranquilo y amigable, pero también sumiso cuando se trata de Asuka, especialmente cuando ella se impone contra él de forma abusiva.\\nEn los primeros capítulos, después de la aparición de Asuka, Shinji se enfrenta a ella en diversas ocasiones cuando la actitud de la joven se torna insoportable, pero luego de esa breve etapa se muestra más acostumbrado a la personalidad de la chica.\\nLas burlas de Asuka hacia él son un medio de defensa ante su deseo interno de muestras de afecto por parte de Shinji, pero, por varias razones (principalmente por su complejo de inferioridad) Shinji no reconoce la auténtica intención de Asuka y sólo piensa peor de sí mismo por las críticas, cosa que molesta a la muchacha y confunde aún más al joven Ikari.\\nDurante el episodio 15, ambos tienen un leve acercamiento. Asuka asume una actitud directa y desafía a Shinji a besarla. El joven acepta y se besan. Sin embargo, su relación no pudo prosperar debido a los celos de Asuka, producidos al ver que Misato llegaba acompañada de Kaji.\\nEn el episodio 16, la sincronización de Shinji mejora y consigue superar la de Asuka. Debido a esto ella se siente molesta, ya que no tolera la idea de ser superada por Shinji. Luego, las sucesivas derrotas que experimenta la joven representan un duro golpe para su orgullo.\\nPoco a poco crece su odio hacia Shinji, debido a que el EVA-01 eliminó a los ángeles Bardiel y Zeruel. Probablemente Asuka interpreta erróneamente que dichas victorias son obra de Shinji, sin darse cuenta que el Dummy Plug y el modo berserk jugaron un papel relevante.\\nLa relación entre los dos llega a ser un factor clave en los acontecimientos de The End of Evangelion. Al comienzo, Shinji trata de despertarla de su estado de inconsciencia en el hospital, pidiéndole ayuda. Sin embargo, tira accidentalmente de la sábana y descubre el pecho de Asuka, a la vista de cuál se masturba, aunque luego queda disgustado consigo mismo por ello.\\nSu culpabilidad le hace volverse tan insensible a su propia existencia, que no se resiste cuando los soldados de la JSSDF intentan matarlo. Esto obliga a Misato a salvarlo y llevarlo a rastras hasta la Unidad-01, al tiempo que intenta sacarlo de su estado.\\nDespués de ver los restos de la Unidad-02 en manos de los EVAs de Producción en Masa, comprende que llegó tarde a salvar a Asuka. Shinji no consiguió llegar a tiempo, ya que el EVA-01 estaba inmovilizado con baquelita.\\nDurante su estado de inestabilidad emocional, el joven entra en una visión en la que Asuka y él están en el apartamento de Misato. Una vez más, se plantea ayudar a Asuka y, al mismo tiempo, le dice \"tú eres la única persona que puede ayudarme\". Para su sorpresa, Asuka niega sus alegaciones, y ataca a la naturaleza egoísta de los motivos.\\nAbrumado por su propia desesperanza, Shinji pierde el control y estrangula a Asuka. La escena parece estar situada en medio de un evento específico. Varios indicadores advierten que fue durante esa discusión, que Shinji le reveló que Kaji había muerto, generando la posterior huida de la joven.\\nSin embargo, la Asuka de esta visión se basa en la percepción que tiene Shinji de ella. Por eso, a pesar de iniciar de manera similar al evento real, el desenlace es diferente, siendo la situación de estrangulamiento posiblemente una imaginación de Shinji.\\nSin embargo, en la última escena de la película, el joven aparece en una playa junto a Asuka. Él trata de estrangularla mientras ella no se resiste físicamente, y entonces ella levanta la mano para acariciar su rostro de modo parecido al que Yui hizo momentos antes.\\nShinji se derrumba llorando sobre Asuka y ella murmulla Kimochi Warui (気持ち悪い, traducido literalmente \"me siento mal\" y de forma oficial como \"qué asco\" o \"asqueroso\"). El significado exacto de la simbología en esta escena, así como el significado de la frase de Asuka, no son claros y están muy debatidos.\\nKaworu y Shinji se conocen en el episodio 24. Aunque el tiempo que pasaron juntos fue muy corto, Shinji desarrolló un gran apego hacia él, hecho que podría resultar raro dada su personalidad introvertida. Está claro que Kaworu representa una especie de figura idealizada para Shinji.\\nEs importante aclarar, que el joven Ikari se había quedado sin amigos debido a los recientes eventos de la historia. Ante dicho panorama, el misterioso joven aparece en el momento oportuno, cuando Shinji está completamente desesperado y necesita tener algún tipo de conexión con alguien.\\nShinji tenía miedo de hablar con Asuka, Misato y Rei, y había reforzado su errónea creencia de que nadie se preocupaba por él. A pesar de esto, Kaworu se convirtió rápidamente en una persona digna de confianza, posiblemente debido a su actitud desenfadada y su capacidad de mantener una conversación fluida.\\nDespués de su primera reunión, Kaworu acompañó a Shinji a tomar un baño. Mientras estaban sentados, los dos mostraron un grado de confort muy alto. En un momento, Kaworu puso su mano sobre la de Shinji, y éste, en lugar de vacilar, simplemente se sonrojó. Luego, Kaworu sorprendió a Shinji al decirle que le gustaba.\\nKaworu usa el ambiguo término \"suki\", que incluye intimidad o amistad, y simplemente puede significar \"me gustas\". Al final, Shinji dice que va a acostarse, a lo que Kaworu, confundido, pregunta: \"¿Conmigo?\". Shinji lo corrige un tanto avergonzado, aunque luego va al apartamento de Kaworu. Estando allí, Kaworu le dice: \"Puedo haber nacido para conocerte\".\\nPor estas razones, descubrir la verdadera identidad de Kaworu resulta sumamente doloroso para Shinji. Sentir que simplemente lo ha usado refuerza aún más su confusión, ya que el joven cree que todos le están mintiendo. Esto se agrava aún más, ya que Shinji no está dispuesto a reconocer la ambigüedad e inseguridad en otras personas, algo que Kaworu le permitió ignorar temporalmente.\\nDurante su enfrentamiento final, Shinji afirma que Kaworu lo ha traicionado, al igual que lo hizo su padre, lo que indica que podría haber estado buscando una forma similar de apoyo en él. Shinji queda psicológicamente devastado al tener que asesinarlo, y le dice a Misato que Kaworu fue la única persona que le dijo que lo amaba.\\nEn The End of Evangelion, cuando Rei se fusiona con Lilith y se muestra ante Shinji con su forma gigantesca, el joven entra en crisis hasta que Kaworu aparece ante él, compartiendo el mismo cuerpo que Rei. Al verlo, Shinji sonríe y es capaz de serenarse. Kaworu, junto a Rei, son los que lo guían durante los eventos finales.\\nKaji cumple un rol importante, ya que es lo más parecido a una figura paterna para Shinji. En numerosas ocasiones le ofrece consejos y trata de ayudarlo a comprender la naturaleza de la dinámica social. Kaji tiene un pequeño huerto de sandías situado cerca de la pirámide del GeoFront.\\nEn una ocasión, Kaji lleva a Shinji a su huerto, que parece ser un secreto. Allí le muestra sus sandías y le comenta lo mucho que disfruta cuidándolas, explicándole cómo se puede aprender mucho al nutrir algo. Finalmente, Kaji le dice a Shinji que conocer el dolor permite ser amable con los demás, y que esa amabilidad no es sinónimo de debilidad.\\nAunque siempre es estrictamente profesional, Ritsuko adoptó un enfoque más maternal, amable, y menos intenso con Shinji, siendo siempre firme, pero alentándolo. Parece que le agrada Shinji en una cierta medida muy limitada. Sin embargo, cuando se trata del Proyecto E, Ritsuko no duda en que es necesario sacrificar las vidas de los pilotos -incluyendo a Shinji- con el fin de lograr alcanzar lo fines propuestos.\\nLa versión de Shinji Ikari en el manga de Sadamoto es significativamente diferente al del anime. En el manga, Shinji vivía con unos tíos en lugar de su sensei. Sus ojos son marrones en lugar de gris azulado.\\nEn términos de personalidad, es menos introvertido, y posee un marcado odio hacia su padre. Tiene los mismos problemas con su abandono, pero muestra los rasgos de una manera más problemática, a veces llegando a ser violento y tratando de golpear a su padre.\\nTambién es más cínico a la hora de tratar con los demás, por ejemplo pensando que Asuka es una \"perra\" y mostrando un intenso odio hacia ella.\\nLa opinión de los fans sobre esta caracterización es mixta. Algunos prefieren al Shinji del manga porque tiene un carácter más parecido a un héroe típico. Sin embargo, otros consideran que la eliminación de los aspectos anti-héroe neurótico le hacen menos humano y más difícil de identificar.\\nDurante la mayor parte del manga, Shinji parece estar atraído por Rei Ayanami, y su relación es mucho más desarrollada que en el anime. Sin embargo, tras la muerte de Kaworu, Shinji visita a Asuka en el hospital, al igual que en The End of Evangelion.\\nÉl exclama \"La Asuka que quiero proteger no es éste cuerpo inútil\". Este hecho sugiere que Shinji siente algo por Asuka. Sin embargo, en vez de tirar de ella y dejar al descubierto su cuerpo, la joven se despierta y ahoga a Shinji, hasta que es detenida por las enfermeras.\\nShinji en Rebuild of Evangelion.\\nEn Rebuild of Evangelion se puede observar que Shinji muestra ciertas diferencias en su comportamiento y forma de hablar con respecto a su versión del anime. En particular, se puede notar un aumento en su nivel de enojo y frustración con respecto a su situación en NERV.\\nEn una escena específica, Shinji critica la actitud egoísta de Misato y otros miembros de NERV, ya que él y Rei corren mayores riesgos al pilotear los EVAs. Esta crítica sugiere una mayor conciencia por parte de Shinji acerca de la dinámica de poder en la organización, y de su propia vulnerabilidad como piloto.\\nEste cambio en el tono y en sus emociones es posiblemente una respuesta a la nueva dirección de la trama en Rebuild of Evangelion, la cual se aleja en cierto grado de la narrativa del anime original.\\nEn Evangelion: 1.0 You Are (Not) Alone, las relaciones de Shinji con los otros personajes son similares a lo visto en la serie; sin embargo, su relación con Misato y Rei se torna más cercana físicamente a medida que avanza la película.\\nShinji no puede ignorar el persistente sentimiento de que solo es valorado por su habilidad para pilotar el EVA, y que nadie realmente se preocupa por él como persona. Después de una dura batalla con el Quinto Ángel, el joven discute con Misato como ocurre en el episodio 04.\\nAgobiado por la sensación de ser desechable y no apreciado, Shinji toma una decisión drástica y escapa de casa. Sin embargo, reflexiona sobre sus acciones y en esta oportunidad decide regresar por sí mismo.\\nMás adelante, sus sentimientos negativos se disuelven un poco cuando Misato le muestra el ser identificado como Lilith en el Dogma Terminal, explicándole por qué él y el resto de NERV tienen que hacer todo lo posible para evitar el Tercer Impacto. Es destacable que Misato sujeta la mano de Shinji cuando le muestra a Lilith.\\nShinji sonriendo a Rei.\\nGracias a esto, él está de acuerdo en pilotar el Evangelion Unidad 01 una vez más, y junto con Rei abordo del EVA-00, derrotan al Sexto Ángel en la Operación Yashima.\\nFinalmente, cuando Shinji abre el Entry Plug para comprobar el estado de Rei, ambos se dan la mano sonriendo. Ella parecía frágil pero feliz, mientras que Shinji estaba visiblemente aliviado después de la intensa batalla. Aunque el gesto fue simple, la conexión entre ellos era profunda y significativa.\\nLa película llega a su fin con el despertar de Kaworu Nagisa en la Luna. Con cautela, el joven emerge de un misterioso ataúd y contempla su entorno. Luego de hablar con el monolito de SEELE, dirige su mirada hacia el planeta azul, para dedicarle unas breves palabras a Shinji.\\nEn Evangelion: 2.0 You Can (Not) Advance, Shinji está más acostumbrado a vivir en Tokio-3. Su amistad con Toji Suzuhara y Kensuke Aida es sólida y tiene conversaciones ocasionales con Rei. También se hace amigo de Asuka (y, además, compañeros de cuarto), pero hasta ahora no muestra ningún interés romántico por ella. Shinji se reúne brevemente con Mari Illustrious Makinami dos veces durante la película, pero él no sabe nada de ella.\\nDurante el almuerzo con sus amigos, Shinji menciona que aprendió a cocinar porque Misato no sabía. Hace almuerzos para Misato, Asuka y Rei durante la película. Después del ataque del Octavo Ángel, Gendo expresa su reconocimiento hacia Shinji por primera vez, lo que provoca un aumento significativo en la confianza y el ánimo del joven piloto.\\nShinji se da cuenta que Rei intentó sorprenderlo invitándole a una cena con Gendo; sin embargo, esos planes se vieron truncados por el Noveno Ángel, el cual infecta la Unidad-03 pilotada por Asuka.\\nShinji sabe que Asuka está dentro del EVA-03.\\nEl joven sabe que Asuka está dentro del EVA-03 y renuncia a luchar. Al ver la actitud de Shinji, Gendo activa un método experimental de teledirección llamado Dummy System. La Unidad-01 destroza a su rival y debido a este lamentable incidente, Shinji quiere dejar NERV.\\nSólo regresa después de encontrarse con Mari y ver al Décimo Ángel devorando la Unidad-00. Shinji pilota la Unidad-01 e intenta sacar a Rei del interior del ángel. Para lograrlo, entra en íntimo contacto con el núcleo, fusionándose accidentalmente con\\xa0él.\\nShinji saca a Rei del interior del Décimo Ángel.\\nHaciendo un enorme esfuerzo, alcanza el lugar donde se encuentra la joven, abrazándola y dándole las gracias por tratar de que él y Gendo establecieran una buena relación. Debido a esto, el EVA-01 llega a su forma pseudo-evolucionada, término\\xa0usado por Ritsuko para explicar que ha adquirido una forma que le permite iniciar el Tercer Impacto.\\nEn el apocalíptico transcurrir del Tercer Impacto, se ve un objeto caer desde el cielo vertiginosamente, atravesando al EVA-01. Este objeto es la lanza de Cassius, la cual fue arrojada por el Evangelion Mark.06 para frenar al EVA-01 e interrumpir el Tercer Impacto. Shinji y Rei quedan atrapados dentro de la Unidad-01 durante un largo periodo de tiempo.\\nEn Evangelion: 3.0 You Can (Not) Redo, el EVA-01 estaba confinado dentro del Teseracto Cruciforme y fue recuperado durante la Operación US para luego convertirse en el núcleo de la nave de la organización WILLE, el AAA Wunder.\\nShinji fue rescatado del interior del EVA y descubrió con gran sorpresa que estuvo atrapado 14 años. Además, Misato le trató con frialdad, diciendo que no dudaría en matarlo si volvía a causar semejante desastre y Asuka intentó golpearlo desde el otro lado del vidrio blindado.\\nMark.09 frente a Misato y Shinji.\\nDe manera repentina, el Evangelion Mark.09 ataca la nave e intenta llevarse a Shinji de regreso a NERV. En medio del caos, Ikari captó la voz de Rei Ayanami resonando desde el interior del EVA, y tomó la decisión de ir con ella.\\nMisato trató de detenerlo, pero Shinji, hastiado del desprecio que había experimentado en la nave de WILLE, la ignoró y se subió al Evangelion. Una vez llegaron a la sede de NERV, en una Tokio-3 devastada, Gendo recibió al confundido joven y le asignó su nueva tarea: pilotar el nuevo Evangelion Unidad 13.\\nLuego de la breve reunión con su padre, Shinji conoció a Kaworu Nagisa, con quien formó un dueto de piano excepcional. Juntos, pasaron horas y horas practicando y forjaron un vínculo de amistad. Con el tiempo, Shinji comenzó a sentirse cada vez más a gusto en su compañía, abriendo poco a poco su corazón.\\nSin embargo, el joven cae en una gran depresión al enterarse que Rei es un clon de su madre -y no es la misma que él intentaba salvar- y que el Tercer Impacto fue causado por él. Ante ello, Kaworu le propone una solución: usar el EVA-13 junto con la lanza de Longinus y la lanza de Cassius para, según dice, rehacer la historia y evitar la catástrofe.\\nEl Evangelion Unidad 13 retira ambas lanzas.\\nLa Unidad-13, con Shinji y Kaworu a bordo, llega al Dogma Terminal, donde encuentran a Lilith decapitada. Repentinamente, Asuka y Mari irrumpen con sus EVAs, pero son repelidas por Shinji. De forma inesperada, Kaworu afirma que las lanzas no son las que ellos buscaban y advierte a su compañero que no debe tomarlas, pero éste las extrae de todos modos dando inicio al Cuarto Impacto.\\nFinalmente, Kaworu se sacrifica para detener el Cuarto Impacto. Luego, Mari libera el Entry Plug de Shinji, diciendo que \"vaya a conocer un poco el mundo\". El Evangelion 13 cae y tanto las fuerzas de Misato como las de Gendo se retiran.\\nDespués de un lapso de tiempo indeterminado, Asuka encuentra a Shinji, quien se niega a interactuar con el mundo. Sin embargo, Shikinami lo saca del Entry Plug y lo arrastra por un desierto rojo, mientras Rei los sigue, en dirección a \"donde están los Lilin\".\\nEn Evangelion: 3.0+1.0 Thrice Upon A Time, Shinji y Rei son llevados a la Villa 3, donde se encuentran con Toji Suzuhara, Kensuke Aida y Hikari Horaki, que ahora son adultos.\\nShinji es aceptado en la Villa 3.\\nToji y Hikari están casados y tienen una hija llamada Tsubame Suzuhara. Toji es el médico de la Villa y se encarga de la salud de los habitantes con dedicación y cariño. Por su parte, Kensuke se ocupa del mantenimiento y la vigilancia de la zona, asegurando que todo esté en perfecto estado para el bienestar de la comunidad.\\nToji y Kensuke no muestran ningún odio hacia Shinji y tratan de ayudarlo a recuperarse de su trauma. Shinji se da cuenta de que Asuka también tiene un DSS Choker. La vista hace que Shinji vomite, debido a que recuerda la muerte de Kaworu Nagisa. Shikinami no tiene más remedio que alimentarlo a la fuerza con barras de proteína debido a su negativa a comer, y debido a esto el joven escapa.\\nRei comienza a aprender más sobre su mundo, expresando confusión sobre la existencia de una gata embarazada, la bebé Tsubame, y saludos cotidianos como \"buenos días\" y \"buenas noches\". Poco después, Rei se preocupa por Shinji, al ver que este escapó de la Villa. Ella lo busca y le lleva comida todos los días. Con el tiempo, el joven se recupera de su trauma.\\nShinji conoce a \"Ryoji Kaji\", el hijo de Misato con el Ryoji Kaji original.\\nRei le pide a Shinji que le ayude a darse un nombre, y Shinji decide llamarla \"Ayanami\". Luego, Kensuke lo lleva a una revisión de infraestructura y le presenta a \"Ryoji Kaji\", el hijo de Misato con el Ryoji Kaji original. El joven Kaji trabaja para KREDIT en la reparación de las máquinas construidas por WILLE, lo que evita que la Villa sea contaminada. Shinji conversa un momento con él y se sacan una foto.\\nPoco después, se revela que Ayanami requiere una exposición constante al LCL para mantener su condición. Ella le agradece por ayudarla a encontrar la felicidad, antes de convertirse en LCL ante sus ojos. Shinji se sorprende, pero esta trágica experiencia no lo debilita, ya que Ayanami le ayudó a recuperarse. El joven ha madurado y ahora puede definir, por sí mismo, qué quiere hacer a partir de ahora. Kensuke y Toji le piden que se quede en la Villa, pero Shinji decide ir con WILLE.\\nCerca de la Antártida, el Wunder es atacado por tres naves de NERV, el NHG Erlösung, el NHG Erbsünde y el NHG Gebet, todas aparentemente bajo el control de Fuyutsuki. La nave de WILLE también es abordada por un enjambre de EVAs Mark.07. Durante la batalla, Asuka y Mari son desplegadas para luchar con ellos.\\nRitsuko Akagi le dispara a Gendo en la cabeza, pero no consigue matarlo.\\nDe repente Gendo aparece en la parte más alta del Wunder. Misato y Ritsuko se enfrentan a él. Se revela que Gendo ha utilizado la llave de Nabucodonosor.\\nLa llave posee la capacidad de negar la humanidad de quien la usa. Gracias a ella consiguió poderes que le permiten superar a la humanidad. Ritsuko Akagi le dispara a sangre fría en la cabeza, pero no consigue matarlo, ya que ahora el Comandante de NERV es teóricamente inmortal.\\nGendo destruye la coraza del Wunder con un ataque de energía, y luego entra al Evangelion 13 para secuestrar a la Unidad-01. Shinji aparece y le pide a Misato que le permita pilotar de nuevo para detener a su padre. Luego, la Unidad-08 lo transporta hasta el EVA-01, y Shinji ingresa al Entry Plug.\\nEl joven Ikari se decide a enfrentar a su padre.\\nGendo y Shinji luchan en el \"Anti-Universo\", y entran al misterioso Objeto Gólgota. Ambos entablan una lucha surrealista, donde chocan con sus lanzas en múltiples ubicaciones, tomadas de los recuerdos de Shinji. El EVA-01 y el EVA-13 están sincronizados, y el joven no logra prevalecer sobre Gendo.\\nCuando llegan a un escenario basado en la Villa 3, Shinji piensa en las experiencias que tuvo con sus amigos. Por esa razón, le pide a su padre que se detenga para hablar. Este acepta y le explica que necesitaba acceder al Objeto Gólgota para crear un \"Impacto Adicional\". Gendo busca exterminar a los Dioses y reunirse con su esposa Yui.\\nMisato planea usar el Wunder para crear una nueva lanza y ayudar a Shinji. Shinji se propone comprender a Gendo, ya que entendió que eso es necesario para detenerle. Lo destacable, es que los roles en el vagón se invierten, siendo Gendo quien está sentado en el lugar de Shinji.\\nEl joven logra comprender a su padre y juntos encuentran un cierre adecuado. Finalmente, Misato sacrifica su vida para crear la lanza de Gaius y contener el \"Impacto Adicional\". Shinji recibe la nueva arma y decide utilizarla para apuñalarse a sí mismo, con la intención de crear un \"Neon Genesis\". Sin embargo, su madre Yui, quien había estado junto a él todo el tiempo, lo expulsa del EVA-01.\\nGendo y Yui, siendo ella el EVA-01 y Gendo el EVA-13, se sacrifican para terminar lo que Shinji comenzó. Sus acciones devuelven todos los EVAs y fallas del infinito a sus formas humanas y animales, restaurando el mundo a su estado original antes de los impactos y convirtiéndolo en un sitio sin EVAs.\\nEn la secuencia final, Asuka, Rei y Kaworu están en el andén de una estación de tren, y Mari se acerca a un Shinji ya adulto. En un gesto conmovedor, Shinji y Mari salen tomados de la mano hacia un mundo desconocido. La escena de repente cambia y se convierte en una secuencia live action que muestra la ciudad natal de Hideaki Anno, lo que sugiere que los personajes finalmente han encontrado un cierre en nuestra realidad.\\nEn ANIMA, Shinji tiene 17 años de edad y asiste al instituto municipal de Tokio-3. Al parecer, dejó crecer su cabello, logrando un aspecto similar al que tenía Kaji. También heredó el campo de sandías de este último.\\nShinji era piloto del Evangelion Unidad-01 F-type, pero después de recibir el ataque del EVA0.0 (Quatre) y la posterior unificación de su alma con el EVA-01, pilotea el Super Evangelion y sus diversas actualizaciones.\\nEn Neon Genesis Evangelion: Gakuen Datenroku, Shinji asiste a la Academia Nerv y tiene una vida relativamente aburrida. Al principio es un joven simpático y agradable, siendo un poco diferente del Shinji que conocemos en la serie original. Se siente ligeramente atraído por Rei Ayanami aunque no se atreve a decirle nada.\\nDurante una de sus habituales salidas nocturnas para comprar algo en una máquina expendedora, ve pasar a Rei Ayanami, una compañera de clase, en compañía de un chico que no había visto antes. Poco después, al intentar recoger una moneda que se le ha caído debajo de la máquina, Shinji hace un descubrimiento sorprendente: encuentra una misteriosa piedra.\\nAl día siguiente conoce a Kaworu Nagisa, un alumno de intercambio que llega a la Academia Nerv, y resulta ser el mismo chico que vio la noche anterior con Rei. Shinji siente curiosidad por descubrir cuál es la relación entre Kaworu y Rei, pero antes de que pueda hacerlo, se ve envuelto en una batalla contra el ángel Ramiel, el cual amenaza con matarlo si no le entrega la piedra misteriosa.\\nSu EVA es una pistola que puede generar un campo AT, y tiene una extraña habilidad que le permite dañar a los ángeles. Al principio, el joven duda sobre ser cazador de ángeles, y le tomó mucho trabajo tomar esta decisión.\\n\\n'}\n",
            "Nodo: Toji Suzuhara, Atributos: {'Toji Suzuhara': '鈴原 トウジ', 'Rango': 'Fourth Children', 'Edad': '14 años', 'Sexo': 'Masculino', 'Familia': 'Sakura Suzuhara (hermana pequeña)', 'Primera aparición': 'El teléfono no suena [NGE]  Corazón cerrado [Manga]  Evangelion: 1.0 [RB]', 'Seiyū': 'Tomokazu Seki', 'Doblador Latino': 'Enrique Mederos (†)  Jesús Barrero (†)  Carlos Hernández  Luis Daniel Ramírez  Alejndro Graue', 'Doblador en España': 'Ángel de Gracia', 'Resumen': 'Toji Suzuhara (鈴原 トウジ, ,  Suzuhara Tōji ?) es un personaje secundario en la franquicia Evangelion.\\nAsiste a la misma clase que Shinji Ikari, Rei Ayanami, Asuka Langley Soryu, Hikari Horaki, y Kensuke Aida.\\nToji es el Fourth Children elegido por el\\xa0Instituto Marduk, designado como piloto del Evangelion Unidad 03.\\nToji es un joven de carácter fuerte, algo brusco a la hora de expresarse, pero poseedor de buenos sentimientos.\\nQuiere mucho a Sakura, su hermana menor. Cuando ella es herida gravemente durante el primer combate del Evangelion Unidad 01, Toji se preocupa mucho por ella y va a visitarla al hospital.\\nAparentemente, Toji intenta parecer caballeroso y al mismo tiempo masculino. Él le pide a Shinji que lo acompañe al apartamento de Rei en el episodio 17, diciendo que no puede ir solo a la casa de una chica.\\nLuego, se niega a ayudar a Shinji a recoger la basura de Rei, diciendo que \"no es trabajo de hombres\". Esta misma actitud podría ser la razón que explica su dificultad para admitir que estaba preocupado por la ausencia de Shinji en el episodio 03.\\nAl igual que su mejor amigo Kensuke Aida, Toji se siente atraído por Misato Katsuragi, pero su enamoramiento suele ser más evidente, sobre todo durante el episodio 08. También parece estar consciente que Hikari Horaki esta enamorada de él.\\nA Toji le gustan mucho los deportes y la comida. En lugar de su uniforme escolar, generalmente usa ropa de gimnasia (excepto en el episodio 09), y se le ve jugando baloncesto en el episodio 17.\\nEn una ocasión, dijo que la hora del almuerzo es \"su momento favorito de la escuela\", y no es de extrañar que Hikari usara su talento como cocinera para despertar el interés de Toji.\\nToji es un buen amigo de Kensuke Aida, y tiene constantes conflictos con Asuka Langley Soryu. Es huérfano de madre, al igual que todos sus compañeros de clase. Vive con su hermana menor, su padre y su abuelo, quienes también trabajan en un laboratorio de NERV. Su hermana resultó lastimada en la batalla entre el ángel Sachiel y el Evangelion Unidad 01.\\nDespués de saber que Shinji Ikari es el piloto, Toji le da una paliza como pago. Durante el ataque de Shamshel, Kensuke comparte con Toji su loco deseo de presenciar la batalla y le dice que tal vez golpear a Shinji fue un error y es su obligación estar allí apoyándolo.\\nToji está de acuerdo y le ayuda a salir del refugio. Gracias a este acto imprudente, Toji y Kensuke casi mueren durante el combate. Ambos se salvaron gracias a Shinji, quien los rescata y ofrece refugio dentro del Entry Plug de la Unidad 01.\\nDespués de ver cómo sufría Shinji en la pelea, Toji lo perdona, pero el joven Ikari no va la escuela. Acompañado por Kensuke, Toji decide ir a casa de Shinji para disculparse personalmente, pero no lo encuentran. Shinji había huido de casa.\\nPoco tiempo después, Kensuke va a acampar a las montañas y se encuentra accidentalmente con Shinji, que había huido de casa luego de discutir con Misato. Sin embargo, los agentes del Departamento de Inteligencia de NERV los encuentran y se llevan a Shinji. Kensuke le cuenta esto a Toji y ambos deciden despedirse apropiadamente.\\nAnticiparon la partida de Shinji y fueron a esperarlo a la estación de tren. Pensando que jamás se volverían a ver, Toji se disculpa con Shinji y le pide que lo golpee, para que puedan estar en paz. Después de esta reunión, Shinji se da cuenta que ahora tiene dos nuevos amigos y decide quedarse en Tokio-3.\\nMás adelante, Misato lleva a Shinji, Toji y Kensuke al convoy naval de las Naciones Unidas encargado de transportar al Evangelion Unidad 02, pilotado por Asuka Langley Soryu. Toji estaba muy emocionado porque veía ese viaje como si se tratase de una cita con Misato.\\nIncluso Toji llevaba una nueva gorra comprada especialmente para dicho viaje. Lamentablemente, termina perdiendo su gorra, la cual es pisada por Asuka. Luego, Toji, Shinji y Kensuke ven por accidente la ropa interior de Asuka y ella los abofetea. Al igual que Kensuke, a Toji no le agrada la actitud de Asuka.\\nEn el episodio 17 Toji es seleccionado para ser el Cuarto Niño elegido para pilotar una Unidad Evangelion, y acepta bajo la condición de que su hermana sea transferida al hospital privado de NERV.\\nMientras es trasportada de EE.UU. a Japón, el Evangelion Unidad 03 es poseído por Bardiel. El ángel se reveló durante la prueba de activación en la Base Experimental Secundaria de Matsushiro. Cuando Toji ingresa al Entry Plug y comienza la sincronización con el EVA, el ángel toma control total de la unidad.\\nLuego de destruir la Base de Matsushiro, Bardiel se dirige al GeoFront. Respondiendo a esto, NERV lanzó las tres unidades principales. Las unidades 00 y 02 son enviadas a detener a la Unidad-03, pero son vencidas rápidamente, y Shinji no acepta las órdenes de destruir a la Unidad-03 por temor de herir al piloto.\\nSin embargo, Gendo Ikari ordena cortar la sincronización entre el EVA y su piloto y activar el Dummy Plug de la unidad 01. Entonces, la unidad 01 procede a destruir a la Unidad-03 y lo consigue, aplastando el Entry Plug, develando así su \"verdadera forma\".\\nDespués de la batalla, Shinji se da cuenta que Toji era el piloto de la Unidad-03. Toji sobrevive a este ataque, pero es herido gravemente, perdiendo la pierna izquierda y un brazo, desapareciendo luego en la conmoción del penúltimo ángel, Armisael.\\nShinji fue trasladado a la Clase 2-A y comenzó a asistir a la escuela. Antes de la clase, Kensuke Aida jugaba con su maqueta de una aeronave VTOL, pero Hikari Horaki lo interrumpió para preguntarle si le había entregado los apuntes a Toji, que lleva varios días sin asistir a la escuela. Sin embargo, en ese momento, Toji aparece y les cuenta que no ha podido asistir porque su hermana menor está hospitalizada. Ella resultó herida durante el último combate, y Toji está muy enojado con el piloto del EVA.\\nDurante la clase, unas compañeras de Shinji le preguntaron si él es el piloto del robot, a lo que el joven respondió afirmativamente. Todo parecía ir bien; sin embargo, durante el recreo, Toji golpeó a Shinji y lo culpó por las heridas de su hermana.\\nDespués de eso, el ángel Shamshel hizo su aparición. Shinji se lanzó a la batalla y rescató a Toji y Kensuke, permitiéndoles entrar al Entry Plug. A pesar de las órdenes de retirarse, el joven Ikari atacó al ángel y le causó una herida mortal en su núcleo, acabando con él. Después de la intensa pelea, Shinji lloró en el interior del Entry Plug. Al presenciar su sufrimiento, Toji lamentó haberlo golpeado. A partir de ese momento, ambos comenzaron a forjar una amistad.\\nAunque Toji no lo sabe, Hikari está enamorada de él. Esto se muestra más claramente después de que el joven es elegido como piloto de EVA. Hikari empieza a preocuparse más por él debido a que Toji se comporta diferente y está más pensativo. Al ver que Toji siempre compra su comida en la cafetería, ella decide cocinarle y llevarle el almuerzo, pero él se ausenta. Más tarde, después de la batalla entre el\\xa0Evangelion Unidad 01 y Bardiel, ella va a verlo al hospital.\\nSin embargo, es posible que Toji también sienta algo por ella, ya que la protege de las explosiones provocadas por los misiles que eran lanzados contra el Décimo Ángel en\\xa0Evangelion 2.0.\\nEn el manga, después de enterarse de la muerte de Suzuhara a manos de la Unidad-01, ella culpa a Shinji de dicho acontecimiento.\\nEn el manga, es un personaje secundario y su rol es prácticamente el mismo que en la serie. Sin embargo, existen algunas diferencias entre el Toji del anime y el Toji del manga. Uno de los cambios fue el color de pelo de Toji; mientras que en la serie era negro, en el manga es castaño claro. Otro es su dialecto, mucho más violento que el original: el dialecto de Kansai, ya que en inglés se le otorga el dialecto de un Gángster o pandillero.\\nToji golpea dos veces a Shinji cuando este le reta en el jardín, y al igual que en la serie, luego le pide uno de vuelta de manera que pueda saldar su deuda. Sin embargo, el joven piloto no lo hace, sino que decide hacerlo más divertido dejando a Toji con una deuda pendiente (la cual es saldada cuando Shinji provoca que Toji haga el ridículo en frente de las chicas), Sin embargo, a partir de entonces, nació una buena amistad entre los dos.\\nToji llama a Asuka con frecuencia \"perra\", dado que se aprovecha de su belleza, y porque en una ocasión le criticó por su atuendo, llamándole \"pobre\". Algo importante es que Toji y Hikari no se aguantan mutuamente, sin embargo, la chica le quiere en secreto.\\nAntes de que Toji partiera a la prueba del EVA-03, se encuentra con Hikari, a quien le pide que, cuando regrese, quiere empezar las cosas de nuevo. Ella, desilusionada por esto, le da a Shinji el almuerzo que había preparado para Toji que, al abrirlo, encontró en el interior de la caja una figura hecha por Hikari, muy similar a Toji.\\nShinji sabe que Toji es el piloto antes de la batalla; es más, Tōji se porta bastante maduro cuando le ofrecen el puesto, pero luego le confiesa a Shinji que tiene mucho miedo y sólo aceptó por el bien de su hermanita, a quien le prometieron llevarla a un mejor hospital.\\nDespués de la horrible batalla contra el EVA-03 poseído por el ángel Bardiel, Shinji decide salir de NERV, pero no sin tratar de golpear a Gendo. Sin embargo, Toji muere cuando la unidad 01 destruye el Entry Plug, dejando a Hikari ilusionada esperando almorzar con él pronto, y a su amigo Aida deprimido, sin saber que decirle a ella.\\nEn la tetralogía de Rebuild of Evangelion, Toji juega un papel similar al de la serie. En Evangelion: 1.0 You Are (Not) Alone, siendo salvado por Shinji, lamentando sus acciones y pidiéndole disculpas. Él y Kensuke Aida le dejan un mensaje de voz a Shinji, deseándole suerte en su pelea contra Ramiel. Esto ayuda a darle confianza antes de su misión.\\nToji y sus amigos reunidos para entrar al centro de investigación.\\nEn Evangelion: 2.0 You Can (Not) Advance, Toji\\xa0está presente durante la llegada del Evangelion Unidad 02 y Asuka Langley Shikinami. Luego, Kaji lleva a Shinji, Toji y los demás a visitar las instalaciones de la Organización de Investigación para la Preservación del Ecosistema Marino de Japón.\\nEn ese lugar trabajan en la restauración del agua del océano. Antes de entrar, debieron pasar por un largo proceso de descontaminación, debido a que ese sitio es la única zona donde habitan peces y otros animales en peligro de extinción. Mientras hablaba con sus amigos, revela que él considera que cocinar no es trabajo de hombres.\\nDebido a que Asuka es elegida como la piloto del Evangelion Unidad 03, Toji no se convierte en el Fourth Children como en la versión original. Además, Toji estuvo presente en el hospital cuando su hermana fue dada de alta, habiéndose recuperado completamente de sus heridas. Más tarde, Toji aparece abrazando a Hikari Horaki, protegiéndola durante el ataque del Décimo Ángel.\\nEn Evangelion: 3.0 You Can (Not) Redo, Toji no aparece, aunque Shinji encuentra una camisa con su nombre escrito. Se desconoce su paradero actual o incluso si sobrevivió al Casi-Tercer Impacto, aunque la actitud amistosa de Sakura Suzuhara alude a que posiblemente esté vivo.\\nEn Evangelion: 3.0+1.0 Thrice Upon A Time, Rei Q y Shinji son llevados a la Villa 3 donde se encuentran con Toji, Kensuke y Hikari, que ahora son adultos. Toji y Hikari están casados \\u200b\\u200by tienen una hija llamada Tsubame Suzuhara.\\nEllos llevan una vida sencilla y ayudan a Shinji a superar los traumas que ha enfrentado. Toji, en su rol de médico, se encarga de la salud de los habitantes, brindándoles atención médica cuando lo necesitan y asegurándose de que tengan acceso a los medicamentos necesarios.\\nEn ANIMA, Toji se ha recuperado de sus lesiones gracias a implantes cibernéticos, aunque no se tiene información detallada sobre las intervenciones que le permitieron recuperarse.\\nEl joven asiste al primer instituto municipal de Tokio-3. Colabora estrechamente con NERV Japan en las pruebas y equipamiento de material para los EVAs. Además, fue designado como representante de NERV Japan.\\nAl parecer, Toji está a cargo del cuidado y de los experimentos de sincronización de Rei Six. Se rumorea que actualmente mantiene una relación sentimental con Hikari Horaki.\\n\\n'}\n",
            "Nodo: Asuka Langley Shikinami, Atributos: {'Asuka Langley Shikinami': '式波・アスカ・ラングレー', 'Afiliación': 'NERV (2.0)  WILLE (3.0)', 'Rango': 'Second Children  Capitana (Fuerza Aérea Europea)', 'Edad': '14 años  28 años (3.0)', 'Sexo': 'Femenino', 'Primera aparición': 'Evangelion: 2.0 [RB]', 'Seiyū': 'Yuko Miyamura', 'Doblador Latino': 'Georgina Sánchez  Azucena Martínez (primer doblaje de Evangelion: 2.0)', 'Doblador en España': 'Graciela Molina (2.0)  Ana Pallejà (3.0)', 'Resumen': 'Asuka Langley Shikinami (式波・アスカ・ラングレー, ,  Shikinami Asuka Rangurē ?) es un personaje que aparece en Rebuild of Evangelion. Hace su debut en la segunda película titulada Evangelion: 2.0 You Can (Not) Advance.\\nNació y creció en Alemania. Su lengua materna es el alemán, aunque casi nunca se la oye usarla, ya que habla japonés con fluidez.\\nElla es el piloto designado de la Unidad-02, así como la piloto de pruebas de la\\xa0Unidad-03. Si bien es adaptada de Asuka Langley Soryu,\\xa0su apellido es diferente y algunos aspectos de su personalidad se apartan de lo visto en la serie original.\\nAsuka se caracteriza por su temperamento fuerte. Al igual que su homóloga de la serie original, a veces es agresiva, presumida y obstinada. Sin embargo, el resto de su personalidad\\xa0es notablemente\\xa0diferente.\\nA pesar de su temperamento y confianza durante los combates, se la ve un poco introvertida y solitaria en numerosas ocasiones.\\nEn la intimidad, ella habla y juega con una muñeca, usándola para desearse suerte. Según le dice a Shinji, es un recuerdo de su madre. Esto llama la atencion, ya que Asuka Langley Soryu le tenia una gran aversión a las muñecas.\\nSu relación con Shinji es menos complicada, y ella parece tomarle cariño con rapidez. Queda claro que se pone celosa cuando Shinji está junto\\xa0a Rei. Incluso se la ve intentando cocinar para impresionarlo luego de enterarse de la cena que preparaba Rei para reunir a Shinji y Gendo. Además, su antiguo enamoramiento por Kaji es inexistente, lo cual le permite llevarse bien con Misato.\\nElla considera a Shinji y Rei sus rivales de pilotaje, pero su relación va cambiando a medida que avanza la trama. En el caso de Shinji, Asuka le permite llamarla por su nombre, mientras ella lo llama \"estúpido Shinji\".\\nEn el caso de Rei, Asuka decide ser el piloto de pruebas de la Unidad-03, para que funcione la cena organizada por Rei con el objetivo de mejorar la relación entre Shinji y Gendo.\\nEn Evangelion: 3.0, ella odia a Shinji por el daño que causó a la Tierra luego del Tercer Impacto, además de que tiene una relación más cercana con Mari. Asuka parece estar enterada de la creación de Rei y la Serie Ayanami.\\nAl inicio de la película, Shinji\\xa0y Gendo\\xa0visitan la tumba de Yui. Luego, Misato pasa a buscar a Shinji con su auto. Mientras viajan, reciben la notificacion sobre la llegada del Séptimo Ángel. Antes de que puedan reaccionar, el ángel es derrotado por la recién llegada Unidad-02, pilotada por Asuka.\\nShinji se ve obligado a convivir con Asuka, que se muda a casa de Misato, y a su vez demuestra tener duras relaciones con todo el mundo, y algunos signos de amor/odio hacia Shinji. Un día Ryoji Kaji les lleva a un acuario, donde residen las últimas criaturas marinas con vida.\\nA pesar de la compañía de Shinji y sus amigos, Asuka prefiere permanecer sola jugando a su videojuego portátil en lugar de ir a hablar con ellos.\\nEl gigantesco ángel cae a gran velocidad desde el espacio.\\nTiempo después, el Octavo Ángel\\xa0aparece en el espacio. Para detenerlo, Misato ordena un arriesgado plan en el que Shinji, Asuka y Rei deben cooperar.\\nLa idea es impedir que el ángel colisione, capturándolo con las manos desnudas y desplegando los campos AT de los tres EVAs al máximo. Shinji es el primero en llegar al punto de caída y con ayuda de Rei consiguen romper el campo AT, exponiendo el núcleo para que finalmente Asuka lo destruya.\\nAl día siguiente, es el turno de Shinji para cocinar el almuerzo y hace también uno para Rei, dándosela en la escuela, lo que irrita a Asuka. Entonces, ella decide aprender a cocinar para competir con Rei, que planeaba organizar una comida para Shinji y su padre.\\nMás tarde, la Unidad-04 se desvanece en un misterioso accidente junto con la Segunda Rama de NERV, y la\\xa0Unidad-03 es enviada a Japón. Cuando llega la Unidad-03, SEELE recomienda congelar la Unidad-00 para respetar el Tratado del Vaticano. Dicho tratado limita el número de EVAs activos que un país puede tener.\\nGendo prefiere congelar la Unidad-02 y Asuka es seleccionada como piloto de pruebas de la Unidad-03. Finalmente, comienza la prueba de activación, la cual parecía marchar bien al principio. Pero inesperadamente el Evangelion Unidad 03 es poseído por el Noveno Ángel.\\nA pesar de la gravedad de la situación, Gendo sólo envía la Unidad-01. Durante el combate, el ángel despliega dos brazos extra que estrangulan a Shinji, quien se niega a pelear para no herir a Asuka. Ante ello, Gendo activa un método experimental de teledirección llamado Dummy Plug, destrozando a su oponente y luego triturando con los dientes de la Unidad-01 el Entry Plug de la Unidad-03.\\nShinji enloquece ante ello y ataca la pirámide del Dogma Central. Con Shinji incapaz de razonar, Gendo ordena elevar la presión del LCL y obligarlo a salir. Como resultado, Shinji es arrestado y llevado ante Gendo. Luego se anuncia que Asuka está viva, pero gravemente herida y posiblemente infectada por el ángel.\\n14 años después, vuelve a aparecer en Evangelion: 3.0 You Can (Not) Redo, solo que ahora lleva un parche en el ojo izquierdo. Técnicamente ahora Asuka tendría 28 años de edad pero a pesar de que pasaron 14 años, su apariencia no ha cambiado debido a \"La Maldición del Eva\".\\nA lo largo de la película, primero pelea contra los Nemesis Series en el espacio para recuperar al EVA-01, que se encontraba contenido en el interior del Teseracto Cruciforme. Después de completar su misión con la ayuda de Mari Illustrious Makinami, regresa al AAA Wunder para ver a Shinji después de ser rescatado del interior del EVA-01.\\nMás tarde, cuando en el Wunder detectan la actividad del Evangelion Unidad 13, Asuka y Mari son enviadas a luchar. Ellas entran por una grieta del Dogma Terminal, con el objetivo de detener los planes de Gendo y SEELE. Sin embargo, no pudieron evitar que el EVA-13 retire las dos lanzas.\\nDurante el Cuarto Impacto, el Evangelion Mark.09 convertido en Contenedor de Adam intenta apoderarse del AAA Wunder. Para detenerlo, Asuka activa el \"modo bestia\" del EVA-02 e intenta destruir al Mark.09, pero al ver que esto era casi imposible, decide autodestruir el EVA-02. Antes de que este explotara con el Mark.09, Asuka escapa mediante la expulsión forzada de su Entry Plug, cayendo en las ruinas de Tokio-3.\\nDespués de ser evitado el Cuarto Impacto, Asuka encuentra el Entry Plug de Shinji, y también al clon de Rei Ayanami. Asuka utiliza un dispositivo similar a un contador Geiger, y luego dice que la densidad de la barrera L es demasiado alta, y por eso no podrán venir a recogerlos. Entonces, parten juntos para ir en busca de los Lilin.\\nLos créditos iniciales se reproducen sobre un montaje de la tierra roja, que muestra ubicaciones contaminadas por los efectos de la barrera L. Shinji, Rei y Asuka caminan juntos por su superficie, con Asuka usando el dispositivo en su mano como una brújula para encontrar su camino. Eventualmente llegan a un asentamiento.\\nShinji está catatónico y comienza a sentirse físicamente enfermo. En la Villa 3, se encuentran con Toji Suzuhara, Kensuke Aida y Hikari Horaki, junto con el padre de Hikari, Bunzaemon Horaki. Asuka habla con Kensuke sobre la condición de Shinji, llamando a Kensuke \"kenken\".\\nShinji se da cuenta de que Asuka también tiene un DSS Choker colocado en su cuello. Ver eso, hace que Shinji vomite debido a que recuerda la muerte de Kaworu. Shikinami no tiene más remedio que alimentarlo a la fuerza con barras de proteína debido a su negativa a comer.\\nEl Wunder llega para descargar personal no esencial. Kensuke y Tōji le piden a Shinji que se quede en la Villa, pero Shinji decide ir a bordo del Wunder con Asuka. Shinji es puesto en aislamiento y bajo vigilancia. La tripulación del puente analiza la situación actual.\\nAsuka va a la habitación que comparte con Mari y descubre que está llena de muchos libros. Ella expresa su sorpreza al ver que la cantidad aumentó desde la última vez. Mari le responde que su sueño imposible es leer todos los libros que existen. Luego, hablan un poco sobre Shinji. Mari le pregunta si hizo algún progreso. Pero Asuka le responde que no está interesada, y afirman que Shinji \"necesita una madre, no una novia\".\\nAsuka y Mari va a ver a Shinji antes de iniciar la operación. El joven revela que entiende la ira de Asuka por su inacción en la película anterior. Asuka expresa sus sentimientos por Shinji. Ella dice que le gustaba, pero \"creció primero\". Luego de aclarar los asuntos pendientes, Mari y Asuka se viste con sus nuevos Plug Suits blancos y van a sus respectivos Evangelions. El AAA Wunder parte rumbo a la Antártida con el objetivo de neutralizar al Evangelion 13, en lo que Misato llama \"Operación Yamato\".\\nCerca de la Antártida, el AAA Wunder es atacado por tres naves de NERV, el NHG Erlösung, el NHG Erbsünde y el NHG Gebet.\\nAsuka y Mari usan sus campos AT de forma combinada.\\nDurante la batalla, el Wunder usa los destructores de su flota de apoyo como misiles guiados gigantes. Las unidades de Asuka y Mari son desplegadas en el aire. Ambas trabajan en equipo y emplean gran variedad de armas para luchar. Luego de una larga trayectoria, se abren camino a través de un enjambre de Unidades Mark.07, mediante el uso simultáneo y combinado de sus campos AT.\\nAl llegar a su destino, Asuka procede con el plan e intenta insertar un Signal Termination Plug especial en el Evangelion Unidad 13 como medio de seguridad adicional para garantizar que el EVA no se activará. Lamentablemente, no consigue su objetivo debido al campo AT que interfiere. Al ver esto, recurre a un método desesperado para alcanzar su objetivo.\\nLa joven ejecuta el código Backdoor 999 (Backdoor three-nine) y se quita el parche, liberando una restricción oculta. Dicha restricción era un pilar de sellado en miniatura insertado dentro de su ojo, que mantenía al Noveno Ángel bajo control.\\nEl EVA-02 asume la forma de un gigante de luz.\\nDe este modo, ella se transforma en un nuevo ángel, y convierte su EVA en un gigante radiante muy poderoso. Para vencer al EVA-13, la unidad de Asuka hace uso de las habilidades del Noveno Ángel y desarrolla dos brazos extra. Sin embargo, el Evangelion 13 despierta y destruye a la Unidad-02 con facilidad.\\nAdemás, todo esto estaba dentro de los planes de Gendo. Durante el proceso, Asuka es abordada por \"su yo original\", revelando que ella es un clon de la serie Shikinami, y es absorbida por el Evangelion 13.\\nFinalmente, Shinji se propone comprender a Gendo, ya que entendió que eso es necesario para detenerle. Lo destacable, es que los roles en el vagón de tren se invierten, siendo Gendo quien está sentado en el lugar de Shinji. Finalmente, el joven logra entender a su padre. De esta forma, ayuda a Gendo a encontrar un cierre adecuado.\\nClones de la serie Shikinami.\\nDurante los momentos culminantes de la trama, vemos el trasfondo detrás de Asuka Shikinami. Ella es el último clon de la serie Shikinami, y su existencia estuvo plagada de dificultades. La imagen de los numerosos tubos que se observan en el complejo laboratorio donde se llevó a cabo la creación de los clones es, sin duda, una de las más impactantes.\\nA pesar de las adversidades, Asuka logró sobrevivir al extenuante y despiadado entrenamiento al que fueron sometidos los demás clones, cuyos fallos los condujeron inexorablemente a la eliminación. Su tenacidad y fuerza de voluntad la impulsaron a superar todos los obstáculos y sobresalir en medio de un entorno hostil y despiadado.\\nA través de la perseverancia y el esfuerzo constante, Asuka había logrado superar los límites que los demás consideraban inalcanzables. Destacaba su capacidad para adaptarse a situaciones cambiantes y su habilidad para pensar con rapidez y eficacia.\\nAsuka camina por los pasillos de la base Europea.\\nLa joven superó un entrenamiento físico y mental extremadamente riguroso, además de pasar incontables horas en el simulador, perfeccionando su técnica y estrategia de combate. Este nivel de dedicación y esfuerzo le permitió alcanzar una habilidad sin igual como piloto de la Unidad-02.\\nLuego, en medio del caos, Misato se sacrifica para crear la nueva lanza y contener el \"Impacto adicional\". Shinji se prepara para apuñalarse a sí mismo con la lanza de Gaius, con la intención de crear un \"Neon Genesis\". Sin embargo, Shinji es expulsado del EVA-01 por su madre Yui.\\nGendo y Yui, siendo ella el EVA-01 y Gendo el EVA-13, se sacrifican para terminar lo que Shinji comenzó. Sus acciones devuelven todos los Evangelions y fallas del infinito a sus formas humanas y animales, restaurando el mundo a su estado original antes de los impactos y convirtiéndolo en un sitio sin EVAs.\\nEn la secuencia final, Asuka, Rei y Kaworu están en el andén de una estación de tren, y Mari se acerca a un Shinji mayor por detrás. El Shinji adulto y Mari salen tomados de la mano hacia el mundo, y la secuencia pasa a ser una secuencia live action de la ciudad natal de Hideaki Anno, lo que implica que todos los personajes han encontrado un cierre en nuestra realidad.\\nCuando Asuka conoce a Shinji Ikari por primera vez, es hostil con él y lo reprende porque debería haber actuado más rápido para atacar al séptimo ángel. En cuanto a la mayoría de la gente, Asuka parece molesta permanentemente por Shinji y no parece cercana a él.\\nElla prefiere jugar a su videojuego en lugar de ir a hablar con él. Una noche, cuando se siente sola después de la lucha contra el Octavo Ángel, Asuka va a la habitación de Shinji y se acuesta junto a él. Estando juntos, mantiene una breve conversación. Esta es la primera conversación verdadera que tienen.\\nAsuka poco a poco comienza a enamorarse del chico y trata de complacerlo tomando un interés en cocinar para competir con Rei Ayanami. Pero los sucesos siguientes (el ataque del Noveno Ángel y el Tercer Impacto) desarrollaron en Asuka un sentimiento de odio hacia el niño. Ella está enfadada con él por varias cosas, aunque las razones exactas no son detalladas.\\nMás tarde, no duda en querer matar a Shinji para evitar el Cuarto Impacto. Después de que el Cuarto Impacto es abortado, la unidad 13 cae pero es interceptada por la unidad 08 piloteada por Mari. Esta última le insta que al menos puede ir a salvar a la princesa (Asuka) y que de paso vaya conociendo el mundo. Mas tarde Asuka encuentra el Entry Plug de Shinji, y se muestra hostil hacia él.\\nEn la secuencia final, Shinji le dice a la ahora adulta Asuka que solía gustarle, dejando en claro que, al igual que Asuka, cualquier sentimiento romántico o sexual entre ellos está en el pasado, y le pide a Asuka que salude a Kensuke por él.\\nAsuka es hostil hacia Rei Ayanami. Este odio se debe probablemente al hecho de que Rei fue nombrada oficialmente piloto de Evangelion, mientras que Asuka tuvo dificultades para conseguir su lugar como piloto. Esta rivalidad pronto se convertirá en celos cuando Asuka se da cuenta de que Rei se está acercando a Shinji. Asuka decide aprender a cocinar para competir contra Rei, que planeaba organizar una comida para Shinji y su padre.\\nFinalmente, viendo los esfuerzos de Rei para complacer a Shinji (su determinación es visible a través de los vendajes que tiene en la mano), se declara derrotada e incluso decide reemplazar a Rei como piloto de prueba para la Unidad-03. Quince años más tarde, Asuka conoce la verdad sobre los clones de Rei y ya no tiene ningún respeto por ella. Sin embargo, permite que Rei los acompañe después del Cuarto Impacto.\\nAl principio, Asuka se relaciona muy poco con Misato Katsuragi. Ella la considera como su guardián sin más y le reprocha su lado infantil. Pero después de acercarse a Shinji, decide abrirse más a Misato. Asuka la llama antes de la prueba de la Unidad-03 y le cuenta los cambios que tuvo cuando llegó a Japón.\\nDespués de la formación de la WILLE, Misato se convirtió en Capitán de la organización y en el superior directo de Asuka. Ella parece aprobar plenamente la nueva forma de pensar en Misato. Su relación es exclusivamente \"profesional\" y casi no tienen interacción.\\nEn Rebuild of Evangelion, Asuka aparece en Evangelion: 2.0 You Can (Not) Advance, con una modificación en su nombre: pasa de Soryu (惣流) a Shikinami (式波).\\nEn esta tetralogía, y según fue comentado después del estreno de la película, el personaje de Asuka experimenta algunos cambios significativos en su personalidad. Por ejemplo:\\nSu enamoramiento por Kaji es inexistente en Rebuild. Ella llega sola a Japón, aunque ya parecen conocerse. Además, es mucho más abierta con Shinji acerca de sus sentimientos hacia él. Más significativamente, después de la batalla contra el Octavo Ángel, ella se acuesta en la cama de Shinji, de forma similar a la serie original en el capítulo de Israfel, pero en esta ocasión los dos se quedan despiertos y se cuentan mutuamente sus temores, floreciendo una conexión entre ellos.\\nSu odio hacia Rei es reemplazado por un antagonismo romántico basado en los celos antes mencionados. Cuando Rei cocina para Shinji, Asuka intenta hacer lo mismo para atraer su atención. Este antagonismo con Rei poco a poco va convirtiéndose en respeto, e incluso finalmente acepta ser amiga de ella.\\nAlgo que llama poderosamente la atención es que Asuka ya no tiene aversión a las muñecas. De hecho es todo lo contrario, ya que tiene una marioneta de guante con la que conversa de vez en cuando, usándola para desearse suerte.\\nFinalmente, en Evangelion: 2.0 ella es seleccionada como piloto de la Unidad-03. Cuando, siguiendo el Tratado del Vaticano, Gendo ordena congelar el EVA-02 para sustituirlo por el 03, Asuka expresa malestar por ello, pero se ofrece voluntaria para pilotar la 03.\\nCuando ésta es poseída por el Noveno Ángel, Asuka queda inconsciente y el ángel es confrontado por Shinji, en un combate de esquema similar al de la serie, igualmente acabando el Entry Plug destruido. Creyéndola muerta, Shinji se enfurece e intenta destruir el GeoFront, pero es detenido. Sin embargo, Asuka resulta estar viva, pero recibiendo atención médica debido a una infección del Ángel.\\nQueda claro que este ángel es de tipo invasor, y su contaminación parece haber alcanzado a la joven piloto, la cual tuvo que ser restringida en una habitación especial luego de ser rescatada. La cuarentena parece utilizar los pilares de sellado, y la salud de Asuka parecía estar en riesgo.\\nSin embargo, este asunto nunca es explorado en Evangelion: 2.0, y luego del salto de 14 años, vemos que la joven aparece usando un llamativo parche en su ojo. La contaminación es la explicación del parche usado por Asuka en Evangelion: 3.0.\\nAsuka enfrenta a su yo original.\\nDurante las escenas finales, vemos el trasfondo detrás de Asuka Shikinami. Ella es el último clon de la serie Shikinami, habiendo sobrevivido al duro entrenamiento de combate en el que los otros clones fallaron y fueron eliminados. Asuka tiene la edad suficiente para recordar haber visto a Gendo, Yui y un pequeño Shinji visitar las instalaciones de Euro-Nerv.\\n\\n'}\n",
            "Nodo: Hikari Horaki, Atributos: {'Hikari Horaki': '洞木 ヒカリ', 'Edad': '14 años', 'Sexo': 'Femenino', 'Familia': 'Nozomi Horaki (hermana menor)  Kodama Horaki (hermana mayor)', 'Primera aparición': 'El teléfono no suena [NGE]  Corazón cerrado [Manga]  Evangelion: 1.0 [RB]', 'Seiyū': 'Junko Iwao', 'Doblador Latino': 'Sarah Souza  Adriana Núñez  Ana Lobo  Desirée Sandoval', 'Doblador en España': 'Mercé Segarra', 'Resumen': 'Hikari Horaki (洞木 ヒカリ, ,  Horaki Hikari ?) es un personaje secundario en la franquicia Evangelion.\\nElla es la representante de la Clase 2-A, a la cual asisten los pilotos de las Unidades Evangelion.\\nHikari parece ser un poco agresiva y rígida al principio, debido a que una parte importante de su trabajo es asegurarse de que la clase siga el protocolo adecuado. En el episodio 03 se aprecia un claro ejemplo de esto. Durante la clase, unas compañeras le preguntan a Shinji Ikari si es cierto el rumor de que él es piloto del robot, y este responde que sí, haciendo que toda la clase se le acerque. Al ver la situación Hikari se enfada con sus compañeros y les pide que se sienten inmediatamente, pero estos no le hacen caso.\\nSe toma su papel como representante de la clase en serio, y aunque discute con Toji Suzuhara a menudo, cuando Asuka Langley Soryu le pregunta sobre sus sentimientos hacia él, le dice a Asuka que ella está enamorada, pero es incapaz de confesarlo.\\nElla parece ser la única y mejor amiga de Asuka. Hikari es una cocinera consumada que cuida de sus dos hermanas. Al igual que, presumiblemente, todos sus compañeros de clase, la madre de Hikari parece estar muerta. Sin embargo, no hay referencias a si su padre también lo está.\\nAl igual que la mayoría de los personajes jóvenes de la serie, Hikari nació en el año 2001, siendo la segunda de tres hermanas. Un año antes de la llegada de Shinji Ikari\\xa0a Tokio-3, entró a la Escuela Secundaria Municipal, donde conoció a Toji Suzuhara.\\nLa primera aparición de Hikari es en el episodio 03, donde pregunta a Kensuke Aida, amigo de Toji, sobre un informe que debía entregarle. Luego, cuando Shamshel ataca, ella es evacuada y llevada a un refugio junto con sus compañeros. Tiempo después, el ángel Ramiel ataca y Misato desarrolla la la Operación Yashima. Hikari, junto al resto de la población de Tokio-3, se entera del apagón a gran escala que formará parte de dicha operación.\\nEn el episodio 07, cuando Misato Katsuragi va a una reunión de la escuela en representación de Shinji, los varones de la clase le silban y dicen piropos desde el salón. Al ver esto, Hikari junto con sus amigas dice que son \"tontos\". Tiempo después, Asuka Langley Soryu llega a Japón siendo transferida a la Clase 2-A, y Hikari se vuelve su amiga.\\nEn el episodio 09, Hikari va al apartamento donde vive Asuka, y se encuentra con Toji y Kensuke, quienes iban a ver a Shinji (a quienes, curiosamente, Hikari puso de apodo \"los tres chiflados\"). En ese preciso momento, Asuka y Shinji estaban entrenando para la batalla contra Israfel. Durante esta visita, se aprecia que Hikari desarrolló cariño hacia Pen Pen, el pingüino de Misato. Asuka se enoja al ver que Shinji y Rei efectúan la rutina de baile perfectamente y se va del apartamento muy ofendida. Al ver esto, Hikari también se enfurece y regaña a Shinji, diciendo que él es el responsable del sufrimiento de su amiga.\\nAsimismo, ella se va junto con el resto de la clase, excepto Shinji, Asuka y Rei Ayanami, a bucear a Okinawa en el episodio 10.\\nEn el episodio 12, ella es invitada por Asuka a la fiesta conmemorada para celebrar el ascenso de Misato a Mayor. Allí, tras discutir un poco, ella y su amiga empiezan a pelear con Toji y Kensuke.\\nLuego, en el episodio 17, Hikari, junto a Kensuke y Shinji, comienza a preocuparse por Toji, quien falta más a clases y a la hora del almuerzo, además de que llega tarde. Una tarde después de clases, encuentra a Suzuhara comiendo en el aula, en donde le habló de la sobra de la comida que dejaban ella y sus hermanas, a lo que él, captando el mensaje, acepta.\\nDurante varios días seguidos, le preparó el almuerzo y se lo llevó, pero él no estaba. En una ocasión, habló con Asuka sobre sus sentimientos hacia su compañero. Más tarde, después de la batalla entre el EVA-01 y el Evangelion Unidad 03 poseído por Bardiel, el décimo tercer ángel, va a visitar a Toji al hospital con la excusa de que \"la jefa de clase tiene que ir a visitar a todos sus compañeros para asegurarse de que estén bien\".\\nDespués del ataque al Evangelion Unidad 02 por parte de Arael, Hikari permite que Asuka se quede en su casa, donde no hace más que jugar videojuegos.\\nHikari no es vista después de la evacuación de Tokio-3 luego de la batalla con Armisael. Sin embargo, se da a entender que ella vive en los suburbios, ya que Misato Katsuragi, eventualmente, envía a Pen Pen con la familia Horaki después del mismo incidente con la esperanza de que viviera más seguro con ellos. Se había visto en episodios anteriores que Hikari desarrolló cierto cariño hacia el pingüino.\\nLa última aparición de Hikari en la serie es en el episodio 26, donde aparece en la dimensión alterna donde los pilotos no tuvieron que combatir a los Ángeles y los EVAs no existen, teniendo su mismo rol de la jefa de clase. También tenía varias apariciones muy pequeñas. La última ocasión en donde se ve es al final del episodio donde, junto a los otros personajes, felicita a Shinji.\\nComo detalle curioso, hay que resaltar el hecho de que Hikari, al igual que Toji, Kensuke y Pen Pen, no aparece en The End of Evangelion, aunque es posible que, como el resto de personajes y gente de la Tierra, haya formado parte del Tercer Impacto.\\nAunque Toji no lo sepa, Hikari está enamorada de él. Esto se muestra más después de que el joven es elegido como piloto de EVA, ya que empieza a preocuparse más por él debido a que está más pensativo. Además, empieza a cocinarle y llevarle el almuerzo, pero él se ausenta. Más tarde, después de la batalla entre el Evangelion Unidad 01 y el EVA-03, ella va a verlo al hospital.\\nSin embargo, es posible que Toji también sienta algo por ella, ya que la protege de las explosiones provocadas por los misiles que eran lanzados contra el Décimo Ángel en Evangelion 2.0.\\nEn el manga, después de enterarse de la muerte de Suzuhara a manos de la Unidad 01, ella culpa a Shinji de tal acontecimiento.\\nDesde su llegada a Japón, se ha vuelto su mejor amiga. En la mayoría de las ocasiones, aparecen juntas. De alguna manera, sabe que Hikari está enamorada de Toji. Cada vez que algo le pasaba a su amiga, Hikari se preocupaba e intenta reparar el daño. Cuando Asuka se vuelve emocionalmente inestable tras la batalla contra el decimoquinto Ángel, le deja quedarse en su casa, en donde ella se preocupa por evitar ser una molestia. Curiosamente, Asuka Langley Shikinami, la versión de Asuka en la tetralogía de Rebuild of Evangelion, no parece tener la misma relación de amiga con ella.\\nEn el manga, Hikari es representada con un peinado ligeramente diferente. Ella ya no es vista tanto con Asuka como en la serie, a pesar de que todavía se sabe que son buenas amigas, y sus sentimientos por Toji son más fuertes que los vistos anteriormente, pero todo se convierte en una gran tragedia cuando Toji es asesinado durante el incidente con Bardiel. Después que el Proyecto de Complementación Humana es rechazado, ella no es vista ni mencionada otra vez.\\nEn la tetralogía de Rebuild of Evangelion, Hikari es menos prominente, haciendo apariciones menores en Evangelion: 1.0 You Are (Not) Alone. En Evangelion: 2.0 You Can (Not) Advance, la relación que tiene con Asuka Langley Shikinami no es de amistad, en contraste con la antigua Asuka; ya que cuando ella le preguntó si podía compartir su almuerzo, esta última se negó. Cuando Zeruel atacó Tokio-3, Hikari es protegida por Toji. En Evangelion: 3.0 You Can (Not) Redo se desconoce su paradero.\\nAyanami es aceptada en la Villa 3.\\nEn Evangelion: 3.0+1.0 Thrice Upon A Time, Rei Q y Shinji son llevados a la Villa 3 donde se encuentran con Toji, Kensuke y Hikari, que ahora son adultos. Toji y Hikari están casados \\u200b\\u200by tienen una hija llamada Tsubame Suzuhara. Ellos llevan una vida sencilla. Toji es médico y Kensuke realiza diversas tareas destinadas a preservar la Villa. Juntos, ayudan a Shinji a superar sus traumas y enseñan a Rei Q muchas cosas sobre el mundo.\\nEn ANIMA, Hikari tiene 17 años. Está involucrada en la guerra entre el Ejército Europeo y NERV Japan. Se encontraba junto a una de sus hermana en Europa pero desgraciadamente esta fue convertida en sal debido a un misterioso fenómeno.\\nHikari fue sometida a un lavado de cerebro por parte del ejército europeo para que pudiera pilotar el Evangelion EURO-II Heurtebise. Sin embargo, logró revertir el lavado de cerebro y entregó los restos de su hermana a Toji. Al percibir la presencia de un alma dentro de Heurtebise, decidió quedarse en el Ejército Europeo como colaboradora.\\nHikari y sus hermanas, Kodama y Nozomi, aparecen en el episodio 31 de Shinkalion. Dan un paseo en coche al protagonista principal de Shinkalion, Hayato Hayasugi. El cameo es notable por ser la primera aparición en pantalla de Kodama y Nozomi. Junko Iwao, la actriz de voz de Hikari en Evangelion da voz a ella y a sus hermanas durante el episodio.\\n\\n'}\n",
            "Nodo: Sakura Suzuhara, Atributos: {'Sakura Suzuhara': '鈴原 サクラ', 'Afiliación': 'WILLE', 'Edad': '8 años  22 años (3.0)', 'Sexo': 'Femenino', 'Familia': 'Toji Suzuhara (hermano mayor)', 'Primera aparición': 'Evangelion: 2.0 You Can (Not) Advance [RB]', 'Resumen': 'Seiyū\\nMiyuki Sawashiro\\nSakura Suzuhara (鈴原 サクラ, ,  Suzuhara Sakura ?) es un personaje que aparece por primera vez en Evangelion: 2.0 You Can (Not) Advance, aunque su nombre nunca es revelado. Ella es la hermana menor de Toji Suzuhara.\\nEn Evangelion: 3.0 You Can (Not) Redo es parte de la recientemente formada organización WILLE.\\nEn la serie de televisión nunca llega a aparecer, y permaneció siempre hospitalizada debido a sus graves heridas causadas por la pelea del EVA-01\\xa0y el Cuarto Ángel.\\nEn Evangelion: 1.0 You Are (Not) Alone, ella resulta herida de manera similar a la serie de televisión durante la\\xa0disputa del EVA-01\\xa0y el Cuarto Ángel.\\nEn Evangelion: 2.0 You Can (Not) Advance, es dada de alta del hospital, siendo recibida y abrazada por su hermano mayor. Es posible que al igual que el resto de las personas, se refugiara durante el ataque del Décimo Ángel.\\nEn Evangelion: 3.0 You Can (Not) Redo,\\xa0se revela que sobrevivió al Tercer Impacto. Ella\\xa0es una de las primeras personas que habla con Shinji Ikari tras salir este del interior del EVA-01. A diferencia del resto de la tripulación de WILLE, ella no lo trató con desdén.\\nElla tiene el rango de subteniente en WILLE y es médico a bordo del AAA Wunder\\xa0asignada al cuidado de Shinji durante su estancia en la nave. Cuando comienza el ataque del Mark 09, Sakura trata de huir con Shinji pero el cuarto donde se hallaban refugiados explota. Ella no hace ningún intento por detener a Shinji de irse con Rei, pero le advierte no subirse al EVA.\\nSu papel es mucho menos prominente durante el Cuarto Impacto, pero evidentemente estaba participando, ya que la nave estaba realizando un ataque de gran importancia y necesitaba que toda su tripulación entrase en acción.\\nEn Evangelion: 3.0+1.0 Thrice Upon A Time, Shinji Ikari es llevado a la Villa 3 donde se encuentra con Toji Suzuhara, Kensuke Aida y Hikari Horaki, que ahora son adultos. Mientras tanto, Misato permanece en el AAA Wunder preparando la Operación Yamato. El Wunder llega para descargar personal no esencial. Kensuke y Toji le piden a Shinji que se quede en la Villa, pero Shinji decide ir a bordo del Wunder.\\nSe le permite subir, pero es puesto en aislamiento y bajo vigilancia nuevamente. Sakura y Midori se sorprenden por la llegada de Shinji. Ellas no están de acuerdo con la idea de permitirle subir al Wunder. Sakura abofetea a Shinji y le reclama por sus errores de la película anterior. Luego, Asuka le entrega a Sakura una carta de su familia, con una foto que le muestra a su sobrina, la bebé Tsubame que acaba de nacer.\\nCerca de la Antártida, el AAA Wunder comandado por Misato es atacado por tres naves de NERV. Durante la batalla, Misato usa los destructores de su flota como misiles guiados gigantes. Asuka y Mari se abren camino a través del enjambre de Evangelions de NERV. De repente Gendo aparece en la parte más alta del Wunder.\\nGendo destruye la coraza del Wunder mediante un ataque de energía, ingresa al Evangelion 13 y se lleva la Unidad-01 por la fuerza. Shinji aparece y le pide a Misato que le permita ingresar a la Unidad-01 para detener a Gendo. Midori y Sakura están horrorizadas ante la idea de que Shinji ingrese al Evangelion y le disparan, pero Misato bloquea la bala de Sakura con su propio cuerpo.\\nLuego, Misato agradece a Shinji por salvarlos catorce años antes, y explica que la responsabilidad de sus acciones era en última instancia de ella, y dado que Shinji sigue siendo su subordinado, ella asumirá la responsabilidad de sus acciones. Sakura está muy arrepentida por lo que hizo, y se esfuerza mucho para curar las heridas de Misato.\\nEn la serie, Sakura fue mencionada por primera vez en el\\xa0episodio 03. En el cuarto episodio, Kensuke dijo que ella estaba enojada con Toji por haber golpeado a Shinji y le insistió en pedir disculpas. En el episodio 17, Toji va a visitarla, mientras las enfermeras están hablando de ellos. Aparentemente no da ningún tipo de rencor hacia Shinji por su ingreso en el hospital siendo víctima de la disputa entre el EVA-01 y Sachiel.\\nAl igual que el anime, en el manga ella resulta herida por la disputa\\xa0entre el EVA-01 y Sachiel. Cuando le pidieron a Toji convertirse en el piloto del EVA-03, el muchacho acepto con la condición de que su hermana sea trasladada a un hospital de NERV para mejor atención. Se desconoce si ella\\xa0se enteró de\\xa0la muerte de su hermano o si sobrevivió a la destrucción de Tokio-3.\\n\\n'}\n",
            "Nodo: Midori Kitakami, Atributos: {'Midori Kitakami': '北上ミドリ', 'Afiliación': 'WILLE', 'Sexo': 'Femenino', 'Primera aparición': 'Evangelion: 3.0 You Can (Not) Redo', 'Resumen': 'Seiyū\\nMariya Ise\\nMidori Kitakami (北上ミドリ, ,  Kitakami Midori ?) es un personaje que aparece por primera vez en Evangelion: 3.0 You Can (Not) Redo. Es parte de la recientemente formada organización WILLE.\\nMidori es una mujer pálida con el cabello rosado y labios grandes. Ella usa el uniforme femenino estándar WILLE, es decir, un mono morado con un busto blanco y una bufanda azul alrededor de su brazo izquierdo.\\nEs responsable de la supervisión del radar y sonar a bordo del AAA Wunder. Su función principal es indicar la posición de los enemigos. Parece ser alguien que cree poco en lo que hace.\\nElla protesta cuando Shigeru Aoba le recuerda su misión y cuando Koji Takao le dice que la muerte realmente no importa. Sin embargo, ella desempeña su papel con atención a pesar de que a menudo se asusta por la situación.\\nTiene el hábito de poner notas adhesivas en todas partes de su panel de control. Ella es muy perezosa y a diferencia de Koji Takao, tiene miedo a morir.\\nOtro aspecto que llama la atención, es que Midori es la que se muestra más furiosa con Shinji Ikari de entre todos los miembros de la tripulación. Esto se debe a que su familia murió debido al cataclismo que supuestamente Shinji causó.\\nEn Evangelion: 3.0 (-46h), Midori Kitakami, Sumire Nagara y Hideki Tama se encuentran haciendo ejercicio en la cubierta de un barco de guerra. Mientras se esfuerzan, Midori reflexiona sobre sus motivaciones para luchar y tiene un flashback del Tercer Impacto.\\nDurante el flashback, se muestra a una Midori más joven intentando huir de la ciudad en la que residía con su familia mientras las Fallas del Infinito emergen del suelo.\\nEn un momento dado, una Falla emerge entre los edificios y su cabeza, que se asemeja a la del Evangelion Unidad 01, se le cae y es absorbida por el suelo. A medida que la ciudad se convierte en núcleo, Midori huye aterrada hacia el bosque y pasa la noche en un Jet-VTOL estrellado.\\nAl día siguiente, la joven se encuentra en un valle lleno de Errantes y casi muere cuando uno emerge debajo de ella. En el momento justo, llega una aeronave pilotada por Mari Illustrious Makinami y lanza al EVA-02α-EIV (Emergency Improvised Version). A pesar de estar gravemente dañada, la Unidad 02α-EIV intenta contener al Errante.\\nEn un instante desgarrador, Midori es golpeada y cae por un acantilado, agarrándose a una rama de un árbol. Mientras Asuka Langley Shikinami sigue luchando con la criatura, la baba de colores se desliza y hace que el cabello de Midori se encrespe y se vuelva rosa. Con gran esfuerzo, la joven se levanta de la rama del árbol, como lo estaba haciendo en su sesión de entrenamiento.\\nAnte esta situación, el ángel dentro de Asuka comienza a agitarse y los ojos de la Unidad 02α-EIV brillan en azul, pero ella lo controla. Finalmente, la Unidad 02α-EIV lanza al Errante lejos y Asuka atrapa a Midori antes de que caiga. Luego, Asuka le confiesa a Midori que todo lo ocurrido tenía un propósito y todo es culpa de \"un idiota\", alentándola a seguir luchando.\\nDe vuelta al presente, Midori reprocha a Hideki su ociosidad y le propina un golpe en la espinilla. Luego, la cámara se enfoca en los cohetes que se preparan para la Operación US.\\nEn Evangelion: 3.0, Midori aparece por primera vez cuando Shinji Ikari es conducido en la cubierta del AAA Wunder luego de finalizada la Operación US. Ella es la que muestra más enojo al ver al joven.\\nAl igual que Hideki Tama, no parece entender cómo funciona la nave, ni estar familiarizada con su papel. Es por eso que está acostumbrada a pegar notas útiles alrededor de su pantalla de control. Shigeru Aoba, que se coloca justo encima de ella, también le recuerda lo que debe hacer.\\nCuando Misato Katsuragi ordena el despegue del Wunder, Midori protesta que no quiere morir mientras aún es joven. Esto le valió las protestas de Koji Takao, a quien no le gusta que los jóvenes no corran riesgos. Sin embargo, el despegue tuvo lugar durante el ataque del Evangelion Mark.09.\\nMidori señala constantemente el progreso del enemigo cuando Koji y Hideki encienden el motor. El encendido de la nave y el exterminio de los EVAs resultan ser un éxito para gran sorpresa de Midori.\\nSu papel es menos prominente durante el Cuarto Impacto, pero evidentemente estaba participando, ya que la nave estaba realizando un ataque de gran importancia y necesitaba que toda su tripulación entrase en acción. Ella todavía está supervisando el radar y esta vez verifica con gran detalle los movimientos del Mark.09 y el Evangelion Unidad 13.\\nDurante Evangelion: 3.0+1.0, Midori participa de la Operación Yamato, cuyo objetivo es neutralizar al Evangelion Unidad 13.\\nLas 4 naves despliegan gigantescas alas de luz.\\nEl AAA Wunder es controlado por un nuevo Evangelion Mark.09-A, el cual lo manipula para usar sus poderes. La 4 naves despliegan sus alas de luz de una manera muy parecida al Segundo Impacto, indicando un intento de Impacto, no en el escenario de SEELE.\\nLa Luna Negra es transformada en una nueva lanza de grandes dimensiones, la cual es necesaria para llevar a cabo el procedimiento que le permitirá a Gendo y Fuyutsuki alcanzar su objetivo.\\nGendo está en la parte más alta del Wunder. Misato y Ritsuko se enfrentan a él. Ritsuko dispara a Gendo, sin embargo, sus balas son completamente ineficaces. Se revela que Gendo ha usado la llave de Nabucodonosor y ha desechado su humanidad. Ahora tiene un vacío brillante en forma de cruz donde solían estar sus ojos.\\nGendo destruye la coraza del Wunder mediante un ataque de energía, ingresa al Evangelion 13 y se lleva la Unidad-01 por la fuerza. Shinji aparece y le pide a Misato que le permita ingresar a la Unidad-01 para detener a Gendo.\\nMidori y Sakura están horrorizadas ante la idea de que Shinji ingrese al EVA y le disparan, pero Misato bloquea la bala de Sakura con su propio cuerpo. Misato agradece a Shinji por salvarlos catorce años antes, y explica que la responsabilidad de sus acciones era en última instancia de ella, y dado que Shinji sigue siendo su subordinado, ella asumirá la responsabilidad de sus acciones.\\n\\n'}\n",
            "Nodo: Makoto Hyuga, Atributos: {'Makoto Hyuga': '日向 マコト', 'Edad': 'Desconocida', 'Sexo': 'Masculino', 'Primera aparición': 'El ataque del Ángel [NGE]  El ataque del Ángel [Manga]  Evangelion: 1.0 [RB]', 'Seiyū': 'Hiro Yūki', 'Doblador Latino': 'Enzo Fortuny  Roberto Mendiola  Manuel Campuzano', 'Doblador en España': 'Eduard Itchart', 'Resumen': 'Makoto Hyuga (日向 マコト, ,  Hyuga Makoto ?) es un personaje secundario de la franquicia Evangelion.\\nHyuga es uno de los tres principales técnicos informáticos de los cuarteles generales de NERV, junto con Shigeru Aoba y Maya Ibuki.\\nEl Teniente Primero Makoto Hyuga es un técnico de la organización NERV que trabaja en el centro de comando situado en el Dogma Central. Es un miembro de la división de Operaciones Tácticas de NERV, y el principal ayudante de Misato Katsuragi.\\nSus responsabilidades incluyen realizar el análisis del campo AT de los Ángeles, la monitorización de las constantes vitales de los pilotos y la supervisión de las operaciones.\\nEs uno de los personajes menos profundizados de la serie, sin embargo, se pueden observar algunas características de su personalidad a lo largo de los episodios. En una ocasión, se lo ve leyendo un Manga durante su tiempo libre en la base de NERV.\\nHyuga está secretamente enamorado de Misato, su situación es comparativamente similar a la de Maya Ibuki con Ritsuko Akagi. Representa el amor más allá del deber incluso en situaciones extremas. Él actúa como un espía de Misato, ayudándola a obtener información clasificada. Se arriesga mucho cuando hackea los registros del Departamento de Inteligencia e incluso roba información de Maya. Misato también le confía trabajos de menor importancia, como ir a buscar su ropa a la lavandería. Aunque Hyuga la llama \"perezosa\", por no hacerlo ella misma.\\nDurante la invasión de la JSSDF en el episodio 25\\', Misato deja en manos de Hyuga la situación del Centro de Comando cuando ella se va a rescatar a Shinji.\\nEl verdadero alcance de sus sentimientos hacia Misato se muestran durante el Proyecto de Complementación Humana. Los fantasmas de Rei Ayanami aparecieron ante los seres humanos en todo el mundo, asumiendo la forma de personas amadas para así facilitar el proceso y evitar que les teman. Rei/Lilith toma la forma de Misato y lo besa apasionadamente.\\nHyuga es un aliado cercano de Misato y la ayuda en su investigación, particularmente durante los eventos finales de la serie. Hyuga está secretamente enamorado de Misato y su situación es comparativamente similar a la de\\xa0Maya Ibuki\\xa0con Ritsuko Akagi. Misato se lleva bien con Hyuga, pero ambos mantienen una relación estrictamente laboral. Hyuga actúa como un espía de Misato, ayudándola a obtener información clasificada. Misato también le confía trabajos de menor importancia, como ir a buscar su ropa a la lavandería. Aunque Hyuga la llama \"perezosa\" por no hacerlo ella misma.\\nEn el manga, Hyuga es un personaje secundario y su rol es prácticamente el mismo que en la serie.\\nEn la tetralogía de Rebuild of Evangelion, Hyuga es un personaje secundario. En las dos primeras películas, su rol es prácticamente el mismo que en la serie. Sin embargo, en Evangelion: 3.0 You Can (Not) Redo, Hyuga forma parte de la organización WILLE creada luego del Casi-Tercer Impacto y cuyo objetivo es destruir NERV.\\nDurante Evangelion: 3.0+1.0 Thrice Upon A Time, participa de la Operación Yamato, cuyo objetivo es neutralizar al Evangelion Unidad 13. Antes de la misión, Hyuga se prepara y se limpia las gafas.\\nCerca de la Antártida, el AAA Wunder es atacado por tres naves de NERV, el NHG Erlösung, el NHG Erbsünde y el NHG Gebet. Como parte de su estrategia, el Wunder usa los destructores de su flota de apoyo como misiles guiados gigantes. Durante la batalla, Hyuga realiza sus labores con mucha eficacia.\\nEn ANIMA, Hyuga trabaja en la recién creada rama japonesa de NERV.\\n\\n'}\n",
            "Nodo: Mari Illustrious Makinami, Atributos: {'Mari Illustrious Makinami': '真希波・マリ・イラストリアス', 'Edad': '16 años (Manga)  45 años probablemente en 3.0', 'Sexo': 'Femenino', 'Familia': 'Desconocida', 'Primera aparición': 'Evangelion: 2.0 You Can (Not) Advance [RB]  Edén Color Veraniego [Manga]', 'Seiyū': 'Maaya Sakamoto', 'Doblador Latino': 'Mireya Mendoza', 'Resumen': 'Doblador en España\\nMarta Barbará\\nMari Illustrious Makinami (真希波・マリ・イラストリアス, ,  Makinami Mari Irasutoriasu ?) es una piloto que aparece en la tetralogía Rebuild of Evangelion.\\nFue introducida en Evangelion: 2.0 You Can (Not) Advance, pilotando el Evangelion Unidad Provisional 05.\\nMari se caracteriza por su calma y profesionalismo, aunque también es extrovertida y habladora. En ocasiones, parece algo distraída, como cuando tararea alegremente mientras pilota la Unidad Provisional 05 a través del túnel de la Base Betania.\\nAdemás, tiene un peculiar fetichismo hacia el LCL, ya que en una ocasión le comenta a Shinji \"Hueles bien... a olor de LCL\".\\nTambién tiene problemas de visión, y cuando la Unidad-02 cayó, ella perdió sus gafas y tuvo dificultades para encontrarlas en el Entry Plug. A pesar de esta adversidad, la joven siempre mantiene su característico desenfado.\\nEn Evangelion: 3.0 You Can (Not) Redo, Mari sigue siendo igual de calmada y despreocupada. Tiene un rol relativamente pequeño en comparación a otros personajes.\\nAlgo nuevo de su personalidad, y en contraste con Asuka, es que ella tiene la \"suerte\" de sufrir inconvenientes para iniciar las misiones o se atrasa, según Asuka, aunque según Mari es esta quien se adelanta.\\nAdemás, ella muestra empatía por los Evangelion, agradeciéndoles o animándolos durante las batallas. Incluso parece saber cosas que otros personajes ignoran y trabaja por encima de las intenciones de NERV, llegando a hacerlo desde 14 años antes de que Misato Katsuragi fundara WILLE.\\nEvangelion: 3.0+1.0 Thrice Upon A Time se revela que Mari ama leer y tiene una gran colección de libros en su habitación dentro del Wunder. Cuando Asuka la cuestiona sobre la cantidad, Mari afirma que los libros son la base del conocimiento y su sueño imposible es leer todos los libros del mundo.\\nCuando el Tercer Ángel intenta escapar de la Base Betania, Mari toma el control del Evangelion Unidad Provisional 05 y trata de detenerlo, llegando hasta a los alrededores de la zona Aqueron y logra atacarlo.\\nMari durante su pelea contra el Tercer Ángel.\\nDespués de recibir muchos daños y sin otra opción, Mari impulsa la autodestrucción, no sin antes pedirle perdón a su EVA,\\xa0siendo eyectada en el Entry Plug y destruyendo gran parte de la base y al Tercer Ángel.\\nMas tarde, Mari aterriza en paracaídas en Tokio-3, pero cae accidentalmente sobre un atónito Shinji mientras estaba en la terraza de la escuela. Después de recuperarse, ella reconoce su identidad como piloto de EVA por el olor a líquido LCL, presentándose después ante el atónito muchacho.\\nCuando el Décimo Ángel ataca, Mari es enviada a pelear secuestrando la Unidad-02. Ella utilizo el assault rifle y el Thunder Spear contra el ángel, pero ambos fueron incapaces de atravesar su poderoso campo AT.\\nMari decide activar el Modo Bestia.\\nDespués de comprobar que los métodos de combate tradicionales eran ineficaces, Mari decide activar el modo bestia. Inicia el proceso diciendo \"Invertir Modo, Código Secreto: La Bestia!\". Las restricciones son liberadas, y se desencadena una transformación física en la que el EVA \"abandona su humanidad\". En este estado la Unidad-02 demostró poseer una velocidad y fuerza mayor; sin embargo, no fue suficiente para vencer al poderoso ángel.\\nEn ese momento, Rei Ayanami pilotando la Unidad-00 intenta un ataque suicida contra el ángel llevando en sus brazos un enorme misil. Mari ayuda a Rei, rompiendo el campo AT del ángel; sin embargo, su estrategia no tuvo éxito ya que el ángel protegió su núcleo con un par de escudos óseos retráctiles.\\nTras la explosión, la Unidad-02 cae sobre el refugio donde se hallaba Shinji Ikari,\\xa0sorprendiéndose ella de verlo escondido. Tras darse cuenta que el muchacho ya no iba a pilotear,\\xa0Mari le dice a Shinji que escape, y él, al ver que el ángel devoró a la Unidad-00, decide regresar y pilotar la Unidad-01. Mas tarde, Mari es testigo del Tercer Impacto, diciendo que sabia que Shinji era diferente, por el olor del LCL.\\nCatorce años después del fallido Tercer Impacto, Mari\\xa0se volvió un\\xa0miembro de WILLE y la actual piloto del Evangelion Unidad 08.\\nMari en su misión en el espacio.\\nDurante ese tiempo se volvió una amiga de Asuka Langley Shikinami, a quien le puso de apodo \"Princesa\". Tras encontrar a la desaparecida EVA-01, la chica acompaño a Asuka en sus respectivos Evangelion hacia el espacio, para rescatar a Shinji.\\nTras el éxito de la misión, la chica se va descansar dentro de la Unidad-08, hasta que fueron atacados por el Evangelion Mark.09. Durante el ataque, la chica logro destruirle su cabeza, sin embargo, el Mark.09 consigue su objetivo y se lleva a Shinji Ikari. Tiempo después, cuando Shinji intento obtener la lanza de\\xa0Cassius, Mari y Asuka irrumpen en el lugar, siendo repelidas por Shinji.\\nMari intentando sacar a Shinji del EVA-13.\\nMientras intentaban detener al Evangelion Unidad 13, Mari comenzó una pelea con el Mark.09, donde le menciona a Rei Ayanami que su anterior versión era mas amable, dejando a Rei confundida.\\nCuando el Cuarto Impacto culmina, la chica es la encargado de sacar a Shinji de su Entry Plug, diciéndole antes que por lo menos puede ir a ayudar a la princesa (Asuka) y que debería ir a conocer el mundo. Debido al rescate, la Unidad-08 quedo parcialmente destruida, siendo transportada por el AAA Wunder.\\nElla juega un papel más prominente en Evangelion: 3.0+1.0. La película inicia con una operación llevada a cabo por WILLE en la ciudad de París. El objetivo es restaurar las instalaciones de Euro NERV a través de un pilar de sellado.\\nDicho pilar puede usarse para activar el sistema Anti-L, el cual es un método capaz de anular los efectos de la barrera L que cubre la ciudad. La operación es supervisada por Ritsuko Akagi y llevada a cabo por los operarios principales del AAA Wunder. Dicha operación también implica la presencia del Evangelion Unidad 08, pilotada por Mari. La joven debe proteger a WILLE de los ataques de NERV, que envía los Evangelion Mark.44 (modelos A y B) así como al Evangelion Mark.4444C.\\nPara defenderse, la Unidad-08 está equipada con una estructura que reemplaza las extremidades que perdió en la película anterior. Estos nuevos brazos amarillos pueden girar en cualquier dirección alrededor del torso del EVA gracias a una ingeniosa estructura con forma de anillo.\\nAdemás, el Evangelion Unidad 08 se encuentra suspendido como una marioneta, mediante un cable generado por un campo AT, siendo conectado a la flota de WILLE que se alza en el cielo. Esta configuración le permite moverse con facilidad y rapidez en un espacio de 360°, tanto en tierra como en el aire, siendo ayudado por la nave, que le permite volar por todas partes.\\nEntonces, el EVA-08 se deshace fácilmente de los Mark.44, que venían en grandes cantidades. Luego, un Mark.4444C dispara un poderoso rayo con un cañón de positrones hacia WILLE. La organización se defiende del ataque usando barcos reforzados con escudos. Sin embargo, la flota está muy dañada y no puede contrarrestar el segundo ataque inminente.\\nFue entonces cuando la Unidad-08 agarró la parte superior de la destruida Torre Eiffel, se precipitó contra el enemigo y perforó su campo AT utilizando a la Dama de Hierro como lanza. Al empujar aún más, Mari exclama \"¡Perdóname Eiffel!\" en francés durante este ataque final.\\nEl objetivo es destruido y la operación es un éxito. La ciudad de París se encuentra libre del color rojo cristalino que hasta entonces la cubría. Esto permite a WILLE reiniciar las instalaciones de Euro NERV y también recuperar varios elementos necesarios para el mantenimiento y restauración de los Evangelions.\\nShinji es aceptado en la Villa 3.\\nMientras tanto, Shinji y Rei Q con aceptado en la Villa 3. Shinji está catatónico y comienza a sentirse físicamente enfermo. En la Villa 3, se encuentran con Toji, Kensuke y Hikari. Rei Q se preocupa por Shinji, al ver que este escapó de la Villa. Ella lo busca y le lleva comida todos los días. Con el tiempo, el joven se recupera de su trauma.\\nLamentablemente, el cuerpo de Rei Q no pudo mantenerse estable. Ella le agradece a Shinji por ayudarla a encontrar la felicidad, antes de convertirse en LCL ante sus ojos. Shinji se sorprende mucho, pero esta trágica experiencia no lo debilita. Ayanami le ayudó a recuperarse.\\nEl joven ha madurado y ahora puede definir, por sí mismo, qué quiere hacer a partir de ahora. El Wunder llega a la Villa para descargar al personal no esencial y obtener suministros. Shinji decide ir a bordo del Wunder. Allí el joven Ikari se encuentra con Mari y mantienen una breve charla.\\nShinji es puesto en aislamiento y bajo vigilancia. Asuka va a la habitación que comparte con Mari y descubre que está llena de muchos libros. Ella expresa su sorpreza al ver que la cantidad aumentó desde la última vez. Mari le responde que su sueño imposible es leer todos los libros que existen. Luego, hablan un poco sobre Shinji. Mari le pregunta si hizo algún progreso. Pero Asuka le responde que no está interesada, y afirman que Shinji \"necesita una madre, no una novia\".\\nGendo y Fuyutsuki se disponen a realizar su movimiento final. Por esa razón, la Luna Negra empieza a desplazarse lentamente hacia el epicentro del Segundo Impacto, con la intención de reiniciar al Evangelion 13. Misato y Ritsuko descubren esto y deciden poner en marcha su operación.\\nAsuka y Mari va a ver a Shinji antes de iniciar la operación. El joven revela que entiende la ira de Asuka por su inacción en la película anterior. Asuka expresa sus sentimientos por Shinji. Ella dice que le gustaba, pero \"creció primero\".\\nMari y Asuka se viste con sus nuevos Plug Suits blancos.\\nLuego de aclarar los asuntos pendientes, Mari y Asuka se viste con sus nuevos Plug Suits blancos y van a sus respectivos Evangelions. El AAA Wunder parte rumbo a la Antártida con el objetivo de neutralizar al Evangelion 13, en lo que Misato llama \"Operación Yamato\".\\nCerca de la Antártida, el AAA Wunder es atacado por tres naves de NERV, el NHG Erlösung, el NHG Erbsünde y el NHG Gebet, todos aparentemente bajo el control de Fuyutsuki. El Wunder también es abordado por un enjambre de Evangelion Mark.07.\\nDurante la batalla, Mari y Asuka saltan al vacío con sus EVAs y luchan contra miles de enemigos. Mari brinda apoyo logístico a Asuka, lo cual le permite alcanzar su objetivo rápidamente. Mientras tanto, Mari se queda luchando con las unidades enemigas para cubrir a Asuka.\\nLamentablemente, la situación se complica, ya que las unidades de NERV tiene acorradala a Mari. Al mismo tiempo, Asuka es derrotada por el Evangelion Unidad 13 y Gendo aborda el Wunder. Misato y Ritsuko se enfrentan a él. Ritsuko dispara a Gendo, sin embargo, sus balas son completamente ineficaces.\\nSe revela que Gendo ha usado la llave de Nabucodonosor y ha desechado su humanidad. Ahora tiene un vacío brillante en forma de cruz donde solían estar sus ojos. Gendo destruye la coraza del Wunder mediante un ataque de energía, ingresa al Evangelion Unidad 13 y se lleva la Unidad-01 por la fuerza. Shinji aparece y le pide a Misato que le permita ingresar a la Unidad-01 para detener a Gendo.\\nMari lleva a Shinji para recuperar la Unidad-01.\\nMari aparece con la Unidad-08 y se ofrece a llevarlo. El EVA-08 puede seguir el paso del EVA-13 en el \"Anti-Universo\". Esto permite que Shinji invoque a la Unidad-01 y entre para pilotarlo. La Ayanami original se le aparece en el interior del EVA, con el pelo largo. Ella se disculpa con él por no poder hacerlo para que él no tuviera que entrar en un Evangelion, pero Shinji le agradece y dice que él se encargará del resto.\\nEl EVA-01 y el EVA-13 luchan. Mientras tanto, Mari se infiltra en el NHG Erlösung y habla con Fuyutsuki. Este la reconoce y se dirige a ella como \"Mari Iscariote\". La muchacha lo llama \"Fuyutsuki-sensei\", y agrega que ha pasado mucho tiempo desde que alguien la llamó por ese nombre. Ambos hablan brevemente sobre los planes de Gendo y luego Mari se va. Al poco tiempo, Fuyutsuki se convierte en LCL.\\nLuego, ella regresa a su EVA y se encuentra rodeada por los EVAs Opfer type, el Mark.10, el Mark.11, y el Mark.12. Ella los derrota fácilmente y su EVA los devora, llevando a la Unidad-08 a un estado de \"Overlapping\". Finalmente, la Unidad-08 mejorada dispara rayos de energía y destruye fácilmente las tres naves de NERV, dejando el camino libre al Wunder.\\nMari después de reconciliarse con Yui.\\nMari aparece en el \"Stage Extra\" del Volumen 14 del manga, titulado Edén Color Veraniego. Ella nació presuntamente en 1982, era una chica prodigio que adelantó su matriculación dos años, graduándose a la edad de 16.\\nEra la estudiante más inteligente de Kozo Fuyutsuki, y estaba acostumbrada a ser la mejor. Sin embargo, tuvo dificultades para competir contra Yui Ikari, comenzando a tenerle envidia por sus logros.\\nUn día, el decano la llamó para informarle que el equipo del Profesor Alex de la Universidad de Saint Ford en Inglaterra estaba reclutando personas capacitadas. Mari se sorprendió que la oferta no se la hicieran a Yui, quien era más talentosa que ella. El decano le explicó que Yui ya había sido contratada por una institución de investigación bajo la supervisión del gobierno, y debido a eso no podría abandonar el país.\\nUn día las gafas de Yui se perdieron. Ella se había quedado dormida en su escritorio, y al despertar descubrió que sus gafas habían desaparecido. Tiempo después, gracias a un accidente en el laboratorio, Yui descubre que sus gafas estaban dentro del bolso de Mari.\\nCuando Yui le preguntó sobre el motivo del robo, Mari confesó que lo hizo por despecho, ya que sentía celos de la relación entre Yui y Gendo. Esta revelación dejó al descubierto el enamoramiento de Mari hacia Yui.\\nMientras hablaban, la chica le pidió perdón a Yui por haberla llamado odiosa y le dijo que se iría a estudiar a la Universidad de Saint Ford. Para sorpresa de Mari, Yui le regalo sus gafas, a pesar de la protesta de la chica. Mari, finalmente le desea felicidad a Yui y Gendo, desde el otro lado del mundo.\\n\\n'}\n",
            "Nodo: Rei Quatre, Atributos: {'Rei Quatre': 'レイ·カトル', 'Edad': '17 años de edad (edad del cuerpo)', 'Sexo': 'Femenino', 'Familia': 'Clon genético de Yui Ikari  Clon de Rei No. Trois  Rei Cinq (hermana)  Rei Six (hermana)', 'Primera aparición': 'Neon Genesis Evangelion ANIMA', 'Resumen': ''}\n",
            "Nodo: Shigeru Aoba, Atributos: {'Shigeru Aoba': '青葉シゲル', 'Edad': 'Desconocida', 'Sexo': 'Masculino', 'Primera aparición': 'El ataque del Ángel [NGE]  El ataque del Ángel [Manga]  Evangelion: 1.0 [RB]', 'Seiyū': 'Takehito Koyasu', 'Doblador Latino': 'Ricardo Tejedo  Héctor Moreno  Rodrigo Carralero', 'Doblador en España': 'Alex Messeguer', 'Resumen': \"Shigeru Aoba (青葉シゲル, ,  Aoba Shigeru ?) es un personaje secundario de la franquicia Evangelion.\\nAoba es uno de los tres principales técnicos informáticos de los cuarteles generales de NERV, junto con Makoto Hyuga y Maya Ibuki.\\nEl Teniente Primero Shigeru Aoba es un técnico de la organización NERV que trabaja en el centro de comando situado en el Dogma Central. Sus responsabilidades incluyen monitorizar las comunicaciones y realizar análisis de datos.\\nEs uno de los personajes menos profundizados de la serie, sin embargo, se pueden observar algunas características de su personalidad a lo largo de los episodios. Por ejemplo, durante el episodio 10 vemos que sabe tocar la guitarra y le gusta leer revistas de guitarras. También demuestra ser desinhibido y cínico, burlándose aveces de la fe absoluta de Maya Ibuki. A pesar de eso, Aoba se lleva bien con sus compañeros de trabajo.\\nMás adelante, durante el episodio 25', Aoba no duda en disparar a los soldados de la JSSDF. Durante el Proyecto de Complementación Humana, los fantasmas de Rei Ayanami aparecieron ante los seres humanos en todo el mundo, asumiendo la forma de personas amadas para así facilitar el proceso y evitar que les teman. Aoba, sin embargo, experimentó mucho miedo al ver una horda de Rei Ayanamis que se aproximaban. Esto probablemente significa que no había nadie a quien Aoba amara de verdad.\\nEn el manga, Aoba es un personaje secundario y su rol es prácticamente el mismo que en la serie.\\nEn la tetralogía de Rebuild of Evangelion, Aoba es un personaje secundario. En las dos primeras películas, su rol es prácticamente el mismo que en la serie. Sin embargo, en Evangelion: 3.0 You Can (Not) Redo, Aoba forma parte de la organización WILLE creada luego del Casi-Tercer Impacto y cuyo objetivo es destruir NERV.\\nDurante Evangelion: 3.0+1.0 Thrice Upon A Time, participa de la Operación Yamato, cuyo objetivo es neutralizar al Evangelion Unidad 13. Antes de la misión, Aoba se prepara y se afeita la barba.\\nCerca de la Antártida, el AAA Wunder es atacado por tres naves de NERV, el NHG Erlösung, el NHG Erbsünde y el NHG Gebet. Como parte de su estrategia, el Wunder usa los destructores de su flota de apoyo como misiles guiados gigantes. Durante la batalla, Aoba realiza sus labores con mucha eficacia.\\nEn ANIMA, se ve que Aoba trabaja en la sección de control de combate de la recién creada rama japonesa de NERV.\\nAoba llevando su guitarra.\\nEn el videojuego de Sega Saturn Neon Genesis Evangelion: 2nd Impression llega una nueva estudiante transferida a la Clase 2-A, llamada Mayumi Yamagishi. Shinji Ikari forja una amistad con ella.\\nLuego, junto con Toji Suzuhara y Kensuke Aida deciden formar una banda y tocar cada uno un instrumento. Es en esta situación tan peculiar donde Aoba participa y les da una mano.\\nLos nombres de los personajes de Evangelion, la traducción del ensayo de Hideaki Anno sobre el nombre de los personajes originales, incluye un enlace a la composición original japonesa. Consultado el 19 de agosto del 2007.\\n\\n\"}\n",
            "Nodo: Kyoko Zeppelin Soryu, Atributos: {'Kyoko Zeppelin Soryu': '惣流・キョウコ・ツェッペリン', 'Edad': '31 (nacida en 1974)', 'Sexo': 'Femenino', 'Familia': 'Asuka Langley Soryu (hija)', 'Primera aparición': 'Al menos actúa como un ser humano [NGE]  El quinto elegido[Manga]', 'Seiyū': 'Maria Kawamura', 'Doblador Latino': 'Gabriela Michel', 'Resumen': 'Kyoko Zeppelin Soryu (惣流・キョウコ・ツェッペリン, ,  Soryu Kyoko Tsepperin ?) es un personaje de la franquicia Evangelion.\\nEs la\\xa0madre de Asuka Langley Soryu, y fue la científica clave de la división GEHIRN en Alemania (lo que mas tarde se conoció como la Tercera Rama de\\xa0NERV). Participó en el desarrollo del Evangelion Unidad 02, el primer Modelo de Producción.\\nKyoko fue parte de la rama alemana de GEHIRN y participó en el Proyecto E. Ella fue sujeto de pruebas durante el experimento de contacto con el Evangelion Unidad 02. Durante dicho experimento, una parte de su alma fue unida al EVA-02, causándole un daño mental severo.\\nA pesar de que físicamente sobrevivió a la prueba, Kyoko quedó mentalmente inestable, creyendo que una muñeca era su hija y refiriéndose a su hija real como \"esa chica\". Por ese motivo fue internada en un instituto mental poco después del experimento.\\nAsuka observa a Kyoko en el hospital.\\nMientras que Kyoko permanecía internada, su marido comenzó una relación con una doctora que trabajaba en el hospital. Con el paso del tiempo, la condición de Kyoko empeoró y eventualmente se volvió suicida. Pensando que la muñeca era su hija, Kyoko la degolló diciendo \"muere conmigo\" y luego se colgó.\\nDespués de ser seleccionada como piloto de Evangelion, Asuka estaba muy emocionada y fue corriendo a contarle a su madre, sólo para descubrir que esta se había suicidado. La horrible muerte de su madre dejó profundas cicatrices emocionales en el corazón de Asuka. En los flashbacks de los episodios 22 y 25, se puede escuchar la locura de Kyoko a través de los recuerdos de Asuka, diciéndole \"¡Por favor, muere conmigo!\".\\nDespués de experimentar estos trágicos eventos, Asuka se negó a llorar durante el funeral. Firme en su determinación, proclamó que de ahora en adelante tendrá que cuidarse ella sola. Tiempo después, su padre se volvió a casar y la actitud defensiva de Asuka rápidamente repelió a su nueva madrastra. Con el tiempo, las dos aprendieron a tolerarse entre sí, manteniendo una fachada alegre de una familia normal.\\nAunque Kyoko murió físicamente, el componente materno de su alma continuó viviendo dentro del núcleo de la Unidad-02. Una teoría sugiere que el resto de su alma fue recuperada en la Unidad-02 tras el suicidio. Durante la invasión de la JSSDF, Asuka se da cuenta que el alma de su madre se encuentra dentro del EVA-02.\\nEn dicha escena del episodio 25\\', cuando Asuka encontró a su madre dentro de la Unidad-02, Kyoko repite \"¡Tu no debes morir!\" \"¡Debes vivir!\" \"¡Vive!\", varias veces. Sin embargo, la palabra \"¡Por favor. Muere conmigo!\" se mezcla en dos ocasiones con las palabras de aliento, lo que sugiere que Kyoko y su locura se contraponen.\\nEn el manga de Yoshiyuki Sadamoto, el rostro de Kyoko se presenta con mayor claridad en los flashbacks de Asuka, aunque su diseño difiere completamente del mostrado en el anime. En esta versión, Kyoko y su esposo fueron incapaces de concebir un hijo, y se divorciaron después de que tuvo un romance. Él se volvió a casar y tuvo una hija, mientras que Kyoko concibió a Asuka con esperma de un donante.\\nDurante la hospitalización de Kyoko debido a su enfermedad mental, Asuka logró tener acceso a ella, y en un momento tenso, Kyoko intentó estrangularla. Dicha actitud es posteriormente adquirida por Asuka, quien es hospitalizada tras el ataque mental de Arael y trata de estrangular a Shinji Ikari cuando este va a visitarla.\\nDurante la invasión de la JSSDF, Asuka se da cuenta que el alma de su madre se encuentra dentro del EVA-02. Ella recuerda un momento de su pasado donde se le ve persiguiendo a su madre. En ese momento, Kyoko se hace presente y le sonríe a Asuka mientras le dice que siempre estuvo con ella.\\nEn ANIMA, Kyoko ostenta una importancia significativa. Ella no está realmente muerta, y recobra importancia aunque la trama de ANIMA se desarrolla tres años después de la invasión a la sede de la NERV. Su alma dividida persiste en el núcleo tanto del Evangelion Unidad 02 como del Evangelion EURO-II Heurtebise. Por esa razón, ella sigue experimentando trastornos psicológicos y se halla en reposo en una instalación médica.\\nKyoko está sometida a un tratamiento especial para preservar su vida, a pesar de que su condición parece indicar un estado de coma. Debido a la resistencia de su organismo a los tratamientos convencionales, su cama de hospital está equipada con una serie de dispositivos que crean una red compleja dentro de su cuerpo mediante nanomáquinas e implantes.\\nCuando Hikari Horaki estaba a bordo del Heurtebise, el alma de Kyoko le pidió que cuidara de Asuka, quien acababa de adoptar la apariencia de un Evangelion. Después de la batalla en Novaya Zemlya, Hikari aprovechó la reparación de su EVA para visitar a Kyoko en Alemania. Al mismo tiempo, Asuka regresó convertida en Torwart A y se dirigió al pueblo donde se encontraba su madre. Hikari pidió al ejército que no la atacara y llevó la cama de Kyoko al techo del establecimiento para permitirle ver a su hija. Torwart A se quedó brevemente frente a Kyoko, antes de retirarse para reunirse con Torwart B.\\nKyoko Zeppelin Soryu.\\nEn Neon Genesis Evangelion: Shinji Ikari Raising Project, Kyoko es una científica torpe que trabaja en el Laboratorio de Evolución Artificial.\\nLleva a cabo sus deberes con diligencia en uno de los laboratorios subterráneos durante varios días. Se recluye en su oficina para optimizar su rendimiento, y resulta complicado localizarla, incluso para sus colegas.\\nDebido a esto, Asuka no ve a su madre con frecuencia, pero no le guarda rencor y sabe el cariño que ella le tiene. Mantienen una relación cercana y ocasionalmente comparten momentos, como hacer compras juntas. Sin embargo, Kyoko parece no conocer la vida afectiva de su hija, quien ya la imagina con Shinji. Durante un picnic, avergüenza a su hija preguntándole si sale con él.\\n\\n'}\n"
          ]
        }
      ]
    },
    {
      "cell_type": "code",
      "source": [
        "def obtener_familia(personaje:str):\n",
        "  # Ejemplo de diccionario de datos\n",
        "  diccionario_personaje = informacionDeLosPersonajes[personaje]\n",
        "\n",
        "  # Obtener la familia del diccionario\n",
        "  familia = diccionario_personaje.get('Familia', '')\n",
        "\n",
        "  # Separar los miembros de la familia\n",
        "  miembros_familia = [miembro.strip() for miembro in familia.split(')') if miembro.strip()]\n",
        "\n",
        "  # Procesar cada miembro de la familia\n",
        "  for miembro in miembros_familia:\n",
        "      nombre = miembro.split('(')[0].strip()\n",
        "      rol = miembro.split('(')[1].strip() if '(' in miembro else 'Familia'\n",
        "\n",
        "      # Agregar nodo para el miembro de la familia si no existe\n",
        "      if not G.has_node(nombre):\n",
        "          G.add_node(nombre, nombre=nombre)\n",
        "\n",
        "      # Crear relación entre Shinji Ikari y el miembro de la familia\n",
        "      G.add_edge(personaje, nombre, relacion=rol)\n"
      ],
      "metadata": {
        "id": "T2h-6zwD-CvN"
      },
      "execution_count": 197,
      "outputs": []
    },
    {
      "cell_type": "code",
      "source": [
        "for personaje in personajes:\n",
        "  obtener_familia(personaje.replace('_',' '))"
      ],
      "metadata": {
        "id": "uTyXilvZFc8B"
      },
      "execution_count": 198,
      "outputs": []
    },
    {
      "cell_type": "code",
      "source": [
        "print(\"Relaciones:\")\n",
        "#for nodo in G.nodes(data=True):\n",
        "#    print(f\"Nodo: {nodo[0]}, Atributos: {nodo[1]}\")\n",
        "for arista in G.edges(data=True):\n",
        "    print(f\"Relación: {arista[0]} - {arista[1]}, Tipo: {arista[2]['relacion']}\")"
      ],
      "metadata": {
        "colab": {
          "base_uri": "https://localhost:8080/"
        },
        "id": "1frUT3BJE7DJ",
        "outputId": "fed955d4-8f38-4918-d168-d82ab3c70a24"
      },
      "execution_count": 199,
      "outputs": [
        {
          "output_type": "stream",
          "name": "stdout",
          "text": [
            "Relaciones:\n",
            "Relación: Misato Katsuragi - Dr. Katsuragi, Tipo: padre fallecido\n",
            "Relación: Misato Katsuragi - Pen Pen, Tipo: mascota\n",
            "Relación: Misato Katsuragi - Tutora de Shinji Ikari y Asuka Langley Soryu, Tipo: Familia\n",
            "Relación: Gendo Ikari - Yui Ikari, Tipo: esposa\n",
            "Relación: Gendo Ikari - Shinji Ikari, Tipo: hijo\n",
            "Relación: Yui Ikari - Gendo Ikari, Tipo: esposo\n",
            "Relación: Yui Ikari - Shinji Ikari, Tipo: hijo\n",
            "Relación: Ritsuko Akagi - Naoko Akagi, Tipo: madre fallecida\n",
            "Relación: Naoko Akagi - Ritsuko Akagi, Tipo: hija\n",
            "Relación: Asuka Langley Soryu - Kyoko Zeppelin Soryu, Tipo: madre fallecida\n",
            "Relación: Asuka Langley Soryu - Madrastra en Alemania, Tipo: Familia\n",
            "Relación: Rei Ayanami - Ninguna, Tipo: Familia\n",
            "Relación: Shinji Ikari - Gendo Ikari, Tipo: Padre\n",
            "Relación: Shinji Ikari - Yui Ikari, Tipo: Madre\n",
            "Relación: Toji Suzuhara - Sakura Suzuhara, Tipo: hermana pequeña\n",
            "Relación: Hikari Horaki - Nozomi Horaki, Tipo: hermana menor\n",
            "Relación: Hikari Horaki - Kodama Horaki, Tipo: hermana mayor\n",
            "Relación: Sakura Suzuhara - Toji Suzuhara, Tipo: hermano mayor\n",
            "Relación: Mari Illustrious Makinami - Desconocida, Tipo: Familia\n",
            "Relación: Rei Quatre - Clon genético de Yui Ikari  Clon de Rei No. Trois  Rei Cinq, Tipo: hermana\n",
            "Relación: Rei Quatre - Rei Six, Tipo: hermana\n",
            "Relación: Kyoko Zeppelin Soryu - Asuka Langley Soryu, Tipo: hija\n"
          ]
        }
      ]
    },
    {
      "cell_type": "code",
      "source": [
        "#Almaceno las relaciones en un diccionario para posteriormente graficarlas\n",
        "edge_labels = {}\n",
        "for u, v, data in G.edges(data=True):\n",
        "        print(f\"- {u} <- {v}: {data}\")\n",
        "        edge_labels[(u, v)] = data['relacion']"
      ],
      "metadata": {
        "colab": {
          "base_uri": "https://localhost:8080/"
        },
        "id": "UdpfHkljHDdK",
        "outputId": "39ac4f7b-5a0d-425b-f911-3fd4e31af343"
      },
      "execution_count": 200,
      "outputs": [
        {
          "output_type": "stream",
          "name": "stdout",
          "text": [
            "- Misato Katsuragi <- Dr. Katsuragi: {'relacion': 'padre fallecido'}\n",
            "- Misato Katsuragi <- Pen Pen: {'relacion': 'mascota'}\n",
            "- Misato Katsuragi <- Tutora de Shinji Ikari y Asuka Langley Soryu: {'relacion': 'Familia'}\n",
            "- Gendo Ikari <- Yui Ikari: {'relacion': 'esposa'}\n",
            "- Gendo Ikari <- Shinji Ikari: {'relacion': 'hijo'}\n",
            "- Yui Ikari <- Gendo Ikari: {'relacion': 'esposo'}\n",
            "- Yui Ikari <- Shinji Ikari: {'relacion': 'hijo'}\n",
            "- Ritsuko Akagi <- Naoko Akagi: {'relacion': 'madre fallecida'}\n",
            "- Naoko Akagi <- Ritsuko Akagi: {'relacion': 'hija'}\n",
            "- Asuka Langley Soryu <- Kyoko Zeppelin Soryu: {'relacion': 'madre fallecida'}\n",
            "- Asuka Langley Soryu <- Madrastra en Alemania: {'relacion': 'Familia'}\n",
            "- Rei Ayanami <- Ninguna: {'relacion': 'Familia'}\n",
            "- Shinji Ikari <- Gendo Ikari: {'relacion': 'Padre'}\n",
            "- Shinji Ikari <- Yui Ikari: {'relacion': 'Madre'}\n",
            "- Toji Suzuhara <- Sakura Suzuhara: {'relacion': 'hermana pequeña'}\n",
            "- Hikari Horaki <- Nozomi Horaki: {'relacion': 'hermana menor'}\n",
            "- Hikari Horaki <- Kodama Horaki: {'relacion': 'hermana mayor'}\n",
            "- Sakura Suzuhara <- Toji Suzuhara: {'relacion': 'hermano mayor'}\n",
            "- Mari Illustrious Makinami <- Desconocida: {'relacion': 'Familia'}\n",
            "- Rei Quatre <- Clon genético de Yui Ikari  Clon de Rei No. Trois  Rei Cinq: {'relacion': 'hermana'}\n",
            "- Rei Quatre <- Rei Six: {'relacion': 'hermana'}\n",
            "- Kyoko Zeppelin Soryu <- Asuka Langley Soryu: {'relacion': 'hija'}\n"
          ]
        }
      ]
    },
    {
      "cell_type": "markdown",
      "source": [
        "### Gráfico de la base de datos de nodos"
      ],
      "metadata": {
        "id": "sjdDiPIbJmnN"
      }
    },
    {
      "cell_type": "code",
      "source": [
        "plt.figure(figsize=(15, 10))\n",
        "# Aumentar el espacio entre nodos\n",
        "pos = nx.spring_layout(G, k=0.5)\n",
        "\n",
        "nx.draw(G, pos, edge_color='red', width=1.0, linewidths=0.5,\n",
        "        node_size=1000, node_color='lightblue', alpha=0.9,\n",
        "        labels={node: node for node in G.nodes()})\n",
        "nx.draw_networkx_edge_labels(G, pos, edge_labels=edge_labels, font_size=7)\n",
        "plt.title('Grafo de Conocimiento')\n",
        "plt.axis('off')\n",
        "plt.show()"
      ],
      "metadata": {
        "colab": {
          "base_uri": "https://localhost:8080/",
          "height": 1000
        },
        "id": "-vbPW8n3IBML",
        "outputId": "d1897a6f-8e9a-4287-ff72-916714f08de0"
      },
      "execution_count": 201,
      "outputs": [
        {
          "output_type": "display_data",
          "data": {
            "text/plain": [
              "<Figure size 1500x1000 with 1 Axes>"
            ],
            "image/png": "[encoded data removed]"
          },
          "metadata": {}
        }
      ]
    },
    {
      "cell_type": "markdown",
      "source": [
        "A continuación se añadirán algunos atributos a nodos ya creados"
      ],
      "metadata": {
        "id": "2IX_KwhaKVhu"
      }
    },
    {
      "cell_type": "code",
      "source": [
        "# Añadir más atributos a nodos ya creados\n",
        "G.nodes['Ryoji Kaji']['ocupacion']='Agente de Nerv'\n",
        "G.nodes['Ryoji Kaji']['trivia']='Fumador empedernido'\n",
        "G.nodes['Keel Lorenz']['ocupacion']='Miembro de SEELE'\n",
        "G.nodes['Keel Lorenz']['trivia']='Líder de SEELE'\n",
        "G.nodes['Misato Katsuragi']['ocupacion']='Oficial de Operaciones de Nerv'\n",
        "G.nodes['Misato Katsuragi']['trivia']='Le gusta la cerveza'\n",
        "G.nodes['Gendo Ikari']['ocupacion']='Comandante de Nerv'\n",
        "G.nodes['Gendo Ikari']['trivia']='Obsesionado con el Proyecto de Instrumentalización'\n",
        "G.nodes['Yui Ikari']['ocupacion']='Investigadora en Nerv'\n",
        "G.nodes['Yui Ikari']['trivia']='Madre de Shinji'\n",
        "G.nodes['Ritsuko Akagi']['ocupacion']='Científica en Nerv'\n",
        "G.nodes['Ritsuko Akagi']['trivia']='Hija de Naoko Akagi'\n",
        "G.nodes['Naoko Akagi']['ocupacion']='Científica en Nerv'\n",
        "G.nodes['Naoko Akagi']['trivia']='Desarrolladora del programa MAGI'\n",
        "G.nodes['Kozo Fuyutsuki']['ocupacion']='Vicecomandante de Nerv'\n",
        "G.nodes['Kozo Fuyutsuki']['trivia']='Confidente de Gendo'\n",
        "G.nodes['Maya Ibuki']['ocupacion']='Operadora de la computadora MAGI'\n",
        "G.nodes['Maya Ibuki']['trivia']='Gran aficionada a los ordenadores'\n",
        "G.nodes['Asuka Langley Soryu']['ocupacion']='Piloto del EVA-02'\n",
        "G.nodes['Asuka Langley Soryu']['trivia']='De origen alemán-japonés'\n",
        "G.nodes['Rei Ayanami']['ocupacion']='Piloto del EVA-00'\n",
        "G.nodes['Rei Ayanami']['trivia']='Primera niña sustituta'\n",
        "G.nodes['Kaworu Nagisa']['ocupacion']='Último Ángel'\n",
        "G.nodes['Kaworu Nagisa']['trivia']='Piloto del EVA-13 en Rebuild'\n",
        "G.nodes['Shinji Ikari']['ocupacion']='Piloto del EVA-01'\n",
        "G.nodes['Shinji Ikari']['trivia']='Hijo de Gendo e Yui Ikari'\n",
        "G.nodes['Toji Suzuhara']['ocupacion']='Piloto temporal del EVA-03'\n",
        "G.nodes['Toji Suzuhara']['trivia']='Amigo de Shinji'\n",
        "G.nodes['Asuka Langley Shikinami']['ocupacion']='Piloto del EVA-02 en Rebuild'\n",
        "G.nodes['Asuka Langley Shikinami']['trivia']='Reemplazo de Asuka Langley Soryu'\n",
        "G.nodes['Hikari Horaki']['ocupacion']='Estudiante de la escuela secundaria'\n",
        "G.nodes['Hikari Horaki']['trivia']='Amiga de Toji y Asuka'\n",
        "G.nodes['Sakura Suzuhara']['ocupacion']='Madre de Toji Suzuhara'\n",
        "G.nodes['Sakura Suzuhara']['trivia']='Nunca aparece en la serie'\n",
        "G.nodes['Midori Kitakami']['ocupacion']='Miembro de SEELE'\n",
        "G.nodes['Midori Kitakami']['trivia']='Miembro secundario de SEELE'\n",
        "G.nodes['Makoto Hyuga']['ocupacion']='Operador de Nerv'\n",
        "G.nodes['Makoto Hyuga']['trivia']='Leal a Misato Katsuragi'\n",
        "G.nodes['Mari Illustrious Makinami']['ocupacion']='Piloto del EVA-05 en Rebuild'\n",
        "G.nodes['Mari Illustrious Makinami']['trivia']='Extrovertida y enérgica'\n",
        "G.nodes['Rei Quatre']['ocupacion']='Versión alternativa de Rei Ayanami'\n",
        "G.nodes['Rei Quatre']['trivia']='Aparece en el manga \"Neon Genesis Evangelion: ANIMA\"'\n",
        "G.nodes['Shigeru Aoba']['ocupacion']='Operador de Nerv'\n",
        "G.nodes['Shigeru Aoba']['trivia']='Vigilante y leal'\n",
        "G.nodes['Kyoko Zeppelin Soryu']['ocupacion']='Madre de Asuka Langley Soryu'\n",
        "G.nodes['Kyoko Zeppelin Soryu']['trivia']='Desarrollo del EVA Series'\n",
        "\n",
        "# Mostrar los atributos de los nodos\n",
        "print(\"Atributos de los nodos:\")\n",
        "for node, data in G.nodes(data=True):\n",
        "    print(f\"- {node}: {data.keys()}\")\n"
      ],
      "metadata": {
        "colab": {
          "base_uri": "https://localhost:8080/"
        },
        "id": "sJIn26W1KYma",
        "outputId": "ff58595f-f64e-45fb-858a-e169bc2bb25f"
      },
      "execution_count": 202,
      "outputs": [
        {
          "output_type": "stream",
          "name": "stdout",
          "text": [
            "Atributos de los nodos:\n",
            "- Ryoji Kaji: dict_keys(['Ryoji Kaji', 'Edad', 'Sexo', 'Primera aparición', 'Seiyū', 'Doblador Latino', 'Doblador en España', 'Resumen', 'ocupacion', 'trivia'])\n",
            "- Keel Lorenz: dict_keys(['Keel Lorenz', 'Afiliación', 'Edad', 'Sexo', 'Primera aparición', 'Seiyū', 'Doblador Latino', 'Resumen', 'ocupacion', 'trivia'])\n",
            "- Misato Katsuragi: dict_keys(['Misato Katsuragi', 'Edad', 'Sexo', 'Familia', 'Primera aparición', 'Seiyū', 'Doblador Latino', 'Doblador en España', 'Resumen', 'ocupacion', 'trivia'])\n",
            "- Gendo Ikari: dict_keys(['Gendo Ikari', 'Edad', 'Sexo', 'Familia', 'Primera aparición', 'Seiyū', 'Doblador Latino', 'Doblador en España', 'Resumen', 'ocupacion', 'trivia'])\n",
            "- Yui Ikari: dict_keys(['Yui Ayanami', 'Edad', 'Sexo', 'Familia', 'Primera aparición', 'Seiyū', 'Doblador Latino', 'Doblador en España', 'Resumen', 'ocupacion', 'trivia'])\n",
            "- Ritsuko Akagi: dict_keys(['Ritsuko Akagi', 'Edad', 'Sexo', 'Familia', 'Primera aparición', 'Seiyū', 'Doblador Latino', 'Doblador en España', 'Resumen', 'ocupacion', 'trivia'])\n",
            "- Naoko Akagi: dict_keys(['Naoko Akagi', 'Afiliación', 'Edad', 'Sexo', 'Familia', 'Primera aparición', 'Seiyū', 'Doblador Latino', 'Doblador en España', 'Resumen', 'ocupacion', 'trivia'])\n",
            "- Kozo Fuyutsuki: dict_keys(['Kozo Fuyutsuki', 'Edad', 'Sexo', 'Primera aparición', 'Seiyū', 'Doblador Latino', 'Doblador en España', 'Resumen', 'ocupacion', 'trivia'])\n",
            "- Maya Ibuki: dict_keys(['Maya Ibuki', 'Edad', 'Sexo', 'Primera aparición', 'Seiyū', 'Doblador Latino', 'Doblador en España', 'Resumen', 'ocupacion', 'trivia'])\n",
            "- Asuka Langley Soryu: dict_keys(['Asuka Langley Soryu', 'Afiliación', 'Rango', 'Edad', 'Sexo', 'Familia', 'Primera aparición', 'Seiyū', 'Doblador Latino', 'Doblador en España', 'Resumen', 'ocupacion', 'trivia'])\n",
            "- Rei Ayanami: dict_keys(['Rei Ayanami', 'Afiliación', 'Rango', 'Edad', 'Sexo', 'Familia', 'Primera aparición', 'Seiyū', 'Doblador Latino', 'Resumen', 'ocupacion', 'trivia'])\n",
            "- Kaworu Nagisa: dict_keys(['Kaworu Nagisa', 'Afiliación', 'Rango', 'Edad', 'Sexo', 'Primera aparición', 'Seiyū', 'Doblador Latino', 'Resumen', 'ocupacion', 'trivia'])\n",
            "- Shinji Ikari: dict_keys(['Shinji Ikari', 'Afiliación', 'Rango', 'Edad', 'Sexo', 'Familia', 'Primera aparición', 'Seiyū', 'Doblador Latino', 'Resumen', 'ocupacion', 'trivia'])\n",
            "- Toji Suzuhara: dict_keys(['Toji Suzuhara', 'Rango', 'Edad', 'Sexo', 'Familia', 'Primera aparición', 'Seiyū', 'Doblador Latino', 'Doblador en España', 'Resumen', 'ocupacion', 'trivia'])\n",
            "- Asuka Langley Shikinami: dict_keys(['Asuka Langley Shikinami', 'Afiliación', 'Rango', 'Edad', 'Sexo', 'Primera aparición', 'Seiyū', 'Doblador Latino', 'Doblador en España', 'Resumen', 'ocupacion', 'trivia'])\n",
            "- Hikari Horaki: dict_keys(['Hikari Horaki', 'Edad', 'Sexo', 'Familia', 'Primera aparición', 'Seiyū', 'Doblador Latino', 'Doblador en España', 'Resumen', 'ocupacion', 'trivia'])\n",
            "- Sakura Suzuhara: dict_keys(['Sakura Suzuhara', 'Afiliación', 'Edad', 'Sexo', 'Familia', 'Primera aparición', 'Resumen', 'ocupacion', 'trivia'])\n",
            "- Midori Kitakami: dict_keys(['Midori Kitakami', 'Afiliación', 'Sexo', 'Primera aparición', 'Resumen', 'ocupacion', 'trivia'])\n",
            "- Makoto Hyuga: dict_keys(['Makoto Hyuga', 'Edad', 'Sexo', 'Primera aparición', 'Seiyū', 'Doblador Latino', 'Doblador en España', 'Resumen', 'ocupacion', 'trivia'])\n",
            "- Mari Illustrious Makinami: dict_keys(['Mari Illustrious Makinami', 'Edad', 'Sexo', 'Familia', 'Primera aparición', 'Seiyū', 'Doblador Latino', 'Resumen', 'ocupacion', 'trivia'])\n",
            "- Rei Quatre: dict_keys(['Rei Quatre', 'Edad', 'Sexo', 'Familia', 'Primera aparición', 'Resumen', 'ocupacion', 'trivia'])\n",
            "- Shigeru Aoba: dict_keys(['Shigeru Aoba', 'Edad', 'Sexo', 'Primera aparición', 'Seiyū', 'Doblador Latino', 'Doblador en España', 'Resumen', 'ocupacion', 'trivia'])\n",
            "- Kyoko Zeppelin Soryu: dict_keys(['Kyoko Zeppelin Soryu', 'Edad', 'Sexo', 'Familia', 'Primera aparición', 'Seiyū', 'Doblador Latino', 'Resumen', 'ocupacion', 'trivia'])\n",
            "- Dr. Katsuragi: dict_keys(['nombre'])\n",
            "- Pen Pen: dict_keys(['nombre'])\n",
            "- Tutora de Shinji Ikari y Asuka Langley Soryu: dict_keys(['nombre'])\n",
            "- Madrastra en Alemania: dict_keys(['nombre'])\n",
            "- Ninguna: dict_keys(['nombre'])\n",
            "- Nozomi Horaki: dict_keys(['nombre'])\n",
            "- Kodama Horaki: dict_keys(['nombre'])\n",
            "- Desconocida: dict_keys(['nombre'])\n",
            "- Clon genético de Yui Ikari  Clon de Rei No. Trois  Rei Cinq: dict_keys(['nombre'])\n",
            "- Rei Six: dict_keys(['nombre'])\n"
          ]
        }
      ]
    },
    {
      "cell_type": "markdown",
      "source": [
        "# Preparación de funciones necesarias para la ejecución final"
      ],
      "metadata": {
        "id": "lOZG580v0zXS"
      }
    },
    {
      "cell_type": "markdown",
      "source": [
        "## Funciones para embeddings"
      ],
      "metadata": {
        "id": "8wziJkOhwBEH"
      }
    },
    {
      "cell_type": "code",
      "source": [
        "!pip install llama-index-embeddings-huggingface==0.1.1 sentence-transformers==2.3.1 pypdf==4.0.1 langchain==0.1.7 python-decouple==3.8 llm-templates llama-index-readers-file"
      ],
      "metadata": {
        "colab": {
          "base_uri": "https://localhost:8080/"
        },
        "id": "CTLpOz2_0Yua",
        "outputId": "a34701a9-5153-48f9-c27e-f1f3bd9c79c5"
      },
      "execution_count": 203,
      "outputs": [
        {
          "output_type": "stream",
          "name": "stdout",
          "text": [
            "Requirement already satisfied: llama-index-embeddings-huggingface==0.1.1 in /usr/local/lib/python3.10/dist-packages (0.1.1)\n",
            "Requirement already satisfied: sentence-transformers==2.3.1 in /usr/local/lib/python3.10/dist-packages (2.3.1)\n",
            "Requirement already satisfied: pypdf==4.0.1 in /usr/local/lib/python3.10/dist-packages (4.0.1)\n",
            "Requirement already satisfied: langchain==0.1.7 in /usr/local/lib/python3.10/dist-packages (0.1.7)\n",
            "Requirement already satisfied: python-decouple==3.8 in /usr/local/lib/python3.10/dist-packages (3.8)\n",
            "Requirement already satisfied: llm-templates in /usr/local/lib/python3.10/dist-packages (0.1.10)\n",
            "Requirement already satisfied: llama-index-readers-file in /usr/local/lib/python3.10/dist-packages (0.1.30)\n",
            "Requirement already satisfied: huggingface-hub[inference]>=0.19.0 in /usr/local/lib/python3.10/dist-packages (from llama-index-embeddings-huggingface==0.1.1) (0.23.5)\n",
            "Requirement already satisfied: llama-index-core<0.11.0,>=0.10.1 in /usr/local/lib/python3.10/dist-packages (from llama-index-embeddings-huggingface==0.1.1) (0.10.56)\n",
            "Requirement already satisfied: torch<3.0.0,>=2.1.2 in /usr/local/lib/python3.10/dist-packages (from llama-index-embeddings-huggingface==0.1.1) (2.3.1+cu121)\n",
            "Requirement already satisfied: transformers<5.0.0,>=4.37.0 in /usr/local/lib/python3.10/dist-packages (from llama-index-embeddings-huggingface==0.1.1) (4.42.4)\n",
            "Requirement already satisfied: tqdm in /usr/local/lib/python3.10/dist-packages (from sentence-transformers==2.3.1) (4.66.4)\n",
            "Requirement already satisfied: numpy in /usr/local/lib/python3.10/dist-packages (from sentence-transformers==2.3.1) (1.25.2)\n",
            "Requirement already satisfied: scikit-learn in /usr/local/lib/python3.10/dist-packages (from sentence-transformers==2.3.1) (1.2.2)\n",
            "Requirement already satisfied: scipy in /usr/local/lib/python3.10/dist-packages (from sentence-transformers==2.3.1) (1.11.4)\n",
            "Requirement already satisfied: nltk in /usr/local/lib/python3.10/dist-packages (from sentence-transformers==2.3.1) (3.8.1)\n",
            "Requirement already satisfied: sentencepiece in /usr/local/lib/python3.10/dist-packages (from sentence-transformers==2.3.1) (0.1.99)\n",
            "Requirement already satisfied: Pillow in /usr/local/lib/python3.10/dist-packages (from sentence-transformers==2.3.1) (9.4.0)\n",
            "Requirement already satisfied: PyYAML>=5.3 in /usr/local/lib/python3.10/dist-packages (from langchain==0.1.7) (6.0.1)\n",
            "Requirement already satisfied: SQLAlchemy<3,>=1.4 in /usr/local/lib/python3.10/dist-packages (from langchain==0.1.7) (2.0.31)\n",
            "Requirement already satisfied: aiohttp<4.0.0,>=3.8.3 in /usr/local/lib/python3.10/dist-packages (from langchain==0.1.7) (3.9.5)\n",
            "Requirement already satisfied: async-timeout<5.0.0,>=4.0.0 in /usr/local/lib/python3.10/dist-packages (from langchain==0.1.7) (4.0.3)\n",
            "Requirement already satisfied: dataclasses-json<0.7,>=0.5.7 in /usr/local/lib/python3.10/dist-packages (from langchain==0.1.7) (0.6.7)\n",
            "Requirement already satisfied: jsonpatch<2.0,>=1.33 in /usr/local/lib/python3.10/dist-packages (from langchain==0.1.7) (1.33)\n",
            "Requirement already satisfied: langchain-community<0.1,>=0.0.20 in /usr/local/lib/python3.10/dist-packages (from langchain==0.1.7) (0.0.20)\n",
            "Requirement already satisfied: langchain-core<0.2,>=0.1.22 in /usr/local/lib/python3.10/dist-packages (from langchain==0.1.7) (0.1.23)\n",
            "Requirement already satisfied: langsmith<0.1,>=0.0.83 in /usr/local/lib/python3.10/dist-packages (from langchain==0.1.7) (0.0.87)\n",
            "Requirement already satisfied: pydantic<3,>=1 in /usr/local/lib/python3.10/dist-packages (from langchain==0.1.7) (2.8.2)\n",
            "Requirement already satisfied: requests<3,>=2 in /usr/local/lib/python3.10/dist-packages (from langchain==0.1.7) (2.31.0)\n",
            "Requirement already satisfied: tenacity<9.0.0,>=8.1.0 in /usr/local/lib/python3.10/dist-packages (from langchain==0.1.7) (8.5.0)\n",
            "Requirement already satisfied: Jinja2>=2.11.3 in /usr/local/lib/python3.10/dist-packages (from llm-templates) (3.1.4)\n",
            "Requirement already satisfied: beautifulsoup4<5.0.0,>=4.12.3 in /usr/local/lib/python3.10/dist-packages (from llama-index-readers-file) (4.12.3)\n",
            "Requirement already satisfied: striprtf<0.0.27,>=0.0.26 in /usr/local/lib/python3.10/dist-packages (from llama-index-readers-file) (0.0.26)\n",
            "Requirement already satisfied: aiosignal>=1.1.2 in /usr/local/lib/python3.10/dist-packages (from aiohttp<4.0.0,>=3.8.3->langchain==0.1.7) (1.3.1)\n",
            "Requirement already satisfied: attrs>=17.3.0 in /usr/local/lib/python3.10/dist-packages (from aiohttp<4.0.0,>=3.8.3->langchain==0.1.7) (23.2.0)\n",
            "Requirement already satisfied: frozenlist>=1.1.1 in /usr/local/lib/python3.10/dist-packages (from aiohttp<4.0.0,>=3.8.3->langchain==0.1.7) (1.4.1)\n",
            "Requirement already satisfied: multidict<7.0,>=4.5 in /usr/local/lib/python3.10/dist-packages (from aiohttp<4.0.0,>=3.8.3->langchain==0.1.7) (6.0.5)\n",
            "Requirement already satisfied: yarl<2.0,>=1.0 in /usr/local/lib/python3.10/dist-packages (from aiohttp<4.0.0,>=3.8.3->langchain==0.1.7) (1.9.4)\n",
            "Requirement already satisfied: soupsieve>1.2 in /usr/local/lib/python3.10/dist-packages (from beautifulsoup4<5.0.0,>=4.12.3->llama-index-readers-file) (2.5)\n",
            "Requirement already satisfied: marshmallow<4.0.0,>=3.18.0 in /usr/local/lib/python3.10/dist-packages (from dataclasses-json<0.7,>=0.5.7->langchain==0.1.7) (3.21.3)\n",
            "Requirement already satisfied: typing-inspect<1,>=0.4.0 in /usr/local/lib/python3.10/dist-packages (from dataclasses-json<0.7,>=0.5.7->langchain==0.1.7) (0.9.0)\n",
            "Requirement already satisfied: filelock in /usr/local/lib/python3.10/dist-packages (from huggingface-hub[inference]>=0.19.0->llama-index-embeddings-huggingface==0.1.1) (3.15.4)\n",
            "Requirement already satisfied: fsspec>=2023.5.0 in /usr/local/lib/python3.10/dist-packages (from huggingface-hub[inference]>=0.19.0->llama-index-embeddings-huggingface==0.1.1) (2023.6.0)\n",
            "Requirement already satisfied: packaging>=20.9 in /usr/local/lib/python3.10/dist-packages (from huggingface-hub[inference]>=0.19.0->llama-index-embeddings-huggingface==0.1.1) (23.2)\n",
            "Requirement already satisfied: typing-extensions>=3.7.4.3 in /usr/local/lib/python3.10/dist-packages (from huggingface-hub[inference]>=0.19.0->llama-index-embeddings-huggingface==0.1.1) (4.12.2)\n",
            "Requirement already satisfied: minijinja>=1.0 in /usr/local/lib/python3.10/dist-packages (from huggingface-hub[inference]>=0.19.0->llama-index-embeddings-huggingface==0.1.1) (2.0.1)\n",
            "Requirement already satisfied: MarkupSafe>=2.0 in /usr/local/lib/python3.10/dist-packages (from Jinja2>=2.11.3->llm-templates) (2.1.5)\n",
            "Requirement already satisfied: jsonpointer>=1.9 in /usr/local/lib/python3.10/dist-packages (from jsonpatch<2.0,>=1.33->langchain==0.1.7) (3.0.0)\n",
            "Requirement already satisfied: anyio<5,>=3 in /usr/local/lib/python3.10/dist-packages (from langchain-core<0.2,>=0.1.22->langchain==0.1.7) (3.7.1)\n",
            "Requirement already satisfied: deprecated>=1.2.9.3 in /usr/local/lib/python3.10/dist-packages (from llama-index-core<0.11.0,>=0.10.1->llama-index-embeddings-huggingface==0.1.1) (1.2.14)\n",
            "Requirement already satisfied: dirtyjson<2.0.0,>=1.0.8 in /usr/local/lib/python3.10/dist-packages (from llama-index-core<0.11.0,>=0.10.1->llama-index-embeddings-huggingface==0.1.1) (1.0.8)\n",
            "Requirement already satisfied: httpx in /usr/local/lib/python3.10/dist-packages (from llama-index-core<0.11.0,>=0.10.1->llama-index-embeddings-huggingface==0.1.1) (0.27.0)\n",
            "Requirement already satisfied: nest-asyncio<2.0.0,>=1.5.8 in /usr/local/lib/python3.10/dist-packages (from llama-index-core<0.11.0,>=0.10.1->llama-index-embeddings-huggingface==0.1.1) (1.6.0)\n",
            "Requirement already satisfied: networkx>=3.0 in /usr/local/lib/python3.10/dist-packages (from llama-index-core<0.11.0,>=0.10.1->llama-index-embeddings-huggingface==0.1.1) (3.3)\n",
            "Requirement already satisfied: openai>=1.1.0 in /usr/local/lib/python3.10/dist-packages (from llama-index-core<0.11.0,>=0.10.1->llama-index-embeddings-huggingface==0.1.1) (1.36.1)\n",
            "Requirement already satisfied: pandas in /usr/local/lib/python3.10/dist-packages (from llama-index-core<0.11.0,>=0.10.1->llama-index-embeddings-huggingface==0.1.1) (2.0.3)\n",
            "Requirement already satisfied: tiktoken>=0.3.3 in /usr/local/lib/python3.10/dist-packages (from llama-index-core<0.11.0,>=0.10.1->llama-index-embeddings-huggingface==0.1.1) (0.7.0)\n",
            "Requirement already satisfied: wrapt in /usr/local/lib/python3.10/dist-packages (from llama-index-core<0.11.0,>=0.10.1->llama-index-embeddings-huggingface==0.1.1) (1.14.1)\n",
            "Requirement already satisfied: click in /usr/local/lib/python3.10/dist-packages (from nltk->sentence-transformers==2.3.1) (8.1.7)\n",
            "Requirement already satisfied: joblib in /usr/local/lib/python3.10/dist-packages (from nltk->sentence-transformers==2.3.1) (1.4.2)\n",
            "Requirement already satisfied: regex>=2021.8.3 in /usr/local/lib/python3.10/dist-packages (from nltk->sentence-transformers==2.3.1) (2024.5.15)\n",
            "Requirement already satisfied: annotated-types>=0.4.0 in /usr/local/lib/python3.10/dist-packages (from pydantic<3,>=1->langchain==0.1.7) (0.7.0)\n",
            "Requirement already satisfied: pydantic-core==2.20.1 in /usr/local/lib/python3.10/dist-packages (from pydantic<3,>=1->langchain==0.1.7) (2.20.1)\n",
            "Requirement already satisfied: charset-normalizer<4,>=2 in /usr/local/lib/python3.10/dist-packages (from requests<3,>=2->langchain==0.1.7) (3.3.2)\n",
            "Requirement already satisfied: idna<4,>=2.5 in /usr/local/lib/python3.10/dist-packages (from requests<3,>=2->langchain==0.1.7) (3.7)\n",
            "Requirement already satisfied: urllib3<3,>=1.21.1 in /usr/local/lib/python3.10/dist-packages (from requests<3,>=2->langchain==0.1.7) (2.0.7)\n",
            "Requirement already satisfied: certifi>=2017.4.17 in /usr/local/lib/python3.10/dist-packages (from requests<3,>=2->langchain==0.1.7) (2024.7.4)\n",
            "Requirement already satisfied: greenlet!=0.4.17 in /usr/local/lib/python3.10/dist-packages (from SQLAlchemy<3,>=1.4->langchain==0.1.7) (3.0.3)\n",
            "Requirement already satisfied: sympy in /usr/local/lib/python3.10/dist-packages (from torch<3.0.0,>=2.1.2->llama-index-embeddings-huggingface==0.1.1) (1.13.0)\n",
            "Requirement already satisfied: nvidia-cuda-nvrtc-cu12==12.1.105 in /usr/local/lib/python3.10/dist-packages (from torch<3.0.0,>=2.1.2->llama-index-embeddings-huggingface==0.1.1) (12.1.105)\n",
            "Requirement already satisfied: nvidia-cuda-runtime-cu12==12.1.105 in /usr/local/lib/python3.10/dist-packages (from torch<3.0.0,>=2.1.2->llama-index-embeddings-huggingface==0.1.1) (12.1.105)\n",
            "Requirement already satisfied: nvidia-cuda-cupti-cu12==12.1.105 in /usr/local/lib/python3.10/dist-packages (from torch<3.0.0,>=2.1.2->llama-index-embeddings-huggingface==0.1.1) (12.1.105)\n",
            "Requirement already satisfied: nvidia-cudnn-cu12==8.9.2.26 in /usr/local/lib/python3.10/dist-packages (from torch<3.0.0,>=2.1.2->llama-index-embeddings-huggingface==0.1.1) (8.9.2.26)\n",
            "Requirement already satisfied: nvidia-cublas-cu12==12.1.3.1 in /usr/local/lib/python3.10/dist-packages (from torch<3.0.0,>=2.1.2->llama-index-embeddings-huggingface==0.1.1) (12.1.3.1)\n",
            "Requirement already satisfied: nvidia-cufft-cu12==11.0.2.54 in /usr/local/lib/python3.10/dist-packages (from torch<3.0.0,>=2.1.2->llama-index-embeddings-huggingface==0.1.1) (11.0.2.54)\n",
            "Requirement already satisfied: nvidia-curand-cu12==10.3.2.106 in /usr/local/lib/python3.10/dist-packages (from torch<3.0.0,>=2.1.2->llama-index-embeddings-huggingface==0.1.1) (10.3.2.106)\n",
            "Requirement already satisfied: nvidia-cusolver-cu12==11.4.5.107 in /usr/local/lib/python3.10/dist-packages (from torch<3.0.0,>=2.1.2->llama-index-embeddings-huggingface==0.1.1) (11.4.5.107)\n",
            "Requirement already satisfied: nvidia-cusparse-cu12==12.1.0.106 in /usr/local/lib/python3.10/dist-packages (from torch<3.0.0,>=2.1.2->llama-index-embeddings-huggingface==0.1.1) (12.1.0.106)\n",
            "Requirement already satisfied: nvidia-nccl-cu12==2.20.5 in /usr/local/lib/python3.10/dist-packages (from torch<3.0.0,>=2.1.2->llama-index-embeddings-huggingface==0.1.1) (2.20.5)\n",
            "Requirement already satisfied: nvidia-nvtx-cu12==12.1.105 in /usr/local/lib/python3.10/dist-packages (from torch<3.0.0,>=2.1.2->llama-index-embeddings-huggingface==0.1.1) (12.1.105)\n",
            "Requirement already satisfied: triton==2.3.1 in /usr/local/lib/python3.10/dist-packages (from torch<3.0.0,>=2.1.2->llama-index-embeddings-huggingface==0.1.1) (2.3.1)\n",
            "Requirement already satisfied: nvidia-nvjitlink-cu12 in /usr/local/lib/python3.10/dist-packages (from nvidia-cusolver-cu12==11.4.5.107->torch<3.0.0,>=2.1.2->llama-index-embeddings-huggingface==0.1.1) (12.5.82)\n",
            "Requirement already satisfied: safetensors>=0.4.1 in /usr/local/lib/python3.10/dist-packages (from transformers<5.0.0,>=4.37.0->llama-index-embeddings-huggingface==0.1.1) (0.4.3)\n",
            "Requirement already satisfied: tokenizers<0.20,>=0.19 in /usr/local/lib/python3.10/dist-packages (from transformers<5.0.0,>=4.37.0->llama-index-embeddings-huggingface==0.1.1) (0.19.1)\n",
            "Requirement already satisfied: threadpoolctl>=2.0.0 in /usr/local/lib/python3.10/dist-packages (from scikit-learn->sentence-transformers==2.3.1) (3.5.0)\n",
            "Requirement already satisfied: sniffio>=1.1 in /usr/local/lib/python3.10/dist-packages (from anyio<5,>=3->langchain-core<0.2,>=0.1.22->langchain==0.1.7) (1.3.1)\n",
            "Requirement already satisfied: exceptiongroup in /usr/local/lib/python3.10/dist-packages (from anyio<5,>=3->langchain-core<0.2,>=0.1.22->langchain==0.1.7) (1.2.2)\n",
            "Requirement already satisfied: distro<2,>=1.7.0 in /usr/lib/python3/dist-packages (from openai>=1.1.0->llama-index-core<0.11.0,>=0.10.1->llama-index-embeddings-huggingface==0.1.1) (1.7.0)\n",
            "Requirement already satisfied: httpcore==1.* in /usr/local/lib/python3.10/dist-packages (from httpx->llama-index-core<0.11.0,>=0.10.1->llama-index-embeddings-huggingface==0.1.1) (1.0.5)\n",
            "Requirement already satisfied: h11<0.15,>=0.13 in /usr/local/lib/python3.10/dist-packages (from httpcore==1.*->httpx->llama-index-core<0.11.0,>=0.10.1->llama-index-embeddings-huggingface==0.1.1) (0.14.0)\n",
            "Requirement already satisfied: mypy-extensions>=0.3.0 in /usr/local/lib/python3.10/dist-packages (from typing-inspect<1,>=0.4.0->dataclasses-json<0.7,>=0.5.7->langchain==0.1.7) (1.0.0)\n",
            "Requirement already satisfied: python-dateutil>=2.8.2 in /usr/local/lib/python3.10/dist-packages (from pandas->llama-index-core<0.11.0,>=0.10.1->llama-index-embeddings-huggingface==0.1.1) (2.8.2)\n",
            "Requirement already satisfied: pytz>=2020.1 in /usr/local/lib/python3.10/dist-packages (from pandas->llama-index-core<0.11.0,>=0.10.1->llama-index-embeddings-huggingface==0.1.1) (2023.4)\n",
            "Requirement already satisfied: tzdata>=2022.1 in /usr/local/lib/python3.10/dist-packages (from pandas->llama-index-core<0.11.0,>=0.10.1->llama-index-embeddings-huggingface==0.1.1) (2024.1)\n",
            "Requirement already satisfied: mpmath<1.4,>=1.1.0 in /usr/local/lib/python3.10/dist-packages (from sympy->torch<3.0.0,>=2.1.2->llama-index-embeddings-huggingface==0.1.1) (1.3.0)\n",
            "Requirement already satisfied: six>=1.5 in /usr/local/lib/python3.10/dist-packages (from python-dateutil>=2.8.2->pandas->llama-index-core<0.11.0,>=0.10.1->llama-index-embeddings-huggingface==0.1.1) (1.16.0)\n"
          ]
        }
      ]
    },
    {
      "cell_type": "code",
      "source": [
        "from langchain.text_splitter import RecursiveCharacterTextSplitter #Separar texto en chunks\n",
        "from sentence_transformers import SentenceTransformer, util #realizar embeddings\n",
        "\n",
        "from llama_index.embeddings.huggingface import HuggingFaceEmbedding\n",
        "from llama_index.core import VectorStoreIndex, SimpleDirectoryReader #Leer directorios y generar indices\n",
        "from decouple import config\n",
        "from llama_index.core import Settings\n",
        "from google.colab import userdata\n",
        "from llm_templates import Formatter, Conversation\n",
        "from typing import Union"
      ],
      "metadata": {
        "id": "fHAWpa1cwEqt"
      },
      "execution_count": 204,
      "outputs": []
    },
    {
      "cell_type": "code",
      "source": [
        "def cargarModeloEmeddings():\n",
        "  \"\"\"\n",
        "  Carga el modelo que se utilizará para los embeddings,\n",
        "  en este caso es distiluse-base-multilingual-cased-v1\n",
        "  \"\"\"\n",
        "  modelo = SentenceTransformer('distiluse-base-multilingual-cased-v1')\n",
        "  return modelo"
      ],
      "metadata": {
        "id": "zFPc_l-cw8iQ"
      },
      "execution_count": 205,
      "outputs": []
    },
    {
      "cell_type": "code",
      "source": [
        "def obtenerEmbeddings(oraciones:list, model_embed):\n",
        "  \"\"\"\n",
        "  Recibe una lista de oraciones o frases de un texto, y con la utilización de un modelo de embeddings genera los embeddings necesarios.\n",
        "  \"\"\"\n",
        "  embeddings = model_embed.encode(oraciones, convert_to_tensor=True)\n",
        "  return embeddings"
      ],
      "metadata": {
        "id": "5cCORPOKwo26"
      },
      "execution_count": 206,
      "outputs": []
    },
    {
      "cell_type": "code",
      "source": [
        "def contextoMasSimilar(embdeddings,modelo, query: str, topn: int = 1):\n",
        "  \"\"\"\n",
        "  Obtiene las topn embdeddings más similares utilizando una comparación\n",
        "  de coseno de los embeddings de las embdeddings y la consulta realizada.\n",
        "  \"\"\"\n",
        "\n",
        "  #Realizo el embedding de la consulta\n",
        "  consulta = modelo.encode(query, convert_to_tensor=True)\n",
        "\n",
        "  #Obtengo las puntuaciones de los distintos chunks\n",
        "  puntuaciones_coseno= util.cos_sim(consulta, embeddings)\n",
        "\n",
        "  #Creo un diccionario {puntuacion: indice}\n",
        "  puntuaciones = {}\n",
        "  for indice, tensor in enumerate(puntuaciones_coseno[0]):\n",
        "    puntuaciones[tensor.item()]=indice\n",
        "\n",
        "  listaPuntuaciones = list(puntuaciones.keys())\n",
        "\n",
        "  #Ordeno las puntuaciones de mayor a menor\n",
        "  listaPuntuaciones.sort(reverse = True)\n",
        "\n",
        "  #Obtengo las topn mejores puntuaciones\n",
        "  mejoresPuntuaciones = listaPuntuaciones[0:topn]\n",
        "\n",
        "  #Guardo en resultados las topn mejores oraciones\n",
        "  resultados = []\n",
        "  for puntuacion in mejoresPuntuaciones:\n",
        "    indice = puntuaciones[puntuacion]\n",
        "    resultados.append(oraciones[indice])\n",
        "\n",
        "  return resultados"
      ],
      "metadata": {
        "id": "RQQ4TwRnwECW"
      },
      "execution_count": 207,
      "outputs": []
    },
    {
      "cell_type": "code",
      "source": [
        "def generarChunks(contenido_del_texto_o_directorio:str, directorio = True, tamañoChunk:int=500, chunkOverlap:int=20)->list:\n",
        "  \"\"\"\n",
        "  Esta función toma por defecto el nomrbe de un directorio, obtiene los textos de los archivos en él y devuelve los chunks divididos.\n",
        "  Si se desea pasar un texto almacenado en una variable, setear directorio = False.\n",
        "  \"\"\"\n",
        "  if directorio:\n",
        "    documents = SimpleDirectoryReader(input_dir=contenido_del_texto_o_directorio).load_data()\n",
        "    #texto = documents[0].text\n",
        "    #text_splitter = RecursiveCharacterTextSplitter(chunk_size=tamañoChunk, chunk_overlap=chunkOverlap)\n",
        "    #chunks = text_splitter.split_text(texto)\n",
        "\n",
        "    nuevaLista = []\n",
        "    for documento in documents:\n",
        "      text_splitter = RecursiveCharacterTextSplitter(chunk_size=tamañoChunk, chunk_overlap=chunkOverlap)\n",
        "      chunks = text_splitter.split_text(documento.text)\n",
        "      nuevaLista.append(chunks)\n",
        "\n",
        "    return nuevaLista\n",
        "\n",
        "  else:\n",
        "    documents = contenido_del_texto_o_directorio.replace('\\t','').replace('\\n','')\n",
        "    text_splitter = RecursiveCharacterTextSplitter(chunk_size=tamañoChunk, chunk_overlap=chunkOverlap)\n",
        "    chunks = text_splitter.split_text(documents)\n",
        "    return chunks"
      ],
      "metadata": {
        "id": "LqeS4Y7LyUPe"
      },
      "execution_count": 223,
      "outputs": []
    },
    {
      "cell_type": "markdown",
      "source": [
        "### Ejemplo de uso con directorios"
      ],
      "metadata": {
        "id": "Ft4QiiNexLm1"
      }
    },
    {
      "cell_type": "code",
      "source": [
        "modelo = cargarModeloEmeddings()\n",
        "listaDeChunksCapitulos = generarChunks('capitulos', tamañoChunk=1000, chunkOverlap=20)"
      ],
      "metadata": {
        "id": "ypxDLmVizoad"
      },
      "execution_count": 209,
      "outputs": []
    },
    {
      "cell_type": "code",
      "source": [
        "len(listaDeChunksCapitulos) #26 capitulos"
      ],
      "metadata": {
        "colab": {
          "base_uri": "https://localhost:8080/"
        },
        "id": "UkeVxh71zyFW",
        "outputId": "3a46bb0d-0f62-4d1b-c2cd-dd66337d439b"
      },
      "execution_count": 210,
      "outputs": [
        {
          "output_type": "execute_result",
          "data": {
            "text/plain": [
              "26"
            ]
          },
          "metadata": {},
          "execution_count": 210
        }
      ]
    },
    {
      "cell_type": "code",
      "source": [
        "#Este codigo genera un vector POR CAPÍTULO\n",
        "embeddingsCapitulos = obtenerEmbeddings(listaDeChunksCapitulos, modelo)"
      ],
      "metadata": {
        "id": "1F4reh1F3XbR"
      },
      "execution_count": 211,
      "outputs": []
    },
    {
      "cell_type": "code",
      "source": [
        "len(embeddingsCapitulos)"
      ],
      "metadata": {
        "colab": {
          "base_uri": "https://localhost:8080/"
        },
        "id": "3keZ4yEw3tss",
        "outputId": "7503973c-478b-4a1f-cab5-f6ba0b138c42"
      },
      "execution_count": 212,
      "outputs": [
        {
          "output_type": "execute_result",
          "data": {
            "text/plain": [
              "26"
            ]
          },
          "metadata": {},
          "execution_count": 212
        }
      ]
    },
    {
      "cell_type": "code",
      "source": [
        "#Este codigo genera un vector para cada CHUNK del capitulo 1\n",
        "embeddingsCapitulo1 = obtenerEmbeddings(listaDeChunksCapitulos[0], modelo)"
      ],
      "metadata": {
        "id": "ZqhfCGvu3_E_"
      },
      "execution_count": 213,
      "outputs": []
    },
    {
      "cell_type": "code",
      "source": [
        "embeddingsCapitulo1"
      ],
      "metadata": {
        "colab": {
          "base_uri": "https://localhost:8080/"
        },
        "id": "Qj1Dlvtn4DDQ",
        "outputId": "ee9d894d-1a1f-412c-9376-2c339b932c30"
      },
      "execution_count": 214,
      "outputs": [
        {
          "output_type": "execute_result",
          "data": {
            "text/plain": [
              "tensor([[-0.0647, -0.0184, -0.0007,  ...,  0.0030, -0.0304,  0.0569],\n",
              "        [-0.0503,  0.0076, -0.0545,  ...,  0.0123,  0.0231,  0.0016],\n",
              "        [-0.0176,  0.0149, -0.0403,  ..., -0.0088,  0.0417,  0.0007],\n",
              "        [-0.0819,  0.0148, -0.0277,  ...,  0.0478, -0.0263, -0.0226],\n",
              "        [-0.0391,  0.0150, -0.0424,  ...,  0.0072, -0.0390,  0.0135],\n",
              "        [-0.0123,  0.0419, -0.0283,  ...,  0.0030, -0.0485, -0.0449]])"
            ]
          },
          "metadata": {},
          "execution_count": 214
        }
      ]
    },
    {
      "cell_type": "code",
      "source": [
        "chunksTotalesCapitulos = []\n",
        "\n",
        "#Almaceno todas las o\n",
        "for capitulo in listaDeChunksCapitulos:\n",
        "  for chunk in capitulo:\n",
        "    chunksTotalesCapitulos.append(chunk)"
      ],
      "metadata": {
        "id": "JlnBwqZF4WzI"
      },
      "execution_count": 215,
      "outputs": []
    },
    {
      "cell_type": "code",
      "source": [
        "embdingsTodosLosCapitulos = obtenerEmbeddings(chunksTotalesCapitulos, modelo)"
      ],
      "metadata": {
        "id": "R7bDx7Xd5nNQ"
      },
      "execution_count": 216,
      "outputs": []
    },
    {
      "cell_type": "code",
      "source": [
        "#Embeddings todos juntos (sin separar por capitulo)\n",
        "embdingsTodosLosCapitulos"
      ],
      "metadata": {
        "colab": {
          "base_uri": "https://localhost:8080/"
        },
        "id": "aD3rmstK5uqU",
        "outputId": "3b862745-a268-42a0-a6a9-b8b9c8ad9b6d"
      },
      "execution_count": 217,
      "outputs": [
        {
          "output_type": "execute_result",
          "data": {
            "text/plain": [
              "tensor([[-0.0647, -0.0184, -0.0007,  ...,  0.0030, -0.0304,  0.0569],\n",
              "        [-0.0503,  0.0076, -0.0545,  ...,  0.0123,  0.0231,  0.0016],\n",
              "        [-0.0176,  0.0149, -0.0403,  ..., -0.0088,  0.0417,  0.0007],\n",
              "        ...,\n",
              "        [-0.0146, -0.0052, -0.0630,  ..., -0.0054,  0.0090,  0.0056],\n",
              "        [ 0.0142, -0.0091, -0.0091,  ..., -0.0026,  0.0012, -0.0393],\n",
              "        [ 0.0046,  0.0523, -0.0398,  ...,  0.0150,  0.0333, -0.0117]])"
            ]
          },
          "metadata": {},
          "execution_count": 217
        }
      ]
    },
    {
      "cell_type": "markdown",
      "source": [
        "------------"
      ],
      "metadata": {
        "id": "p-zys2sb5vGb"
      }
    },
    {
      "cell_type": "code",
      "source": [
        "listaDeChunksAngeles = generarChunks('angeles', tamañoChunk=700, chunkOverlap=20)"
      ],
      "metadata": {
        "id": "bBpJelin1dUb"
      },
      "execution_count": 218,
      "outputs": []
    },
    {
      "cell_type": "code",
      "source": [
        "len(listaDeChunksAngeles) #19 angeles"
      ],
      "metadata": {
        "colab": {
          "base_uri": "https://localhost:8080/"
        },
        "id": "1_MSJtZv1j0p",
        "outputId": "48a690da-b253-485e-9544-66f457780dbf"
      },
      "execution_count": 219,
      "outputs": [
        {
          "output_type": "execute_result",
          "data": {
            "text/plain": [
              "19"
            ]
          },
          "metadata": {},
          "execution_count": 219
        }
      ]
    },
    {
      "cell_type": "markdown",
      "source": [
        "### Ejemplo de uso con texto"
      ],
      "metadata": {
        "id": "Q_urvElq2kXR"
      }
    },
    {
      "cell_type": "code",
      "source": [
        "listaDeChunksPersonajes = []\n",
        "for personaje in informacionDeLosPersonajes.keys():\n",
        "  listaDeChunksPersonajes.append(generarChunks(informacionDeLosPersonajes[personaje]['Resumen'], directorio=False))"
      ],
      "metadata": {
        "id": "-RE_IhzV1wTs"
      },
      "execution_count": 224,
      "outputs": []
    },
    {
      "cell_type": "code",
      "source": [
        "listaDeChunksPersonajes[0][:5] #Primeros 5 chunks del primer personaje"
      ],
      "metadata": {
        "colab": {
          "base_uri": "https://localhost:8080/"
        },
        "id": "lWKik2kr2cNy",
        "outputId": "4c4418d6-3097-47b6-d685-4af8dbd94731"
      },
      "execution_count": 225,
      "outputs": [
        {
          "output_type": "execute_result",
          "data": {
            "text/plain": [
              "['Ryouji Kaji (加持 リョウジ, ,  Kaji Ryōji ?) es un personaje relevante en la franquicia Evangelion.Kaji parece ser un triple agente, que trabaja como inspector especial para NERV, pero secretamente realiza una investigación detallada sobre la organización, cumpliendo la peligrosa tarea de espía encubierto.La mayor parte del tiempo Kaji es muy tranquilo y jovial, permaneciendo siempre fresco. Él es muy sereno y mantiene su particular sentido del humor, incluso en momentos de crisis. También coquetea',\n",
              " 'También coquetea descaradamente con sus compañeras de trabajo, actitud que despierta la ira de Misato Katsuragi.A pesar de su imagen pública irresponsable, Kaji demuestra un gran nivel de responsabilidad personal y una gran sabiduría en lo referente al mundo y las interacciones personales de los demás.Él actúa como una figura paterna para Asuka y Shinji, especialmente para este último. Asuka dice estar enamorada de él; sin embargo, Kaji la evita fríamente y en repetidas ocasiones rechaza sus',\n",
              " 'rechaza sus sentimientos, diciéndole que debería buscar a otros chicos de su edad.También, ofrece consejos a Shinji y trata de ayudarlo a comprender la naturaleza de la dinámica social. Pero detrás de todo esto, Kaji parece ser un individuo muy melancólico y solitario, lleno de dudas sobre su propia sinceridad y sentimientos.Tiene un lado filosófico que se inclina hacia el pesimismo sobre la interacción humana, pero también de apoyo a la capacidad del individuo para actuar. Desde el punto de',\n",
              " 'Desde el punto de vista de Kaji, las personas realmente no pueden comprenderse a sí mismas, tal vez ni siquiera entre sí, y comprender completamente a las personas es imposible.Kaji tiene un pequeño huerto de sandías situado cerca de la pirámide del GeoFront. En una ocasión, lleva a Shinji y le muestra su huerto, el cual parece ser un secreto. Luego, le comenta a Shinji que él disfruta cuidar sus sandías y le explica lo mucho que se puede aprender al cuidar y nutrir algo. Finalmente, Kaji le',\n",
              " 'Finalmente, Kaji le dice que conocer el dolor permite ser amable con los demás, y esa amabilidad no es lo mismo que debilidad.Durante la serie, las únicas veces - incluyendo su muerte - en que Kaji parece verdaderamente sincero son sus discusiones filosóficas con Shinji y su conversación con Misato en el episodio 15.Según se comenta, Kaji trabaja para el Ministerio del Interior, y a veces, actúa a favor y en contra de Gendo Ikari y SEELE. Pues trajo de contrabando el embrión de Adán recuperado']"
            ]
          },
          "metadata": {},
          "execution_count": 225
        }
      ]
    },
    {
      "cell_type": "code",
      "source": [
        "embeddings = obtenerEmbeddings(listaDeChunksPersonajes[0][:5], modelo)"
      ],
      "metadata": {
        "id": "xsaikfp23M8d"
      },
      "execution_count": 226,
      "outputs": []
    },
    {
      "cell_type": "code",
      "source": [
        "embeddings"
      ],
      "metadata": {
        "colab": {
          "base_uri": "https://localhost:8080/"
        },
        "id": "d4HwlbOd3ULr",
        "outputId": "51ce34d8-28df-4bae-ee61-6711e8079fa7"
      },
      "execution_count": 227,
      "outputs": [
        {
          "output_type": "execute_result",
          "data": {
            "text/plain": [
              "tensor([[-0.0353, -0.0238, -0.0218,  ...,  0.0085, -0.0820, -0.0052],\n",
              "        [ 0.0208, -0.0735, -0.0297,  ..., -0.0049, -0.0521, -0.0043],\n",
              "        [-0.0333, -0.0036, -0.0445,  ...,  0.0335, -0.0250,  0.0457],\n",
              "        [-0.0626,  0.0450, -0.0157,  ..., -0.0138, -0.0096,  0.0393],\n",
              "        [-0.0191, -0.0029,  0.0581,  ...,  0.0343, -0.0226, -0.0010]])"
            ]
          },
          "metadata": {},
          "execution_count": 227
        }
      ]
    },
    {
      "cell_type": "markdown",
      "source": [
        "## Base de datos vectorial"
      ],
      "metadata": {
        "id": "Mhh3uYi41BII"
      }
    },
    {
      "cell_type": "code",
      "source": [
        "!pip install chromadb"
      ],
      "metadata": {
        "colab": {
          "base_uri": "https://localhost:8080/"
        },
        "id": "AlC4YHaT85p0",
        "outputId": "f78cc54b-0ca2-4a35-911f-8a83aa0256f3"
      },
      "execution_count": 228,
      "outputs": [
        {
          "output_type": "stream",
          "name": "stdout",
          "text": [
            "Requirement already satisfied: chromadb in /usr/local/lib/python3.10/dist-packages (0.5.4)\n",
            "Requirement already satisfied: build>=1.0.3 in /usr/local/lib/python3.10/dist-packages (from chromadb) (1.2.1)\n",
            "Requirement already satisfied: pydantic>=1.9 in /usr/local/lib/python3.10/dist-packages (from chromadb) (2.8.2)\n",
            "Requirement already satisfied: chroma-hnswlib==0.7.5 in /usr/local/lib/python3.10/dist-packages (from chromadb) (0.7.5)\n",
            "Requirement already satisfied: fastapi>=0.95.2 in /usr/local/lib/python3.10/dist-packages (from chromadb) (0.111.1)\n",
            "Requirement already satisfied: uvicorn[standard]>=0.18.3 in /usr/local/lib/python3.10/dist-packages (from chromadb) (0.30.3)\n",
            "Requirement already satisfied: numpy<2.0.0,>=1.22.5 in /usr/local/lib/python3.10/dist-packages (from chromadb) (1.25.2)\n",
            "Requirement already satisfied: posthog>=2.4.0 in /usr/local/lib/python3.10/dist-packages (from chromadb) (3.5.0)\n",
            "Requirement already satisfied: typing-extensions>=4.5.0 in /usr/local/lib/python3.10/dist-packages (from chromadb) (4.12.2)\n",
            "Requirement already satisfied: onnxruntime>=1.14.1 in /usr/local/lib/python3.10/dist-packages (from chromadb) (1.18.1)\n",
            "Requirement already satisfied: opentelemetry-api>=1.2.0 in /usr/local/lib/python3.10/dist-packages (from chromadb) (1.25.0)\n",
            "Requirement already satisfied: opentelemetry-exporter-otlp-proto-grpc>=1.2.0 in /usr/local/lib/python3.10/dist-packages (from chromadb) (1.25.0)\n",
            "Requirement already satisfied: opentelemetry-instrumentation-fastapi>=0.41b0 in /usr/local/lib/python3.10/dist-packages (from chromadb) (0.46b0)\n",
            "Requirement already satisfied: opentelemetry-sdk>=1.2.0 in /usr/local/lib/python3.10/dist-packages (from chromadb) (1.25.0)\n",
            "Requirement already satisfied: tokenizers>=0.13.2 in /usr/local/lib/python3.10/dist-packages (from chromadb) (0.19.1)\n",
            "Requirement already satisfied: pypika>=0.48.9 in /usr/local/lib/python3.10/dist-packages (from chromadb) (0.48.9)\n",
            "Requirement already satisfied: tqdm>=4.65.0 in /usr/local/lib/python3.10/dist-packages (from chromadb) (4.66.4)\n",
            "Requirement already satisfied: overrides>=7.3.1 in /usr/local/lib/python3.10/dist-packages (from chromadb) (7.7.0)\n",
            "Requirement already satisfied: importlib-resources in /usr/local/lib/python3.10/dist-packages (from chromadb) (6.4.0)\n",
            "Requirement already satisfied: grpcio>=1.58.0 in /usr/local/lib/python3.10/dist-packages (from chromadb) (1.64.1)\n",
            "Requirement already satisfied: bcrypt>=4.0.1 in /usr/local/lib/python3.10/dist-packages (from chromadb) (4.1.3)\n",
            "Requirement already satisfied: typer>=0.9.0 in /usr/local/lib/python3.10/dist-packages (from chromadb) (0.12.3)\n",
            "Requirement already satisfied: kubernetes>=28.1.0 in /usr/local/lib/python3.10/dist-packages (from chromadb) (30.1.0)\n",
            "Requirement already satisfied: tenacity>=8.2.3 in /usr/local/lib/python3.10/dist-packages (from chromadb) (8.5.0)\n",
            "Requirement already satisfied: PyYAML>=6.0.0 in /usr/local/lib/python3.10/dist-packages (from chromadb) (6.0.1)\n",
            "Requirement already satisfied: mmh3>=4.0.1 in /usr/local/lib/python3.10/dist-packages (from chromadb) (4.1.0)\n",
            "Requirement already satisfied: orjson>=3.9.12 in /usr/local/lib/python3.10/dist-packages (from chromadb) (3.10.6)\n",
            "Requirement already satisfied: httpx>=0.27.0 in /usr/local/lib/python3.10/dist-packages (from chromadb) (0.27.0)\n",
            "Requirement already satisfied: packaging>=19.1 in /usr/local/lib/python3.10/dist-packages (from build>=1.0.3->chromadb) (23.2)\n",
            "Requirement already satisfied: pyproject_hooks in /usr/local/lib/python3.10/dist-packages (from build>=1.0.3->chromadb) (1.1.0)\n",
            "Requirement already satisfied: tomli>=1.1.0 in /usr/local/lib/python3.10/dist-packages (from build>=1.0.3->chromadb) (2.0.1)\n",
            "Requirement already satisfied: starlette<0.38.0,>=0.37.2 in /usr/local/lib/python3.10/dist-packages (from fastapi>=0.95.2->chromadb) (0.37.2)\n",
            "Requirement already satisfied: fastapi-cli>=0.0.2 in /usr/local/lib/python3.10/dist-packages (from fastapi>=0.95.2->chromadb) (0.0.4)\n",
            "Requirement already satisfied: jinja2>=2.11.2 in /usr/local/lib/python3.10/dist-packages (from fastapi>=0.95.2->chromadb) (3.1.4)\n",
            "Requirement already satisfied: python-multipart>=0.0.7 in /usr/local/lib/python3.10/dist-packages (from fastapi>=0.95.2->chromadb) (0.0.9)\n",
            "Requirement already satisfied: email_validator>=2.0.0 in /usr/local/lib/python3.10/dist-packages (from fastapi>=0.95.2->chromadb) (2.2.0)\n",
            "Requirement already satisfied: anyio in /usr/local/lib/python3.10/dist-packages (from httpx>=0.27.0->chromadb) (3.7.1)\n",
            "Requirement already satisfied: certifi in /usr/local/lib/python3.10/dist-packages (from httpx>=0.27.0->chromadb) (2024.7.4)\n",
            "Requirement already satisfied: httpcore==1.* in /usr/local/lib/python3.10/dist-packages (from httpx>=0.27.0->chromadb) (1.0.5)\n",
            "Requirement already satisfied: idna in /usr/local/lib/python3.10/dist-packages (from httpx>=0.27.0->chromadb) (3.7)\n",
            "Requirement already satisfied: sniffio in /usr/local/lib/python3.10/dist-packages (from httpx>=0.27.0->chromadb) (1.3.1)\n",
            "Requirement already satisfied: h11<0.15,>=0.13 in /usr/local/lib/python3.10/dist-packages (from httpcore==1.*->httpx>=0.27.0->chromadb) (0.14.0)\n",
            "Requirement already satisfied: six>=1.9.0 in /usr/local/lib/python3.10/dist-packages (from kubernetes>=28.1.0->chromadb) (1.16.0)\n",
            "Requirement already satisfied: python-dateutil>=2.5.3 in /usr/local/lib/python3.10/dist-packages (from kubernetes>=28.1.0->chromadb) (2.8.2)\n",
            "Requirement already satisfied: google-auth>=1.0.1 in /usr/local/lib/python3.10/dist-packages (from kubernetes>=28.1.0->chromadb) (2.27.0)\n",
            "Requirement already satisfied: websocket-client!=0.40.0,!=0.41.*,!=0.42.*,>=0.32.0 in /usr/local/lib/python3.10/dist-packages (from kubernetes>=28.1.0->chromadb) (1.8.0)\n",
            "Requirement already satisfied: requests in /usr/local/lib/python3.10/dist-packages (from kubernetes>=28.1.0->chromadb) (2.31.0)\n",
            "Requirement already satisfied: requests-oauthlib in /usr/local/lib/python3.10/dist-packages (from kubernetes>=28.1.0->chromadb) (1.3.1)\n",
            "Requirement already satisfied: oauthlib>=3.2.2 in /usr/local/lib/python3.10/dist-packages (from kubernetes>=28.1.0->chromadb) (3.2.2)\n",
            "Requirement already satisfied: urllib3>=1.24.2 in /usr/local/lib/python3.10/dist-packages (from kubernetes>=28.1.0->chromadb) (2.0.7)\n",
            "Requirement already satisfied: coloredlogs in /usr/local/lib/python3.10/dist-packages (from onnxruntime>=1.14.1->chromadb) (15.0.1)\n",
            "Requirement already satisfied: flatbuffers in /usr/local/lib/python3.10/dist-packages (from onnxruntime>=1.14.1->chromadb) (24.3.25)\n",
            "Requirement already satisfied: protobuf in /usr/local/lib/python3.10/dist-packages (from onnxruntime>=1.14.1->chromadb) (3.20.3)\n",
            "Requirement already satisfied: sympy in /usr/local/lib/python3.10/dist-packages (from onnxruntime>=1.14.1->chromadb) (1.13.0)\n",
            "Requirement already satisfied: deprecated>=1.2.6 in /usr/local/lib/python3.10/dist-packages (from opentelemetry-api>=1.2.0->chromadb) (1.2.14)\n",
            "Requirement already satisfied: importlib-metadata<=7.1,>=6.0 in /usr/local/lib/python3.10/dist-packages (from opentelemetry-api>=1.2.0->chromadb) (7.1.0)\n",
            "Requirement already satisfied: googleapis-common-protos~=1.52 in /usr/local/lib/python3.10/dist-packages (from opentelemetry-exporter-otlp-proto-grpc>=1.2.0->chromadb) (1.63.2)\n",
            "Requirement already satisfied: opentelemetry-exporter-otlp-proto-common==1.25.0 in /usr/local/lib/python3.10/dist-packages (from opentelemetry-exporter-otlp-proto-grpc>=1.2.0->chromadb) (1.25.0)\n",
            "Requirement already satisfied: opentelemetry-proto==1.25.0 in /usr/local/lib/python3.10/dist-packages (from opentelemetry-exporter-otlp-proto-grpc>=1.2.0->chromadb) (1.25.0)\n",
            "Requirement already satisfied: opentelemetry-instrumentation-asgi==0.46b0 in /usr/local/lib/python3.10/dist-packages (from opentelemetry-instrumentation-fastapi>=0.41b0->chromadb) (0.46b0)\n",
            "Requirement already satisfied: opentelemetry-instrumentation==0.46b0 in /usr/local/lib/python3.10/dist-packages (from opentelemetry-instrumentation-fastapi>=0.41b0->chromadb) (0.46b0)\n",
            "Requirement already satisfied: opentelemetry-semantic-conventions==0.46b0 in /usr/local/lib/python3.10/dist-packages (from opentelemetry-instrumentation-fastapi>=0.41b0->chromadb) (0.46b0)\n",
            "Requirement already satisfied: opentelemetry-util-http==0.46b0 in /usr/local/lib/python3.10/dist-packages (from opentelemetry-instrumentation-fastapi>=0.41b0->chromadb) (0.46b0)\n",
            "Requirement already satisfied: setuptools>=16.0 in /usr/local/lib/python3.10/dist-packages (from opentelemetry-instrumentation==0.46b0->opentelemetry-instrumentation-fastapi>=0.41b0->chromadb) (67.7.2)\n",
            "Requirement already satisfied: wrapt<2.0.0,>=1.0.0 in /usr/local/lib/python3.10/dist-packages (from opentelemetry-instrumentation==0.46b0->opentelemetry-instrumentation-fastapi>=0.41b0->chromadb) (1.14.1)\n",
            "Requirement already satisfied: asgiref~=3.0 in /usr/local/lib/python3.10/dist-packages (from opentelemetry-instrumentation-asgi==0.46b0->opentelemetry-instrumentation-fastapi>=0.41b0->chromadb) (3.8.1)\n",
            "Requirement already satisfied: monotonic>=1.5 in /usr/local/lib/python3.10/dist-packages (from posthog>=2.4.0->chromadb) (1.6)\n",
            "Requirement already satisfied: backoff>=1.10.0 in /usr/local/lib/python3.10/dist-packages (from posthog>=2.4.0->chromadb) (2.2.1)\n",
            "Requirement already satisfied: annotated-types>=0.4.0 in /usr/local/lib/python3.10/dist-packages (from pydantic>=1.9->chromadb) (0.7.0)\n",
            "Requirement already satisfied: pydantic-core==2.20.1 in /usr/local/lib/python3.10/dist-packages (from pydantic>=1.9->chromadb) (2.20.1)\n",
            "Requirement already satisfied: huggingface-hub<1.0,>=0.16.4 in /usr/local/lib/python3.10/dist-packages (from tokenizers>=0.13.2->chromadb) (0.23.5)\n",
            "Requirement already satisfied: click>=8.0.0 in /usr/local/lib/python3.10/dist-packages (from typer>=0.9.0->chromadb) (8.1.7)\n",
            "Requirement already satisfied: shellingham>=1.3.0 in /usr/local/lib/python3.10/dist-packages (from typer>=0.9.0->chromadb) (1.5.4)\n",
            "Requirement already satisfied: rich>=10.11.0 in /usr/local/lib/python3.10/dist-packages (from typer>=0.9.0->chromadb) (13.7.1)\n",
            "Requirement already satisfied: httptools>=0.5.0 in /usr/local/lib/python3.10/dist-packages (from uvicorn[standard]>=0.18.3->chromadb) (0.6.1)\n",
            "Requirement already satisfied: python-dotenv>=0.13 in /usr/local/lib/python3.10/dist-packages (from uvicorn[standard]>=0.18.3->chromadb) (1.0.1)\n",
            "Requirement already satisfied: uvloop!=0.15.0,!=0.15.1,>=0.14.0 in /usr/local/lib/python3.10/dist-packages (from uvicorn[standard]>=0.18.3->chromadb) (0.19.0)\n",
            "Requirement already satisfied: watchfiles>=0.13 in /usr/local/lib/python3.10/dist-packages (from uvicorn[standard]>=0.18.3->chromadb) (0.22.0)\n",
            "Requirement already satisfied: websockets>=10.4 in /usr/local/lib/python3.10/dist-packages (from uvicorn[standard]>=0.18.3->chromadb) (12.0)\n",
            "Requirement already satisfied: dnspython>=2.0.0 in /usr/local/lib/python3.10/dist-packages (from email_validator>=2.0.0->fastapi>=0.95.2->chromadb) (2.6.1)\n",
            "Requirement already satisfied: cachetools<6.0,>=2.0.0 in /usr/local/lib/python3.10/dist-packages (from google-auth>=1.0.1->kubernetes>=28.1.0->chromadb) (5.4.0)\n",
            "Requirement already satisfied: pyasn1-modules>=0.2.1 in /usr/local/lib/python3.10/dist-packages (from google-auth>=1.0.1->kubernetes>=28.1.0->chromadb) (0.4.0)\n",
            "Requirement already satisfied: rsa<5,>=3.1.4 in /usr/local/lib/python3.10/dist-packages (from google-auth>=1.0.1->kubernetes>=28.1.0->chromadb) (4.9)\n",
            "Requirement already satisfied: filelock in /usr/local/lib/python3.10/dist-packages (from huggingface-hub<1.0,>=0.16.4->tokenizers>=0.13.2->chromadb) (3.15.4)\n",
            "Requirement already satisfied: fsspec>=2023.5.0 in /usr/local/lib/python3.10/dist-packages (from huggingface-hub<1.0,>=0.16.4->tokenizers>=0.13.2->chromadb) (2023.6.0)\n",
            "Requirement already satisfied: zipp>=0.5 in /usr/local/lib/python3.10/dist-packages (from importlib-metadata<=7.1,>=6.0->opentelemetry-api>=1.2.0->chromadb) (3.19.2)\n",
            "Requirement already satisfied: MarkupSafe>=2.0 in /usr/local/lib/python3.10/dist-packages (from jinja2>=2.11.2->fastapi>=0.95.2->chromadb) (2.1.5)\n",
            "Requirement already satisfied: charset-normalizer<4,>=2 in /usr/local/lib/python3.10/dist-packages (from requests->kubernetes>=28.1.0->chromadb) (3.3.2)\n",
            "Requirement already satisfied: markdown-it-py>=2.2.0 in /usr/local/lib/python3.10/dist-packages (from rich>=10.11.0->typer>=0.9.0->chromadb) (3.0.0)\n",
            "Requirement already satisfied: pygments<3.0.0,>=2.13.0 in /usr/local/lib/python3.10/dist-packages (from rich>=10.11.0->typer>=0.9.0->chromadb) (2.16.1)\n",
            "Requirement already satisfied: exceptiongroup in /usr/local/lib/python3.10/dist-packages (from anyio->httpx>=0.27.0->chromadb) (1.2.2)\n",
            "Requirement already satisfied: humanfriendly>=9.1 in /usr/local/lib/python3.10/dist-packages (from coloredlogs->onnxruntime>=1.14.1->chromadb) (10.0)\n",
            "Requirement already satisfied: mpmath<1.4,>=1.1.0 in /usr/local/lib/python3.10/dist-packages (from sympy->onnxruntime>=1.14.1->chromadb) (1.3.0)\n",
            "Requirement already satisfied: mdurl~=0.1 in /usr/local/lib/python3.10/dist-packages (from markdown-it-py>=2.2.0->rich>=10.11.0->typer>=0.9.0->chromadb) (0.1.2)\n",
            "Requirement already satisfied: pyasn1<0.7.0,>=0.4.6 in /usr/local/lib/python3.10/dist-packages (from pyasn1-modules>=0.2.1->google-auth>=1.0.1->kubernetes>=28.1.0->chromadb) (0.6.0)\n"
          ]
        }
      ]
    },
    {
      "cell_type": "code",
      "source": [
        "# import chromadb and create client\n",
        "import chromadb\n",
        "\n",
        "client = chromadb.Client()\n",
        "collection = client.create_collection(\"my-vector_database5\")"
      ],
      "metadata": {
        "id": "kwJYpwvf1D0Q"
      },
      "execution_count": 230,
      "outputs": []
    },
    {
      "cell_type": "markdown",
      "source": [
        "### Agregar los chunks de los capítulos a la base de datos vectorial"
      ],
      "metadata": {
        "id": "pI2hiD-7JW94"
      }
    },
    {
      "cell_type": "markdown",
      "source": [
        "A continuación se crean las listas para insertar los chunks dentro de la base de datos vectorial"
      ],
      "metadata": {
        "id": "el-hU4bc-4MW"
      }
    },
    {
      "cell_type": "code",
      "source": [
        "#Obtengo lista de capitulos\n",
        "\n",
        "listaDeChunksCapitulos = generarChunks('capitulos', tamañoChunk=2000, chunkOverlap=20)\n",
        "fuenteCapitulos = []\n",
        "\n",
        "chunksTotalesCapitulos = []\n",
        "for capitulo in listaDeChunksCapitulos:\n",
        "  for chunk in capitulo:\n",
        "    chunksTotalesCapitulos.append(chunk)\n",
        "    fuenteCapitulos.append('capitulo')"
      ],
      "metadata": {
        "id": "yo0twrWc-t5M"
      },
      "execution_count": 231,
      "outputs": []
    },
    {
      "cell_type": "code",
      "source": [
        "#Obtengo lista de embeddings\n",
        "embdingsTodosLosCapitulos = obtenerEmbeddings(chunksTotalesCapitulos, modelo)"
      ],
      "metadata": {
        "id": "QvT0UnUCGhbO"
      },
      "execution_count": 232,
      "outputs": []
    },
    {
      "cell_type": "code",
      "source": [
        "# Calcular embeddings para los documentos\n",
        "embeddings = embdingsTodosLosCapitulos.cpu().numpy().tolist()"
      ],
      "metadata": {
        "id": "E3YvF1AIJh1l"
      },
      "execution_count": 233,
      "outputs": []
    },
    {
      "cell_type": "code",
      "source": [
        "indiceUltimo = 0\n",
        "for i, chunk in enumerate(chunksTotalesCapitulos):\n",
        "  collection.add(\n",
        "      documents=[chunk],\n",
        "      metadatas=[{\"categoria\": \"capitulo\"}],\n",
        "      ids=[\"id\"+str(i)],\n",
        "      embeddings=embeddings[i]\n",
        "  )\n",
        "  indiceUltimo = i"
      ],
      "metadata": {
        "id": "RK5QnA9YJi2k"
      },
      "execution_count": 234,
      "outputs": []
    },
    {
      "cell_type": "markdown",
      "source": [
        "### Agregar los chunks de los angeles a la base de datos vectorial"
      ],
      "metadata": {
        "id": "_GXbx-dPJdU3"
      }
    },
    {
      "cell_type": "code",
      "source": [
        "listaDeChunksAngeles = generarChunks('angeles', tamañoChunk=2000, chunkOverlap=20)\n",
        "fuenteAngeles = []\n",
        "chunksTotalesAngeles = []\n",
        "\n",
        "for angel in listaDeChunksAngeles:\n",
        "  for chunk in angel:\n",
        "    chunksTotalesAngeles.append(chunk)\n",
        "    fuenteAngeles.append('angeles')"
      ],
      "metadata": {
        "id": "zbr83Nuo_A8L"
      },
      "execution_count": 235,
      "outputs": []
    },
    {
      "cell_type": "code",
      "source": [
        "embedingsTodosLosAngeles = obtenerEmbeddings(chunksTotalesAngeles, modelo)"
      ],
      "metadata": {
        "id": "7ACxIxgdG5D6"
      },
      "execution_count": 236,
      "outputs": []
    },
    {
      "cell_type": "code",
      "source": [
        "embeddings = embedingsTodosLosAngeles.cpu().numpy().tolist()"
      ],
      "metadata": {
        "id": "aiTI1RFdJGj6"
      },
      "execution_count": 237,
      "outputs": []
    },
    {
      "cell_type": "code",
      "source": [
        "len(embeddings)"
      ],
      "metadata": {
        "colab": {
          "base_uri": "https://localhost:8080/"
        },
        "id": "HrJNkc23Lk2j",
        "outputId": "e25df10e-4aea-4db3-c9cb-f2768f9965a3"
      },
      "execution_count": 238,
      "outputs": [
        {
          "output_type": "execute_result",
          "data": {
            "text/plain": [
              "89"
            ]
          },
          "metadata": {},
          "execution_count": 238
        }
      ]
    },
    {
      "cell_type": "code",
      "source": [
        "for i, chunk in enumerate(chunksTotalesAngeles):\n",
        "  indice = i+indiceUltimo+1\n",
        "  collection.add(\n",
        "      documents=[chunk],\n",
        "      metadatas=[{\"categoria\": \"angeles\"}],\n",
        "      ids=[\"id\"+str(indice)],\n",
        "      embeddings = embeddings[i]\n",
        "  )"
      ],
      "metadata": {
        "id": "iIPZb1O4DDJA"
      },
      "execution_count": 239,
      "outputs": []
    },
    {
      "cell_type": "markdown",
      "source": [
        "### Agregar los chunks del dataframe de películas a la bbdd vectorial"
      ],
      "metadata": {
        "id": "ULaKwEDuiYPm"
      }
    },
    {
      "cell_type": "code",
      "source": [
        "filasPeliculas = []\n",
        "\n",
        "for i in range(peliculas.shape[0]):\n",
        "  filasPeliculas.append(list(peliculas.iloc[i].values))"
      ],
      "metadata": {
        "id": "6KMaFzPaicn9"
      },
      "execution_count": 273,
      "outputs": []
    },
    {
      "cell_type": "code",
      "source": [
        "listaPeliculas = []\n",
        "for i in range(len(filasPeliculas)):\n",
        "  listaPeliculas.append(str(filasPeliculas[i]))"
      ],
      "metadata": {
        "id": "fXE40x4PnGur"
      },
      "execution_count": 284,
      "outputs": []
    },
    {
      "cell_type": "code",
      "source": [
        "embeddingsPeliculas = obtenerEmbeddings(listaPeliculas, modelo)"
      ],
      "metadata": {
        "id": "2FIpxXrymbyB"
      },
      "execution_count": 286,
      "outputs": []
    },
    {
      "cell_type": "code",
      "source": [
        "embeddings = embeddingsPeliculas.cpu().numpy().tolist()"
      ],
      "metadata": {
        "id": "QIA2sgO6oBBs"
      },
      "execution_count": 288,
      "outputs": []
    },
    {
      "cell_type": "code",
      "source": [
        "for i, chunk in enumerate(listaPeliculas):\n",
        "  indice = i+indiceUltimo+1\n",
        "  collection.add(\n",
        "      documents=[chunk],\n",
        "      metadatas=[{\"categoria\": \"películas\"}],\n",
        "      ids=[\"peliculaId\"+str(indice)],\n",
        "      embeddings = embeddings[i]\n",
        "  )"
      ],
      "metadata": {
        "id": "2wFlI5vbnvV1"
      },
      "execution_count": 289,
      "outputs": []
    },
    {
      "cell_type": "markdown",
      "source": [
        "### Realizar la consulta"
      ],
      "metadata": {
        "id": "-qSTVDRHL-JH"
      }
    },
    {
      "cell_type": "code",
      "source": [
        "def obtenerContextosMasSimilares(query: str, topn: int = 3):\n",
        "  embedding_consulta = obtenerEmbeddings([query], modelo).cpu().numpy().tolist()\n",
        "\n",
        "  results = collection.query(\n",
        "    query_embeddings=embedding_consulta,  # Aquí pasamos el embedding de la consulta\n",
        "    n_results=topn  # Traemos los 3 resultados más cercanos\n",
        "  )\n",
        "\n",
        "  #contextos = []\n",
        "  #distancias = []\n",
        "  diccionario = {}\n",
        "  for i in range(topn):\n",
        "    contexto = results['documents'][0][i]\n",
        "    categoria = results['metadatas'][0][i]['categoria']\n",
        "    distancia = results['distances'][0][i]\n",
        "    diccionario[distancia] = [contexto, categoria]\n",
        "    #contextos.append(contexto)\n",
        "    #distancias.append(distancia)\n",
        "  return diccionario"
      ],
      "metadata": {
        "id": "GoGJdMyGMrxR"
      },
      "execution_count": 294,
      "outputs": []
    },
    {
      "cell_type": "markdown",
      "source": [
        "## Preparado del modelo"
      ],
      "metadata": {
        "id": "4R_-oljEPY_1"
      }
    },
    {
      "cell_type": "markdown",
      "source": [],
      "metadata": {
        "id": "AaJjwKczPbZH"
      }
    },
    {
      "cell_type": "code",
      "source": [
        "!pip install llama-index-embeddings-huggingface==0.1.1 sentence-transformers==2.3.1 pypdf==4.0.1 langchain==0.1.7 python-decouple==3.8 llm-templates llama-index-readers-file"
      ],
      "metadata": {
        "colab": {
          "base_uri": "https://localhost:8080/"
        },
        "id": "dR1twatRPyjF",
        "outputId": "ae0b5e63-d027-489b-f1c8-465e739aca3f"
      },
      "execution_count": 242,
      "outputs": [
        {
          "output_type": "stream",
          "name": "stdout",
          "text": [
            "Requirement already satisfied: llama-index-embeddings-huggingface==0.1.1 in /usr/local/lib/python3.10/dist-packages (0.1.1)\n",
            "Requirement already satisfied: sentence-transformers==2.3.1 in /usr/local/lib/python3.10/dist-packages (2.3.1)\n",
            "Requirement already satisfied: pypdf==4.0.1 in /usr/local/lib/python3.10/dist-packages (4.0.1)\n",
            "Requirement already satisfied: langchain==0.1.7 in /usr/local/lib/python3.10/dist-packages (0.1.7)\n",
            "Requirement already satisfied: python-decouple==3.8 in /usr/local/lib/python3.10/dist-packages (3.8)\n",
            "Requirement already satisfied: llm-templates in /usr/local/lib/python3.10/dist-packages (0.1.10)\n",
            "Requirement already satisfied: llama-index-readers-file in /usr/local/lib/python3.10/dist-packages (0.1.30)\n",
            "Requirement already satisfied: huggingface-hub[inference]>=0.19.0 in /usr/local/lib/python3.10/dist-packages (from llama-index-embeddings-huggingface==0.1.1) (0.23.5)\n",
            "Requirement already satisfied: llama-index-core<0.11.0,>=0.10.1 in /usr/local/lib/python3.10/dist-packages (from llama-index-embeddings-huggingface==0.1.1) (0.10.56)\n",
            "Requirement already satisfied: torch<3.0.0,>=2.1.2 in /usr/local/lib/python3.10/dist-packages (from llama-index-embeddings-huggingface==0.1.1) (2.3.1+cu121)\n",
            "Requirement already satisfied: transformers<5.0.0,>=4.37.0 in /usr/local/lib/python3.10/dist-packages (from llama-index-embeddings-huggingface==0.1.1) (4.42.4)\n",
            "Requirement already satisfied: tqdm in /usr/local/lib/python3.10/dist-packages (from sentence-transformers==2.3.1) (4.66.4)\n",
            "Requirement already satisfied: numpy in /usr/local/lib/python3.10/dist-packages (from sentence-transformers==2.3.1) (1.25.2)\n",
            "Requirement already satisfied: scikit-learn in /usr/local/lib/python3.10/dist-packages (from sentence-transformers==2.3.1) (1.2.2)\n",
            "Requirement already satisfied: scipy in /usr/local/lib/python3.10/dist-packages (from sentence-transformers==2.3.1) (1.11.4)\n",
            "Requirement already satisfied: nltk in /usr/local/lib/python3.10/dist-packages (from sentence-transformers==2.3.1) (3.8.1)\n",
            "Requirement already satisfied: sentencepiece in /usr/local/lib/python3.10/dist-packages (from sentence-transformers==2.3.1) (0.1.99)\n",
            "Requirement already satisfied: Pillow in /usr/local/lib/python3.10/dist-packages (from sentence-transformers==2.3.1) (9.4.0)\n",
            "Requirement already satisfied: PyYAML>=5.3 in /usr/local/lib/python3.10/dist-packages (from langchain==0.1.7) (6.0.1)\n",
            "Requirement already satisfied: SQLAlchemy<3,>=1.4 in /usr/local/lib/python3.10/dist-packages (from langchain==0.1.7) (2.0.31)\n",
            "Requirement already satisfied: aiohttp<4.0.0,>=3.8.3 in /usr/local/lib/python3.10/dist-packages (from langchain==0.1.7) (3.9.5)\n",
            "Requirement already satisfied: async-timeout<5.0.0,>=4.0.0 in /usr/local/lib/python3.10/dist-packages (from langchain==0.1.7) (4.0.3)\n",
            "Requirement already satisfied: dataclasses-json<0.7,>=0.5.7 in /usr/local/lib/python3.10/dist-packages (from langchain==0.1.7) (0.6.7)\n",
            "Requirement already satisfied: jsonpatch<2.0,>=1.33 in /usr/local/lib/python3.10/dist-packages (from langchain==0.1.7) (1.33)\n",
            "Requirement already satisfied: langchain-community<0.1,>=0.0.20 in /usr/local/lib/python3.10/dist-packages (from langchain==0.1.7) (0.0.20)\n",
            "Requirement already satisfied: langchain-core<0.2,>=0.1.22 in /usr/local/lib/python3.10/dist-packages (from langchain==0.1.7) (0.1.23)\n",
            "Requirement already satisfied: langsmith<0.1,>=0.0.83 in /usr/local/lib/python3.10/dist-packages (from langchain==0.1.7) (0.0.87)\n",
            "Requirement already satisfied: pydantic<3,>=1 in /usr/local/lib/python3.10/dist-packages (from langchain==0.1.7) (2.8.2)\n",
            "Requirement already satisfied: requests<3,>=2 in /usr/local/lib/python3.10/dist-packages (from langchain==0.1.7) (2.31.0)\n",
            "Requirement already satisfied: tenacity<9.0.0,>=8.1.0 in /usr/local/lib/python3.10/dist-packages (from langchain==0.1.7) (8.5.0)\n",
            "Requirement already satisfied: Jinja2>=2.11.3 in /usr/local/lib/python3.10/dist-packages (from llm-templates) (3.1.4)\n",
            "Requirement already satisfied: beautifulsoup4<5.0.0,>=4.12.3 in /usr/local/lib/python3.10/dist-packages (from llama-index-readers-file) (4.12.3)\n",
            "Requirement already satisfied: striprtf<0.0.27,>=0.0.26 in /usr/local/lib/python3.10/dist-packages (from llama-index-readers-file) (0.0.26)\n",
            "Requirement already satisfied: aiosignal>=1.1.2 in /usr/local/lib/python3.10/dist-packages (from aiohttp<4.0.0,>=3.8.3->langchain==0.1.7) (1.3.1)\n",
            "Requirement already satisfied: attrs>=17.3.0 in /usr/local/lib/python3.10/dist-packages (from aiohttp<4.0.0,>=3.8.3->langchain==0.1.7) (23.2.0)\n",
            "Requirement already satisfied: frozenlist>=1.1.1 in /usr/local/lib/python3.10/dist-packages (from aiohttp<4.0.0,>=3.8.3->langchain==0.1.7) (1.4.1)\n",
            "Requirement already satisfied: multidict<7.0,>=4.5 in /usr/local/lib/python3.10/dist-packages (from aiohttp<4.0.0,>=3.8.3->langchain==0.1.7) (6.0.5)\n",
            "Requirement already satisfied: yarl<2.0,>=1.0 in /usr/local/lib/python3.10/dist-packages (from aiohttp<4.0.0,>=3.8.3->langchain==0.1.7) (1.9.4)\n",
            "Requirement already satisfied: soupsieve>1.2 in /usr/local/lib/python3.10/dist-packages (from beautifulsoup4<5.0.0,>=4.12.3->llama-index-readers-file) (2.5)\n",
            "Requirement already satisfied: marshmallow<4.0.0,>=3.18.0 in /usr/local/lib/python3.10/dist-packages (from dataclasses-json<0.7,>=0.5.7->langchain==0.1.7) (3.21.3)\n",
            "Requirement already satisfied: typing-inspect<1,>=0.4.0 in /usr/local/lib/python3.10/dist-packages (from dataclasses-json<0.7,>=0.5.7->langchain==0.1.7) (0.9.0)\n",
            "Requirement already satisfied: filelock in /usr/local/lib/python3.10/dist-packages (from huggingface-hub[inference]>=0.19.0->llama-index-embeddings-huggingface==0.1.1) (3.15.4)\n",
            "Requirement already satisfied: fsspec>=2023.5.0 in /usr/local/lib/python3.10/dist-packages (from huggingface-hub[inference]>=0.19.0->llama-index-embeddings-huggingface==0.1.1) (2023.6.0)\n",
            "Requirement already satisfied: packaging>=20.9 in /usr/local/lib/python3.10/dist-packages (from huggingface-hub[inference]>=0.19.0->llama-index-embeddings-huggingface==0.1.1) (23.2)\n",
            "Requirement already satisfied: typing-extensions>=3.7.4.3 in /usr/local/lib/python3.10/dist-packages (from huggingface-hub[inference]>=0.19.0->llama-index-embeddings-huggingface==0.1.1) (4.12.2)\n",
            "Requirement already satisfied: minijinja>=1.0 in /usr/local/lib/python3.10/dist-packages (from huggingface-hub[inference]>=0.19.0->llama-index-embeddings-huggingface==0.1.1) (2.0.1)\n",
            "Requirement already satisfied: MarkupSafe>=2.0 in /usr/local/lib/python3.10/dist-packages (from Jinja2>=2.11.3->llm-templates) (2.1.5)\n",
            "Requirement already satisfied: jsonpointer>=1.9 in /usr/local/lib/python3.10/dist-packages (from jsonpatch<2.0,>=1.33->langchain==0.1.7) (3.0.0)\n",
            "Requirement already satisfied: anyio<5,>=3 in /usr/local/lib/python3.10/dist-packages (from langchain-core<0.2,>=0.1.22->langchain==0.1.7) (3.7.1)\n",
            "Requirement already satisfied: deprecated>=1.2.9.3 in /usr/local/lib/python3.10/dist-packages (from llama-index-core<0.11.0,>=0.10.1->llama-index-embeddings-huggingface==0.1.1) (1.2.14)\n",
            "Requirement already satisfied: dirtyjson<2.0.0,>=1.0.8 in /usr/local/lib/python3.10/dist-packages (from llama-index-core<0.11.0,>=0.10.1->llama-index-embeddings-huggingface==0.1.1) (1.0.8)\n",
            "Requirement already satisfied: httpx in /usr/local/lib/python3.10/dist-packages (from llama-index-core<0.11.0,>=0.10.1->llama-index-embeddings-huggingface==0.1.1) (0.27.0)\n",
            "Requirement already satisfied: nest-asyncio<2.0.0,>=1.5.8 in /usr/local/lib/python3.10/dist-packages (from llama-index-core<0.11.0,>=0.10.1->llama-index-embeddings-huggingface==0.1.1) (1.6.0)\n",
            "Requirement already satisfied: networkx>=3.0 in /usr/local/lib/python3.10/dist-packages (from llama-index-core<0.11.0,>=0.10.1->llama-index-embeddings-huggingface==0.1.1) (3.3)\n",
            "Requirement already satisfied: openai>=1.1.0 in /usr/local/lib/python3.10/dist-packages (from llama-index-core<0.11.0,>=0.10.1->llama-index-embeddings-huggingface==0.1.1) (1.36.1)\n",
            "Requirement already satisfied: pandas in /usr/local/lib/python3.10/dist-packages (from llama-index-core<0.11.0,>=0.10.1->llama-index-embeddings-huggingface==0.1.1) (2.0.3)\n",
            "Requirement already satisfied: tiktoken>=0.3.3 in /usr/local/lib/python3.10/dist-packages (from llama-index-core<0.11.0,>=0.10.1->llama-index-embeddings-huggingface==0.1.1) (0.7.0)\n",
            "Requirement already satisfied: wrapt in /usr/local/lib/python3.10/dist-packages (from llama-index-core<0.11.0,>=0.10.1->llama-index-embeddings-huggingface==0.1.1) (1.14.1)\n",
            "Requirement already satisfied: click in /usr/local/lib/python3.10/dist-packages (from nltk->sentence-transformers==2.3.1) (8.1.7)\n",
            "Requirement already satisfied: joblib in /usr/local/lib/python3.10/dist-packages (from nltk->sentence-transformers==2.3.1) (1.4.2)\n",
            "Requirement already satisfied: regex>=2021.8.3 in /usr/local/lib/python3.10/dist-packages (from nltk->sentence-transformers==2.3.1) (2024.5.15)\n",
            "Requirement already satisfied: annotated-types>=0.4.0 in /usr/local/lib/python3.10/dist-packages (from pydantic<3,>=1->langchain==0.1.7) (0.7.0)\n",
            "Requirement already satisfied: pydantic-core==2.20.1 in /usr/local/lib/python3.10/dist-packages (from pydantic<3,>=1->langchain==0.1.7) (2.20.1)\n",
            "Requirement already satisfied: charset-normalizer<4,>=2 in /usr/local/lib/python3.10/dist-packages (from requests<3,>=2->langchain==0.1.7) (3.3.2)\n",
            "Requirement already satisfied: idna<4,>=2.5 in /usr/local/lib/python3.10/dist-packages (from requests<3,>=2->langchain==0.1.7) (3.7)\n",
            "Requirement already satisfied: urllib3<3,>=1.21.1 in /usr/local/lib/python3.10/dist-packages (from requests<3,>=2->langchain==0.1.7) (2.0.7)\n",
            "Requirement already satisfied: certifi>=2017.4.17 in /usr/local/lib/python3.10/dist-packages (from requests<3,>=2->langchain==0.1.7) (2024.7.4)\n",
            "Requirement already satisfied: greenlet!=0.4.17 in /usr/local/lib/python3.10/dist-packages (from SQLAlchemy<3,>=1.4->langchain==0.1.7) (3.0.3)\n",
            "Requirement already satisfied: sympy in /usr/local/lib/python3.10/dist-packages (from torch<3.0.0,>=2.1.2->llama-index-embeddings-huggingface==0.1.1) (1.13.0)\n",
            "Requirement already satisfied: nvidia-cuda-nvrtc-cu12==12.1.105 in /usr/local/lib/python3.10/dist-packages (from torch<3.0.0,>=2.1.2->llama-index-embeddings-huggingface==0.1.1) (12.1.105)\n",
            "Requirement already satisfied: nvidia-cuda-runtime-cu12==12.1.105 in /usr/local/lib/python3.10/dist-packages (from torch<3.0.0,>=2.1.2->llama-index-embeddings-huggingface==0.1.1) (12.1.105)\n",
            "Requirement already satisfied: nvidia-cuda-cupti-cu12==12.1.105 in /usr/local/lib/python3.10/dist-packages (from torch<3.0.0,>=2.1.2->llama-index-embeddings-huggingface==0.1.1) (12.1.105)\n",
            "Requirement already satisfied: nvidia-cudnn-cu12==8.9.2.26 in /usr/local/lib/python3.10/dist-packages (from torch<3.0.0,>=2.1.2->llama-index-embeddings-huggingface==0.1.1) (8.9.2.26)\n",
            "Requirement already satisfied: nvidia-cublas-cu12==12.1.3.1 in /usr/local/lib/python3.10/dist-packages (from torch<3.0.0,>=2.1.2->llama-index-embeddings-huggingface==0.1.1) (12.1.3.1)\n",
            "Requirement already satisfied: nvidia-cufft-cu12==11.0.2.54 in /usr/local/lib/python3.10/dist-packages (from torch<3.0.0,>=2.1.2->llama-index-embeddings-huggingface==0.1.1) (11.0.2.54)\n",
            "Requirement already satisfied: nvidia-curand-cu12==10.3.2.106 in /usr/local/lib/python3.10/dist-packages (from torch<3.0.0,>=2.1.2->llama-index-embeddings-huggingface==0.1.1) (10.3.2.106)\n",
            "Requirement already satisfied: nvidia-cusolver-cu12==11.4.5.107 in /usr/local/lib/python3.10/dist-packages (from torch<3.0.0,>=2.1.2->llama-index-embeddings-huggingface==0.1.1) (11.4.5.107)\n",
            "Requirement already satisfied: nvidia-cusparse-cu12==12.1.0.106 in /usr/local/lib/python3.10/dist-packages (from torch<3.0.0,>=2.1.2->llama-index-embeddings-huggingface==0.1.1) (12.1.0.106)\n",
            "Requirement already satisfied: nvidia-nccl-cu12==2.20.5 in /usr/local/lib/python3.10/dist-packages (from torch<3.0.0,>=2.1.2->llama-index-embeddings-huggingface==0.1.1) (2.20.5)\n",
            "Requirement already satisfied: nvidia-nvtx-cu12==12.1.105 in /usr/local/lib/python3.10/dist-packages (from torch<3.0.0,>=2.1.2->llama-index-embeddings-huggingface==0.1.1) (12.1.105)\n",
            "Requirement already satisfied: triton==2.3.1 in /usr/local/lib/python3.10/dist-packages (from torch<3.0.0,>=2.1.2->llama-index-embeddings-huggingface==0.1.1) (2.3.1)\n",
            "Requirement already satisfied: nvidia-nvjitlink-cu12 in /usr/local/lib/python3.10/dist-packages (from nvidia-cusolver-cu12==11.4.5.107->torch<3.0.0,>=2.1.2->llama-index-embeddings-huggingface==0.1.1) (12.5.82)\n",
            "Requirement already satisfied: safetensors>=0.4.1 in /usr/local/lib/python3.10/dist-packages (from transformers<5.0.0,>=4.37.0->llama-index-embeddings-huggingface==0.1.1) (0.4.3)\n",
            "Requirement already satisfied: tokenizers<0.20,>=0.19 in /usr/local/lib/python3.10/dist-packages (from transformers<5.0.0,>=4.37.0->llama-index-embeddings-huggingface==0.1.1) (0.19.1)\n",
            "Requirement already satisfied: threadpoolctl>=2.0.0 in /usr/local/lib/python3.10/dist-packages (from scikit-learn->sentence-transformers==2.3.1) (3.5.0)\n",
            "Requirement already satisfied: sniffio>=1.1 in /usr/local/lib/python3.10/dist-packages (from anyio<5,>=3->langchain-core<0.2,>=0.1.22->langchain==0.1.7) (1.3.1)\n",
            "Requirement already satisfied: exceptiongroup in /usr/local/lib/python3.10/dist-packages (from anyio<5,>=3->langchain-core<0.2,>=0.1.22->langchain==0.1.7) (1.2.2)\n",
            "Requirement already satisfied: distro<2,>=1.7.0 in /usr/lib/python3/dist-packages (from openai>=1.1.0->llama-index-core<0.11.0,>=0.10.1->llama-index-embeddings-huggingface==0.1.1) (1.7.0)\n",
            "Requirement already satisfied: httpcore==1.* in /usr/local/lib/python3.10/dist-packages (from httpx->llama-index-core<0.11.0,>=0.10.1->llama-index-embeddings-huggingface==0.1.1) (1.0.5)\n",
            "Requirement already satisfied: h11<0.15,>=0.13 in /usr/local/lib/python3.10/dist-packages (from httpcore==1.*->httpx->llama-index-core<0.11.0,>=0.10.1->llama-index-embeddings-huggingface==0.1.1) (0.14.0)\n",
            "Requirement already satisfied: mypy-extensions>=0.3.0 in /usr/local/lib/python3.10/dist-packages (from typing-inspect<1,>=0.4.0->dataclasses-json<0.7,>=0.5.7->langchain==0.1.7) (1.0.0)\n",
            "Requirement already satisfied: python-dateutil>=2.8.2 in /usr/local/lib/python3.10/dist-packages (from pandas->llama-index-core<0.11.0,>=0.10.1->llama-index-embeddings-huggingface==0.1.1) (2.8.2)\n",
            "Requirement already satisfied: pytz>=2020.1 in /usr/local/lib/python3.10/dist-packages (from pandas->llama-index-core<0.11.0,>=0.10.1->llama-index-embeddings-huggingface==0.1.1) (2023.4)\n",
            "Requirement already satisfied: tzdata>=2022.1 in /usr/local/lib/python3.10/dist-packages (from pandas->llama-index-core<0.11.0,>=0.10.1->llama-index-embeddings-huggingface==0.1.1) (2024.1)\n",
            "Requirement already satisfied: mpmath<1.4,>=1.1.0 in /usr/local/lib/python3.10/dist-packages (from sympy->torch<3.0.0,>=2.1.2->llama-index-embeddings-huggingface==0.1.1) (1.3.0)\n",
            "Requirement already satisfied: six>=1.5 in /usr/local/lib/python3.10/dist-packages (from python-dateutil>=2.8.2->pandas->llama-index-core<0.11.0,>=0.10.1->llama-index-embeddings-huggingface==0.1.1) (1.16.0)\n"
          ]
        }
      ]
    },
    {
      "cell_type": "code",
      "source": [
        "!pip install torch"
      ],
      "metadata": {
        "colab": {
          "base_uri": "https://localhost:8080/"
        },
        "id": "ON07fSZORnNX",
        "outputId": "5d4c1c9f-eb1c-4c07-de92-10d985358523"
      },
      "execution_count": 243,
      "outputs": [
        {
          "output_type": "stream",
          "name": "stdout",
          "text": [
            "Requirement already satisfied: torch in /usr/local/lib/python3.10/dist-packages (2.3.1+cu121)\n",
            "Requirement already satisfied: filelock in /usr/local/lib/python3.10/dist-packages (from torch) (3.15.4)\n",
            "Requirement already satisfied: typing-extensions>=4.8.0 in /usr/local/lib/python3.10/dist-packages (from torch) (4.12.2)\n",
            "Requirement already satisfied: sympy in /usr/local/lib/python3.10/dist-packages (from torch) (1.13.0)\n",
            "Requirement already satisfied: networkx in /usr/local/lib/python3.10/dist-packages (from torch) (3.3)\n",
            "Requirement already satisfied: jinja2 in /usr/local/lib/python3.10/dist-packages (from torch) (3.1.4)\n",
            "Requirement already satisfied: fsspec in /usr/local/lib/python3.10/dist-packages (from torch) (2023.6.0)\n",
            "Requirement already satisfied: nvidia-cuda-nvrtc-cu12==12.1.105 in /usr/local/lib/python3.10/dist-packages (from torch) (12.1.105)\n",
            "Requirement already satisfied: nvidia-cuda-runtime-cu12==12.1.105 in /usr/local/lib/python3.10/dist-packages (from torch) (12.1.105)\n",
            "Requirement already satisfied: nvidia-cuda-cupti-cu12==12.1.105 in /usr/local/lib/python3.10/dist-packages (from torch) (12.1.105)\n",
            "Requirement already satisfied: nvidia-cudnn-cu12==8.9.2.26 in /usr/local/lib/python3.10/dist-packages (from torch) (8.9.2.26)\n",
            "Requirement already satisfied: nvidia-cublas-cu12==12.1.3.1 in /usr/local/lib/python3.10/dist-packages (from torch) (12.1.3.1)\n",
            "Requirement already satisfied: nvidia-cufft-cu12==11.0.2.54 in /usr/local/lib/python3.10/dist-packages (from torch) (11.0.2.54)\n",
            "Requirement already satisfied: nvidia-curand-cu12==10.3.2.106 in /usr/local/lib/python3.10/dist-packages (from torch) (10.3.2.106)\n",
            "Requirement already satisfied: nvidia-cusolver-cu12==11.4.5.107 in /usr/local/lib/python3.10/dist-packages (from torch) (11.4.5.107)\n",
            "Requirement already satisfied: nvidia-cusparse-cu12==12.1.0.106 in /usr/local/lib/python3.10/dist-packages (from torch) (12.1.0.106)\n",
            "Requirement already satisfied: nvidia-nccl-cu12==2.20.5 in /usr/local/lib/python3.10/dist-packages (from torch) (2.20.5)\n",
            "Requirement already satisfied: nvidia-nvtx-cu12==12.1.105 in /usr/local/lib/python3.10/dist-packages (from torch) (12.1.105)\n",
            "Requirement already satisfied: triton==2.3.1 in /usr/local/lib/python3.10/dist-packages (from torch) (2.3.1)\n",
            "Requirement already satisfied: nvidia-nvjitlink-cu12 in /usr/local/lib/python3.10/dist-packages (from nvidia-cusolver-cu12==11.4.5.107->torch) (12.5.82)\n",
            "Requirement already satisfied: MarkupSafe>=2.0 in /usr/local/lib/python3.10/dist-packages (from jinja2->torch) (2.1.5)\n",
            "Requirement already satisfied: mpmath<1.4,>=1.1.0 in /usr/local/lib/python3.10/dist-packages (from sympy->torch) (1.3.0)\n"
          ]
        }
      ]
    },
    {
      "cell_type": "code",
      "source": [
        "\n",
        "def zephyr_chat_template(messages, add_generation_prompt=True):\n",
        "    formatter = Formatter()\n",
        "    conversation = Conversation(model='zephyr', messages=messages)\n",
        "    # Renderizar la plantilla con los mensajes proporcionados\n",
        "    return formatter.render(conversation, add_assistant_prompt=add_generation_prompt)\n",
        "\n",
        "def generate_answer(prompt: str, max_new_tokens: int = 768) -> None:\n",
        "    try:\n",
        "        api_key = config('HUGGINGFACE_TOKEN', userdata.get('HUGGINGFACE_TOKEN'))\n",
        "\n",
        "        api_url = \"https://api-inference.huggingface.co/models/HuggingFaceH4/zephyr-7b-beta\"\n",
        "\n",
        "        headers = {\"Authorization\": f\"Bearer {api_key}\"}\n",
        "        data = {\n",
        "            \"inputs\": prompt,\n",
        "            \"parameters\": {\n",
        "                \"max_new_tokens\": max_new_tokens,\n",
        "                \"temperature\": 0.7,\n",
        "                \"top_k\": 50,\n",
        "                \"top_p\": 0.95\n",
        "            }\n",
        "        }\n",
        "        response = requests.post(api_url, headers=headers, json=data)\n",
        "        respuesta = response.json()[0][\"generated_text\"][len(prompt):]\n",
        "        return respuesta\n",
        "\n",
        "    except Exception as e:\n",
        "        print(f\"An error occurred: {e}\")\n",
        "\n",
        "def prepare_prompt(query_str: str, context_str: str):\n",
        "  TEXT_QA_PROMPT_TMPL = (\n",
        "      \"La información de contexto es la siguiente:\\n\"\n",
        "      \"---------------------\\n\"\n",
        "      \"{context_str}\\n\"\n",
        "      \"---------------------\\n\"\n",
        "      \"Dada la información de contexto anterior, y sin utilizar conocimiento previo, responde la siguiente pregunta.\\n\"\n",
        "      \"Pregunta: {query_str}\\n\"\n",
        "      \"Respuesta: \"\n",
        "  )\n",
        "\n",
        "  messages = [\n",
        "      {\n",
        "          \"role\": \"system\",\n",
        "          \"content\": \"Eres un asistente útil que siempre responde con respuestas veraces, útiles y basadas en hechos.\",\n",
        "      },\n",
        "      {\"role\": \"user\", \"content\": TEXT_QA_PROMPT_TMPL.format(context_str=context_str, query_str=query_str)},\n",
        "  ]\n",
        "\n",
        "  final_prompt = zephyr_chat_template(messages)\n",
        "  return final_prompt"
      ],
      "metadata": {
        "id": "dAZKO2WbPbxo"
      },
      "execution_count": 244,
      "outputs": []
    },
    {
      "cell_type": "code",
      "source": [
        "def responder(query:str, contexto:str):\n",
        "  final_prompt = prepare_prompt(query, contexto)\n",
        "  return generate_answer(final_prompt)"
      ],
      "metadata": {
        "id": "Wml0cUAkZXBH"
      },
      "execution_count": 245,
      "outputs": []
    },
    {
      "cell_type": "markdown",
      "source": [
        "otras pruebas"
      ],
      "metadata": {
        "id": "6NVh1UkQThzc"
      }
    },
    {
      "cell_type": "markdown",
      "source": [
        "## Clasificador basado en regresión logística"
      ],
      "metadata": {
        "id": "HrPb9D5Rzuxt"
      }
    },
    {
      "cell_type": "code",
      "source": [
        "!pip install transformers sentence_transformers"
      ],
      "metadata": {
        "id": "t2Md35V8zuWJ",
        "colab": {
          "base_uri": "https://localhost:8080/"
        },
        "outputId": "4eff63af-acc4-4f76-f85e-8987a409948c"
      },
      "execution_count": 246,
      "outputs": [
        {
          "output_type": "stream",
          "name": "stdout",
          "text": [
            "Requirement already satisfied: transformers in /usr/local/lib/python3.10/dist-packages (4.42.4)\n",
            "Requirement already satisfied: sentence_transformers in /usr/local/lib/python3.10/dist-packages (2.3.1)\n",
            "Requirement already satisfied: filelock in /usr/local/lib/python3.10/dist-packages (from transformers) (3.15.4)\n",
            "Requirement already satisfied: huggingface-hub<1.0,>=0.23.2 in /usr/local/lib/python3.10/dist-packages (from transformers) (0.23.5)\n",
            "Requirement already satisfied: numpy<2.0,>=1.17 in /usr/local/lib/python3.10/dist-packages (from transformers) (1.25.2)\n",
            "Requirement already satisfied: packaging>=20.0 in /usr/local/lib/python3.10/dist-packages (from transformers) (23.2)\n",
            "Requirement already satisfied: pyyaml>=5.1 in /usr/local/lib/python3.10/dist-packages (from transformers) (6.0.1)\n",
            "Requirement already satisfied: regex!=2019.12.17 in /usr/local/lib/python3.10/dist-packages (from transformers) (2024.5.15)\n",
            "Requirement already satisfied: requests in /usr/local/lib/python3.10/dist-packages (from transformers) (2.31.0)\n",
            "Requirement already satisfied: safetensors>=0.4.1 in /usr/local/lib/python3.10/dist-packages (from transformers) (0.4.3)\n",
            "Requirement already satisfied: tokenizers<0.20,>=0.19 in /usr/local/lib/python3.10/dist-packages (from transformers) (0.19.1)\n",
            "Requirement already satisfied: tqdm>=4.27 in /usr/local/lib/python3.10/dist-packages (from transformers) (4.66.4)\n",
            "Requirement already satisfied: torch>=1.11.0 in /usr/local/lib/python3.10/dist-packages (from sentence_transformers) (2.3.1+cu121)\n",
            "Requirement already satisfied: scikit-learn in /usr/local/lib/python3.10/dist-packages (from sentence_transformers) (1.2.2)\n",
            "Requirement already satisfied: scipy in /usr/local/lib/python3.10/dist-packages (from sentence_transformers) (1.11.4)\n",
            "Requirement already satisfied: nltk in /usr/local/lib/python3.10/dist-packages (from sentence_transformers) (3.8.1)\n",
            "Requirement already satisfied: sentencepiece in /usr/local/lib/python3.10/dist-packages (from sentence_transformers) (0.1.99)\n",
            "Requirement already satisfied: Pillow in /usr/local/lib/python3.10/dist-packages (from sentence_transformers) (9.4.0)\n",
            "Requirement already satisfied: fsspec>=2023.5.0 in /usr/local/lib/python3.10/dist-packages (from huggingface-hub<1.0,>=0.23.2->transformers) (2023.6.0)\n",
            "Requirement already satisfied: typing-extensions>=3.7.4.3 in /usr/local/lib/python3.10/dist-packages (from huggingface-hub<1.0,>=0.23.2->transformers) (4.12.2)\n",
            "Requirement already satisfied: sympy in /usr/local/lib/python3.10/dist-packages (from torch>=1.11.0->sentence_transformers) (1.13.0)\n",
            "Requirement already satisfied: networkx in /usr/local/lib/python3.10/dist-packages (from torch>=1.11.0->sentence_transformers) (3.3)\n",
            "Requirement already satisfied: jinja2 in /usr/local/lib/python3.10/dist-packages (from torch>=1.11.0->sentence_transformers) (3.1.4)\n",
            "Requirement already satisfied: nvidia-cuda-nvrtc-cu12==12.1.105 in /usr/local/lib/python3.10/dist-packages (from torch>=1.11.0->sentence_transformers) (12.1.105)\n",
            "Requirement already satisfied: nvidia-cuda-runtime-cu12==12.1.105 in /usr/local/lib/python3.10/dist-packages (from torch>=1.11.0->sentence_transformers) (12.1.105)\n",
            "Requirement already satisfied: nvidia-cuda-cupti-cu12==12.1.105 in /usr/local/lib/python3.10/dist-packages (from torch>=1.11.0->sentence_transformers) (12.1.105)\n",
            "Requirement already satisfied: nvidia-cudnn-cu12==8.9.2.26 in /usr/local/lib/python3.10/dist-packages (from torch>=1.11.0->sentence_transformers) (8.9.2.26)\n",
            "Requirement already satisfied: nvidia-cublas-cu12==12.1.3.1 in /usr/local/lib/python3.10/dist-packages (from torch>=1.11.0->sentence_transformers) (12.1.3.1)\n",
            "Requirement already satisfied: nvidia-cufft-cu12==11.0.2.54 in /usr/local/lib/python3.10/dist-packages (from torch>=1.11.0->sentence_transformers) (11.0.2.54)\n",
            "Requirement already satisfied: nvidia-curand-cu12==10.3.2.106 in /usr/local/lib/python3.10/dist-packages (from torch>=1.11.0->sentence_transformers) (10.3.2.106)\n",
            "Requirement already satisfied: nvidia-cusolver-cu12==11.4.5.107 in /usr/local/lib/python3.10/dist-packages (from torch>=1.11.0->sentence_transformers) (11.4.5.107)\n",
            "Requirement already satisfied: nvidia-cusparse-cu12==12.1.0.106 in /usr/local/lib/python3.10/dist-packages (from torch>=1.11.0->sentence_transformers) (12.1.0.106)\n",
            "Requirement already satisfied: nvidia-nccl-cu12==2.20.5 in /usr/local/lib/python3.10/dist-packages (from torch>=1.11.0->sentence_transformers) (2.20.5)\n",
            "Requirement already satisfied: nvidia-nvtx-cu12==12.1.105 in /usr/local/lib/python3.10/dist-packages (from torch>=1.11.0->sentence_transformers) (12.1.105)\n",
            "Requirement already satisfied: triton==2.3.1 in /usr/local/lib/python3.10/dist-packages (from torch>=1.11.0->sentence_transformers) (2.3.1)\n",
            "Requirement already satisfied: nvidia-nvjitlink-cu12 in /usr/local/lib/python3.10/dist-packages (from nvidia-cusolver-cu12==11.4.5.107->torch>=1.11.0->sentence_transformers) (12.5.82)\n",
            "Requirement already satisfied: click in /usr/local/lib/python3.10/dist-packages (from nltk->sentence_transformers) (8.1.7)\n",
            "Requirement already satisfied: joblib in /usr/local/lib/python3.10/dist-packages (from nltk->sentence_transformers) (1.4.2)\n",
            "Requirement already satisfied: charset-normalizer<4,>=2 in /usr/local/lib/python3.10/dist-packages (from requests->transformers) (3.3.2)\n",
            "Requirement already satisfied: idna<4,>=2.5 in /usr/local/lib/python3.10/dist-packages (from requests->transformers) (3.7)\n",
            "Requirement already satisfied: urllib3<3,>=1.21.1 in /usr/local/lib/python3.10/dist-packages (from requests->transformers) (2.0.7)\n",
            "Requirement already satisfied: certifi>=2017.4.17 in /usr/local/lib/python3.10/dist-packages (from requests->transformers) (2024.7.4)\n",
            "Requirement already satisfied: threadpoolctl>=2.0.0 in /usr/local/lib/python3.10/dist-packages (from scikit-learn->sentence_transformers) (3.5.0)\n",
            "Requirement already satisfied: MarkupSafe>=2.0 in /usr/local/lib/python3.10/dist-packages (from jinja2->torch>=1.11.0->sentence_transformers) (2.1.5)\n",
            "Requirement already satisfied: mpmath<1.4,>=1.1.0 in /usr/local/lib/python3.10/dist-packages (from sympy->torch>=1.11.0->sentence_transformers) (1.3.0)\n"
          ]
        }
      ]
    },
    {
      "cell_type": "code",
      "source": [
        "from sklearn.model_selection import train_test_split\n",
        "from sklearn.linear_model import LogisticRegression\n",
        "from sklearn.metrics import accuracy_score, classification_report\n",
        "#import nltk\n",
        "from transformers import BertTokenizer, BertModel\n",
        "#import torch\n",
        "import numpy as np\n",
        "from sentence_transformers import SentenceTransformer\n",
        "\n",
        "# Cargamos el modelo desde HuggingFace https://huggingface.co/sentence-transformers/all-mpnet-base-v2 para hacer los embeddings\n",
        "model = SentenceTransformer('sentence-transformers/all-mpnet-base-v2')"
      ],
      "metadata": {
        "id": "MtONM8XQ0Bx7"
      },
      "execution_count": 247,
      "outputs": []
    },
    {
      "cell_type": "code",
      "source": [
        "\n",
        "labels = [(0, \"Películas\"), (1, \"Personajes\"), (2, \"Capítulos o ángles\")]\n",
        "\n",
        "dataset = []\n",
        "# textos de \"peliculas\"\n",
        "dataset.append((0, \"¿Cuánto recaudó la película Rebuild of Evangelion?\"))\n",
        "dataset.append((0, \"¿Cuánto recaudó la última película?\"))\n",
        "dataset.append((0, \"Las adaptaciones al cine de Evangelion son 4: 1.0, 2.0, 3.0 y 3.0+1.0\"))\n",
        "dataset.append((0, \"El idioma de las películas es japonés\"))\n",
        "dataset.append((0, \"El genero de la cuarta película es Mecha, Acción, Drama, Ciencia ficción\"))\n",
        "dataset.append((0,\"¿Cuál es el título completo de la primera película de la tetralogía 'Rebuild of Evangelion'?\"))\n",
        "dataset.append((0,\"¿Quién fue el director de la película 'The End of Evangelion'?\"))\n",
        "dataset.append((0,\"¿En qué año se estrenó la película 'Evangelion: 2.0 You Can (Not) Advance'?\"))\n",
        "dataset.append((0,\"¿Cuál es la duración aproximada de la película 'Evangelion: 3.0+1.0 Thrice Upon a Time'?\"))\n",
        "dataset.append((0,\"¿Cuánto fue el presupuesto estimado para la producción de 'Evangelion: 3.0 You Can (Not) Redo'?\"))\n",
        "dataset.append((0,\"¿Cuál fue la recepción crítica de la película 'Evangelion: 1.0 You Are (Not) Alone'?\"))\n",
        "dataset.append((0,\"¿Quiénes fueron los compositores de la música de la serie de películas 'Rebuild of Evangelion'?\"))\n",
        "dataset.append((0,\"¿Cuál es el orden cronológico de las películas en la serie 'Rebuild of Evangelion'?\"))\n",
        "dataset.append((0,\"¿Cuántas adaptaciones cinematográficas ha tenido la serie 'Neon Genesis Evangelion' en total?\"))\n",
        "dataset.append((0,\"¿Dónde se realizó el estreno mundial de la película 'Evangelion: 3.0+1.0 Thrice Upon a Time'?\"))\n",
        "\n",
        "# textos de \"personajes\"\n",
        "dataset.append((1, \"¿Quiéne es Shinji Ikari\"))\n",
        "dataset.append((1, \"Quién es el protagonista del anime Evangelion\"))\n",
        "dataset.append((1, \"Dime la edad de Gendo\"))\n",
        "dataset.append((1, \"Dime la ocupación de Ritsuko\"))\n",
        "dataset.append((1, \"Dime la relación entre Rei y Gendo\"))\n",
        "dataset.append((1, \"Cuántos años tiene Asuka?\"))\n",
        "dataset.append((1, \"Cuál es la ocupación de Gendo Ikari?\"))\n",
        "dataset.append((1, \"Cuál es la relación entre Rei Ayanami y Shinji Ikari?\"))\n",
        "dataset.append((1,\"¿Cuál es el origen del nombre 'Shinji Ikari'?\"))\n",
        "dataset.append((1,\"¿Cuáles son los principales conflictos emocionales de Asuka Langley Soryu en la serie?\"))\n",
        "dataset.append((1,\"¿Qué relación tiene Misato Katsuragi con Ryoji Kaji?\"))\n",
        "dataset.append((1,\"¿Cuál es la historia de fondo de Kaworu Nagisa y su relación con SEELE?\"))\n",
        "dataset.append((1,\"¿Cómo se desarrolla la relación entre Rei Ayanami y Shinji Ikari a lo largo de la serie?\"))\n",
        "dataset.append((1,\"¿Qué traumas psicológicos experimenta Shinji Ikari y cómo afectan su desarrollo?\"))\n",
        "dataset.append((1,\"¿Cuál es el papel de Mari Makinami Illustrious en las películas 'Rebuild of Evangelion'?\"))\n",
        "dataset.append((1,\"¿Qué motivaciones tienen los Ángeles en su conflicto con NERV y la humanidad?\"))\n",
        "dataset.append((1,\"¿Cuál es el destino final de Ritsuko Akagi en la serie?\"))\n",
        "dataset.append((1,\"¿Qué simboliza el Evangelion Unit-01 en términos de la trama y la mitología de la serie?\"))\n",
        "\n",
        "# textos de \"capítulos o ánglees\"\n",
        "dataset.append((2, \"¿Qué sucede en el capítulo 1?\"))\n",
        "dataset.append((2, \"¿Cuál es el primer ángel que aparece en la serie?\"))\n",
        "dataset.append((2, \"¿Qué son los ángeles?\"))\n",
        "dataset.append((2, \"¿Cuál fue el último ángel que aparece en la serie?\"))\n",
        "dataset.append((2, \"Qué sucede en el capítulo 9?\"))\n",
        "dataset.append((2, \"¿Cómo termina la serie?\"))\n",
        "dataset.append((2, \"¿En qué año ocurre la serie?\"))\n",
        "dataset.append((2, \"¿Quién recoge a Shinji en el primer episodio?\"))\n",
        "dataset.append((2, \"¿Por qué Kaworu le dice a Rei 'tu eres igual que yo' en el final?\"))\n",
        "dataset.append((2, \"¿Qué criatura estaba en el dogma central, Adam o Lilith?\"))\n",
        "dataset.append((2,\"¿Cuál es el título del primer episodio de la serie 'Neon Genesis Evangelion' y qué eventos importantes ocurren en él?\"))\n",
        "dataset.append((2,\"¿Cuál es el primer Ángel que aparece en la serie y cómo se desarrolla el enfrentamiento con él?\"))\n",
        "dataset.append((2,\"¿Qué se sabe sobre la naturaleza de los Ángeles y cuál es su propósito en la serie?\"))\n",
        "dataset.append((2,\"¿Cuál es el último Ángel que aparece en la serie y cómo afecta el desarrollo de la trama?\"))\n",
        "dataset.append((2,\"¿Qué eventos significativos ocurren en el noveno episodio de la serie?\"))\n",
        "dataset.append((2,\"¿Cómo concluye la serie 'Neon Genesis Evangelion' y cuáles son las principales interpretaciones de su final?\"))\n",
        "dataset.append((2,\"¿En qué año se ambienta la serie 'Neon Genesis Evangelion' y cómo afecta esto al contexto de la trama?\"))\n",
        "dataset.append((2,\"¿Quién es el personaje que recoge a Shinji Ikari en el primer episodio y cuál es su relación con él?\"))\n",
        "dataset.append((2,\"¿Por qué Kaworu Nagisa le dice a Rei Ayanami 'tú eres igual que yo' en el final de la serie?\"))\n",
        "dataset.append((2,\"¿Qué criatura estaba contenida en el Dogma Central, Adam o Lilith, y cuál es su importancia en la trama?\"))\n",
        "\n",
        "# Preparar X e y\n",
        "X = [text.lower() for label, text in dataset]\n",
        "y = [label for label, text in dataset]\n",
        "\n",
        "# División del dataset\n",
        "X_train, X_test, y_train, y_test = train_test_split(X, y, test_size=0.2, random_state=42)\n",
        "\n",
        "# Obtenemos los embeddings de BERT para los conjuntos de entrenamiento y prueba\n",
        "X_train_vectorized = model.encode(X_train)\n",
        "X_test_vectorized = model.encode(X_test)\n",
        "\n",
        "# Creación y entrenamiento del modelo de Regresión Logística Multinomial\n",
        "modelo_LR = LogisticRegression(max_iter=1000, multi_class='multinomial', solver='lbfgs')\n",
        "modelo_LR.fit(X_train_vectorized, y_train)\n",
        "\n",
        "# Evaluación del modelo de Regresión Logística\n",
        "y_pred_LR = modelo_LR.predict(X_test_vectorized)\n",
        "acc_LR = accuracy_score(y_test, y_pred_LR)\n",
        "report_LR = classification_report(y_test, y_pred_LR, zero_division=1)\n",
        "\n",
        "print(\"Precisión Regresión Logística:\", acc_LR)\n",
        "print(\"Reporte de clasificación Regresión Logística:\\n\", report_LR)\n",
        "\n",
        "# Nuevas frases para clasificar\n",
        "new_phrases = [\n",
        "    \"¿Cuál es la edad de Rei Ayanami cuando comienza la Serie?\",\n",
        "    \"Dime cuánto recaudó la primer película\",\n",
        "    \"¿Que sucede en el capítulo 5?\",\n",
        "]\n",
        "\n",
        "# Preprocesamiento y vectorización de las nuevas frases\n",
        "new_phrases_lower = [text.lower() for text in new_phrases]\n",
        "new_phrases_vectorized = model.encode(new_phrases_lower)\n",
        "\n",
        "# Haciendo predicciones con el modelo entrenado\n",
        "new_predictions = modelo_LR.predict(new_phrases_vectorized)\n",
        "\n",
        "# Mostrando las predicciones junto con las frases\n",
        "for text, label in zip(new_phrases, new_predictions):\n",
        "    print(f\"Texto: '{text}'\")\n",
        "    print(f\"Clasificación predicha: {labels[label][1]}\\n\")"
      ],
      "metadata": {
        "id": "ge_sttiwzmmQ",
        "colab": {
          "base_uri": "https://localhost:8080/"
        },
        "outputId": "8b54cc7a-66d8-4037-aa00-cbd8f9b13d71"
      },
      "execution_count": 248,
      "outputs": [
        {
          "output_type": "stream",
          "name": "stdout",
          "text": [
            "Precisión Regresión Logística: 0.6363636363636364\n",
            "Reporte de clasificación Regresión Logística:\n",
            "               precision    recall  f1-score   support\n",
            "\n",
            "           0       0.75      0.75      0.75         4\n",
            "           1       0.50      0.33      0.40         3\n",
            "           2       0.60      0.75      0.67         4\n",
            "\n",
            "    accuracy                           0.64        11\n",
            "   macro avg       0.62      0.61      0.61        11\n",
            "weighted avg       0.63      0.64      0.62        11\n",
            "\n",
            "Texto: '¿Cuál es la edad de Rei Ayanami cuando comienza la Serie?'\n",
            "Clasificación predicha: Capítulos o ángles\n",
            "\n",
            "Texto: 'Dime cuánto recaudó la primer película'\n",
            "Clasificación predicha: Películas\n",
            "\n",
            "Texto: '¿Que sucede en el capítulo 5?'\n",
            "Clasificación predicha: Capítulos o ángles\n",
            "\n"
          ]
        }
      ]
    },
    {
      "cell_type": "code",
      "source": [
        "def clasificadorRegresionLogistica(query:str):\n",
        "  consulta_vectorizada = model.encode([query.lower()])\n",
        "  prediccion = modelo_LR.predict(consulta_vectorizada)\n",
        "  return labels[prediccion[0]][1]"
      ],
      "metadata": {
        "id": "ZWNyo5K30Rhf"
      },
      "execution_count": 249,
      "outputs": []
    },
    {
      "cell_type": "markdown",
      "source": [],
      "metadata": {
        "id": "foZLEcQs8QuT"
      }
    },
    {
      "cell_type": "markdown",
      "source": [
        "## Clasificador basado en LLM"
      ],
      "metadata": {
        "id": "gQJ94rGr2WSM"
      }
    },
    {
      "cell_type": "code",
      "source": [
        "\n",
        "def zephyr_chat_templateClf(messages, add_generation_prompt=True):\n",
        "    formatter = Formatter()\n",
        "    conversation = Conversation(model='zephyr', messages=messages)\n",
        "    # Renderizar la plantilla con los mensajes proporcionados\n",
        "    return formatter.render(conversation, add_assistant_prompt=add_generation_prompt)\n",
        "\n",
        "def generate_answerClf(prompt: str, max_new_tokens: int = 768) -> None:\n",
        "    try:\n",
        "        api_key = config('HUGGINGFACE_TOKEN', userdata.get('HUGGINGFACE_TOKEN'))\n",
        "\n",
        "        api_url = \"https://api-inference.huggingface.co/models/HuggingFaceH4/zephyr-7b-beta\"\n",
        "\n",
        "        headers = {\"Authorization\": f\"Bearer {api_key}\"}\n",
        "        data = {\n",
        "            \"inputs\": prompt,\n",
        "            \"parameters\": {\n",
        "                \"max_new_tokens\": max_new_tokens,\n",
        "                \"temperature\": 0.7,\n",
        "                \"top_k\": 50,\n",
        "                \"top_p\": 0.95\n",
        "            }\n",
        "        }\n",
        "        response = requests.post(api_url, headers=headers, json=data)\n",
        "        respuesta = response.json()[0][\"generated_text\"][len(prompt):]\n",
        "        return respuesta\n",
        "\n",
        "    except Exception as e:\n",
        "        print(f\"An error occurred: {e}\")\n",
        "\n",
        "def prepare_promptClf(query_str: str):\n",
        "  TEXT_QA_PROMPT_TMPL = (\n",
        "      \"Clasifica la siguiente pregunta en una de estas tres categorías: 'Películas', 'Capítulos o ángeles' o 'Personajes', entendiendo que se refiere a la serie de anime llamada Neon Genesis Evangelion\"\n",
        "      \"donde la pregunta puede ser sobre los personajes, sobre las películas (recaudación, quién la dirigió, etc.) o sobre información realcionada a los capítulos de la serie o a las criaturas llamadas ángeles. Sólo responderás la clasificación deseada, sin más texto adicional.\"\n",
        "      \"Ejemplo: ¿Quién recoge a Shinji cuando llega a tokyo? - Capítulos o ángeles\"\n",
        "      \"¿Qué ángel ataca en el primer capítulo? - Capítulos o ángeles\"\n",
        "      \"You can (not) advance - Películas\"\n",
        "      \"You can (not) re do - Películas\"\n",
        "      \"You are (not) alone - Películas\"\n",
        "      \"¿Quíén es Shinji Ikari? - Personajes\"\n",
        "      \"Pregunta: {query_str}\\n\"\n",
        "      \"Respuesta: \"\n",
        "  )\n",
        "\n",
        "  messages = [\n",
        "      {\n",
        "          \"role\": \"system\",\n",
        "          \"content\": \"Eres un clasificador que clasifica una consulta o pregunta en tres categorías: 'Películas', 'Capítulos o ángeles' o 'Personajes'. Sólo responderás la clasificación deseada, sin más texto adicional.\",\n",
        "      },\n",
        "      {\"role\": \"user\", \"content\": TEXT_QA_PROMPT_TMPL.format(query_str=query_str)},\n",
        "  ]\n",
        "\n",
        "  final_prompt = zephyr_chat_templateClf(messages)\n",
        "  return final_prompt"
      ],
      "metadata": {
        "id": "uKYa_pWb2Yyw"
      },
      "execution_count": 328,
      "outputs": []
    },
    {
      "cell_type": "code",
      "source": [
        "model_name = \"sentence-transformers/distiluse-base-multilingual-cased-v2\"\n",
        "embed_model = HuggingFaceEmbedding(model_name=model_name)"
      ],
      "metadata": {
        "id": "renWIImR339b"
      },
      "execution_count": 251,
      "outputs": []
    },
    {
      "cell_type": "code",
      "source": [
        "#Cargo el modelo de embeddings\n",
        "embed_model = cargarModeloEmeddings()"
      ],
      "metadata": {
        "id": "iTVcrzQf5ALS"
      },
      "execution_count": 252,
      "outputs": []
    },
    {
      "cell_type": "code",
      "source": [
        "def clasificadorLLM(query:str, embed_model)-> str:\n",
        "  final_prompt = prepare_promptClf(query)\n",
        "  return generate_answerClf(final_prompt).replace(\"'\",\"\").strip().replace(\".\",\"\")"
      ],
      "metadata": {
        "id": "Uc7aJw224thw"
      },
      "execution_count": 316,
      "outputs": []
    },
    {
      "cell_type": "code",
      "source": [
        "clasificadorLLM('¿Cuánto recaudó la película número 3?', embed_model)"
      ],
      "metadata": {
        "colab": {
          "base_uri": "https://localhost:8080/",
          "height": 35
        },
        "id": "iurG-ymy5Ly8",
        "outputId": "562a95d4-f089-474d-b2dc-c61eb76306f4"
      },
      "execution_count": 254,
      "outputs": [
        {
          "output_type": "execute_result",
          "data": {
            "text/plain": [
              "'Películas'"
            ],
            "application/vnd.google.colaboratory.intrinsic+json": {
              "type": "string"
            }
          },
          "metadata": {},
          "execution_count": 254
        }
      ]
    },
    {
      "cell_type": "markdown",
      "source": [
        "## Modelo para responder consultas sobre el dataframe"
      ],
      "metadata": {
        "id": "5Xq-_cfusbR4"
      }
    },
    {
      "cell_type": "code",
      "source": [
        "def zephyr_chat_templatePeliculas(messages, add_generation_prompt=True):\n",
        "    formatter = Formatter()\n",
        "    conversation = Conversation(model='zephyr', messages=messages)\n",
        "    # Renderizar la plantilla con los mensajes proporcionados\n",
        "    return formatter.render(conversation, add_assistant_prompt=add_generation_prompt)\n",
        "\n",
        "def generate_answerPeliculas(prompt: str, max_new_tokens: int = 768) -> None:\n",
        "    try:\n",
        "        api_key = config('HUGGINGFACE_TOKEN', userdata.get('HUGGINGFACE_TOKEN'))\n",
        "\n",
        "        api_url = \"https://api-inference.huggingface.co/models/HuggingFaceH4/zephyr-7b-beta\"\n",
        "\n",
        "        headers = {\"Authorization\": f\"Bearer {api_key}\"}\n",
        "        data = {\n",
        "            \"inputs\": prompt,\n",
        "            \"parameters\": {\n",
        "                \"max_new_tokens\": max_new_tokens,\n",
        "                \"temperature\": 0.7,\n",
        "                \"top_k\": 50,\n",
        "                \"top_p\": 0.95\n",
        "            }\n",
        "        }\n",
        "        response = requests.post(api_url, headers=headers, json=data)\n",
        "        respuesta = response.json()[0][\"generated_text\"][len(prompt):]\n",
        "        return respuesta\n",
        "\n",
        "    except Exception as e:\n",
        "        print(f\"An error occurred: {e}\")\n",
        "\n",
        "def prepare_promptPeliculas(query_str: str, context_str: str):\n",
        "  TEXT_QA_PROMPT_TMPL = (\n",
        "      \"Responda la consulta teniendo en cuenta que el contexto proporcionado es está en formato csv (separado por comas) y cuyas columnas son:\"\n",
        "      \"'Título', 'Dirección', 'Dirección artística', 'Producción', 'Guion','Basada en', 'Música', 'Sonido', 'Fotografía', 'Montaje','Protagonistas', 'País', 'Año', 'Estreno', 'Género', 'Duración','Clasificación', 'Idioma(s)', 'Productora', 'Distribución','Recaudación', 'Estudio', 'Actores de voz', 'Divisa'\"\n",
        "      \"Contexto: {context_str}\"\n",
        "      \"Pregunta: {query_str}\\n\"\n",
        "      \"Respuesta: \"\n",
        "  )\n",
        "\n",
        "  messages = [\n",
        "      {\n",
        "          \"role\": \"system\",\n",
        "          \"content\": \"Eres un asistente que responde basandose en el contexto, teniendo en cuenta que esta en formato csv y cuyas columnas son: 'Título', 'Dirección', 'Dirección artística', 'Producción', 'Guion','Basada en', 'Música', 'Sonido', 'Fotografía', 'Montaje','Protagonistas', 'País', 'Año', 'Estreno', 'Género', 'Duración','Clasificación', 'Idioma(s)', 'Productora', 'Distribución','Recaudación', 'Estudio', 'Actores de voz', 'Divisa'\",\n",
        "      },\n",
        "      {\"role\": \"user\", \"content\": TEXT_QA_PROMPT_TMPL.format(context_str=context_str, query_str=query_str)},\n",
        "  ]\n",
        "\n",
        "  final_prompt = zephyr_chat_templatePeliculas(messages)\n",
        "  return final_prompt"
      ],
      "metadata": {
        "id": "1uLCELPvsf6S"
      },
      "execution_count": 322,
      "outputs": []
    },
    {
      "cell_type": "code",
      "source": [
        "def responderPeliculas(query:str, contexto:str):\n",
        "  final_prompt = prepare_prompt(query, contexto)\n",
        "  return generate_answer(final_prompt)"
      ],
      "metadata": {
        "id": "6Vh__N7mtHJu"
      },
      "execution_count": 313,
      "outputs": []
    },
    {
      "cell_type": "markdown",
      "source": [
        "## Modelo para responder consultas sobre la base de datos de grafos"
      ],
      "metadata": {
        "id": "FSRHMTKz2bmE"
      }
    },
    {
      "cell_type": "markdown",
      "source": [
        "La idea será generar un modelo que clasifique según el personaje que se está buscando. Luego, una vez obtenida su clasificación, clasificará según la información buscada (primera aprición, sexo, edad, doblador, seiyu, resumen, familia). Si la clasificación es resumen, entonces devolverá el texto de dicho personaje, el cual estará almacenado en la base de datos vectorial y en categoría tendrá su nombre."
      ],
      "metadata": {
        "id": "wNRaCIyZ4Lyh"
      }
    },
    {
      "cell_type": "code",
      "source": [
        "labels = []\n",
        "personajesFormateados = ['Ryoji Kaji','Keel Lorenz','Misato Katsuragi','Gendo Ikari','Yui Ikari','Ritsuko Akagi','Naoko Akagi','Kozo Fuyutsuki',\n",
        "'Maya Ibuki','Asuka Langley Soryu','Rei Ayanami','Kaworu Nagisa','Shinji Ikari','Toji Suzuhara','Asuka Langley Shikinami',\n",
        "'Hikari Horaki','Sakura Suzuhara','Midori Kitakami','Makoto Hyuga','Mari Illustrious Makinami','Rei Quatre','Shigeru Aoba','Kyoko Zeppelin Soryu']\n",
        "\n",
        "for i, personaje in enumerate(personajesFormateados):\n",
        "  labels.append((i, personaje))"
      ],
      "metadata": {
        "id": "dljoPyMW-Urv"
      },
      "execution_count": 375,
      "outputs": []
    },
    {
      "cell_type": "code",
      "source": [
        "labels"
      ],
      "metadata": {
        "colab": {
          "base_uri": "https://localhost:8080/"
        },
        "id": "j-uVACo2Ex74",
        "outputId": "a971573c-f850-44fb-f486-126866bbd394"
      },
      "execution_count": 416,
      "outputs": [
        {
          "output_type": "execute_result",
          "data": {
            "text/plain": [
              "[(0, 'Ryoji Kaji'),\n",
              " (1, 'Keel Lorenz'),\n",
              " (2, 'Misato Katsuragi'),\n",
              " (3, 'Gendo Ikari'),\n",
              " (4, 'Yui Ikari'),\n",
              " (5, 'Ritsuko Akagi'),\n",
              " (6, 'Naoko Akagi'),\n",
              " (7, 'Kozo Fuyutsuki'),\n",
              " (8, 'Maya Ibuki'),\n",
              " (9, 'Asuka Langley Soryu'),\n",
              " (10, 'Rei Ayanami'),\n",
              " (11, 'Kaworu Nagisa'),\n",
              " (12, 'Shinji Ikari'),\n",
              " (13, 'Toji Suzuhara'),\n",
              " (14, 'Asuka Langley Shikinami'),\n",
              " (15, 'Hikari Horaki'),\n",
              " (16, 'Sakura Suzuhara'),\n",
              " (17, 'Midori Kitakami'),\n",
              " (18, 'Makoto Hyuga'),\n",
              " (19, 'Mari Illustrious Makinami'),\n",
              " (20, 'Rei Quatre'),\n",
              " (21, 'Shigeru Aoba'),\n",
              " (22, 'Kyoko Zeppelin Soryu')]"
            ]
          },
          "metadata": {},
          "execution_count": 416
        }
      ]
    },
    {
      "cell_type": "code",
      "source": [
        "from sklearn.model_selection import train_test_split\n",
        "from sklearn.feature_extraction.text import TfidfVectorizer\n",
        "from sklearn.linear_model import LogisticRegression\n",
        "from sklearn.metrics import accuracy_score, classification_report\n",
        "import nltk\n",
        "\n",
        "# Descargamos los stopwords que necesitaremos luego\n",
        "nltk.download('stopwords')\n",
        "from nltk.corpus import stopwords\n",
        "\n",
        "# Obtenemos las stopwords para español\n",
        "spanish_stop_words = stopwords.words('spanish')"
      ],
      "metadata": {
        "colab": {
          "base_uri": "https://localhost:8080/"
        },
        "id": "fi73o3J9Br7s",
        "outputId": "f0620ce6-c0f3-46f6-f7f0-336457b1d4f3"
      },
      "execution_count": 390,
      "outputs": [
        {
          "output_type": "stream",
          "name": "stderr",
          "text": [
            "[nltk_data] Downloading package stopwords to /root/nltk_data...\n",
            "[nltk_data]   Unzipping corpora/stopwords.zip.\n"
          ]
        }
      ]
    },
    {
      "cell_type": "code",
      "source": [
        "dataset = []\n",
        "# textos de \"peliculas\"\n",
        "dataset.append((0, \"Quién es el doblador de Ryoji\"))\n",
        "dataset.append((0, \"Cuántos años tiene Kaji\"))\n",
        "dataset.append((0, \"Cuál fue la primera aparición de Ryoji Kaji?\"))\n",
        "dataset.append((0, \"¿Quién es Kaji?\"))\n",
        "dataset.append((0, \"¿Quién es Ryoji?\"))\n",
        "dataset.append((0, \"Dime algo sobre Ryoji\"))\n",
        "dataset.append((0, \"Cuál es la edad de Ryoji\"))\n",
        "\n",
        "dataset.append((1, \"Quién es el doblador de Lorenz\"))\n",
        "dataset.append((1, \"Cuántos años tiene Keel\"))\n",
        "dataset.append((1, \"Cuál fue la primera aparición de Lorenz Keel?\"))\n",
        "dataset.append((1, \"¿Quién es Keel?\"))\n",
        "dataset.append((1, \"¿Quién es Lorenz?\"))\n",
        "dataset.append((1, \"Dime algo sobre Lorenz\"))\n",
        "dataset.append((1, \"Cuál es la edad de Lorenz\"))\n",
        "\n",
        "dataset.append((2, \"Quién es el doblador de Misato\"))\n",
        "dataset.append((2, \"Cuántos años tiene Katsuragi\"))\n",
        "dataset.append((2, \"Cuál fue la primera aparición de Misato Katsuragi?\"))\n",
        "dataset.append((2, \"¿Quién es la familia de Katsuragi?\"))\n",
        "dataset.append((2, \"¿Quién es Misato?\"))\n",
        "dataset.append((2, \"Dime algo sobre Misato\"))\n",
        "dataset.append((2, \"Cuál es la edad de Misato\"))\n",
        "\n",
        "dataset.append((3, \"Quién es el doblador de Gendo\"))\n",
        "dataset.append((3, \"Cuántos años tiene Ikari\"))\n",
        "dataset.append((3, \"Cuál fue la primera aparición de Gendo Ikari?\"))\n",
        "dataset.append((3, \"¿Quién es la familia de Ikari?\"))\n",
        "dataset.append((3, \"¿Quién es Gendo?\"))\n",
        "dataset.append((3, \"Dime algo sobre Gendo\"))\n",
        "dataset.append((3, \"Cuál es la edad de Gendo\"))\n",
        "\n",
        "dataset.append((4, \"Quién es el doblador de Yui\"))\n",
        "dataset.append((4, \"Cuántos años tiene Ikari\"))\n",
        "dataset.append((4, \"Cuál fue la primera aparición de Yui Ikari?\"))\n",
        "dataset.append((4, \"¿Quién es la familia de Ikari?\"))\n",
        "dataset.append((4, \"¿Quién es Yui?\"))\n",
        "dataset.append((4, \"Dime algo sobre Yui\"))\n",
        "dataset.append((4, \"Cuál es la edad de Yui\"))\n",
        "\n",
        "dataset.append((5, \"Quién es el doblador de Ritsuko\"))\n",
        "dataset.append((5, \"Cuántos años tiene Akagi\"))\n",
        "dataset.append((5, \"Cuál fue la primera aparición de Ritsuko Akagi?\"))\n",
        "dataset.append((5, \"¿Quién es la familia de Akagi?\"))\n",
        "dataset.append((5, \"¿Quién es Ritsuko?\"))\n",
        "dataset.append((5, \"Dime algo sobre Ritsuko\"))\n",
        "dataset.append((5, \"Cuál es la edad de Ritsuko\"))\n",
        "\n",
        "dataset.append((6, \"Quién es el doblador de Naoko\"))\n",
        "dataset.append((6, \"Cuántos años tiene Akagi\"))\n",
        "dataset.append((6, \"Cuál fue la primera aparición de Naoko Akagi?\"))\n",
        "dataset.append((6, \"¿Quién es la familia de Akagi?\"))\n",
        "dataset.append((6, \"¿Quién es Naoko?\"))\n",
        "dataset.append((6, \"Dime algo sobre Naoko\"))\n",
        "dataset.append((6, \"Cuál es la edad de Naoko\"))\n",
        "\n",
        "dataset.append((7, \"Quién es el doblador de Fuyutsuki\"))\n",
        "dataset.append((7, \"Cuántos años tiene Kozo\"))\n",
        "dataset.append((7, \"Cuál fue la primera aparición de Fuyutsuki Kozo?\"))\n",
        "dataset.append((7, \"¿Quién es la familia de Kozo?\"))\n",
        "dataset.append((7, \"¿Quién es Fuyutsuki?\"))\n",
        "dataset.append((7, \"Dime algo sobre Fuyutsuki\"))\n",
        "dataset.append((7, \"Cuál es la edad de Fuyutsuki\"))\n",
        "\n",
        "#-----\n",
        "dataset.append((8, \"Quién es el doblador de Ibuki\"))\n",
        "dataset.append((8, \"Cuántos años tiene Maya\"))\n",
        "dataset.append((8, \"Cuál fue la primera aparición de Ibuki Maya?\"))\n",
        "dataset.append((8, \"¿Quién es Maya?\"))\n",
        "dataset.append((8, \"¿Quién es Ibuki?\"))\n",
        "dataset.append((8, \"Dime algo sobre Ibuki\"))\n",
        "dataset.append((8, \"Cuál es la edad de Ibuki\"))\n",
        "\n",
        "dataset.append((9, \"Quién es el doblador de Langley Soryu\"))\n",
        "dataset.append((9, \"Cuántos años tiene Asuka\"))\n",
        "dataset.append((9, \"Cuál fue la primera aparición de Langley Soryu Asuka?\"))\n",
        "dataset.append((9, \"¿Quién es Asuka?\"))\n",
        "dataset.append((9, \"¿Quién es Langley Soryu?\"))\n",
        "dataset.append((9, \"Dime algo sobre Langley Soryu\"))\n",
        "dataset.append((9, \"Cuál es la edad de Langley Soryu\"))\n",
        "#\n",
        "\n",
        "dataset.append((10, \"Quién es el doblador de Rei\"))\n",
        "dataset.append((10, \"Cuántos años tiene Ayanami\"))\n",
        "dataset.append((10, \"Cuál fue la primera aparición de Rei Ayanami?\"))\n",
        "dataset.append((10, \"¿Quién es la familia de Ayanami?\"))\n",
        "dataset.append((10, \"¿Quién es Rei?\"))\n",
        "dataset.append((10, \"Dime algo sobre Rei\"))\n",
        "dataset.append((10, \"Cuál es la edad de Rei\"))\n",
        "\n",
        "dataset.append((11, \"Quién es el doblador de Kaworu\"))\n",
        "dataset.append((11, \"Cuántos años tiene Nagisa\"))\n",
        "dataset.append((11, \"Cuál fue la primera aparición de Kaworu Nagisa?\"))\n",
        "dataset.append((11, \"¿Quién es la familia de Nagisa?\"))\n",
        "dataset.append((11, \"¿Quién es Kaworu?\"))\n",
        "dataset.append((11, \"Dime algo sobre Kaworu\"))\n",
        "dataset.append((11, \"Cuál es la edad de Kaworu\"))\n",
        "\n",
        "dataset.append((12, \"Quién es el doblador de Shinji\"))\n",
        "dataset.append((12, \"Cuántos años tiene Ikari\"))\n",
        "dataset.append((12, \"Cuál fue la primera aparición de Shinji Ikari?\"))\n",
        "dataset.append((12, \"¿Quién es la familia de Ikari?\"))\n",
        "dataset.append((12, \"¿Quién es Shinji?\"))\n",
        "dataset.append((12, \"Dime algo sobre Shinji\"))\n",
        "dataset.append((12, \"Cuál es la edad de Shinji\"))\n",
        "\n",
        "dataset.append((13, \"Quién es el doblador de Toji\"))\n",
        "dataset.append((13, \"Cuántos años tiene Suzuhara\"))\n",
        "dataset.append((13, \"Cuál fue la primera aparición de Toji Suzuhara?\"))\n",
        "dataset.append((13, \"¿Quién es la familia de Suzuhara?\"))\n",
        "dataset.append((13, \"¿Quién es Toji?\"))\n",
        "dataset.append((13, \"Dime algo sobre Toji\"))\n",
        "dataset.append((13, \"Cuál es la edad de Toji\"))\n",
        "\n",
        "dataset.append((14, \"Quién es el doblador de Asuka Shikinami\"))\n",
        "dataset.append((14, \"Cuántos años tiene Langley Shikinami\"))\n",
        "dataset.append((14, \"Cuál fue la primera aparición de Asuka Langley Shikinami?\"))\n",
        "dataset.append((14, \"¿Quién es la familia de Langley Shikinami?\"))\n",
        "dataset.append((14, \"¿Quién es Asuka?\"))\n",
        "dataset.append((14, \"Dime algo sobre Asuka\"))\n",
        "dataset.append((14, \"Cuál es la edad de Asuka\"))\n",
        "\n",
        "dataset.append((15, \"Quién es el doblador de Hikari\"))\n",
        "dataset.append((15, \"Cuántos años tiene Horaki\"))\n",
        "dataset.append((15, \"Cuál fue la primera aparición de Hikari Horaki?\"))\n",
        "dataset.append((15, \"¿Quién es la familia de Horaki?\"))\n",
        "dataset.append((15, \"¿Quién es Hikari?\"))\n",
        "dataset.append((15, \"Dime algo sobre Hikari\"))\n",
        "dataset.append((15, \"Cuál es la edad de Hikari\"))\n",
        "\n",
        "dataset.append((16, \"Quién es el doblador de Sakura\"))\n",
        "dataset.append((16, \"Cuántos años tiene Suzuhara\"))\n",
        "dataset.append((16, \"Cuál fue la primera aparición de Sakura Suzuhara?\"))\n",
        "dataset.append((16, \"¿Quién es la familia de Suzuhara?\"))\n",
        "dataset.append((16, \"¿Quién es Sakura?\"))\n",
        "dataset.append((16, \"Dime algo sobre Sakura\"))\n",
        "dataset.append((16, \"Cuál es la edad de Sakura\"))\n",
        "\n",
        "dataset.append((17, \"Quién es el doblador de Midori\"))\n",
        "dataset.append((17, \"Cuántos años tiene Kitakami\"))\n",
        "dataset.append((17, \"Cuál fue la primera aparición de Midori Kitakami?\"))\n",
        "dataset.append((17, \"¿Quién es la familia de Kitakami?\"))\n",
        "dataset.append((17, \"¿Quién es Midori?\"))\n",
        "dataset.append((17, \"Dime algo sobre Midori\"))\n",
        "dataset.append((17, \"Cuál es la edad de Midori\"))\n",
        "\n",
        "dataset.append((18, \"Quién es el doblador de Hyuga\"))\n",
        "dataset.append((18, \"Cuántos años tiene Makoto\"))\n",
        "dataset.append((18, \"Cuál fue la primera aparición de Hyuga Makoto?\"))\n",
        "dataset.append((18, \"¿Quién es la familia de Makoto?\"))\n",
        "dataset.append((18, \"¿Quién es Hyuga?\"))\n",
        "dataset.append((18, \"Dime algo sobre Hyuga\"))\n",
        "dataset.append((18, \"Cuál es la edad de Hyuga\"))\n",
        "\n",
        "dataset.append((19, \"Quién es el doblador de Mari\"))\n",
        "dataset.append((19, \"Cuántos años tiene Makinami Ilustrious\"))\n",
        "dataset.append((19, \"Cuál fue la primera aparición de Mari Makinami Ilustrious?\"))\n",
        "dataset.append((19, \"¿Quién es la familia de Makinami Ilustrious?\"))\n",
        "dataset.append((19, \"¿Quién es Mari?\"))\n",
        "dataset.append((19, \"Dime algo sobre Mari\"))\n",
        "dataset.append((19, \"Cuál es la edad de Mari\"))\n",
        "\n",
        "dataset.append((20, \"Quién es el doblador de Quatre\"))\n",
        "dataset.append((20, \"Cuántos años tiene Rei\"))\n",
        "dataset.append((20, \"Cuál fue la primera aparición de Quatre Rei?\"))\n",
        "dataset.append((20, \"¿Quién es la familia de Rei?\"))\n",
        "dataset.append((20, \"¿Quién es Quatre?\"))\n",
        "dataset.append((20, \"Dime algo sobre Quatre\"))\n",
        "dataset.append((20, \"Cuál es la edad de Quatre\"))\n",
        "\n",
        "dataset.append((21, \"Quién es el doblador de Shigeru\"))\n",
        "dataset.append((21, \"Cuántos años tiene Aoba\"))\n",
        "dataset.append((21, \"Cuál fue la primera aparición de Shigeru Aoba?\"))\n",
        "dataset.append((21, \"¿Quién es la familia de Aoba?\"))\n",
        "dataset.append((21, \"¿Quién es Shigeru?\"))\n",
        "dataset.append((21, \"Dime algo sobre Shigeru\"))\n",
        "dataset.append((21, \"Cuál es la edad de Shigeru\"))\n",
        "\n",
        "dataset.append((22, \"Quién es el doblador de Kyoko\"))\n",
        "dataset.append((22, \"Cuántos años tiene Zeppelin Soryu\"))\n",
        "dataset.append((22, \"Cuál fue la primera aparición de Kyoko Zeppelin Soryu?\"))\n",
        "dataset.append((22, \"¿Quién es la familia de Zeppelin Soryu?\"))\n",
        "dataset.append((22, \"¿Quién es Kyoko?\"))\n",
        "dataset.append((22, \"Dime algo sobre Kyoko\"))\n",
        "dataset.append((22, \"Cuál es la edad de Kyoko\"))\n",
        "\n",
        "# Preparar X e y\n",
        "X = [text.lower() for label, text in dataset]\n",
        "y = [label for label, text in dataset]\n",
        "\n",
        "# División del dataset\n",
        "X_train, X_test, y_train, y_test = train_test_split(X, y, test_size=0.2, random_state=42)\n",
        "\n",
        "# Vectorización de los textos con eliminación de palabras vacías\n",
        "vectorizerPersonajes = TfidfVectorizer(stop_words=spanish_stop_words)\n",
        "X_train_vectorized = vectorizerPersonajes.fit_transform(X_train)\n",
        "X_test_vectorized = vectorizerPersonajes.transform(X_test)\n",
        "\n",
        "# Creación y entrenamiento del modelo de Regresión Logística con multinomial\n",
        "modelo_LR_Personajes = LogisticRegression(max_iter=1000, multi_class='multinomial', solver='lbfgs')\n",
        "modelo_LR_Personajes.fit(X_train_vectorized, y_train)\n",
        "\n",
        "# Evaluación del modelo de Regresión Logística\n",
        "y_pred_LR = modelo_LR_Personajes.predict(X_test_vectorized)\n",
        "acc_LR = accuracy_score(y_test, y_pred_LR)\n",
        "report_LR = classification_report(y_test, y_pred_LR, zero_division=1)\n",
        "\n",
        "print(\"Precisión Regresión Logística:\", acc_LR)\n",
        "print(\"Reporte de clasificación Regresión Logística:\\n\", report_LR)"
      ],
      "metadata": {
        "colab": {
          "base_uri": "https://localhost:8080/"
        },
        "id": "9mqu38Zd9V-q",
        "outputId": "71c003a4-1282-481e-86ab-28e815ba0002"
      },
      "execution_count": 418,
      "outputs": [
        {
          "output_type": "stream",
          "name": "stdout",
          "text": [
            "Precisión Regresión Logística: 0.696969696969697\n",
            "Reporte de clasificación Regresión Logística:\n",
            "               precision    recall  f1-score   support\n",
            "\n",
            "           0       0.00      1.00      0.00         0\n",
            "           1       1.00      1.00      1.00         2\n",
            "           2       1.00      0.75      0.86         4\n",
            "           3       1.00      0.00      0.00         1\n",
            "           4       1.00      0.33      0.50         3\n",
            "           7       1.00      1.00      1.00         2\n",
            "           8       1.00      1.00      1.00         2\n",
            "           9       0.00      0.00      0.00         1\n",
            "          10       0.50      1.00      0.67         1\n",
            "          11       1.00      1.00      1.00         1\n",
            "          12       0.25      1.00      0.40         1\n",
            "          13       1.00      0.50      0.67         2\n",
            "          14       0.50      0.25      0.33         4\n",
            "          15       1.00      1.00      1.00         2\n",
            "          16       0.00      1.00      0.00         0\n",
            "          18       1.00      1.00      1.00         2\n",
            "          19       1.00      1.00      1.00         1\n",
            "          20       1.00      0.50      0.67         2\n",
            "          21       1.00      1.00      1.00         2\n",
            "\n",
            "    accuracy                           0.70        33\n",
            "   macro avg       0.75      0.75      0.64        33\n",
            "weighted avg       0.87      0.70      0.73        33\n",
            "\n"
          ]
        }
      ]
    },
    {
      "cell_type": "code",
      "source": [
        "# Nuevas frases para clasificar\n",
        "new_phrases = [\n",
        "    \"Quien es Rei?\",\n",
        "    \"Quien es Ibuki\",\n",
        "    \"¿Cuántos años tenia Misato cuando Shinji apareció por primera vez?\"\n",
        "]\n",
        "\n",
        "# Preprocesamiento y vectorización de las nuevas frases\n",
        "new_phrases_lower = [text.lower() for text in new_phrases]\n",
        "new_phrases_vectorized = vectorizerPersonajes.transform(new_phrases_lower)\n",
        "\n",
        "# Haciendo predicciones con el modelo entrenado\n",
        "new_predictions = modelo_LR_Personajes.predict(new_phrases_vectorized)\n",
        "\n",
        "# Mostrando las predicciones junto con las frases\n",
        "for text, label in zip(new_phrases, new_predictions):\n",
        "    print(f\"Texto: '{text}'\")\n",
        "    print(f\"Clasificación predicha: {labels[label][1]}\\n\")"
      ],
      "metadata": {
        "colab": {
          "base_uri": "https://localhost:8080/"
        },
        "id": "v4NDH8ZqCEHt",
        "outputId": "bcf026d9-00fc-49fe-b93c-d543e04d8905"
      },
      "execution_count": 419,
      "outputs": [
        {
          "output_type": "stream",
          "name": "stdout",
          "text": [
            "Texto: 'Quien es Rei?'\n",
            "Clasificación predicha: Rei Ayanami\n",
            "\n",
            "Texto: 'Quien es Ibuki'\n",
            "Clasificación predicha: Maya Ibuki\n",
            "\n",
            "Texto: '¿Cuántos años tenia Misato cuando Shinji apareció por primera vez?'\n",
            "Clasificación predicha: Shinji Ikari\n",
            "\n"
          ]
        }
      ]
    },
    {
      "cell_type": "code",
      "source": [
        "def clasificadorDePersonaje(query:str):\n",
        "  consulta_vectorizada = vectorizerPersonajes.transform([query.lower()])\n",
        "  prediccion = modelo_LR_Personajes.predict(consulta_vectorizada)\n",
        "  return labels[prediccion[0]][1]"
      ],
      "metadata": {
        "id": "4Q6cNzPeE64t"
      },
      "execution_count": 420,
      "outputs": []
    },
    {
      "cell_type": "markdown",
      "source": [
        "# Main"
      ],
      "metadata": {
        "id": "WHCkYUCDzfyz"
      }
    },
    {
      "cell_type": "markdown",
      "source": [
        "Funciones a tener en cuenta:\n",
        "\n",
        "- **cargarModeloEmbeddings**(): realiza la carga del modelo utilizado para realizar los embeddings.\n",
        "\n",
        "- **clasificadorLLM**(query, embed_model): recibe una consulta y la clasifica en una de tres categorías: 'capítulos y ángeles', 'películas' o 'personajes'.\n",
        "\n",
        "- **clasificadorRegresionLogistica**(query:str): recibe una consulta y la clasifica en una de tres categorías: 'capítulos y ángeles', 'películas' o 'personajes'.\n",
        "\n",
        "- **generarChunks**(contenido_del_texto_o_directorio:str, directorio = True, tamañoChunk:int=500, chunkOverlap:int=20)->list: recibe el nombre de un directorio o un texto plano y lo divide en chunks.\n",
        "\n",
        "- **obtenerEmbeddings**(oraciones:list, model_embed): recibe una lista de oraciones o chunks a los que le hará un embedding con el modelo de embeddings previamente instanciado model_embed\n",
        "\n",
        "- **obtenerContextosMasSimilares**(query: str, topn: int = 3): recibe una consulta y devuelve los 3 contextos mas similares almacenados en la base de datos vectorial."
      ],
      "metadata": {
        "id": "aAnDIl8v5mN5"
      }
    },
    {
      "cell_type": "code",
      "source": [
        "modelo = cargarModeloEmeddings()"
      ],
      "metadata": {
        "id": "K3RAOQ-GQbbW"
      },
      "execution_count": 255,
      "outputs": []
    },
    {
      "cell_type": "code",
      "source": [
        "import textwrap\n",
        "\n",
        "modelo = cargarModeloEmeddings()\n",
        "#Recibir consulta\n",
        "print(\"Presione 'q' para salir.\")\n",
        "\n",
        "while True:\n",
        "  consulta = input('Ingrese una consulta: ')\n",
        "\n",
        "  if consulta == 'q':\n",
        "    break\n",
        "\n",
        "  #Clasificar consulta\n",
        "  fuente = clasificadorLLM(consulta, modelo)\n",
        "\n",
        "  if fuente == \"Películas\":\n",
        "    #Obtener el contexto\n",
        "    print(\"Películas\")\n",
        "    contextosCandidatos = obtenerContextosMasSimilares('¿Cuánto recaudó la primer película?',10)\n",
        "    contextos = {}\n",
        "    for candidato in contextosCandidatos:\n",
        "      categoria = contextosCandidatos[candidato][1]\n",
        "      if categoria == 'películas':\n",
        "        contextos[candidato] = contextosCandidatos[candidato]\n",
        "    minimaDistancia = min(list(contextos.keys()))\n",
        "    contexto = contextos[minimaDistancia][0]\n",
        "    print(f\"Contexto: {contexto}\\n\")\n",
        "\n",
        "    #Responder la consulta\n",
        "    respuesta = responderPeliculas(consulta, contexto)\n",
        "    print(textwrap.fill(respuesta, width=50))\n",
        "\n",
        "  elif fuente == \"Personajes\":\n",
        "    #Clasificar la consulta para saber sobre que personaje es\n",
        "    personaje = clasificadorDePersonaje(consulta)\n",
        "    print(\"Personajes\")\n",
        "\n",
        "  else:\n",
        "    print(\"Capítulos o ángeles\")\n",
        "    #Obtener el contexto\n",
        "    contextosCandidatos = obtenerContextosMasSimilares(consulta, 3)\n",
        "    distanciaMinima = min(list(contextosCandidatos.keys()))\n",
        "    contexto = contextosCandidatos[distanciaMinima]\n",
        "    print(f\"Contexto: {contexto}\\n\")\n",
        "\n",
        "    #Responder la consulta\n",
        "    respuesta = responder(consulta, contexto)\n",
        "    print(textwrap.fill(respuesta, width=50))\n",
        "\n",
        "  #Realizar embedding de la consulta\n",
        "\n",
        "  #Dependiendo de la fuente de datos:\n",
        "  # - Base vectorial si es sobre los capitulos o los angeles\n",
        "  # - Dataframe si es sobre peliculas\n",
        "  # - BBDD de grafos si es sobre personajes\n",
        "\n",
        "  #Comparar la similaridad de conseno y traer aquellos que sean más importantes\n",
        "\n",
        "  #Obtener el contexto, pasarselo a el LLM y responder la consulta"
      ],
      "metadata": {
        "id": "q5yXQCEozdzY",
        "colab": {
          "base_uri": "https://localhost:8080/"
        },
        "outputId": "25586921-5f50-42e5-8d51-f20888e7608e"
      },
      "execution_count": 329,
      "outputs": [
        {
          "name": "stdout",
          "output_type": "stream",
          "text": [
            "Presione 'q' para salir.\n",
            "Ingrese una consulta: cuánto recaudó you are (not) alone\n",
            "Capítulos o ángeles\n",
            "Contexto: ['La palabra \"Ángel\" en sí misma deriva del griego que significa \"Mensajero\" (ἄγγελος, angelos), la cual es también el origen de la palabra \"Evangelion\".\\nLa palabra usada para nombrar a estos seres en Neon Genesis Evangelion es shito (使徒 mensajero, apóstol, dedicado a una causa santa), en oposición a la típica palabra japonesa para referirse al concepto occidental de ángel, la cual es tenshi (天使 mensajero del cielo). Sin embargo, éste no es un error de traducción de parte de los distribuidores estadounidenses de Neon Genesis Evangelion.\\nLa serie muestra claramente la designación \"Ángel\", la cual se puede observar en el opening y en otras ocasiones a lo largo de los episodios. Además, esta palabra fue conservada en la versión inglesa de la serie a petición de los creadores japoneses. Aunque, en un momento durante la producción, el término \"apóstol\" iba a ser usado como contraparte de la palabra \"shito\" en lugar de \"ángel\".\\nSon 17 ángeles los que aparecen en la serie original de Evangelion, sin contar a los Lilin como el décimo octavo. A continuación, una lista de todos los ángeles en orden:\\nEn la adaptación al manga hecha por Yoshiyuki Sadamoto, algunos ángeles son suprimidos, por lo que solo aparecen 13, sin contar a los Lilin como el décimo cuarto. A continuación, una lista con los ángeles que aparecen en la versión impresa de la obra:\\nEn la tetralogía Rebuild of Evangelion también son suprimidos algunos ángeles, de la misma forma que en el manga. En estas películas, algunos conservan su apariencia original, un par de ellos exhiben una estética completamente renovada, y otros son totalmente nuevos.\\nLa mayoría lleva un llamativo halo de energía. Además, cuando estallan liberan grandes cantidades de sangre roja y crean una gigantesca cruz luminosa sublimada con un arco iris.\\nSimilitud con el arte mesopotámico.', 'angeles']\n",
            "\n",
            "La pregunta \"cuánto recaudó you are (not) alone\"\n",
            "no tiene relación con el contenido proporcionado\n",
            "en el contexto dado. Por lo tanto, no se puede\n",
            "proporcionar una respuesta. Es posible que se\n",
            "trate de un error de escritura o que se ha omitido\n",
            "alguna información relevante. Sin embargo, se\n",
            "recomienda consultar el contexto completo o\n",
            "proporcionar más detalles para facilitar la\n",
            "respuesta.\n",
            "Ingrese una consulta: you can (not) re do\n",
            "Películas\n",
            "Contexto: ['シン・エヴァンゲリオン劇場版:||(Shin Evangelion Gekijōban:||)Evangelion: 3.0+1.0 Érase una vez... Por tercera vez (España)Evangelion: 3.0+1.0 Tres veces una vez (Hispanoamérica)', nan, nan, 'Takatoshi Okajima', 'Hideaki Anno', 'Neon Genesis Evangelion de Hideaki Anno', 'Shirō Sagisu', nan, 'Toru Fukushi', nan, nan, '\\xa0Japón', '2021', ' 8 de marzo de 2021[1]\\u200b', 'Mecha, Acción, Drama, Ciencia ficción, Psicológico', '155 minutos', nan, 'Japonés', 'Studio Khara', 'TohoToei Company (Japón)Metro-Goldwyn-Mayer (Internacional)', 92250000.0, 'Studio Khara', '23 personasMegumi OgataMegumi HayashibaraYūko MiyamuraMaaya SakamotoKotono MitsuishiYuriko YamaguchiAkira IshidaFumihiko TachikiMotomu KiyokawaTomokazu SekiTetsuya IwanagaJunko IwaoMiki NagasawaTakehito KoyasuHiro YūkiAkio ŌtsukaMiyuki SawashiroSayaka OharaMariya IseAnri KatsuKōichi YamaderaKōki UchiyamaRyunosuke Kamiki', 'USD']\n",
            "\n",
            "Based on the context provided, the response to the\n",
            "given question is \"you cannot re do\" as the film\n",
            "\"Evangelion: 3.0+1.0\" has a release date of March\n",
            "8, 2021, which is a fixed point in time and cannot\n",
            "be repeated or redone. However, this\n",
            "interpretation is based solely on the meaning of\n",
            "the question and may not accurately reflect the\n",
            "context of the film's release or distribution.\n",
            "It's always best to consult reliable sources for\n",
            "accurate information.\n",
            "Ingrese una consulta: Quién dirigió you can (not) re do\n",
            "Películas\n",
            "Contexto: ['シン・エヴァンゲリオン劇場版:||(Shin Evangelion Gekijōban:||)Evangelion: 3.0+1.0 Érase una vez... Por tercera vez (España)Evangelion: 3.0+1.0 Tres veces una vez (Hispanoamérica)', nan, nan, 'Takatoshi Okajima', 'Hideaki Anno', 'Neon Genesis Evangelion de Hideaki Anno', 'Shirō Sagisu', nan, 'Toru Fukushi', nan, nan, '\\xa0Japón', '2021', ' 8 de marzo de 2021[1]\\u200b', 'Mecha, Acción, Drama, Ciencia ficción, Psicológico', '155 minutos', nan, 'Japonés', 'Studio Khara', 'TohoToei Company (Japón)Metro-Goldwyn-Mayer (Internacional)', 92250000.0, 'Studio Khara', '23 personasMegumi OgataMegumi HayashibaraYūko MiyamuraMaaya SakamotoKotono MitsuishiYuriko YamaguchiAkira IshidaFumihiko TachikiMotomu KiyokawaTomokazu SekiTetsuya IwanagaJunko IwaoMiki NagasawaTakehito KoyasuHiro YūkiAkio ŌtsukaMiyuki SawashiroSayaka OharaMariya IseAnri KatsuKōichi YamaderaKōki UchiyamaRyunosuke Kamiki', 'USD']\n",
            "\n",
            "El cine \"You can (not) re do\" no se encuentra en\n",
            "la información de contexto dada, por lo que no se\n",
            "puede determinar quién dirigió el película. Por\n",
            "favor, proporcione más información o una pregunta\n",
            "diferente.\n",
            "Ingrese una consulta: you are (not) alone película\n",
            "Películas\n",
            "Contexto: ['シン・エヴァンゲリオン劇場版:||(Shin Evangelion Gekijōban:||)Evangelion: 3.0+1.0 Érase una vez... Por tercera vez (España)Evangelion: 3.0+1.0 Tres veces una vez (Hispanoamérica)', nan, nan, 'Takatoshi Okajima', 'Hideaki Anno', 'Neon Genesis Evangelion de Hideaki Anno', 'Shirō Sagisu', nan, 'Toru Fukushi', nan, nan, '\\xa0Japón', '2021', ' 8 de marzo de 2021[1]\\u200b', 'Mecha, Acción, Drama, Ciencia ficción, Psicológico', '155 minutos', nan, 'Japonés', 'Studio Khara', 'TohoToei Company (Japón)Metro-Goldwyn-Mayer (Internacional)', 92250000.0, 'Studio Khara', '23 personasMegumi OgataMegumi HayashibaraYūko MiyamuraMaaya SakamotoKotono MitsuishiYuriko YamaguchiAkira IshidaFumihiko TachikiMotomu KiyokawaTomokazu SekiTetsuya IwanagaJunko IwaoMiki NagasawaTakehito KoyasuHiro YūkiAkio ŌtsukaMiyuki SawashiroSayaka OharaMariya IseAnri KatsuKōichi YamaderaKōki UchiyamaRyunosuke Kamiki', 'USD']\n",
            "\n",
            "La película \"you are (not) alone\" no se encuentra\n",
            "en la información de contexto proporcionada. Por\n",
            "favor, provea más información o una pregunta\n",
            "diferente.  En respuesta a una hipotética pregunta\n",
            "sobre si la película \"you are (not) alone\" aparece\n",
            "en la información de contexto proporcionada, la\n",
            "respuesta es que no se encuentra.      En\n",
            "respuesta a otra hipotética pregunta sobre si la\n",
            "película \"Evangelion: 3.0+1.0 Érase una vez... Por\n",
            "tercera vez (España)\" o \"Evangelion: 3.0+1.0 Tres\n",
            "veces una vez (Hispanoamérica)\" trata sobre la\n",
            "sensación de estar solo, la respuesta también es\n",
            "negativa. Aunque la película explora temas\n",
            "psicológicos y existenciales, no se centra\n",
            "específicamente en la sensación de estar solo.\n",
            "Ingrese una consulta: q\n"
          ]
        }
      ]
    }
  ]
}